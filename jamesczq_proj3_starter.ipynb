{
 "cells": [
  {
   "cell_type": "code",
   "execution_count": 75,
   "metadata": {
    "collapsed": true
   },
   "outputs": [],
   "source": [
    "import pandas as pd\n",
    "import numpy as np\n",
    "import seaborn as sns\n",
    "import matplotlib.pyplot as plt\n",
    "import re\n",
    "import csv\n",
    "\n",
    "%matplotlib inline"
   ]
  },
  {
   "cell_type": "code",
   "execution_count": 76,
   "metadata": {},
   "outputs": [
    {
     "name": "stdout",
     "output_type": "stream",
     "text": [
      "\u001b[34mDatasets\u001b[m\u001b[m\r\n",
      "\u001b[31mExploratory_PCA_dmb.ipynb\u001b[m\u001b[m\r\n",
      "\u001b[31mFractalDimensionWaveform-KaggleHousing.ipynb\u001b[m\u001b[m\r\n",
      "\u001b[31mML_Project_KM.ipynb\u001b[m\u001b[m\r\n",
      "\u001b[31mREADME.MD\u001b[m\u001b[m\r\n",
      "\u001b[31mWenchang_Qian_Kaggle_Ames_Iowa_Housing_Price_Prediction.ipynb\u001b[m\u001b[m\r\n",
      "\u001b[31mjames_proj3.ipynb\u001b[m\u001b[m\r\n",
      "\u001b[31mjamesczq_baseline_regressions.ipynb\u001b[m\u001b[m\r\n"
     ]
    }
   ],
   "source": [
    "!ls"
   ]
  },
  {
   "cell_type": "code",
   "execution_count": 77,
   "metadata": {},
   "outputs": [
    {
     "name": "stdout",
     "output_type": "stream",
     "text": [
      "Train-Test mega dataset shape: (2919, 72)\n"
     ]
    }
   ],
   "source": [
    "#whichDataSet = 0;\n",
    "whichDataSet = 'w';\n",
    "\n",
    "if whichDataSet == 0: # Using the original data set \n",
    "    train = pd.read_csv('Datasets/train.csv')\n",
    "    test = pd.read_csv('Datasets/test.csv')\n",
    "    # Concat. train[no ID column, ... (all columns) ..., no SalePrice column]\n",
    "    #     with test[no ID column, ... (all columns) ..., no SalePrice column]\n",
    "    # (Test data has no SalePrice column anyway)\n",
    "    train_test = pd.concat([train.loc[:,'MSSubClass':'SaleCondition'],\n",
    "                             test.loc[:,'MSSubClass':'SaleCondition']]);\n",
    "    print('Train-Test mega dataset shape:',train_test.shape)\n",
    "##\n",
    "##\n",
    "if whichDataSet == 'w': # Using Wenchang's modified data set\n",
    "    train = pd.read_csv('Datasets/train_Wenchang.csv')\n",
    "    test = pd.read_csv('Datasets/test_Wenchang.csv')\n",
    "    train.drop(['Unnamed: 0'], axis=1, inplace=True)\n",
    "    test.drop(['Unnamed: 0'], axis=1, inplace=True)\n",
    "    train_test = pd.concat([train.loc[:,'1stFlrSF':'RemodYearDiff'],\n",
    "                             test.loc[:,'1stFlrSF':'RemodYearDiff']]);\n",
    "    print('Train-Test mega dataset shape:',train_test.shape)"
   ]
  },
  {
   "cell_type": "code",
   "execution_count": 78,
   "metadata": {
    "collapsed": true
   },
   "outputs": [],
   "source": [
    "sns.set(style=\"ticks\", color_codes=True)"
   ]
  },
  {
   "cell_type": "code",
   "execution_count": 79,
   "metadata": {},
   "outputs": [
    {
     "data": {
      "text/plain": [
       "\"\\nsns.pairplot(train[['LotArea',                    'OverallQual',                    'OverallCond',\\\\ \\n                    'SalePrice']],             diag_kind='kde', kind = 'reg',             markers='+', diag_kws=dict(shade=True));\\nsns.set(font_scale = 1.5)\\n\""
      ]
     },
     "execution_count": 79,
     "metadata": {},
     "output_type": "execute_result"
    }
   ],
   "source": [
    "# scatter plot of various features\n",
    "\n",
    "# It taxes the computer very much to do the plot.\n",
    "# Here I only plotted scatter plot between FOUR numeric features\n",
    "# We can add more features if we want later on\n",
    "\n",
    "'''\n",
    "sns.pairplot(train[['LotArea',\\\n",
    "                    'OverallQual',\\\n",
    "                    'OverallCond',\\ \n",
    "                    'SalePrice']],\\\n",
    "             diag_kind='kde', kind = 'reg',\\\n",
    "             markers='+', diag_kws=dict(shade=True));\n",
    "sns.set(font_scale = 1.5)\n",
    "'''"
   ]
  },
  {
   "cell_type": "code",
   "execution_count": 80,
   "metadata": {},
   "outputs": [
    {
     "name": "stdout",
     "output_type": "stream",
     "text": [
      "**************************************************\n",
      "For Training Data Set:\n",
      "**************************************************\n",
      "Num of houses with Zero Bedroom: 6\n",
      "Num of houses with Zero Garage Parking: 81\n",
      "Num of houses with Zero Full Bath: 9\n",
      "Num of houses with Zero Half Bath: 913\n",
      "Num of houses with Neither Half Nor Full Bath: 3\n",
      "**************************************************\n",
      "For Test Data Set:\n",
      "**************************************************\n",
      "Num of houses with Zero Bedroom: 2\n",
      "Num of houses with Zero Garage Parking: 76\n",
      "Num of houses with Zero Full Bath: 3\n",
      "Num of houses with Zero Half Bath: 921\n",
      "Num of houses with Neither Half Nor Full Bath: 6\n"
     ]
    }
   ],
   "source": [
    "# Zero bedroom or zero garage parking spaces or zero bathroom may give trouble\n",
    "# to derived features such as bath/bed\n",
    "# Need to think about a way to walk around this\n",
    "\n",
    "print('*'*50)\n",
    "print('For Training Data Set:')\n",
    "print('*'*50)\n",
    "print('Num of houses with Zero Bedroom:',\\\n",
    "      sum(train.BedroomAbvGr==0))\n",
    "print('Num of houses with Zero Garage Parking:',\\\n",
    "      sum(train.GarageCars==0))\n",
    "print('Num of houses with Zero Full Bath:',\\\n",
    "      sum(train.FullBath==0))\n",
    "print('Num of houses with Zero Half Bath:',\\\n",
    "      sum(train.HalfBath==0))\n",
    "print('Num of houses with Neither Half Nor Full Bath:',\\\n",
    "      sum((train.HalfBath==0) & (train.FullBath==0)))\n",
    "print('*'*50)\n",
    "print('For Test Data Set:')\n",
    "print('*'*50)\n",
    "print('Num of houses with Zero Bedroom:',\\\n",
    "      sum(test.BedroomAbvGr==0))\n",
    "print('Num of houses with Zero Garage Parking:',\\\n",
    "      sum(test.GarageCars==0))\n",
    "print('Num of houses with Zero Full Bath:',\\\n",
    "      sum(test.FullBath==0))\n",
    "print('Num of houses with Zero Half Bath:',\\\n",
    "      sum(test.HalfBath==0))\n",
    "print('Num of houses with Neither Half Nor Full Bath:',\\\n",
    "      sum((test.HalfBath==0) & (train.FullBath==0)))"
   ]
  },
  {
   "cell_type": "code",
   "execution_count": 81,
   "metadata": {},
   "outputs": [],
   "source": [
    "# Compute Total Bathrooms in a house\n",
    "# and set those with zero bathroom with median bathroom number\n",
    "\n",
    "train['TotBath'] = train.FullBath + 0.5*train.HalfBath;\n",
    "test['TotBath'] = test.FullBath + 0.5*test.HalfBath;\n",
    "train_test['TotBath'] = train_test.FullBath + 0.5*train_test.HalfBath;\n",
    "\n",
    "train['TotBath'].replace(0, train['TotBath'].median(), inplace=True);\n",
    "test['TotBath'].replace(0, test['TotBath'].median(), inplace=True);\n",
    "train_test['TotBath'].replace(0, train_test['TotBath'].median(), inplace=True);"
   ]
  },
  {
   "cell_type": "code",
   "execution_count": 82,
   "metadata": {
    "collapsed": true
   },
   "outputs": [],
   "source": [
    "# Set those with zero bedroom with median bedfroom number \n",
    "\n",
    "train['BedroomAbvGr'].replace(0, train['BedroomAbvGr'].median(), inplace=True);\n",
    "test['BedroomAbvGr'].replace(0, test['BedroomAbvGr'].median(), inplace=True);\n",
    "train_test['BedroomAbvGr'].replace(0, train_test['BedroomAbvGr'].median(), inplace=True);"
   ]
  },
  {
   "cell_type": "code",
   "execution_count": 83,
   "metadata": {
    "collapsed": true
   },
   "outputs": [],
   "source": [
    "# Cook-up Feature:\n",
    "# Bath_Capacity = TotBath / BedroomAbvGr\n",
    "\n",
    "train['Bath_Capacity'] = train.TotBath / train.BedroomAbvGr\n",
    "test['Bath_Capacity'] = train.TotBath / train.BedroomAbvGr\n",
    "train_test['Bath_Capacity'] = train.TotBath / train.BedroomAbvGr"
   ]
  },
  {
   "cell_type": "code",
   "execution_count": 84,
   "metadata": {
    "collapsed": true
   },
   "outputs": [],
   "source": [
    "# Cook-up Feature:\n",
    "# Parking_Capacity = TotBath / BedroomAbvGr\n",
    "\n",
    "train['Parking_Capacity'] = train.GarageCars / train.BedroomAbvGr\n",
    "test['Parking_Capacity'] = train.GarageCars / train.BedroomAbvGr\n",
    "train_test['Parking_Capacity'] = train.GarageCars / train.BedroomAbvGr"
   ]
  }
 ],
 "metadata": {
  "kernelspec": {
   "display_name": "Python 3",
   "language": "python",
   "name": "python3"
  },
  "language_info": {
   "codemirror_mode": {
    "name": "ipython",
    "version": 3
   },
   "file_extension": ".py",
   "mimetype": "text/x-python",
   "name": "python",
   "nbconvert_exporter": "python",
   "pygments_lexer": "ipython3",
   "version": "3.6.1"
  }
 },
 "nbformat": 4,
 "nbformat_minor": 2
}
