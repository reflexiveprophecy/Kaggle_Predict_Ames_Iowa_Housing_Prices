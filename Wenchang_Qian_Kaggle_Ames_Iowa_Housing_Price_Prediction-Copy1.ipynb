{
 "cells": [
  {
   "cell_type": "markdown",
   "metadata": {
    "collapsed": true
   },
   "source": [
    "## 1.1 Loading Data"
   ]
  },
  {
   "cell_type": "code",
   "execution_count": 1,
   "metadata": {},
   "outputs": [],
   "source": [
    "import numpy as np\n",
    "import math as math\n",
    "import pandas as pd\n",
    "import seaborn as sns\n",
    "import matplotlib.pyplot as plt\n",
    "import plotly as py\n",
    "import plotly.graph_objs as go\n",
    "import plotly.figure_factory as ff\n",
    "from plotly.figure_factory import create_distplot\n",
    "import statsmodels.formula.api as smf\n",
    "from statsmodels.graphics.gofplots import ProbPlot\n",
    "\n",
    "%matplotlib inline\n",
    "#plotly.offline.init_notebook_mode(connected=True)"
   ]
  },
  {
   "cell_type": "code",
   "execution_count": 2,
   "metadata": {
    "collapsed": true
   },
   "outputs": [],
   "source": [
    "housingdf = pd.read_csv('./Datasets/train.csv')\n",
    "housingdf = housingdf.drop(['Id'], axis = 1)"
   ]
  },
  {
   "cell_type": "code",
   "execution_count": 3,
   "metadata": {
    "collapsed": true
   },
   "outputs": [],
   "source": [
    "testdf = pd.read_csv('./Datasets/test.csv')\n",
    "testdf = testdf.drop(['Id'], axis = 1)"
   ]
  },
  {
   "cell_type": "code",
   "execution_count": 4,
   "metadata": {
    "scrolled": true
   },
   "outputs": [
    {
     "name": "stdout",
     "output_type": "stream",
     "text": [
      "(1460, 80)\n",
      "(1459, 79)\n"
     ]
    }
   ],
   "source": [
    "print(housingdf.shape)\n",
    "print(testdf.shape)"
   ]
  },
  {
   "cell_type": "code",
   "execution_count": 5,
   "metadata": {
    "scrolled": true
   },
   "outputs": [
    {
     "data": {
      "text/html": [
       "<div>\n",
       "<style>\n",
       "    .dataframe thead tr:only-child th {\n",
       "        text-align: right;\n",
       "    }\n",
       "\n",
       "    .dataframe thead th {\n",
       "        text-align: left;\n",
       "    }\n",
       "\n",
       "    .dataframe tbody tr th {\n",
       "        vertical-align: top;\n",
       "    }\n",
       "</style>\n",
       "<table border=\"1\" class=\"dataframe\">\n",
       "  <thead>\n",
       "    <tr style=\"text-align: right;\">\n",
       "      <th></th>\n",
       "      <th>MSSubClass</th>\n",
       "      <th>MSZoning</th>\n",
       "      <th>LotFrontage</th>\n",
       "      <th>LotArea</th>\n",
       "      <th>Street</th>\n",
       "      <th>Alley</th>\n",
       "      <th>LotShape</th>\n",
       "      <th>LandContour</th>\n",
       "      <th>Utilities</th>\n",
       "      <th>LotConfig</th>\n",
       "      <th>...</th>\n",
       "      <th>PoolArea</th>\n",
       "      <th>PoolQC</th>\n",
       "      <th>Fence</th>\n",
       "      <th>MiscFeature</th>\n",
       "      <th>MiscVal</th>\n",
       "      <th>MoSold</th>\n",
       "      <th>YrSold</th>\n",
       "      <th>SaleType</th>\n",
       "      <th>SaleCondition</th>\n",
       "      <th>SalePrice</th>\n",
       "    </tr>\n",
       "  </thead>\n",
       "  <tbody>\n",
       "    <tr>\n",
       "      <th>0</th>\n",
       "      <td>60</td>\n",
       "      <td>RL</td>\n",
       "      <td>65.0</td>\n",
       "      <td>8450</td>\n",
       "      <td>Pave</td>\n",
       "      <td>NaN</td>\n",
       "      <td>Reg</td>\n",
       "      <td>Lvl</td>\n",
       "      <td>AllPub</td>\n",
       "      <td>Inside</td>\n",
       "      <td>...</td>\n",
       "      <td>0</td>\n",
       "      <td>NaN</td>\n",
       "      <td>NaN</td>\n",
       "      <td>NaN</td>\n",
       "      <td>0</td>\n",
       "      <td>2</td>\n",
       "      <td>2008</td>\n",
       "      <td>WD</td>\n",
       "      <td>Normal</td>\n",
       "      <td>208500</td>\n",
       "    </tr>\n",
       "    <tr>\n",
       "      <th>1</th>\n",
       "      <td>20</td>\n",
       "      <td>RL</td>\n",
       "      <td>80.0</td>\n",
       "      <td>9600</td>\n",
       "      <td>Pave</td>\n",
       "      <td>NaN</td>\n",
       "      <td>Reg</td>\n",
       "      <td>Lvl</td>\n",
       "      <td>AllPub</td>\n",
       "      <td>FR2</td>\n",
       "      <td>...</td>\n",
       "      <td>0</td>\n",
       "      <td>NaN</td>\n",
       "      <td>NaN</td>\n",
       "      <td>NaN</td>\n",
       "      <td>0</td>\n",
       "      <td>5</td>\n",
       "      <td>2007</td>\n",
       "      <td>WD</td>\n",
       "      <td>Normal</td>\n",
       "      <td>181500</td>\n",
       "    </tr>\n",
       "    <tr>\n",
       "      <th>2</th>\n",
       "      <td>60</td>\n",
       "      <td>RL</td>\n",
       "      <td>68.0</td>\n",
       "      <td>11250</td>\n",
       "      <td>Pave</td>\n",
       "      <td>NaN</td>\n",
       "      <td>IR1</td>\n",
       "      <td>Lvl</td>\n",
       "      <td>AllPub</td>\n",
       "      <td>Inside</td>\n",
       "      <td>...</td>\n",
       "      <td>0</td>\n",
       "      <td>NaN</td>\n",
       "      <td>NaN</td>\n",
       "      <td>NaN</td>\n",
       "      <td>0</td>\n",
       "      <td>9</td>\n",
       "      <td>2008</td>\n",
       "      <td>WD</td>\n",
       "      <td>Normal</td>\n",
       "      <td>223500</td>\n",
       "    </tr>\n",
       "    <tr>\n",
       "      <th>3</th>\n",
       "      <td>70</td>\n",
       "      <td>RL</td>\n",
       "      <td>60.0</td>\n",
       "      <td>9550</td>\n",
       "      <td>Pave</td>\n",
       "      <td>NaN</td>\n",
       "      <td>IR1</td>\n",
       "      <td>Lvl</td>\n",
       "      <td>AllPub</td>\n",
       "      <td>Corner</td>\n",
       "      <td>...</td>\n",
       "      <td>0</td>\n",
       "      <td>NaN</td>\n",
       "      <td>NaN</td>\n",
       "      <td>NaN</td>\n",
       "      <td>0</td>\n",
       "      <td>2</td>\n",
       "      <td>2006</td>\n",
       "      <td>WD</td>\n",
       "      <td>Abnorml</td>\n",
       "      <td>140000</td>\n",
       "    </tr>\n",
       "    <tr>\n",
       "      <th>4</th>\n",
       "      <td>60</td>\n",
       "      <td>RL</td>\n",
       "      <td>84.0</td>\n",
       "      <td>14260</td>\n",
       "      <td>Pave</td>\n",
       "      <td>NaN</td>\n",
       "      <td>IR1</td>\n",
       "      <td>Lvl</td>\n",
       "      <td>AllPub</td>\n",
       "      <td>FR2</td>\n",
       "      <td>...</td>\n",
       "      <td>0</td>\n",
       "      <td>NaN</td>\n",
       "      <td>NaN</td>\n",
       "      <td>NaN</td>\n",
       "      <td>0</td>\n",
       "      <td>12</td>\n",
       "      <td>2008</td>\n",
       "      <td>WD</td>\n",
       "      <td>Normal</td>\n",
       "      <td>250000</td>\n",
       "    </tr>\n",
       "    <tr>\n",
       "      <th>5</th>\n",
       "      <td>50</td>\n",
       "      <td>RL</td>\n",
       "      <td>85.0</td>\n",
       "      <td>14115</td>\n",
       "      <td>Pave</td>\n",
       "      <td>NaN</td>\n",
       "      <td>IR1</td>\n",
       "      <td>Lvl</td>\n",
       "      <td>AllPub</td>\n",
       "      <td>Inside</td>\n",
       "      <td>...</td>\n",
       "      <td>0</td>\n",
       "      <td>NaN</td>\n",
       "      <td>MnPrv</td>\n",
       "      <td>Shed</td>\n",
       "      <td>700</td>\n",
       "      <td>10</td>\n",
       "      <td>2009</td>\n",
       "      <td>WD</td>\n",
       "      <td>Normal</td>\n",
       "      <td>143000</td>\n",
       "    </tr>\n",
       "    <tr>\n",
       "      <th>6</th>\n",
       "      <td>20</td>\n",
       "      <td>RL</td>\n",
       "      <td>75.0</td>\n",
       "      <td>10084</td>\n",
       "      <td>Pave</td>\n",
       "      <td>NaN</td>\n",
       "      <td>Reg</td>\n",
       "      <td>Lvl</td>\n",
       "      <td>AllPub</td>\n",
       "      <td>Inside</td>\n",
       "      <td>...</td>\n",
       "      <td>0</td>\n",
       "      <td>NaN</td>\n",
       "      <td>NaN</td>\n",
       "      <td>NaN</td>\n",
       "      <td>0</td>\n",
       "      <td>8</td>\n",
       "      <td>2007</td>\n",
       "      <td>WD</td>\n",
       "      <td>Normal</td>\n",
       "      <td>307000</td>\n",
       "    </tr>\n",
       "    <tr>\n",
       "      <th>7</th>\n",
       "      <td>60</td>\n",
       "      <td>RL</td>\n",
       "      <td>NaN</td>\n",
       "      <td>10382</td>\n",
       "      <td>Pave</td>\n",
       "      <td>NaN</td>\n",
       "      <td>IR1</td>\n",
       "      <td>Lvl</td>\n",
       "      <td>AllPub</td>\n",
       "      <td>Corner</td>\n",
       "      <td>...</td>\n",
       "      <td>0</td>\n",
       "      <td>NaN</td>\n",
       "      <td>NaN</td>\n",
       "      <td>Shed</td>\n",
       "      <td>350</td>\n",
       "      <td>11</td>\n",
       "      <td>2009</td>\n",
       "      <td>WD</td>\n",
       "      <td>Normal</td>\n",
       "      <td>200000</td>\n",
       "    </tr>\n",
       "    <tr>\n",
       "      <th>8</th>\n",
       "      <td>50</td>\n",
       "      <td>RM</td>\n",
       "      <td>51.0</td>\n",
       "      <td>6120</td>\n",
       "      <td>Pave</td>\n",
       "      <td>NaN</td>\n",
       "      <td>Reg</td>\n",
       "      <td>Lvl</td>\n",
       "      <td>AllPub</td>\n",
       "      <td>Inside</td>\n",
       "      <td>...</td>\n",
       "      <td>0</td>\n",
       "      <td>NaN</td>\n",
       "      <td>NaN</td>\n",
       "      <td>NaN</td>\n",
       "      <td>0</td>\n",
       "      <td>4</td>\n",
       "      <td>2008</td>\n",
       "      <td>WD</td>\n",
       "      <td>Abnorml</td>\n",
       "      <td>129900</td>\n",
       "    </tr>\n",
       "    <tr>\n",
       "      <th>9</th>\n",
       "      <td>190</td>\n",
       "      <td>RL</td>\n",
       "      <td>50.0</td>\n",
       "      <td>7420</td>\n",
       "      <td>Pave</td>\n",
       "      <td>NaN</td>\n",
       "      <td>Reg</td>\n",
       "      <td>Lvl</td>\n",
       "      <td>AllPub</td>\n",
       "      <td>Corner</td>\n",
       "      <td>...</td>\n",
       "      <td>0</td>\n",
       "      <td>NaN</td>\n",
       "      <td>NaN</td>\n",
       "      <td>NaN</td>\n",
       "      <td>0</td>\n",
       "      <td>1</td>\n",
       "      <td>2008</td>\n",
       "      <td>WD</td>\n",
       "      <td>Normal</td>\n",
       "      <td>118000</td>\n",
       "    </tr>\n",
       "  </tbody>\n",
       "</table>\n",
       "<p>10 rows × 80 columns</p>\n",
       "</div>"
      ],
      "text/plain": [
       "   MSSubClass MSZoning  LotFrontage  LotArea Street Alley LotShape  \\\n",
       "0          60       RL         65.0     8450   Pave   NaN      Reg   \n",
       "1          20       RL         80.0     9600   Pave   NaN      Reg   \n",
       "2          60       RL         68.0    11250   Pave   NaN      IR1   \n",
       "3          70       RL         60.0     9550   Pave   NaN      IR1   \n",
       "4          60       RL         84.0    14260   Pave   NaN      IR1   \n",
       "5          50       RL         85.0    14115   Pave   NaN      IR1   \n",
       "6          20       RL         75.0    10084   Pave   NaN      Reg   \n",
       "7          60       RL          NaN    10382   Pave   NaN      IR1   \n",
       "8          50       RM         51.0     6120   Pave   NaN      Reg   \n",
       "9         190       RL         50.0     7420   Pave   NaN      Reg   \n",
       "\n",
       "  LandContour Utilities LotConfig    ...     PoolArea PoolQC  Fence  \\\n",
       "0         Lvl    AllPub    Inside    ...            0    NaN    NaN   \n",
       "1         Lvl    AllPub       FR2    ...            0    NaN    NaN   \n",
       "2         Lvl    AllPub    Inside    ...            0    NaN    NaN   \n",
       "3         Lvl    AllPub    Corner    ...            0    NaN    NaN   \n",
       "4         Lvl    AllPub       FR2    ...            0    NaN    NaN   \n",
       "5         Lvl    AllPub    Inside    ...            0    NaN  MnPrv   \n",
       "6         Lvl    AllPub    Inside    ...            0    NaN    NaN   \n",
       "7         Lvl    AllPub    Corner    ...            0    NaN    NaN   \n",
       "8         Lvl    AllPub    Inside    ...            0    NaN    NaN   \n",
       "9         Lvl    AllPub    Corner    ...            0    NaN    NaN   \n",
       "\n",
       "  MiscFeature MiscVal MoSold  YrSold  SaleType  SaleCondition  SalePrice  \n",
       "0         NaN       0      2    2008        WD         Normal     208500  \n",
       "1         NaN       0      5    2007        WD         Normal     181500  \n",
       "2         NaN       0      9    2008        WD         Normal     223500  \n",
       "3         NaN       0      2    2006        WD        Abnorml     140000  \n",
       "4         NaN       0     12    2008        WD         Normal     250000  \n",
       "5        Shed     700     10    2009        WD         Normal     143000  \n",
       "6         NaN       0      8    2007        WD         Normal     307000  \n",
       "7        Shed     350     11    2009        WD         Normal     200000  \n",
       "8         NaN       0      4    2008        WD        Abnorml     129900  \n",
       "9         NaN       0      1    2008        WD         Normal     118000  \n",
       "\n",
       "[10 rows x 80 columns]"
      ]
     },
     "execution_count": 5,
     "metadata": {},
     "output_type": "execute_result"
    }
   ],
   "source": [
    "housingdf.head(10)"
   ]
  },
  {
   "cell_type": "code",
   "execution_count": 6,
   "metadata": {},
   "outputs": [
    {
     "data": {
      "text/html": [
       "<div>\n",
       "<style>\n",
       "    .dataframe thead tr:only-child th {\n",
       "        text-align: right;\n",
       "    }\n",
       "\n",
       "    .dataframe thead th {\n",
       "        text-align: left;\n",
       "    }\n",
       "\n",
       "    .dataframe tbody tr th {\n",
       "        vertical-align: top;\n",
       "    }\n",
       "</style>\n",
       "<table border=\"1\" class=\"dataframe\">\n",
       "  <thead>\n",
       "    <tr style=\"text-align: right;\">\n",
       "      <th></th>\n",
       "      <th>MSSubClass</th>\n",
       "      <th>MSZoning</th>\n",
       "      <th>LotFrontage</th>\n",
       "      <th>LotArea</th>\n",
       "      <th>Street</th>\n",
       "      <th>Alley</th>\n",
       "      <th>LotShape</th>\n",
       "      <th>LandContour</th>\n",
       "      <th>Utilities</th>\n",
       "      <th>LotConfig</th>\n",
       "      <th>...</th>\n",
       "      <th>ScreenPorch</th>\n",
       "      <th>PoolArea</th>\n",
       "      <th>PoolQC</th>\n",
       "      <th>Fence</th>\n",
       "      <th>MiscFeature</th>\n",
       "      <th>MiscVal</th>\n",
       "      <th>MoSold</th>\n",
       "      <th>YrSold</th>\n",
       "      <th>SaleType</th>\n",
       "      <th>SaleCondition</th>\n",
       "    </tr>\n",
       "  </thead>\n",
       "  <tbody>\n",
       "    <tr>\n",
       "      <th>0</th>\n",
       "      <td>20</td>\n",
       "      <td>RH</td>\n",
       "      <td>80.0</td>\n",
       "      <td>11622</td>\n",
       "      <td>Pave</td>\n",
       "      <td>NaN</td>\n",
       "      <td>Reg</td>\n",
       "      <td>Lvl</td>\n",
       "      <td>AllPub</td>\n",
       "      <td>Inside</td>\n",
       "      <td>...</td>\n",
       "      <td>120</td>\n",
       "      <td>0</td>\n",
       "      <td>NaN</td>\n",
       "      <td>MnPrv</td>\n",
       "      <td>NaN</td>\n",
       "      <td>0</td>\n",
       "      <td>6</td>\n",
       "      <td>2010</td>\n",
       "      <td>WD</td>\n",
       "      <td>Normal</td>\n",
       "    </tr>\n",
       "    <tr>\n",
       "      <th>1</th>\n",
       "      <td>20</td>\n",
       "      <td>RL</td>\n",
       "      <td>81.0</td>\n",
       "      <td>14267</td>\n",
       "      <td>Pave</td>\n",
       "      <td>NaN</td>\n",
       "      <td>IR1</td>\n",
       "      <td>Lvl</td>\n",
       "      <td>AllPub</td>\n",
       "      <td>Corner</td>\n",
       "      <td>...</td>\n",
       "      <td>0</td>\n",
       "      <td>0</td>\n",
       "      <td>NaN</td>\n",
       "      <td>NaN</td>\n",
       "      <td>Gar2</td>\n",
       "      <td>12500</td>\n",
       "      <td>6</td>\n",
       "      <td>2010</td>\n",
       "      <td>WD</td>\n",
       "      <td>Normal</td>\n",
       "    </tr>\n",
       "    <tr>\n",
       "      <th>2</th>\n",
       "      <td>60</td>\n",
       "      <td>RL</td>\n",
       "      <td>74.0</td>\n",
       "      <td>13830</td>\n",
       "      <td>Pave</td>\n",
       "      <td>NaN</td>\n",
       "      <td>IR1</td>\n",
       "      <td>Lvl</td>\n",
       "      <td>AllPub</td>\n",
       "      <td>Inside</td>\n",
       "      <td>...</td>\n",
       "      <td>0</td>\n",
       "      <td>0</td>\n",
       "      <td>NaN</td>\n",
       "      <td>MnPrv</td>\n",
       "      <td>NaN</td>\n",
       "      <td>0</td>\n",
       "      <td>3</td>\n",
       "      <td>2010</td>\n",
       "      <td>WD</td>\n",
       "      <td>Normal</td>\n",
       "    </tr>\n",
       "    <tr>\n",
       "      <th>3</th>\n",
       "      <td>60</td>\n",
       "      <td>RL</td>\n",
       "      <td>78.0</td>\n",
       "      <td>9978</td>\n",
       "      <td>Pave</td>\n",
       "      <td>NaN</td>\n",
       "      <td>IR1</td>\n",
       "      <td>Lvl</td>\n",
       "      <td>AllPub</td>\n",
       "      <td>Inside</td>\n",
       "      <td>...</td>\n",
       "      <td>0</td>\n",
       "      <td>0</td>\n",
       "      <td>NaN</td>\n",
       "      <td>NaN</td>\n",
       "      <td>NaN</td>\n",
       "      <td>0</td>\n",
       "      <td>6</td>\n",
       "      <td>2010</td>\n",
       "      <td>WD</td>\n",
       "      <td>Normal</td>\n",
       "    </tr>\n",
       "    <tr>\n",
       "      <th>4</th>\n",
       "      <td>120</td>\n",
       "      <td>RL</td>\n",
       "      <td>43.0</td>\n",
       "      <td>5005</td>\n",
       "      <td>Pave</td>\n",
       "      <td>NaN</td>\n",
       "      <td>IR1</td>\n",
       "      <td>HLS</td>\n",
       "      <td>AllPub</td>\n",
       "      <td>Inside</td>\n",
       "      <td>...</td>\n",
       "      <td>144</td>\n",
       "      <td>0</td>\n",
       "      <td>NaN</td>\n",
       "      <td>NaN</td>\n",
       "      <td>NaN</td>\n",
       "      <td>0</td>\n",
       "      <td>1</td>\n",
       "      <td>2010</td>\n",
       "      <td>WD</td>\n",
       "      <td>Normal</td>\n",
       "    </tr>\n",
       "    <tr>\n",
       "      <th>5</th>\n",
       "      <td>60</td>\n",
       "      <td>RL</td>\n",
       "      <td>75.0</td>\n",
       "      <td>10000</td>\n",
       "      <td>Pave</td>\n",
       "      <td>NaN</td>\n",
       "      <td>IR1</td>\n",
       "      <td>Lvl</td>\n",
       "      <td>AllPub</td>\n",
       "      <td>Corner</td>\n",
       "      <td>...</td>\n",
       "      <td>0</td>\n",
       "      <td>0</td>\n",
       "      <td>NaN</td>\n",
       "      <td>NaN</td>\n",
       "      <td>NaN</td>\n",
       "      <td>0</td>\n",
       "      <td>4</td>\n",
       "      <td>2010</td>\n",
       "      <td>WD</td>\n",
       "      <td>Normal</td>\n",
       "    </tr>\n",
       "    <tr>\n",
       "      <th>6</th>\n",
       "      <td>20</td>\n",
       "      <td>RL</td>\n",
       "      <td>NaN</td>\n",
       "      <td>7980</td>\n",
       "      <td>Pave</td>\n",
       "      <td>NaN</td>\n",
       "      <td>IR1</td>\n",
       "      <td>Lvl</td>\n",
       "      <td>AllPub</td>\n",
       "      <td>Inside</td>\n",
       "      <td>...</td>\n",
       "      <td>0</td>\n",
       "      <td>0</td>\n",
       "      <td>NaN</td>\n",
       "      <td>GdPrv</td>\n",
       "      <td>Shed</td>\n",
       "      <td>500</td>\n",
       "      <td>3</td>\n",
       "      <td>2010</td>\n",
       "      <td>WD</td>\n",
       "      <td>Normal</td>\n",
       "    </tr>\n",
       "    <tr>\n",
       "      <th>7</th>\n",
       "      <td>60</td>\n",
       "      <td>RL</td>\n",
       "      <td>63.0</td>\n",
       "      <td>8402</td>\n",
       "      <td>Pave</td>\n",
       "      <td>NaN</td>\n",
       "      <td>IR1</td>\n",
       "      <td>Lvl</td>\n",
       "      <td>AllPub</td>\n",
       "      <td>Inside</td>\n",
       "      <td>...</td>\n",
       "      <td>0</td>\n",
       "      <td>0</td>\n",
       "      <td>NaN</td>\n",
       "      <td>NaN</td>\n",
       "      <td>NaN</td>\n",
       "      <td>0</td>\n",
       "      <td>5</td>\n",
       "      <td>2010</td>\n",
       "      <td>WD</td>\n",
       "      <td>Normal</td>\n",
       "    </tr>\n",
       "    <tr>\n",
       "      <th>8</th>\n",
       "      <td>20</td>\n",
       "      <td>RL</td>\n",
       "      <td>85.0</td>\n",
       "      <td>10176</td>\n",
       "      <td>Pave</td>\n",
       "      <td>NaN</td>\n",
       "      <td>Reg</td>\n",
       "      <td>Lvl</td>\n",
       "      <td>AllPub</td>\n",
       "      <td>Inside</td>\n",
       "      <td>...</td>\n",
       "      <td>0</td>\n",
       "      <td>0</td>\n",
       "      <td>NaN</td>\n",
       "      <td>NaN</td>\n",
       "      <td>NaN</td>\n",
       "      <td>0</td>\n",
       "      <td>2</td>\n",
       "      <td>2010</td>\n",
       "      <td>WD</td>\n",
       "      <td>Normal</td>\n",
       "    </tr>\n",
       "    <tr>\n",
       "      <th>9</th>\n",
       "      <td>20</td>\n",
       "      <td>RL</td>\n",
       "      <td>70.0</td>\n",
       "      <td>8400</td>\n",
       "      <td>Pave</td>\n",
       "      <td>NaN</td>\n",
       "      <td>Reg</td>\n",
       "      <td>Lvl</td>\n",
       "      <td>AllPub</td>\n",
       "      <td>Corner</td>\n",
       "      <td>...</td>\n",
       "      <td>0</td>\n",
       "      <td>0</td>\n",
       "      <td>NaN</td>\n",
       "      <td>MnPrv</td>\n",
       "      <td>NaN</td>\n",
       "      <td>0</td>\n",
       "      <td>4</td>\n",
       "      <td>2010</td>\n",
       "      <td>WD</td>\n",
       "      <td>Normal</td>\n",
       "    </tr>\n",
       "  </tbody>\n",
       "</table>\n",
       "<p>10 rows × 79 columns</p>\n",
       "</div>"
      ],
      "text/plain": [
       "   MSSubClass MSZoning  LotFrontage  LotArea Street Alley LotShape  \\\n",
       "0          20       RH         80.0    11622   Pave   NaN      Reg   \n",
       "1          20       RL         81.0    14267   Pave   NaN      IR1   \n",
       "2          60       RL         74.0    13830   Pave   NaN      IR1   \n",
       "3          60       RL         78.0     9978   Pave   NaN      IR1   \n",
       "4         120       RL         43.0     5005   Pave   NaN      IR1   \n",
       "5          60       RL         75.0    10000   Pave   NaN      IR1   \n",
       "6          20       RL          NaN     7980   Pave   NaN      IR1   \n",
       "7          60       RL         63.0     8402   Pave   NaN      IR1   \n",
       "8          20       RL         85.0    10176   Pave   NaN      Reg   \n",
       "9          20       RL         70.0     8400   Pave   NaN      Reg   \n",
       "\n",
       "  LandContour Utilities LotConfig      ...       ScreenPorch PoolArea PoolQC  \\\n",
       "0         Lvl    AllPub    Inside      ...               120        0    NaN   \n",
       "1         Lvl    AllPub    Corner      ...                 0        0    NaN   \n",
       "2         Lvl    AllPub    Inside      ...                 0        0    NaN   \n",
       "3         Lvl    AllPub    Inside      ...                 0        0    NaN   \n",
       "4         HLS    AllPub    Inside      ...               144        0    NaN   \n",
       "5         Lvl    AllPub    Corner      ...                 0        0    NaN   \n",
       "6         Lvl    AllPub    Inside      ...                 0        0    NaN   \n",
       "7         Lvl    AllPub    Inside      ...                 0        0    NaN   \n",
       "8         Lvl    AllPub    Inside      ...                 0        0    NaN   \n",
       "9         Lvl    AllPub    Corner      ...                 0        0    NaN   \n",
       "\n",
       "   Fence MiscFeature MiscVal  MoSold  YrSold  SaleType  SaleCondition  \n",
       "0  MnPrv         NaN       0       6    2010        WD         Normal  \n",
       "1    NaN        Gar2   12500       6    2010        WD         Normal  \n",
       "2  MnPrv         NaN       0       3    2010        WD         Normal  \n",
       "3    NaN         NaN       0       6    2010        WD         Normal  \n",
       "4    NaN         NaN       0       1    2010        WD         Normal  \n",
       "5    NaN         NaN       0       4    2010        WD         Normal  \n",
       "6  GdPrv        Shed     500       3    2010        WD         Normal  \n",
       "7    NaN         NaN       0       5    2010        WD         Normal  \n",
       "8    NaN         NaN       0       2    2010        WD         Normal  \n",
       "9  MnPrv         NaN       0       4    2010        WD         Normal  \n",
       "\n",
       "[10 rows x 79 columns]"
      ]
     },
     "execution_count": 6,
     "metadata": {},
     "output_type": "execute_result"
    }
   ],
   "source": [
    "testdf.head(10)"
   ]
  },
  {
   "cell_type": "code",
   "execution_count": 7,
   "metadata": {
    "collapsed": true
   },
   "outputs": [],
   "source": [
    "totaldf = pd.concat([housingdf, testdf], axis = 0, ignore_index = False)\n"
   ]
  },
  {
   "cell_type": "code",
   "execution_count": 8,
   "metadata": {
    "collapsed": true
   },
   "outputs": [],
   "source": [
    "#making a copy\n",
    "totalhousing = totaldf.copy()"
   ]
  },
  {
   "cell_type": "code",
   "execution_count": 9,
   "metadata": {
    "collapsed": true
   },
   "outputs": [],
   "source": [
    "#drop the response variable\n",
    "housingtrainy = housingdf[['SalePrice']]\n",
    "totalhousing = totalhousing.drop(['SalePrice'], axis = 1)"
   ]
  },
  {
   "cell_type": "code",
   "execution_count": 10,
   "metadata": {},
   "outputs": [
    {
     "data": {
      "text/plain": [
       "(2919, 79)"
      ]
     },
     "execution_count": 10,
     "metadata": {},
     "output_type": "execute_result"
    }
   ],
   "source": [
    "totalhousing.shape"
   ]
  },
  {
   "cell_type": "code",
   "execution_count": 11,
   "metadata": {},
   "outputs": [
    {
     "ename": "NameError",
     "evalue": "name 'matplotlib' is not defined",
     "output_type": "error",
     "traceback": [
      "\u001b[1;31m---------------------------------------------------------------------------\u001b[0m",
      "\u001b[1;31mNameError\u001b[0m                                 Traceback (most recent call last)",
      "\u001b[1;32m<ipython-input-11-743956cb1d2c>\u001b[0m in \u001b[0;36m<module>\u001b[1;34m()\u001b[0m\n\u001b[0;32m      1\u001b[0m \u001b[0mplt\u001b[0m\u001b[1;33m.\u001b[0m\u001b[0mstyle\u001b[0m\u001b[1;33m.\u001b[0m\u001b[0muse\u001b[0m\u001b[1;33m(\u001b[0m\u001b[1;34m'seaborn'\u001b[0m\u001b[1;33m)\u001b[0m\u001b[1;33m\u001b[0m\u001b[0m\n\u001b[1;32m----> 2\u001b[1;33m \u001b[0mmatplotlib\u001b[0m\u001b[1;33m.\u001b[0m\u001b[0mrcParams\u001b[0m\u001b[1;33m[\u001b[0m\u001b[1;34m'figure.figsize'\u001b[0m\u001b[1;33m]\u001b[0m \u001b[1;33m=\u001b[0m \u001b[1;33m(\u001b[0m\u001b[1;36m12.0\u001b[0m\u001b[1;33m,\u001b[0m \u001b[1;36m6.0\u001b[0m\u001b[1;33m)\u001b[0m\u001b[1;33m\u001b[0m\u001b[0m\n\u001b[0m\u001b[0;32m      3\u001b[0m \u001b[0mplt\u001b[0m\u001b[1;33m.\u001b[0m\u001b[0msubplot\u001b[0m\u001b[1;33m(\u001b[0m\u001b[1;36m1\u001b[0m\u001b[1;33m,\u001b[0m \u001b[1;36m2\u001b[0m\u001b[1;33m,\u001b[0m \u001b[1;36m1\u001b[0m\u001b[1;33m)\u001b[0m\u001b[1;33m\u001b[0m\u001b[0m\n\u001b[0;32m      4\u001b[0m \u001b[0msns\u001b[0m\u001b[1;33m.\u001b[0m\u001b[0mdistplot\u001b[0m\u001b[1;33m(\u001b[0m\u001b[0mhousingdf\u001b[0m\u001b[1;33m[\u001b[0m\u001b[1;34m'SalePrice'\u001b[0m\u001b[1;33m]\u001b[0m\u001b[1;33m)\u001b[0m\u001b[1;33m\u001b[0m\u001b[0m\n",
      "\u001b[1;31mNameError\u001b[0m: name 'matplotlib' is not defined"
     ]
    }
   ],
   "source": [
    "plt.style.use('seaborn')\n",
    "matplotlib.rcParams['figure.figsize'] = (12.0, 6.0)\n",
    "plt.subplot(1, 2, 1)\n",
    "sns.distplot(housingdf['SalePrice'])\n"
   ]
  },
  {
   "cell_type": "code",
   "execution_count": null,
   "metadata": {},
   "outputs": [],
   "source": [
    "hist_data = [np.array(np.log1p(housingdf['SalePrice']))]\n",
    "group_labels = ['Log Sales Price Distribution']\n",
    "fig = ff.create_distplot(hist_data, group_labels, bin_size=.1)\n",
    "py.offline.iplot(fig, filename='Basic Distplot')"
   ]
  },
  {
   "cell_type": "code",
   "execution_count": null,
   "metadata": {
    "collapsed": true
   },
   "outputs": [],
   "source": []
  },
  {
   "cell_type": "markdown",
   "metadata": {},
   "source": [
    "## 2.1 Imputation & Visualization"
   ]
  },
  {
   "cell_type": "code",
   "execution_count": null,
   "metadata": {
    "collapsed": true
   },
   "outputs": [],
   "source": [
    "import missingno as msno\n",
    "%matplotlib inline"
   ]
  },
  {
   "cell_type": "code",
   "execution_count": null,
   "metadata": {},
   "outputs": [],
   "source": [
    "#overall missing data visualization\n",
    "msno.matrix(totaldf, color=(0.3, 0.1, 0.7), labels = True)"
   ]
  },
  {
   "cell_type": "code",
   "execution_count": null,
   "metadata": {},
   "outputs": [],
   "source": [
    "missingcolumns = totalhousing.isnull().sum().sort_values(ascending = False)\n",
    "missingpercentage = (totalhousing.isnull().sum()/len(totaldf)).sort_values(ascending = False)\n",
    "missingdf = pd.DataFrame({'missing_column': missingcolumns.index.tolist(), 'missing_numbers': missingcolumns.values.tolist(), 'missing_percentage': missingpercentage.values.tolist()})\n",
    "missingdf = missingdf[missingdf['missing_numbers']>0]\n",
    "missingdf\n",
    "\n"
   ]
  },
  {
   "cell_type": "code",
   "execution_count": null,
   "metadata": {},
   "outputs": [],
   "source": [
    "#missing data with barplots\n",
    "\n",
    "missing_counts = go.Bar(x=missingdf['missing_column'].tolist(),\n",
    "                  y=missingdf['missing_numbers'].tolist(),\n",
    "                  marker=dict(color='rgb(166,206,227)'))\n",
    "\n",
    "\n",
    "data = [missing_counts]\n",
    "\n",
    "layout = go.Layout(title=\"Missing Data Counts\",\n",
    "                xaxis=dict(title='Missing Columns',tickangle=30),\n",
    "                yaxis=dict(title='Counts'))\n",
    "\n",
    "fig = go.Figure(data=data, layout=layout)\n",
    "\n",
    "py.offline.iplot(fig)\n",
    "\n",
    "\n",
    "\n"
   ]
  },
  {
   "cell_type": "code",
   "execution_count": null,
   "metadata": {},
   "outputs": [],
   "source": [
    "#missing data with barplots\n",
    "\n",
    "missing_percentage = go.Bar(x=missingdf['missing_column'].tolist(),\n",
    "                  y=missingdf['missing_percentage'].tolist(),\n",
    "                  marker=dict(color='rgb(166,206,227)'))\n",
    "\n",
    "\n",
    "data = [missing_percentage]\n",
    "\n",
    "layout = go.Layout(title=\"Missing Data Percentage\",\n",
    "                xaxis=dict(title='Missing Columns',tickangle=30),\n",
    "                yaxis=dict(title='Missing Percentage'))\n",
    "\n",
    "fig = go.Figure(data=data, layout=layout)\n",
    "\n",
    "py.offline.iplot(fig)\n",
    "\n",
    "\n"
   ]
  },
  {
   "cell_type": "code",
   "execution_count": null,
   "metadata": {},
   "outputs": [],
   "source": [
    "#correlation between missing data\n",
    "msno.heatmap(totaldf, cmap = 'PuRd')"
   ]
  },
  {
   "cell_type": "code",
   "execution_count": null,
   "metadata": {},
   "outputs": [],
   "source": [
    "totaldf.columns"
   ]
  },
  {
   "cell_type": "code",
   "execution_count": null,
   "metadata": {
    "collapsed": true
   },
   "outputs": [],
   "source": [
    "totalmissingdf = totaldf[missingdf['missing_column'].tolist()]"
   ]
  },
  {
   "cell_type": "markdown",
   "metadata": {},
   "source": [
    "## 2.2 Garage Year Imputation"
   ]
  },
  {
   "cell_type": "code",
   "execution_count": null,
   "metadata": {
    "collapsed": true
   },
   "outputs": [],
   "source": [
    "# totalhousing.GarageYrBlt = np.where(totalhousing.GarageYrBlt != totalhousing.GarageYrBlt, totalhousing.YearBuilt, totalhousing.GarageYrBlt)\n",
    "# Example\n",
    "# a = np.array([2,2,0,6,8])\n",
    "# b = np.array([np.nan,3,np.nan,4,5])\n",
    "# c = np.array([0,0,0,0,0])\n",
    "# d = np.array([1,1,1,1,1])\n",
    "# np.where(np.isnan(b), a, b)\n",
    "\n"
   ]
  },
  {
   "cell_type": "code",
   "execution_count": null,
   "metadata": {
    "collapsed": true
   },
   "outputs": [],
   "source": [
    "totalhousing['HasGarage'] = np.where(np.isnan(totalhousing['GarageYrBlt']), 0, 1)\n",
    "\n"
   ]
  },
  {
   "cell_type": "code",
   "execution_count": null,
   "metadata": {},
   "outputs": [],
   "source": [
    "#some of garage year built are earlier than year built, causing negative numbers, should come back and impute\n",
    "totalhousing['GarageYearDiff'] = totalhousing['GarageYrBlt'] - totalhousing['YearBuilt']\n",
    "# totalhousing['GarageYearDiff'] = [0 if math.isnan(i) else i for i in totalhousing['GarageYearDiff']]\n",
    "totalhousing['GarageYearDiff'] = np.where(np.isnan(totalhousing['GarageYearDiff']), 0, totalhousing['GarageYearDiff'])\n",
    "totalhousing['GarageYearDiff'] = np.where(totalhousing['GarageYearDiff'] < 0, 0, totalhousing['GarageYearDiff'])\n",
    "totalhousing['GarageYearDiff'] = np.where(totalhousing['GarageYearDiff'] == 201, 1, totalhousing['GarageYearDiff'])\n",
    "pd.unique(totalhousing['GarageYearDiff'])\n",
    "\n"
   ]
  },
  {
   "cell_type": "code",
   "execution_count": null,
   "metadata": {},
   "outputs": [],
   "source": [
    "#Visualize garage year imputation\n",
    "plt.scatter(totalhousing['YearBuilt'], totalhousing['GarageYearDiff'])\n",
    "plt.xlabel('Year Built')\n",
    "plt.ylabel('Garage Year Built Difference')\n",
    "matplotlib.rcParams['figure.figsize'] = (10, 10)\n",
    "\n"
   ]
  },
  {
   "cell_type": "markdown",
   "metadata": {},
   "source": [
    "## 2.3 Year Remodeling Imputation"
   ]
  },
  {
   "cell_type": "code",
   "execution_count": null,
   "metadata": {
    "collapsed": true
   },
   "outputs": [],
   "source": [
    "#create a column to check if the remodeled year is equal to year built\n",
    "totalhousing['IsRemod'] = np.where(totalhousing['YearRemodAdd'] == totalhousing['YearBuilt'], 0, 1)\n"
   ]
  },
  {
   "cell_type": "code",
   "execution_count": null,
   "metadata": {},
   "outputs": [],
   "source": [
    "#create a column to store the year difference between every remodelling year and year built\n",
    "totalhousing['RemodYearDiff'] = totalhousing['YearRemodAdd'] - totalhousing['YearBuilt']\n",
    "totalhousing['RemodYearDiff'] = np.where(totalhousing['RemodYearDiff'] < 0, 0, totalhousing['RemodYearDiff'])\n",
    "pd.unique(totalhousing['RemodYearDiff'])"
   ]
  },
  {
   "cell_type": "code",
   "execution_count": null,
   "metadata": {},
   "outputs": [],
   "source": [
    "#Visualize year remodeling imputation\n",
    "plt.scatter(totalhousing['YearBuilt'], totalhousing['RemodYearDiff'])\n",
    "plt.xlabel('Year Built')\n",
    "plt.ylabel('Remodelling Year Difference')\n",
    "matplotlib.rcParams['figure.figsize'] = (10, 10)"
   ]
  },
  {
   "cell_type": "markdown",
   "metadata": {},
   "source": [
    "## 2.4 Ordinal Variable Imputation"
   ]
  },
  {
   "cell_type": "code",
   "execution_count": null,
   "metadata": {
    "collapsed": true
   },
   "outputs": [],
   "source": [
    "ordinal1 = [\"FireplaceQu\", \"GarageFinish\", \"GarageQual\", \"GarageCond\", \"PavedDrive\", \"Fence\", 'PoolQC']"
   ]
  },
  {
   "cell_type": "code",
   "execution_count": null,
   "metadata": {
    "collapsed": true
   },
   "outputs": [],
   "source": [
    "totalhousing[ordinal1] = totalhousing[ordinal1] = totalhousing[ordinal1].replace(np.nan, 'None')"
   ]
  },
  {
   "cell_type": "code",
   "execution_count": null,
   "metadata": {
    "collapsed": true
   },
   "outputs": [],
   "source": [
    "ordinal2 = [\"LotShape\",\"LandContour\", \"LandSlope\", \"BldgType\", \"OverallQual\", \"OverallCond\", \"ExterQual\", \"ExterCond\", \"BsmtQual\", \"BsmtCond\", \"BsmtExposure\", \"BsmtFinType1\", \n",
    "           \"BsmtFinType2\", \"HeatingQC\", \"CentralAir\", \"KitchenQual\", \"Functional\"]\n"
   ]
  },
  {
   "cell_type": "code",
   "execution_count": null,
   "metadata": {
    "collapsed": true
   },
   "outputs": [],
   "source": [
    "for i in ordinal2:\n",
    "    totalhousing[i] = totalhousing[i].fillna(totalhousing[i].mode()[0])"
   ]
  },
  {
   "cell_type": "code",
   "execution_count": null,
   "metadata": {},
   "outputs": [],
   "source": [
    "totalhousing[ordinal2].isnull().sum()"
   ]
  },
  {
   "cell_type": "markdown",
   "metadata": {},
   "source": [
    "## 2.5 Nominal Variable Imputation"
   ]
  },
  {
   "cell_type": "code",
   "execution_count": null,
   "metadata": {
    "collapsed": true
   },
   "outputs": [],
   "source": [
    "nominal1 = ['MiscFeature', 'Alley', 'GarageType', 'MasVnrType']\n"
   ]
  },
  {
   "cell_type": "code",
   "execution_count": null,
   "metadata": {
    "collapsed": true
   },
   "outputs": [],
   "source": [
    "totalhousing[nominal] = totalhousing[nominal].replace(np.nan, 'None')"
   ]
  },
  {
   "cell_type": "code",
   "execution_count": null,
   "metadata": {
    "collapsed": true
   },
   "outputs": [],
   "source": [
    "nominal2 = ['MSZoning', 'Utilities', 'SaleType', 'Exterior1st', 'Exterior2nd', 'Electrical']"
   ]
  },
  {
   "cell_type": "code",
   "execution_count": null,
   "metadata": {
    "collapsed": true
   },
   "outputs": [],
   "source": [
    "for i in nominal2:\n",
    "    totalhousing[i] = totalhousing[i].fillna(totalhousing[i].mode()[0])"
   ]
  },
  {
   "cell_type": "code",
   "execution_count": null,
   "metadata": {},
   "outputs": [],
   "source": [
    "totalhousing[nominal2].isnull().sum()"
   ]
  },
  {
   "cell_type": "markdown",
   "metadata": {},
   "source": [
    "## 2.6 Continuous Variable Imputation"
   ]
  },
  {
   "cell_type": "code",
   "execution_count": null,
   "metadata": {
    "collapsed": true
   },
   "outputs": [],
   "source": [
    "continuous1 = ['LotFrontage', 'MasVnrArea', 'BsmtHalfBath', 'BsmtFullBath', 'BsmtUnfSF', 'BsmtFinSF2', 'BsmtFinSF1', 'TotalBsmtSF', 'GarageArea', 'GarageCars'] "
   ]
  },
  {
   "cell_type": "code",
   "execution_count": null,
   "metadata": {
    "collapsed": true
   },
   "outputs": [],
   "source": [
    "totalhousing[continuous] = totalhousing[continuous].fillna(totalhousing[continuous].median())"
   ]
  },
  {
   "cell_type": "code",
   "execution_count": null,
   "metadata": {
    "collapsed": true
   },
   "outputs": [],
   "source": []
  },
  {
   "cell_type": "markdown",
   "metadata": {},
   "source": [
    "## 2.7 Zero Variance and Near-Zero Variance Imputation"
   ]
  },
  {
   "cell_type": "code",
   "execution_count": null,
   "metadata": {
    "collapsed": true
   },
   "outputs": [],
   "source": [
    "zerovariance = ['Street', 'Utilities', 'Condition2', 'RoofMatl', 'LowQualFinSF', '3SsnPorch', 'PoolArea', 'PoolQC', 'MiscVal']\n"
   ]
  },
  {
   "cell_type": "code",
   "execution_count": null,
   "metadata": {},
   "outputs": [],
   "source": [
    "totalhousing.columns"
   ]
  },
  {
   "cell_type": "code",
   "execution_count": null,
   "metadata": {
    "collapsed": true
   },
   "outputs": [],
   "source": [
    "# drop all zero variance and near-zero variance columns\n",
    "totalhousing = totalhousing.drop(zerovariance, axis = 1)\n"
   ]
  },
  {
   "cell_type": "code",
   "execution_count": null,
   "metadata": {
    "collapsed": true
   },
   "outputs": [],
   "source": [
    "#drop yearremodadd and garageyrblt\n",
    "totalhousing = totalhousing.drop(['YearRemodAdd', 'GarageYrBlt'], axis = 1)"
   ]
  },
  {
   "cell_type": "code",
   "execution_count": null,
   "metadata": {},
   "outputs": [],
   "source": [
    "totalhousing.shape"
   ]
  },
  {
   "cell_type": "code",
   "execution_count": null,
   "metadata": {},
   "outputs": [],
   "source": [
    "totalhousing.isnull().sum().sort_values(ascending = False)"
   ]
  },
  {
   "cell_type": "markdown",
   "metadata": {},
   "source": [
    "## 2.1 Kaggle Train Test Split"
   ]
  },
  {
   "cell_type": "code",
   "execution_count": null,
   "metadata": {
    "collapsed": true
   },
   "outputs": [],
   "source": [
    "housingtrainx = totalhousing.iloc[0:1460, :]"
   ]
  },
  {
   "cell_type": "code",
   "execution_count": null,
   "metadata": {
    "collapsed": true
   },
   "outputs": [],
   "source": [
    "housingtrain = pd.concat([housingtrainx, housingtrainy], axis = 1)"
   ]
  },
  {
   "cell_type": "code",
   "execution_count": null,
   "metadata": {
    "collapsed": true
   },
   "outputs": [],
   "source": [
    "housingtest = totalhousing.iloc[1460:2919, :].copy()"
   ]
  },
  {
   "cell_type": "code",
   "execution_count": null,
   "metadata": {},
   "outputs": [],
   "source": [
    "train.shape"
   ]
  },
  {
   "cell_type": "code",
   "execution_count": null,
   "metadata": {},
   "outputs": [],
   "source": [
    "test.shape"
   ]
  },
  {
   "cell_type": "code",
   "execution_count": null,
   "metadata": {
    "collapsed": true
   },
   "outputs": [],
   "source": [
    "housingtrain.to_csv('./Datasets/train_Wenchang.csv')"
   ]
  },
  {
   "cell_type": "code",
   "execution_count": null,
   "metadata": {
    "collapsed": true
   },
   "outputs": [],
   "source": [
    "housingtest.to_csv('./Datasets/test_Wenchang.csv')"
   ]
  },
  {
   "cell_type": "markdown",
   "metadata": {},
   "source": [
    "## 2.2 Statistical Analysis & Visualization"
   ]
  },
  {
   "cell_type": "code",
   "execution_count": null,
   "metadata": {
    "collapsed": true
   },
   "outputs": [],
   "source": [
    "continuous2 = [\"LotFrontage\", \"LotArea\", \"YearBuilt\", \"MasVnrArea\", \"BsmtFinSF1\", \"BsmtFinSF2\", \"BsmtUnfSF\", \"TotalBsmtSF\", \"GrLivArea\", \"BsmtFullBath\", \"BsmtHalfBath\", \"FullBath\", \"HalfBath\", \"BedroomAbvGr\", \n",
    "               \"KitchenAbvGr\", \"TotRmsAbvGrd\", \"Fireplaces\", \"GarageCars\", \"GarageArea\", \"WoodDeckSF\", \"OpenPorchSF\", \"EnclosedPorch\", \"ScreenPorch\", 'MoSold', 'YrSold', 'SalePrice']\n"
   ]
  },
  {
   "cell_type": "code",
   "execution_count": null,
   "metadata": {},
   "outputs": [],
   "source": [
    "#create a correlation matrix with all numeric columns: Pearson\n",
    "\n",
    "sns.set(style=\"ticks\")\n",
    "\n",
    "# take the numerical columns\n",
    "data1 = pd.DataFrame(data= housingtrain[continuous2],\n",
    "                 columns = housingtrain[continuous2].columns.tolist())\n",
    "\n",
    "# Compute the correlation matrix\n",
    "corr1 = data1.corr(method = 'pearson')\n",
    "\n",
    "# Generate a mask for the upper triangle\n",
    "mask = np.zeros_like(corr1, dtype=np.bool)\n",
    "mask[np.triu_indices_from(mask)] = True\n",
    "\n",
    "# Set up the matplotlib figure\n",
    "f, ax = plt.subplots(figsize=(11, 9))\n",
    "\n",
    "# Generate a custom diverging colormap\n",
    "cmap = sns.diverging_palette(50, 100, as_cmap=True)\n",
    "\n",
    "# Draw the heatmap with the mask and correct aspect ratio\n",
    "sns.heatmap(corr1, mask=mask, cmap=cmap, vmax=1, center=0,\n",
    "            square=True, linewidths=.5, cbar_kws={\"shrink\": .5})\n",
    "\n",
    "\n"
   ]
  },
  {
   "cell_type": "code",
   "execution_count": null,
   "metadata": {},
   "outputs": [],
   "source": [
    "#top10 correlated continuous variables\n",
    "correlationchart = corr1['SalePrice'].sort_values(ascending = False)\n",
    "correlationchart.plot.barh()\n",
    "\n"
   ]
  },
  {
   "cell_type": "code",
   "execution_count": null,
   "metadata": {
    "collapsed": true
   },
   "outputs": [],
   "source": [
    "# ordinal2 = [\"LotShape\", \"LandContour\", \"LandSlope\", \"BldgType\", \n",
    "#             \"OverallQual\", \"OverallCond\", \"ExterQual\", \"ExterCond\", \n",
    "#            \"BsmtQual\", \"BsmtCond\", \"BsmtExposure\", \"BsmtFinType1\", \n",
    "#            \"BsmtFinType2\", \"HeatingQC\", \"CentralAir\", \"KitchenQual\", \n",
    "#            \"Functional\", \"FireplaceQu\", \"GarageFinish\", \"GarageQual\", \n",
    "#            \"GarageCond\", \"PavedDrive\", \"Fence\"]"
   ]
  },
  {
   "cell_type": "code",
   "execution_count": null,
   "metadata": {
    "collapsed": true
   },
   "outputs": [],
   "source": [
    "# ordinaldf = housingtrain[ordinal2].copy()\n"
   ]
  },
  {
   "cell_type": "code",
   "execution_count": null,
   "metadata": {
    "collapsed": true
   },
   "outputs": [],
   "source": [
    "# #Ordinal Variables Correlation Plot: Kendall\n",
    "# sns.set(style=\"ticks\")\n",
    "\n",
    "# # take the numerical columns\n",
    "# data2 = pd.DataFrame(data= housingtrain[ordinal2],\n",
    "#                  columns=housingtrain[ordinal2].columns.tolist())\n",
    "\n",
    "# # Compute the correlation matrix\n",
    "# corr2 = data2.corr(method = 'kendall')\n",
    "\n",
    "# # Generate a mask for the upper triangle\n",
    "# mask = np.zeros_like(corr2, dtype=np.bool)\n",
    "# mask[np.triu_indices_from(mask)] = True\n",
    "\n",
    "# # Set up the matplotlib figure\n",
    "# f, ax = plt.subplots(figsize=(11, 9))\n",
    "\n",
    "# # Generate a custom diverging colormap\n",
    "# cmap = sns.diverging_palette(75, 10, as_cmap=True)\n",
    "\n",
    "# # Draw the heatmap with the mask and correct aspect ratio\n",
    "# sns.heatmap(corr2, mask=mask, cmap=cmap, vmax=1, center=0,\n",
    "#             square=True, linewidths=.5, cbar_kws={\"shrink\": .5})\n",
    "\n"
   ]
  },
  {
   "cell_type": "code",
   "execution_count": null,
   "metadata": {
    "collapsed": true
   },
   "outputs": [],
   "source": [
    "# corr = data.corr(method = 'kendall')\n",
    "# corr"
   ]
  },
  {
   "cell_type": "code",
   "execution_count": null,
   "metadata": {
    "collapsed": true
   },
   "outputs": [],
   "source": [
    "# #Correlation between Ordinal Variables and Sales Prices: Spearman\n",
    "# sns.set(style=\"ticks\")\n",
    "\n",
    "# # take the numerical columns\n",
    "# data = pd.DataFrame(data= numericdf,\n",
    "#                  columns=numericdf.columns.tolist())\n",
    "\n",
    "# # Compute the correlation matrix\n",
    "# corr = data.corr(method = 'spearman')\n",
    "\n",
    "# # Generate a mask for the upper triangle\n",
    "# mask = np.zeros_like(corr, dtype=np.bool)\n",
    "# mask[np.triu_indices_from(mask)] = True\n",
    "\n",
    "# # Set up the matplotlib figure\n",
    "# f, ax = plt.subplots(figsize=(11, 9))\n",
    "\n",
    "# # Generate a custom diverging colormap\n",
    "# cmap = sns.diverging_palette(100, 125, as_cmap=True)\n",
    "\n",
    "# # Draw the heatmap with the mask and correct aspect ratio\n",
    "# sns.heatmap(corr, mask=mask, cmap=cmap, vmax=1, center=0,\n",
    "#             square=True, linewidths=.5, cbar_kws={\"shrink\": .5})\n",
    "\n"
   ]
  },
  {
   "cell_type": "code",
   "execution_count": null,
   "metadata": {},
   "outputs": [],
   "source": [
    "housingtrain.describe()"
   ]
  },
  {
   "cell_type": "code",
   "execution_count": null,
   "metadata": {},
   "outputs": [],
   "source": [
    "#Boxplot with Median Price and Neighborhoods\n",
    "\n",
    "\n",
    "\n",
    "N = len(pd.unique(housingtrain.Neighborhood))     # Number of boxes\n",
    "\n",
    "# generate an array of rainbow colors by fixing the saturation and lightness of the HSL representation of colour \n",
    "# and marching around the hue. \n",
    "\n",
    "c = ['hsl('+str(h)+',50%'+',50%)' for h in np.linspace(0, 360, N)]\n",
    "\n",
    "#loading the data with filters\n",
    "data = [{\n",
    "    'y': housingtrain.SalePrice[housingtrain.Neighborhood == j],\n",
    "    'name': j,\n",
    "    'type':'box',\n",
    "    'marker':{'color': c[i]}\n",
    "    } for i, j in enumerate(pd.unique(housingtrain.Neighborhood))]\n",
    "\n",
    "\n",
    "# format the layout\n",
    "layout = go.Layout(title=\"Housing Sale Price by Neighborhoods\",\n",
    "                xaxis=dict(title='Neighborhood'),\n",
    "                yaxis=dict(title='Housing Sale Price'))\n",
    "\n",
    "\n",
    "fig = go.Figure(data=data, layout=layout)\n",
    "\n",
    "py.offline.iplot(fig)\n"
   ]
  },
  {
   "cell_type": "code",
   "execution_count": null,
   "metadata": {},
   "outputs": [],
   "source": [
    "#Boxplot with Price and Overall Quality\n",
    "\n",
    "N = len(pd.unique(housingtrain.OverallQual))     # Number of boxes\n",
    "\n",
    "# generate an array of rainbow colors by fixing the saturation and lightness of the HSL representation of colour \n",
    "# and marching around the hue. \n",
    "\n",
    "c = ['hsl('+str(h)+',50%'+',50%)' for h in np.linspace(0, 360, N)]\n",
    "\n",
    "#loading the data with filters\n",
    "data = [{\n",
    "    'y': housingtrain.SalePrice[housingtrain.OverallQual == j],\n",
    "    'name': j,\n",
    "    'type':'box',\n",
    "    'marker':{'color': c[i]}\n",
    "    } for i, j in enumerate(pd.unique(housingtrain.OverallQual))]\n",
    "\n",
    "\n",
    "# format the layout\n",
    "layout = go.Layout(title=\"Housing Sale Price by Overall Quality\",\n",
    "                xaxis=dict(title='Overall Quality'),\n",
    "                yaxis=dict(title='Housing Sale Price'))\n",
    "\n",
    "\n",
    "fig = go.Figure(data=data, layout=layout)\n",
    "\n",
    "py.offline.iplot(fig)\n"
   ]
  },
  {
   "cell_type": "code",
   "execution_count": null,
   "metadata": {},
   "outputs": [],
   "source": [
    "from datetime import datetime\n",
    "saletime = housingtrain.copy()\n",
    "saletime['Saletime'] = saletime['YrSold'].map(str) + '/' + saletime['MoSold'].map(str) \n",
    "saletime['Saletime'] = pd.to_datetime(saletime['Saletime'], format = '%Y/%m')\n",
    "saletimedf = pd.concat([saletime['Saletime'], saletime['SalePrice']], axis = 1)\n",
    "saletimedf = saletimedf.sort_values(by = 'Saletime')\n",
    "saletimedf.Saletime = saletimedf.Saletime.map(lambda x: x.strftime('%Y/%m'))\n",
    "pd.unique(saletimedf.Saletime)"
   ]
  },
  {
   "cell_type": "code",
   "execution_count": null,
   "metadata": {},
   "outputs": [],
   "source": [
    "#Boxplot with Price and Time\n",
    "\n",
    "N = len(pd.unique(saletimedf.Saletime))     # Number of boxes\n",
    "enumeratelist = pd.unique(saletimedf.Saletime)\n",
    "\n",
    "\n",
    "# generate an array of rainbow colors by fixing the saturation and lightness of the HSL representation of colour \n",
    "# and marching around the hue. \n",
    "\n",
    "c = ['hsl('+str(h)+',50%'+',50%)' for h in np.linspace(0, 360, N)]\n",
    "\n",
    "#loading the data with filters\n",
    "data = [{\n",
    "    'y': saletimedf.SalePrice[saletimedf.Saletime == j],\n",
    "    'name': j,\n",
    "    'type':'box',\n",
    "    'marker':{'color': c[i]}\n",
    "    } for i, j in enumerate(enumeratelist)]\n",
    "\n",
    "\n",
    "# format the layout\n",
    "layout = go.Layout(title=\"Housing Sale Price by Year\",\n",
    "                xaxis=dict(title='Time'),\n",
    "                yaxis=dict(title='Housing Sale Price'))\n",
    "\n",
    "\n",
    "fig = go.Figure(data=data, layout=layout)\n",
    "py.offline.iplot(fig)\n",
    "\n",
    "\n"
   ]
  },
  {
   "cell_type": "code",
   "execution_count": null,
   "metadata": {
    "collapsed": true
   },
   "outputs": [],
   "source": [
    "# #Median Price with Time\n",
    "# saletimegroup = saletimedf.groupby('Saletime').median()\n",
    "# saletimegroup.sort(by = 'Saletime')\n",
    "# sorted(pd.unique(saletime.dt.date))"
   ]
  },
  {
   "cell_type": "markdown",
   "metadata": {},
   "source": [
    "## 2.3 Feature Engineering\n",
    "\n"
   ]
  },
  {
   "cell_type": "code",
   "execution_count": null,
   "metadata": {
    "collapsed": true
   },
   "outputs": [],
   "source": [
    "housingtrain.HalfBath = np.where(housingtrain.HalfBath == 0, np.median(housingtrain.HalfBath), housingtrain.HalfBath)\n",
    "housingtrain.FullBath = np.where(housingtrain.FullBath == 0, np.median(housingtrain.FullBath), housingtrain.FullBath)\n",
    "housingtrain.BedroomAbvGr = np.where(housingtrain.BedroomAbvGr == 0, np.median(housingtrain.BedroomAbvGr), housingtrain.BedroomAbvGr)\n",
    "\n"
   ]
  },
  {
   "cell_type": "code",
   "execution_count": null,
   "metadata": {
    "collapsed": true
   },
   "outputs": [],
   "source": [
    "# bathroomratio = bath/room\n",
    "housingtrain['Bath_Capacitance'] = (housingtrain['FullBath']+housingtrain['HalfBath']) /housingtrain['BedroomAbvGr']\n"
   ]
  },
  {
   "cell_type": "code",
   "execution_count": null,
   "metadata": {
    "collapsed": true
   },
   "outputs": [],
   "source": [
    "#garageroomratio = garage/room\n",
    "housingtrain['Parking_Capacitance']=housingtrain.GarageCars/housingtrain.BedroomAbvGr\n"
   ]
  },
  {
   "cell_type": "code",
   "execution_count": null,
   "metadata": {},
   "outputs": [],
   "source": [
    "housingtrain.columns"
   ]
  },
  {
   "cell_type": "code",
   "execution_count": null,
   "metadata": {
    "collapsed": true
   },
   "outputs": [],
   "source": [
    "#landscape = lotshape * land contour\n",
    "# housingtrain['landscape']\n"
   ]
  },
  {
   "cell_type": "code",
   "execution_count": null,
   "metadata": {
    "collapsed": true
   },
   "outputs": [],
   "source": [
    "#saletype score\n",
    "\n"
   ]
  },
  {
   "cell_type": "code",
   "execution_count": null,
   "metadata": {
    "collapsed": true
   },
   "outputs": [],
   "source": [
    "#neighborhood score\n",
    "\n"
   ]
  },
  {
   "cell_type": "markdown",
   "metadata": {},
   "source": [
    "## Preprocessing\n",
    "\n",
    "## 3.1 Encoding"
   ]
  },
  {
   "cell_type": "code",
   "execution_count": null,
   "metadata": {
    "collapsed": true
   },
   "outputs": [],
   "source": [
    "#we create a private train set and a private test set within the kaggle train set in order to\n",
    "#find best regularization parameter only based on private train set. \n",
    "privateset = housingtrain.copy()"
   ]
  },
  {
   "cell_type": "code",
   "execution_count": null,
   "metadata": {},
   "outputs": [],
   "source": [
    "privateset = pd.get_dummies(privateset, drop_first=True, dummy_na=True)\n",
    "\n",
    "privateset.head(10)\n"
   ]
  },
  {
   "cell_type": "markdown",
   "metadata": {},
   "source": [
    "## 3.2 Private Train Test Split"
   ]
  },
  {
   "cell_type": "code",
   "execution_count": null,
   "metadata": {},
   "outputs": [],
   "source": [
    "import sklearn.model_selection as ms\n",
    "\n",
    "x_train, x_test, y_train, y_test = ms.train_test_split(privateset.loc[:, privateset.columns != 'SalePrice'], privateset['SalePrice'], \n",
    "                                                       test_size=1/5, random_state=0)\n",
    "\n",
    "print('Original: {}, {}'.format(privateset.shape, privateset.shape))\n",
    "print('Training: {}, {}'.format(x_train.shape, y_train.shape))\n",
    "print('Test: {}, {}'.format(x_test.shape, y_test.shape))\n",
    "\n",
    "\n"
   ]
  },
  {
   "cell_type": "markdown",
   "metadata": {},
   "source": [
    "## 3.2 Normalizing and Scaling"
   ]
  },
  {
   "cell_type": "code",
   "execution_count": null,
   "metadata": {
    "collapsed": true
   },
   "outputs": [],
   "source": [
    "from sklearn import preprocessing\n",
    "from sklearn.model_selection import KFold, cross_val_score, train_test_split\n",
    "from sklearn.pipeline import make_pipeline"
   ]
  },
  {
   "cell_type": "code",
   "execution_count": null,
   "metadata": {
    "collapsed": true
   },
   "outputs": [],
   "source": [
    "# x_train = preprocessing.RobustScaler().fit(x_train)\n",
    "# x_test = preprocessing.RobustScaler().fit(x_test)\n",
    "# x_train = preprocessing.RobustScaler(x_train)\n",
    "# x_test = preprocessing.RobustScaler(x_test)"
   ]
  },
  {
   "cell_type": "code",
   "execution_count": null,
   "metadata": {
    "collapsed": true
   },
   "outputs": [],
   "source": [
    "#log transform the sale prices\n",
    "y_train = np.log1p(y_train)\n",
    "y_test = np.log1p(y_test)"
   ]
  },
  {
   "cell_type": "code",
   "execution_count": null,
   "metadata": {
    "collapsed": true
   },
   "outputs": [],
   "source": [
    "scaler = preprocessing.StandardScaler()"
   ]
  },
  {
   "cell_type": "code",
   "execution_count": null,
   "metadata": {
    "collapsed": true
   },
   "outputs": [],
   "source": [
    "#standardize and normalize the features\n",
    "# x_train = pd.DataFrame(data = scaler.fit_transform(x_train), columns = x_train.columns)\n",
    "# x_test = pd.DataFrame(data = scaler.fit_transform(x_test), columns = x_test.columns)"
   ]
  },
  {
   "cell_type": "code",
   "execution_count": null,
   "metadata": {
    "collapsed": true
   },
   "outputs": [],
   "source": [
    "from scipy.stats import norm, skew\n",
    "numeric_feats = house_train_test_log.dtypes[house_train_test_log.dtypes != \"object\"].index\n",
    "# Check the skew of all numerical features\n",
    "skewed_feats = house_train_test_log[numeric_feats].apply(lambda x: skew(x.dropna())).sort_values(ascending=False)\n",
    "print(\"\\nSkew in numerical features: \\n\")\n",
    "skewness = pd.DataFrame({'Skew' :skewed_feats})\n",
    "skewness.head(10)\n",
    "skewness = skewness[abs(skewness) > 0.75]\n",
    "skewed_features = skewness.index\n",
    "house_train_test_log[skewed_features] = np.log1p(house_train_test_log[skewed_features]\n",
    "\n"
   ]
  },
  {
   "cell_type": "code",
   "execution_count": null,
   "metadata": {
    "collapsed": true
   },
   "outputs": [],
   "source": [
    "# kaggleset = privateset.copy()"
   ]
  },
  {
   "cell_type": "code",
   "execution_count": null,
   "metadata": {
    "collapsed": true
   },
   "outputs": [],
   "source": [
    "# public_x = kaggleset.loc[:, kaggleset.columns != 'SalePrice']\n",
    "# public_y = kaggleset.SalePrice"
   ]
  },
  {
   "cell_type": "code",
   "execution_count": null,
   "metadata": {
    "collapsed": true
   },
   "outputs": [],
   "source": [
    "# public_x = pd.DataFrame(data = scaler.fit_transform(public_x), columns = public_train.columns)\n",
    "# public_y = np.log1p(public_y)"
   ]
  },
  {
   "cell_type": "markdown",
   "metadata": {},
   "source": [
    "## Modelling\n",
    "\n",
    "## 4.1 Regularized Linear Regression: Ridge "
   ]
  },
  {
   "cell_type": "code",
   "execution_count": null,
   "metadata": {
    "collapsed": true
   },
   "outputs": [],
   "source": [
    "def rmse_cv(model):\n",
    "    n_folds = 5\n",
    "    kf = KFold(n_folds, shuffle=True, random_state=42).get_n_splits(x_train)\n",
    "    rmse= np.sqrt(-cross_val_score(model, x_train, y_train, scoring=\"neg_mean_squared_error\", cv = 5))\n",
    "    return(rmse)\n",
    "\n",
    "def rmse(residuals):\n",
    "    return np.sqrt(np.sum(residuals**2)/(len(residuals)))"
   ]
  },
  {
   "cell_type": "code",
   "execution_count": null,
   "metadata": {
    "collapsed": true
   },
   "outputs": [],
   "source": [
    "from sklearn import linear_model\n",
    "from sklearn.grid_search import GridSearchCV\n",
    "ridge = linear_model.Ridge()"
   ]
  },
  {
   "cell_type": "code",
   "execution_count": null,
   "metadata": {
    "collapsed": true
   },
   "outputs": [],
   "source": [
    "# alpha_100 = np.logspace(-2, 5, 100)\n",
    "# ridge_grid_search = GridSearchCV(estimator = ridge, param_grid = {'alpha': alpha_100}, cv = 5, verbose = 2, scoring = 'neg_mean_squared_error')\n",
    "# ridge_fit = ridge_grid_search.fit(x_train, y_train)\n",
    "# best_param = ridge_grid_search.best_params_\n",
    "# score = np.sqrt(-ridge_grid_search.best_score_)\n",
    "# ran = ridge_grid_search.best_estimator_\n",
    "# error = rmse(ran.predict(x_test)-y_test)"
   ]
  },
  {
   "cell_type": "code",
   "execution_count": null,
   "metadata": {},
   "outputs": [],
   "source": [
    "alpha_100 = np.logspace(-2, 5, 100)\n",
    "coef = []\n",
    "\n",
    "for i in alpha_100:\n",
    "    ridge.set_params(alpha = i)\n",
    "    ridge.fit(x_train, y_train)\n",
    "    coef.append(ridge.coef_)\n",
    "\n",
    "columns = x_train.columns\n",
    "df_coef = pd.DataFrame(coef, index=alpha_100, columns=columns)\n",
    "title = 'Ridge coefficients as a function of the regularization'\n",
    "df_coef.plot(logx=True, title=title, legend = False)\n",
    "\n",
    "plt.xlabel('alpha')\n",
    "plt.ylabel('coefficients')\n",
    "plt.show()"
   ]
  },
  {
   "cell_type": "code",
   "execution_count": null,
   "metadata": {
    "collapsed": true
   },
   "outputs": [],
   "source": [
    "cv_Ridge = [rmse_cv(Ridge(alpha = Alpha)).mean() for Alpha in alpha_100]"
   ]
  },
  {
   "cell_type": "code",
   "execution_count": null,
   "metadata": {},
   "outputs": [],
   "source": [
    "cv_Ridge = pd.Series(cv_Ridge, index = alpha_100)\n",
    "\n",
    "fig, ax = plt.subplots(figsize=(12,12));\n",
    "ax.plot(alpha_100,cv_Ridge);\n",
    "ax.set_xlabel('alpha')\n",
    "#ax.set_ylabel('RMSE')\n",
    "alpha0 = cv_Ridge[cv_Ridge == cv_Ridge.min()].index[0];\n",
    "rmse0 = cv_Ridge.min();\n",
    "s = 'Minumum RMSE {:.4f} \\nachieved at alpha = {:.4f}'.format(rmse0,alpha0)\n",
    "ax.annotate(s, xy=(alpha0, rmse0),\n",
    "               xycoords='data',\n",
    "               xytext=(alpha_100.mean(), cv_Ridge.mean()),\n",
    "               #textcoords='offset points',\n",
    "               bbox=dict(boxstyle='round,pad=0.2', fc='yellow', alpha=0.3),\n",
    "               arrowprops=dict(arrowstyle='->',color='red'))\n",
    "\n",
    "print('*'*50)\n",
    "print('Ridge CV:')\n",
    "print(s)\n",
    "print('*'*50)"
   ]
  },
  {
   "cell_type": "code",
   "execution_count": null,
   "metadata": {
    "collapsed": true
   },
   "outputs": [],
   "source": [
    "# ridgemodel = make_pipeline(preprocessing.StandardScaler(), Ridge(alpha =0.0005, random_state=1))"
   ]
  },
  {
   "cell_type": "code",
   "execution_count": null,
   "metadata": {
    "collapsed": true
   },
   "outputs": [],
   "source": [
    "# score = rmse_cv(ridgemodel)\n",
    "# print(\"\\nLasso score: {:.4f} ({:.4f})\\n\".format(score.mean(), score.std()))"
   ]
  },
  {
   "cell_type": "code",
   "execution_count": null,
   "metadata": {},
   "outputs": [],
   "source": [
    "model_Ridge = Ridge(alpha0).fit(x_train, y_train);\n",
    "\n",
    "coeffs_Ridge = pd.Series(model_Ridge.coef_, index = public_x.columns);\n",
    "vip_coeffs_Ridge = pd.concat([coeffs_Ridge.sort_values().head(10),\n",
    "                              coeffs_Ridge.sort_values().tail(10)])\n",
    "\n",
    "fig, ax = plt.subplots(figsize=(8,8));\n",
    "vip_coeffs_Ridge.plot(kind = \"barh\");\n",
    "plt.title(\"VIP Coefficients (Ridge)\");"
   ]
  },
  {
   "cell_type": "code",
   "execution_count": null,
   "metadata": {},
   "outputs": [],
   "source": [
    "predictions_Ridge = pd.DataFrame({\"Predicted\":model_Ridge.predict(x_test), \n",
    "                                  \"Actual\":y_test});\n",
    "predictions_Ridge[\"Residual\"] = predictions_Ridge.Actual - predictions_Ridge.Predicted;\n",
    "\n",
    "\n",
    "print('*'*50)\n",
    "print('Ridge Performace: R^2 = {:.4f}'.format(model_Ridge.score(x_test, y_test)))\n",
    "print('*'*50)\n",
    "print('Lasso Performace: RMSE = {:.4f}'.format(rmse(predictions_Ridge.Residual)))\n",
    "print('*'*50)\n",
    "\n",
    "\n",
    "fig, ax = plt.subplots(figsize=(8,8));\n",
    "sns.regplot(predictions_Ridge.Actual, predictions_Ridge.Predicted);\n",
    "#ax.set_title('')"
   ]
  },
  {
   "cell_type": "markdown",
   "metadata": {},
   "source": [
    "## 4.2 Regularized Linear Regression: Lasso"
   ]
  },
  {
   "cell_type": "code",
   "execution_count": null,
   "metadata": {
    "collapsed": true
   },
   "outputs": [],
   "source": [
    "from sklearn.linear_model import Lasso\n",
    "lasso = Lasso()"
   ]
  },
  {
   "cell_type": "code",
   "execution_count": null,
   "metadata": {},
   "outputs": [],
   "source": [
    "alpha_100 = np.logspace(-4, 1, 100)\n",
    "coef_lasso = []\n",
    "\n",
    "\n",
    "for i in alpha_100:\n",
    "    lasso.set_params(alpha = i)\n",
    "    lasso.fit(x_train, y_train)\n",
    "    coef_lasso.append(lasso.coef_)\n",
    "\n",
    "\n",
    "columns = x_train.columns\n",
    "df_coef = pd.DataFrame(coef_lasso, index=alpha_100, columns=columns)\n",
    "title = 'Lasso coefficients as a function of the regularization'\n",
    "df_coef.plot(logx=True, title=title, legend = False)\n",
    "plt.xlabel('alpha')\n",
    "plt.ylabel('coefficients')\n",
    "plt.show()\n",
    "\n"
   ]
  },
  {
   "cell_type": "code",
   "execution_count": null,
   "metadata": {
    "collapsed": true
   },
   "outputs": [],
   "source": [
    "cv_Lasso = [rmse_cv(linear_model.Lasso(alpha = Alpha)).mean() for Alpha in alpha_100]"
   ]
  },
  {
   "cell_type": "code",
   "execution_count": null,
   "metadata": {},
   "outputs": [],
   "source": [
    "cv_Lasso = pd.Series(cv_Lasso, index = alpha_100)\n",
    "\n",
    "fig, ax = plt.subplots(figsize=(8,8));\n",
    "ax.plot(alpha_100,cv_Lasso);\n",
    "\n",
    "alpha0 = cv_Lasso[cv_Lasso == cv_Lasso.min()].index[0];\n",
    "rmse0 = cv_Lasso.min();\n",
    "s = 'Minumum RMSE {:.4f} \\nachieved at alpha = {}'.format(rmse0,alpha0)\n",
    "ax.annotate(s, xy=(alpha0, rmse0),\n",
    "               xycoords='data',\n",
    "               xytext=(alpha_100.mean()/2, cv_Lasso.mean()/2),\n",
    "               #textcoords='offset points',\n",
    "               bbox=dict(boxstyle='round,pad=0.2', fc='yellow', alpha=0.3),\n",
    "               arrowprops=dict(arrowstyle='->',color='red'))\n",
    "\n",
    "\n",
    "print('*'*50)\n",
    "print('Lasso CV:')\n",
    "print(s)\n",
    "print('*'*50)"
   ]
  },
  {
   "cell_type": "code",
   "execution_count": null,
   "metadata": {
    "collapsed": true
   },
   "outputs": [],
   "source": [
    "# ridgemodel = make_pipeline(preprocessing.StandardScaler(), Ridge(alpha =0.0005, random_state=1))"
   ]
  },
  {
   "cell_type": "code",
   "execution_count": null,
   "metadata": {
    "collapsed": true
   },
   "outputs": [],
   "source": [
    "# score = rmse_cv(ridgemodel)\n",
    "# print(\"\\nLasso score: {:.4f} ({:.4f})\\n\".format(score.mean(), score.std()))"
   ]
  },
  {
   "cell_type": "code",
   "execution_count": null,
   "metadata": {},
   "outputs": [],
   "source": [
    "model_Lasso = Lasso(alpha0).fit(x_train, y_train);\n",
    "\n",
    "\n",
    "coeffs_Lasso = pd.Series(model_Lasso.coef_, index = public_x.columns);\n",
    "vip_coeffs_Lasso = pd.concat([coeffs_Lasso.sort_values().head(10),\n",
    "                              coeffs_Lasso.sort_values().tail(10)])\n",
    "\n",
    "fig, ax = plt.subplots(figsize=(8,8));\n",
    "vip_coeffs_Lasso.plot(kind = \"barh\");\n",
    "plt.title(\"VIP Coefficients (Lasso)\");"
   ]
  },
  {
   "cell_type": "code",
   "execution_count": null,
   "metadata": {},
   "outputs": [],
   "source": [
    "predictions_Lasso = pd.DataFrame({\"Predicted\":model_Lasso.predict(x_test), \n",
    "                                  \"Actual\":y_test});\n",
    "predictions_Lasso[\"Residual\"] = predictions_Lasso.Actual - predictions_Lasso.Predicted;\n",
    "\n",
    "\n",
    "print('*'*50)\n",
    "print('Lasso Performace: R^2 = {:.4f}'.format(model_Lasso.score(x_test, y_test)))\n",
    "print('*'*50)\n",
    "print('Lasso Performace: RMSE = {:.4f}'.format(rmse(predictions_Lasso.Residual)))\n",
    "print('*'*50)\n",
    "\n",
    "\n",
    "fig, ax = plt.subplots(figsize=(8,8));\n",
    "sns.regplot(predictions_Lasso.Actual, predictions_Lasso.Predicted);\n",
    "#ax.set_title('')"
   ]
  },
  {
   "cell_type": "markdown",
   "metadata": {},
   "source": [
    "## 4.3 Regularized Linear Modeling: Elastic Net"
   ]
  },
  {
   "cell_type": "code",
   "execution_count": null,
   "metadata": {
    "collapsed": true
   },
   "outputs": [],
   "source": [
    "from sklearn import linear_model\n",
    "elastic = linear_model.ElasticNet(alpha = 1)"
   ]
  },
  {
   "cell_type": "code",
   "execution_count": null,
   "metadata": {},
   "outputs": [],
   "source": [
    "alpha_100 = np.logspace(-2, 5, 100)\n",
    "coef = []\n",
    "\n",
    "for i in alpha_100:\n",
    "    ridge.set_params(alpha = i)\n",
    "    elastic.fit(x_train, y_train)\n",
    "    coef.append(elastic.coef_)\n",
    "\n",
    "columns = x_train.columns\n",
    "df_coef = pd.DataFrame(coef, index=alpha_100, columns=columns)\n",
    "title = 'Ridge coefficients as a function of the regularization'\n",
    "df_coef.plot(logx=True, title=title, legend = False)\n",
    "\n",
    "plt.xlabel('alpha')\n",
    "plt.ylabel('coefficients')\n",
    "plt.show()"
   ]
  },
  {
   "cell_type": "code",
   "execution_count": null,
   "metadata": {
    "collapsed": true
   },
   "outputs": [],
   "source": [
    "cv_Ridge = [rmse_cv(Ridge(alpha = Alpha)).mean() for Alpha in alpha_100]"
   ]
  },
  {
   "cell_type": "code",
   "execution_count": null,
   "metadata": {},
   "outputs": [],
   "source": [
    "cv_Ridge = pd.Series(cv_Ridge, index = alpha_100)\n",
    "\n",
    "fig, ax = plt.subplots(figsize=(12,12));\n",
    "ax.plot(alpha_100,cv_Ridge);\n",
    "ax.set_xlabel('alpha')\n",
    "#ax.set_ylabel('RMSE')\n",
    "alpha0 = cv_Ridge[cv_Ridge == cv_Ridge.min()].index[0];\n",
    "rmse0 = cv_Ridge.min();\n",
    "s = 'Minumum RMSE {:.4f} \\nachieved at alpha = {:.4f}'.format(rmse0,alpha0)\n",
    "ax.annotate(s, xy=(alpha0, rmse0),\n",
    "               xycoords='data',\n",
    "               xytext=(alpha_100.mean(), cv_Ridge.mean()),\n",
    "               #textcoords='offset points',\n",
    "               bbox=dict(boxstyle='round,pad=0.2', fc='yellow', alpha=0.3),\n",
    "               arrowprops=dict(arrowstyle='->',color='red'))\n",
    "\n",
    "print('*'*50)\n",
    "print('Ridge CV:')\n",
    "print(s)\n",
    "print('*'*50)"
   ]
  },
  {
   "cell_type": "code",
   "execution_count": null,
   "metadata": {
    "collapsed": true
   },
   "outputs": [],
   "source": [
    "# ridgemodel = make_pipeline(preprocessing.StandardScaler(), Ridge(alpha =0.0005, random_state=1))"
   ]
  },
  {
   "cell_type": "code",
   "execution_count": null,
   "metadata": {
    "collapsed": true
   },
   "outputs": [],
   "source": [
    "# score = rmse_cv(ridgemodel)\n",
    "# print(\"\\nLasso score: {:.4f} ({:.4f})\\n\".format(score.mean(), score.std()))"
   ]
  },
  {
   "cell_type": "code",
   "execution_count": null,
   "metadata": {},
   "outputs": [],
   "source": [
    "model_Ridge = Ridge(alpha0).fit(public_x, public_y);\n",
    "\n",
    "coeffs_Ridge = pd.Series(model_Ridge.coef_, index = public_x.columns);\n",
    "vip_coeffs_Ridge = pd.concat([coeffs_Ridge.sort_values().head(10),\n",
    "                              coeffs_Ridge.sort_values().tail(10)])\n",
    "\n",
    "fig, ax = plt.subplots(figsize=(8,8));\n",
    "vip_coeffs_Ridge.plot(kind = \"barh\");\n",
    "plt.title(\"VIP Coefficients (Ridge)\");"
   ]
  },
  {
   "cell_type": "code",
   "execution_count": null,
   "metadata": {},
   "outputs": [],
   "source": [
    "predictions_Ridge = pd.DataFrame({\"Predicted\":model_Ridge.predict(public_x), \n",
    "                                  \"Actual\":public_y});\n",
    "predictions_Ridge[\"Residual\"] = predictions_Ridge.Actual - predictions_Ridge.Predicted;\n",
    "\n",
    "\n",
    "print('*'*50)\n",
    "print('Ridge Performace: R^2 = {:.4f}'.format(model_Ridge.score(public_x, public_y)))\n",
    "print('*'*50)\n",
    "print('Lasso Performace: RMSE = {:.4f}'.format(rmse(predictions_Ridge.Residual)))\n",
    "print('*'*50)\n",
    "\n",
    "\n",
    "fig, ax = plt.subplots(figsize=(8,8));\n",
    "sns.regplot(predictions_Ridge.Actual, predictions_Ridge.Predicted);\n",
    "#ax.set_title('')"
   ]
  },
  {
   "cell_type": "code",
   "execution_count": null,
   "metadata": {
    "collapsed": true
   },
   "outputs": [],
   "source": []
  },
  {
   "cell_type": "markdown",
   "metadata": {
    "collapsed": true
   },
   "source": [
    "## “Why did you choose your methodology?”\n",
    "\n",
    "## “How was this implemented?”\n",
    "\n",
    "## “Why does this work?”\n",
    "\n",
    "## “How did you verify results?”\n",
    "\n",
    "## “Why is this method superior to what is used in the industry?”"
   ]
  }
 ],
 "metadata": {
  "kernelspec": {
   "display_name": "Python 3",
   "language": "python",
   "name": "python3"
  },
  "language_info": {
   "codemirror_mode": {
    "name": "ipython",
    "version": 3
   },
   "file_extension": ".py",
   "mimetype": "text/x-python",
   "name": "python",
   "nbconvert_exporter": "python",
   "pygments_lexer": "ipython3",
   "version": "3.6.3"
  }
 },
 "nbformat": 4,
 "nbformat_minor": 2
}
