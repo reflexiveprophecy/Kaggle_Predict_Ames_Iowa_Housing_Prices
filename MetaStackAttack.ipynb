{
 "cells": [
  {
   "cell_type": "code",
   "execution_count": 133,
   "metadata": {
    "collapsed": true
   },
   "outputs": [],
   "source": [
    "import numpy as np\n",
    "import pandas as pd\n",
    "from sklearn import preprocessing\n",
    "import warnings\n",
    "warnings.filterwarnings('ignore')\n",
    "from sklearn.model_selection import KFold\n",
    "from sklearn.metrics import mean_squared_error\n",
    "from sklearn.base import clone\n",
    "from sklearn.preprocessing import RobustScaler\n",
    "from sklearn.pipeline import make_pipeline\n",
    "from sklearn.preprocessing import RobustScaler\n",
    "from sklearn.linear_model import Ridge\n",
    "from sklearn.ensemble import RandomForestRegressor\n",
    "from sklearn.base import BaseEstimator, TransformerMixin, RegressorMixin, clone\n",
    "from sklearn.model_selection import KFold, cross_val_score, train_test_split\n",
    "import xgboost as xgb"
   ]
  },
  {
   "cell_type": "code",
   "execution_count": 106,
   "metadata": {
    "collapsed": true
   },
   "outputs": [],
   "source": [
    "#read in constants\n",
    "alpha0 = 8.9615;\n",
    "seed = 0;\n",
    "n_folds =5;"
   ]
  },
  {
   "cell_type": "code",
   "execution_count": 84,
   "metadata": {
    "collapsed": true
   },
   "outputs": [],
   "source": [
    "#evaluation metric with cross validation\n",
    "def rmse_cv(model):\n",
    "    rmse = np.sqrt( -cross_val_score(model, X_tr, y_tr, scoring=\"neg_mean_squared_error\", cv = 5))\n",
    "    return(rmse)"
   ]
  },
  {
   "cell_type": "code",
   "execution_count": 134,
   "metadata": {
    "collapsed": true
   },
   "outputs": [],
   "source": [
    "def stacking_regression(models, meta_model, X_train, y_train, X_test,\n",
    "             metric=None, n_folds=3, average_fold=True,\n",
    "             shuffle=False, random_state=seed, verbose=1):\n",
    "    '''\n",
    "    Function 'stacking' takes train data, test data, list of 1-st level\n",
    "    models, meta_model for the 2-nd level and returns stacking predictions.\n",
    "\n",
    "    Parameters\n",
    "    ----------\n",
    "    models : list\n",
    "        List of 1-st level models. You can use any models that follow sklearn\n",
    "        convention i.e. accept numpy arrays and have methods 'fit' and 'predict'.\n",
    "\n",
    "    meta_model: model\n",
    "        2-nd level model. You can use any model that follow sklearn convention\n",
    "\n",
    "    X_train : numpy array or sparse matrix of shape [n_train_samples, n_features]\n",
    "        Training data\n",
    "\n",
    "    y_train : numpy 1d array\n",
    "        Target values\n",
    "\n",
    "    X_test : numpy array or sparse matrix of shape [n_test_samples, n_features]\n",
    "        Test data\n",
    "\n",
    "    metric : callable, default None\n",
    "        Evaluation metric (score function) which is used to calculate\n",
    "        results of cross-validation.\n",
    "        If None, then by default:\n",
    "            sklearn.metrics.mean_absolute_error - for regression\n",
    "\n",
    "    n_folds : int, default 3\n",
    "        Number of folds in cross-validation\n",
    "\n",
    "    average_fold: boolean, default True\n",
    "        Whether to take the average of the predictions on test set from each fold.\n",
    "        Refit the model using the whole training set and predict test set if False\n",
    "\n",
    "    shuffle : boolean, default False\n",
    "        Whether to perform a shuffle before cross-validation split\n",
    "\n",
    "    random_state : int, default 0\n",
    "        Random seed for shuffle\n",
    "\n",
    "    verbose : int, default 1\n",
    "        Level of verbosity.\n",
    "        0 - show no messages\n",
    "        1 - for each model show single mean score\n",
    "        2 - for each model show score for each fold and mean score\n",
    "\n",
    "        Caution. To calculate MEAN score across all folds\n",
    "        full train set prediction and full true target are used.\n",
    "        So for some metrics (e.g. rmse) this value may not be equal\n",
    "        to mean of score values calculated for each fold.\n",
    "\n",
    "    Returns\n",
    "    -------\n",
    "    stacking_prediction : numpy array of shape n_test_samples\n",
    "        Stacking prediction\n",
    "    '''\n",
    "\n",
    "    # Specify default metric for cross-validation\n",
    "    if metric is None:\n",
    "        metric = mean_squared_error\n",
    "\n",
    "    # Print metric\n",
    "    if verbose > 0:\n",
    "        print('metric: (sqrt)[%s]\\n' % metric.__name__)\n",
    "\n",
    "    # Split indices to get folds\n",
    "    kf = KFold(n_splits = n_folds, shuffle = shuffle, random_state = random_state)\n",
    "\n",
    "    if X_train.__class__.__name__ == \"DataFrame\":\n",
    "        X_train = X_train.as_matrix()\n",
    "        X_test = X_test.as_matrix()\n",
    "\n",
    "    # Create empty numpy arrays for stacking features\n",
    "    S_train = np.zeros((X_train.shape[0], len(models)))\n",
    "    S_test = np.zeros((X_test.shape[0], len(models)))\n",
    "\n",
    "    # Loop across models\n",
    "    for model_counter, model in enumerate(models):\n",
    "        if verbose > 0:\n",
    "            print('model %d: [%s]' % (model_counter, model.__class__.__name__))\n",
    "\n",
    "        # Create empty numpy array, which will contain temporary predictions for test set made in each fold\n",
    "        S_test_temp = np.zeros((X_test.shape[0], n_folds))\n",
    "        # Loop across folds\n",
    "        for fold_counter, (tr_index, te_index) in enumerate(kf.split(X_train, y_train)):\n",
    "            X_tr = X_train[tr_index]\n",
    "            y_tr = y_train[tr_index]\n",
    "            X_te = X_train[te_index]\n",
    "            y_te = y_train[te_index]\n",
    "            # Clone the model because fit will mutate the model.\n",
    "            instance = clone(model)\n",
    "            # Fit 1-st level model\n",
    "            instance.fit(X_tr, y_tr)\n",
    "            # Predict out-of-fold part of train set\n",
    "            S_train[te_index, model_counter] = np.array(instance.predict(X_te))\n",
    "            # Predict full test set\n",
    "            S_test_temp[:, fold_counter] = np.array(instance.predict(X_test))\n",
    "\n",
    "            # Delete temporary model\n",
    "            del instance\n",
    "\n",
    "            if verbose > 1:\n",
    "                print('    fold %d: [%.8f]' % (fold_counter, metric(y_te, S_train[te_index, model_counter])))\n",
    "\n",
    "        # Compute mean or mode of predictions for test set\n",
    "        if average_fold:\n",
    "            S_test[:, model_counter] = np.mean(S_test_temp, axis = 1)\n",
    "        else:\n",
    "            model.fit(X_train, y_train)\n",
    "            S_test[:, model_counter] = model.predict(X_test)\n",
    "\n",
    "        if verbose > 0:\n",
    "            print('    ----')\n",
    "            print('    MEAN RMSE:   [%.8f]\\n' % np.sqrt((metric(y_train, S_train[:, model_counter]))))\n",
    "\n",
    "    # Fit our second layer meta model\n",
    "    meta_model.fit(S_train, y_train)\n",
    "    # Make our final prediction\n",
    "    stacking_prediction = meta_model.predict(S_test)\n",
    "\n",
    "    return stacking_prediction"
   ]
  },
  {
   "cell_type": "code",
   "execution_count": 135,
   "metadata": {
    "collapsed": true
   },
   "outputs": [],
   "source": [
    "#instantiate Ridge model\n",
    "ridge = Ridge(alpha0);"
   ]
  },
  {
   "cell_type": "code",
   "execution_count": 136,
   "metadata": {
    "collapsed": true
   },
   "outputs": [],
   "source": [
    "#instantiate xgb model\n",
    "xgb_mod = xgb.XGBRegressor(\n",
    "                max_depth=4,\n",
    "                learning_rate=0.05,\n",
    "                n_estimators=200,\n",
    "                gamma=0.0,\n",
    "                min_child_weight=1.5,\n",
    "                subsample=0.2,\n",
    "                colsample_bytree=0.2,\n",
    "                reg_alpha=0.1,\n",
    "                reg_lambda=0.9,\n",
    "                seed=seed);"
   ]
  },
  {
   "cell_type": "code",
   "execution_count": 137,
   "metadata": {
    "collapsed": true
   },
   "outputs": [],
   "source": [
    "#instantiate Random Forest Model\n",
    "rf = RandomForestRegressor(n_estimators = 500,\n",
    "                                max_features = 37,\n",
    "                                bootstrap = True,\n",
    "                                oob_score = True,\n",
    "                                random_state = seed);"
   ]
  },
  {
   "cell_type": "code",
   "execution_count": 138,
   "metadata": {},
   "outputs": [],
   "source": [
    "X_train = pd.read_csv('Datasets/X_train.csv');\n",
    "X_test = pd.read_csv('Datasets/X_test.csv');\n",
    "y_tr = pd.read_csv('Datasets/y_train.csv');\n",
    "y_tr = [item for sublist in y_tr.values for item in sublist]\n",
    "y_train = np.asarray(y_tr)\n",
    "X_train.drop('Unnamed: 0', axis=1, inplace = True);\n",
    "X_test.drop('Unnamed: 0', axis=1, inplace = True);"
   ]
  },
  {
   "cell_type": "code",
   "execution_count": 139,
   "metadata": {},
   "outputs": [
    {
     "data": {
      "text/plain": [
       "(1460, 60)"
      ]
     },
     "execution_count": 139,
     "metadata": {},
     "output_type": "execute_result"
    }
   ],
   "source": [
    "X_train.shape"
   ]
  },
  {
   "cell_type": "code",
   "execution_count": 140,
   "metadata": {},
   "outputs": [
    {
     "data": {
      "text/plain": [
       "1460"
      ]
     },
     "execution_count": 140,
     "metadata": {},
     "output_type": "execute_result"
    }
   ],
   "source": [
    "ntrain = X_train.shape[0]\n",
    "ntrain"
   ]
  },
  {
   "cell_type": "code",
   "execution_count": 141,
   "metadata": {},
   "outputs": [
    {
     "data": {
      "text/plain": [
       "1459"
      ]
     },
     "execution_count": 141,
     "metadata": {},
     "output_type": "execute_result"
    }
   ],
   "source": [
    "ntest = X_test.shape[0]\n",
    "ntest"
   ]
  },
  {
   "cell_type": "code",
   "execution_count": 142,
   "metadata": {},
   "outputs": [
    {
     "data": {
      "text/plain": [
       "array([12.24769912, 12.10901644, 12.31717117, ..., 12.49313327,\n",
       "       11.86446927, 11.90159023])"
      ]
     },
     "execution_count": 142,
     "metadata": {},
     "output_type": "execute_result"
    }
   ],
   "source": [
    "y_train"
   ]
  },
  {
   "cell_type": "code",
   "execution_count": 143,
   "metadata": {
    "collapsed": true
   },
   "outputs": [],
   "source": [
    "models = [ridge, rf, xgb_mod];\n",
    "meta_model = xgb_mod;"
   ]
  },
  {
   "cell_type": "code",
   "execution_count": 144,
   "metadata": {},
   "outputs": [
    {
     "name": "stdout",
     "output_type": "stream",
     "text": [
      "metric: (sqrt)[mean_squared_error]\n",
      "\n",
      "model 0: [Ridge]\n",
      "    fold 0: [0.02993461]\n",
      "    fold 1: [0.04254098]\n",
      "    fold 2: [0.03975538]\n",
      "    fold 3: [0.03140693]\n",
      "    fold 4: [0.03754572]\n",
      "    ----\n",
      "    MEAN RMSE:   [0.19035946]\n",
      "\n",
      "model 1: [RandomForestRegressor]\n",
      "    fold 0: [0.02938337]\n",
      "    fold 1: [0.04002903]\n",
      "    fold 2: [0.03942242]\n",
      "    fold 3: [0.02970246]\n",
      "    fold 4: [0.04212500]\n",
      "    ----\n",
      "    MEAN RMSE:   [0.19008539]\n",
      "\n",
      "model 2: [XGBRegressor]\n",
      "    fold 0: [0.02882839]\n",
      "    fold 1: [0.04035476]\n",
      "    fold 2: [0.03814784]\n",
      "    fold 3: [0.03031873]\n",
      "    fold 4: [0.03942765]\n",
      "    ----\n",
      "    MEAN RMSE:   [0.18818999]\n",
      "\n"
     ]
    },
    {
     "data": {
      "text/plain": [
       "array([11.745659, 12.049557, 11.933514, ..., 11.778315, 11.86274 ,\n",
       "       12.168666], dtype=float32)"
      ]
     },
     "execution_count": 144,
     "metadata": {},
     "output_type": "execute_result"
    }
   ],
   "source": [
    "y_predicted = stacking_regression(models, meta_model, X_train, y_train, X_test,\n",
    "             metric=None, n_folds=5, average_fold=True,\n",
    "             shuffle=False, random_state=seed, verbose=2)\n",
    "y_predicted"
   ]
  },
  {
   "cell_type": "code",
   "execution_count": 78,
   "metadata": {},
   "outputs": [],
   "source": [
    "def rmse(y_predicted, y_actual):\n",
    "    return( np.sqrt( mean_squared_error(y_actual, y_predicted) ) )\n",
    "\n",
    "\n",
    "def R2(y_predicted, y_actual):\n",
    "    # R^2 = 1 - SS_residual / SS_total\n",
    "    SS_residual = sum((y_predicted - y_actual)**2)\n",
    "    SS_total = sum((y_actual - y_actual.mean())**2)\n",
    "    R2 = 1 - SS_residual / SS_total\n",
    "    return(R2)"
   ]
  },
  {
   "cell_type": "code",
   "execution_count": 79,
   "metadata": {},
   "outputs": [
    {
     "ename": "ValueError",
     "evalue": "Found input variables with inconsistent numbers of samples: [1460, 1459]",
     "output_type": "error",
     "traceback": [
      "\u001b[0;31m---------------------------------------------------------------------------\u001b[0m",
      "\u001b[0;31mValueError\u001b[0m                                Traceback (most recent call last)",
      "\u001b[0;32m<ipython-input-79-f110fdcf3082>\u001b[0m in \u001b[0;36m<module>\u001b[0;34m()\u001b[0m\n\u001b[0;32m----> 1\u001b[0;31m \u001b[0mrmse\u001b[0m\u001b[0;34m(\u001b[0m\u001b[0my_predicted\u001b[0m\u001b[0;34m,\u001b[0m \u001b[0my_train\u001b[0m\u001b[0;34m)\u001b[0m\u001b[0;34m\u001b[0m\u001b[0m\n\u001b[0m",
      "\u001b[0;32m<ipython-input-78-82231f980a9b>\u001b[0m in \u001b[0;36mrmse\u001b[0;34m(y_predicted, y_actual)\u001b[0m\n\u001b[1;32m      1\u001b[0m \u001b[0;32mdef\u001b[0m \u001b[0mrmse\u001b[0m\u001b[0;34m(\u001b[0m\u001b[0my_predicted\u001b[0m\u001b[0;34m,\u001b[0m \u001b[0my_actual\u001b[0m\u001b[0;34m)\u001b[0m\u001b[0;34m:\u001b[0m\u001b[0;34m\u001b[0m\u001b[0m\n\u001b[0;32m----> 2\u001b[0;31m     \u001b[0;32mreturn\u001b[0m\u001b[0;34m(\u001b[0m \u001b[0mnp\u001b[0m\u001b[0;34m.\u001b[0m\u001b[0msqrt\u001b[0m\u001b[0;34m(\u001b[0m \u001b[0mmean_squared_error\u001b[0m\u001b[0;34m(\u001b[0m\u001b[0my_actual\u001b[0m\u001b[0;34m,\u001b[0m \u001b[0my_predicted\u001b[0m\u001b[0;34m)\u001b[0m \u001b[0;34m)\u001b[0m \u001b[0;34m)\u001b[0m\u001b[0;34m\u001b[0m\u001b[0m\n\u001b[0m\u001b[1;32m      3\u001b[0m \u001b[0;34m\u001b[0m\u001b[0m\n\u001b[1;32m      4\u001b[0m \u001b[0;34m\u001b[0m\u001b[0m\n\u001b[1;32m      5\u001b[0m \u001b[0;32mdef\u001b[0m \u001b[0mR2\u001b[0m\u001b[0;34m(\u001b[0m\u001b[0my_predicted\u001b[0m\u001b[0;34m,\u001b[0m \u001b[0my_actual\u001b[0m\u001b[0;34m)\u001b[0m\u001b[0;34m:\u001b[0m\u001b[0;34m\u001b[0m\u001b[0m\n",
      "\u001b[0;32m~/anaconda3/lib/python3.6/site-packages/sklearn/metrics/regression.py\u001b[0m in \u001b[0;36mmean_squared_error\u001b[0;34m(y_true, y_pred, sample_weight, multioutput)\u001b[0m\n\u001b[1;32m    236\u001b[0m     \"\"\"\n\u001b[1;32m    237\u001b[0m     y_type, y_true, y_pred, multioutput = _check_reg_targets(\n\u001b[0;32m--> 238\u001b[0;31m         y_true, y_pred, multioutput)\n\u001b[0m\u001b[1;32m    239\u001b[0m     output_errors = np.average((y_true - y_pred) ** 2, axis=0,\n\u001b[1;32m    240\u001b[0m                                weights=sample_weight)\n",
      "\u001b[0;32m~/anaconda3/lib/python3.6/site-packages/sklearn/metrics/regression.py\u001b[0m in \u001b[0;36m_check_reg_targets\u001b[0;34m(y_true, y_pred, multioutput)\u001b[0m\n\u001b[1;32m     73\u001b[0m \u001b[0;34m\u001b[0m\u001b[0m\n\u001b[1;32m     74\u001b[0m     \"\"\"\n\u001b[0;32m---> 75\u001b[0;31m     \u001b[0mcheck_consistent_length\u001b[0m\u001b[0;34m(\u001b[0m\u001b[0my_true\u001b[0m\u001b[0;34m,\u001b[0m \u001b[0my_pred\u001b[0m\u001b[0;34m)\u001b[0m\u001b[0;34m\u001b[0m\u001b[0m\n\u001b[0m\u001b[1;32m     76\u001b[0m     \u001b[0my_true\u001b[0m \u001b[0;34m=\u001b[0m \u001b[0mcheck_array\u001b[0m\u001b[0;34m(\u001b[0m\u001b[0my_true\u001b[0m\u001b[0;34m,\u001b[0m \u001b[0mensure_2d\u001b[0m\u001b[0;34m=\u001b[0m\u001b[0;32mFalse\u001b[0m\u001b[0;34m)\u001b[0m\u001b[0;34m\u001b[0m\u001b[0m\n\u001b[1;32m     77\u001b[0m     \u001b[0my_pred\u001b[0m \u001b[0;34m=\u001b[0m \u001b[0mcheck_array\u001b[0m\u001b[0;34m(\u001b[0m\u001b[0my_pred\u001b[0m\u001b[0;34m,\u001b[0m \u001b[0mensure_2d\u001b[0m\u001b[0;34m=\u001b[0m\u001b[0;32mFalse\u001b[0m\u001b[0;34m)\u001b[0m\u001b[0;34m\u001b[0m\u001b[0m\n",
      "\u001b[0;32m~/anaconda3/lib/python3.6/site-packages/sklearn/utils/validation.py\u001b[0m in \u001b[0;36mcheck_consistent_length\u001b[0;34m(*arrays)\u001b[0m\n\u001b[1;32m    202\u001b[0m     \u001b[0;32mif\u001b[0m \u001b[0mlen\u001b[0m\u001b[0;34m(\u001b[0m\u001b[0muniques\u001b[0m\u001b[0;34m)\u001b[0m \u001b[0;34m>\u001b[0m \u001b[0;36m1\u001b[0m\u001b[0;34m:\u001b[0m\u001b[0;34m\u001b[0m\u001b[0m\n\u001b[1;32m    203\u001b[0m         raise ValueError(\"Found input variables with inconsistent numbers of\"\n\u001b[0;32m--> 204\u001b[0;31m                          \" samples: %r\" % [int(l) for l in lengths])\n\u001b[0m\u001b[1;32m    205\u001b[0m \u001b[0;34m\u001b[0m\u001b[0m\n\u001b[1;32m    206\u001b[0m \u001b[0;34m\u001b[0m\u001b[0m\n",
      "\u001b[0;31mValueError\u001b[0m: Found input variables with inconsistent numbers of samples: [1460, 1459]"
     ]
    }
   ],
   "source": [
    "rmse(y_predicted, y_train)"
   ]
  },
  {
   "cell_type": "code",
   "execution_count": 80,
   "metadata": {},
   "outputs": [
    {
     "data": {
      "text/plain": [
       "1459"
      ]
     },
     "execution_count": 80,
     "metadata": {},
     "output_type": "execute_result"
    }
   ],
   "source": [
    "len(y_predicted)"
   ]
  },
  {
   "cell_type": "code",
   "execution_count": null,
   "metadata": {
    "collapsed": true
   },
   "outputs": [],
   "source": [
    "R2(y_predicted, y_train)"
   ]
  }
 ],
 "metadata": {
  "kernelspec": {
   "display_name": "Python 3",
   "language": "python",
   "name": "python3"
  },
  "language_info": {
   "codemirror_mode": {
    "name": "ipython",
    "version": 3
   },
   "file_extension": ".py",
   "mimetype": "text/x-python",
   "name": "python",
   "nbconvert_exporter": "python",
   "pygments_lexer": "ipython3",
   "version": "3.6.3"
  }
 },
 "nbformat": 4,
 "nbformat_minor": 2
}
