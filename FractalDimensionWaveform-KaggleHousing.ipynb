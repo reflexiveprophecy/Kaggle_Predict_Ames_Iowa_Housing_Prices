{
 "cells": [
  {
   "cell_type": "markdown",
   "metadata": {},
   "source": [
    "A procedure for estimating the fractal dimension of a waveform\n",
    "\n",
    "\n",
    "Reference: https://arxiv.org/abs/1003.5266"
   ]
  },
  {
   "cell_type": "code",
   "execution_count": 2,
   "metadata": {
    "collapsed": true
   },
   "outputs": [],
   "source": [
    "# creating a procedure for estimating the fractal dimension of a waveform\n",
    "import numpy as np\n",
    "import scipy.signal\n",
    "from scipy.optimize import curve_fit\n",
    "import matplotlib.pyplot as plt\n",
    "import pandas as pd\n",
    "from pandas.plotting import lag_plot\n",
    "from pandas.plotting import autocorrelation_plot\n",
    "from scipy import stats"
   ]
  },
  {
   "cell_type": "code",
   "execution_count": 3,
   "metadata": {
    "collapsed": true
   },
   "outputs": [],
   "source": [
    "train = pd.read_csv('Datasets/train.csv')"
   ]
  },
  {
   "cell_type": "code",
   "execution_count": 4,
   "metadata": {
    "collapsed": true
   },
   "outputs": [],
   "source": [
    "salesDate = train[['MoSold','YrSold', 'SalePrice']]"
   ]
  },
  {
   "cell_type": "code",
   "execution_count": 27,
   "metadata": {},
   "outputs": [
    {
     "data": {
      "text/html": [
       "<div>\n",
       "<style>\n",
       "    .dataframe thead tr:only-child th {\n",
       "        text-align: right;\n",
       "    }\n",
       "\n",
       "    .dataframe thead th {\n",
       "        text-align: left;\n",
       "    }\n",
       "\n",
       "    .dataframe tbody tr th {\n",
       "        vertical-align: top;\n",
       "    }\n",
       "</style>\n",
       "<table border=\"1\" class=\"dataframe\">\n",
       "  <thead>\n",
       "    <tr style=\"text-align: right;\">\n",
       "      <th></th>\n",
       "      <th></th>\n",
       "      <th>SalePrice</th>\n",
       "    </tr>\n",
       "    <tr>\n",
       "      <th>YrSold</th>\n",
       "      <th>MoSold</th>\n",
       "      <th></th>\n",
       "    </tr>\n",
       "  </thead>\n",
       "  <tbody>\n",
       "    <tr>\n",
       "      <th rowspan=\"12\" valign=\"top\">2006</th>\n",
       "      <th>1</th>\n",
       "      <td>2010900</td>\n",
       "    </tr>\n",
       "    <tr>\n",
       "      <th>2</th>\n",
       "      <td>1748900</td>\n",
       "    </tr>\n",
       "    <tr>\n",
       "      <th>3</th>\n",
       "      <td>4624555</td>\n",
       "    </tr>\n",
       "    <tr>\n",
       "      <th>4</th>\n",
       "      <td>4706446</td>\n",
       "    </tr>\n",
       "    <tr>\n",
       "      <th>5</th>\n",
       "      <td>6039275</td>\n",
       "    </tr>\n",
       "    <tr>\n",
       "      <th>6</th>\n",
       "      <td>8269600</td>\n",
       "    </tr>\n",
       "    <tr>\n",
       "      <th>7</th>\n",
       "      <td>12275141</td>\n",
       "    </tr>\n",
       "    <tr>\n",
       "      <th>8</th>\n",
       "      <td>4513519</td>\n",
       "    </tr>\n",
       "    <tr>\n",
       "      <th>9</th>\n",
       "      <td>3356533</td>\n",
       "    </tr>\n",
       "    <tr>\n",
       "      <th>10</th>\n",
       "      <td>4136561</td>\n",
       "    </tr>\n",
       "    <tr>\n",
       "      <th>11</th>\n",
       "      <td>3412560</td>\n",
       "    </tr>\n",
       "    <tr>\n",
       "      <th>12</th>\n",
       "      <td>2226540</td>\n",
       "    </tr>\n",
       "    <tr>\n",
       "      <th rowspan=\"12\" valign=\"top\">2007</th>\n",
       "      <th>1</th>\n",
       "      <td>2382050</td>\n",
       "    </tr>\n",
       "    <tr>\n",
       "      <th>2</th>\n",
       "      <td>1410414</td>\n",
       "    </tr>\n",
       "    <tr>\n",
       "      <th>3</th>\n",
       "      <td>4061059</td>\n",
       "    </tr>\n",
       "    <tr>\n",
       "      <th>4</th>\n",
       "      <td>3927770</td>\n",
       "    </tr>\n",
       "    <tr>\n",
       "      <th>5</th>\n",
       "      <td>7304561</td>\n",
       "    </tr>\n",
       "    <tr>\n",
       "      <th>6</th>\n",
       "      <td>10603823</td>\n",
       "    </tr>\n",
       "    <tr>\n",
       "      <th>7</th>\n",
       "      <td>9965239</td>\n",
       "    </tr>\n",
       "    <tr>\n",
       "      <th>8</th>\n",
       "      <td>7357643</td>\n",
       "    </tr>\n",
       "    <tr>\n",
       "      <th>9</th>\n",
       "      <td>2150872</td>\n",
       "    </tr>\n",
       "    <tr>\n",
       "      <th>10</th>\n",
       "      <td>3446861</td>\n",
       "    </tr>\n",
       "    <tr>\n",
       "      <th>11</th>\n",
       "      <td>4745024</td>\n",
       "    </tr>\n",
       "    <tr>\n",
       "      <th>12</th>\n",
       "      <td>3859461</td>\n",
       "    </tr>\n",
       "    <tr>\n",
       "      <th rowspan=\"12\" valign=\"top\">2008</th>\n",
       "      <th>1</th>\n",
       "      <td>2320561</td>\n",
       "    </tr>\n",
       "    <tr>\n",
       "      <th>2</th>\n",
       "      <td>1593700</td>\n",
       "    </tr>\n",
       "    <tr>\n",
       "      <th>3</th>\n",
       "      <td>3213095</td>\n",
       "    </tr>\n",
       "    <tr>\n",
       "      <th>4</th>\n",
       "      <td>4141627</td>\n",
       "    </tr>\n",
       "    <tr>\n",
       "      <th>5</th>\n",
       "      <td>7156710</td>\n",
       "    </tr>\n",
       "    <tr>\n",
       "      <th>6</th>\n",
       "      <td>8656278</td>\n",
       "    </tr>\n",
       "    <tr>\n",
       "      <th>7</th>\n",
       "      <td>8553570</td>\n",
       "    </tr>\n",
       "    <tr>\n",
       "      <th>8</th>\n",
       "      <td>5686232</td>\n",
       "    </tr>\n",
       "    <tr>\n",
       "      <th>9</th>\n",
       "      <td>2883650</td>\n",
       "    </tr>\n",
       "    <tr>\n",
       "      <th>10</th>\n",
       "      <td>3667194</td>\n",
       "    </tr>\n",
       "    <tr>\n",
       "      <th>11</th>\n",
       "      <td>3586678</td>\n",
       "    </tr>\n",
       "    <tr>\n",
       "      <th>12</th>\n",
       "      <td>2458400</td>\n",
       "    </tr>\n",
       "    <tr>\n",
       "      <th rowspan=\"12\" valign=\"top\">2009</th>\n",
       "      <th>1</th>\n",
       "      <td>2276826</td>\n",
       "    </tr>\n",
       "    <tr>\n",
       "      <th>2</th>\n",
       "      <td>1874500</td>\n",
       "    </tr>\n",
       "    <tr>\n",
       "      <th>3</th>\n",
       "      <td>3259400</td>\n",
       "    </tr>\n",
       "    <tr>\n",
       "      <th>4</th>\n",
       "      <td>4723700</td>\n",
       "    </tr>\n",
       "    <tr>\n",
       "      <th>5</th>\n",
       "      <td>6085869</td>\n",
       "    </tr>\n",
       "    <tr>\n",
       "      <th>6</th>\n",
       "      <td>10812395</td>\n",
       "    </tr>\n",
       "    <tr>\n",
       "      <th>7</th>\n",
       "      <td>12077049</td>\n",
       "    </tr>\n",
       "    <tr>\n",
       "      <th>8</th>\n",
       "      <td>4970129</td>\n",
       "    </tr>\n",
       "    <tr>\n",
       "      <th>9</th>\n",
       "      <td>3936987</td>\n",
       "    </tr>\n",
       "    <tr>\n",
       "      <th>10</th>\n",
       "      <td>4730578</td>\n",
       "    </tr>\n",
       "    <tr>\n",
       "      <th>11</th>\n",
       "      <td>3440400</td>\n",
       "    </tr>\n",
       "    <tr>\n",
       "      <th>12</th>\n",
       "      <td>2460218</td>\n",
       "    </tr>\n",
       "    <tr>\n",
       "      <th rowspan=\"7\" valign=\"top\">2010</th>\n",
       "      <th>1</th>\n",
       "      <td>1638526</td>\n",
       "    </tr>\n",
       "    <tr>\n",
       "      <th>2</th>\n",
       "      <td>2622350</td>\n",
       "    </tr>\n",
       "    <tr>\n",
       "      <th>3</th>\n",
       "      <td>4266807</td>\n",
       "    </tr>\n",
       "    <tr>\n",
       "      <th>4</th>\n",
       "      <td>6682417</td>\n",
       "    </tr>\n",
       "    <tr>\n",
       "      <th>5</th>\n",
       "      <td>8564268</td>\n",
       "    </tr>\n",
       "    <tr>\n",
       "      <th>6</th>\n",
       "      <td>6539025</td>\n",
       "    </tr>\n",
       "    <tr>\n",
       "      <th>7</th>\n",
       "      <td>730500</td>\n",
       "    </tr>\n",
       "  </tbody>\n",
       "</table>\n",
       "</div>"
      ],
      "text/plain": [
       "               SalePrice\n",
       "YrSold MoSold           \n",
       "2006   1         2010900\n",
       "       2         1748900\n",
       "       3         4624555\n",
       "       4         4706446\n",
       "       5         6039275\n",
       "       6         8269600\n",
       "       7        12275141\n",
       "       8         4513519\n",
       "       9         3356533\n",
       "       10        4136561\n",
       "       11        3412560\n",
       "       12        2226540\n",
       "2007   1         2382050\n",
       "       2         1410414\n",
       "       3         4061059\n",
       "       4         3927770\n",
       "       5         7304561\n",
       "       6        10603823\n",
       "       7         9965239\n",
       "       8         7357643\n",
       "       9         2150872\n",
       "       10        3446861\n",
       "       11        4745024\n",
       "       12        3859461\n",
       "2008   1         2320561\n",
       "       2         1593700\n",
       "       3         3213095\n",
       "       4         4141627\n",
       "       5         7156710\n",
       "       6         8656278\n",
       "       7         8553570\n",
       "       8         5686232\n",
       "       9         2883650\n",
       "       10        3667194\n",
       "       11        3586678\n",
       "       12        2458400\n",
       "2009   1         2276826\n",
       "       2         1874500\n",
       "       3         3259400\n",
       "       4         4723700\n",
       "       5         6085869\n",
       "       6        10812395\n",
       "       7        12077049\n",
       "       8         4970129\n",
       "       9         3936987\n",
       "       10        4730578\n",
       "       11        3440400\n",
       "       12        2460218\n",
       "2010   1         1638526\n",
       "       2         2622350\n",
       "       3         4266807\n",
       "       4         6682417\n",
       "       5         8564268\n",
       "       6         6539025\n",
       "       7          730500"
      ]
     },
     "execution_count": 27,
     "metadata": {},
     "output_type": "execute_result"
    }
   ],
   "source": [
    "salesDate = salesDate.groupby(['YrSold', 'MoSold']).agg({'SalePrice':sum})\n",
    "salesDate"
   ]
  },
  {
   "cell_type": "code",
   "execution_count": 32,
   "metadata": {
    "collapsed": true
   },
   "outputs": [],
   "source": [
    "salesDate.to_csv('salesDate.csv')"
   ]
  },
  {
   "cell_type": "code",
   "execution_count": 31,
   "metadata": {},
   "outputs": [
    {
     "data": {
      "text/plain": [
       "YrSold  MoSold\n",
       "2006    1          2010900\n",
       "        2          1748900\n",
       "        3          4624555\n",
       "        4          4706446\n",
       "        5          6039275\n",
       "        6          8269600\n",
       "        7         12275141\n",
       "        8          4513519\n",
       "        9          3356533\n",
       "        10         4136561\n",
       "        11         3412560\n",
       "        12         2226540\n",
       "2007    1          2382050\n",
       "        2          1410414\n",
       "        3          4061059\n",
       "        4          3927770\n",
       "        5          7304561\n",
       "        6         10603823\n",
       "        7          9965239\n",
       "        8          7357643\n",
       "        9          2150872\n",
       "        10         3446861\n",
       "        11         4745024\n",
       "        12         3859461\n",
       "2008    1          2320561\n",
       "        2          1593700\n",
       "        3          3213095\n",
       "        4          4141627\n",
       "        5          7156710\n",
       "        6          8656278\n",
       "        7          8553570\n",
       "        8          5686232\n",
       "        9          2883650\n",
       "        10         3667194\n",
       "        11         3586678\n",
       "        12         2458400\n",
       "2009    1          2276826\n",
       "        2          1874500\n",
       "        3          3259400\n",
       "        4          4723700\n",
       "        5          6085869\n",
       "        6         10812395\n",
       "        7         12077049\n",
       "        8          4970129\n",
       "        9          3936987\n",
       "        10         4730578\n",
       "        11         3440400\n",
       "        12         2460218\n",
       "2010    1          1638526\n",
       "        2          2622350\n",
       "        3          4266807\n",
       "        4          6682417\n",
       "        5          8564268\n",
       "        6          6539025\n",
       "Name: SalePrice, dtype: int64"
      ]
     },
     "execution_count": 31,
     "metadata": {},
     "output_type": "execute_result"
    }
   ],
   "source": [
    "t = pd.Series(np.arange(1,56))\n",
    "y = salesDate.SalePrice\n",
    "y[0:54]"
   ]
  },
  {
   "cell_type": "code",
   "execution_count": 17,
   "metadata": {},
   "outputs": [
    {
     "data": {
      "image/png": "[encoded data removed]",
      "text/plain": [
       "<matplotlib.figure.Figure at 0x1c0baf6940>"
      ]
     },
     "metadata": {},
     "output_type": "display_data"
    }
   ],
   "source": [
    "plt.plot(t,y/1e7)\n",
    "plt.show()"
   ]
  },
  {
   "cell_type": "code",
   "execution_count": 11,
   "metadata": {},
   "outputs": [
    {
     "data": {
      "text/plain": [
       "2010900"
      ]
     },
     "execution_count": 11,
     "metadata": {},
     "output_type": "execute_result"
    }
   ],
   "source": [
    "waveform = salesDate.SalePrice\n",
    "waveform[0]"
   ]
  },
  {
   "cell_type": "code",
   "execution_count": 12,
   "metadata": {},
   "outputs": [
    {
     "data": {
      "text/plain": [
       "array([0.        , 0.01818182, 0.03636364, 0.05454545, 0.07272727,\n",
       "       0.09090909, 0.10909091, 0.12727273, 0.14545455, 0.16363636,\n",
       "       0.18181818, 0.2       , 0.21818182, 0.23636364, 0.25454545,\n",
       "       0.27272727, 0.29090909, 0.30909091, 0.32727273, 0.34545455,\n",
       "       0.36363636, 0.38181818, 0.4       , 0.41818182, 0.43636364,\n",
       "       0.45454545, 0.47272727, 0.49090909, 0.50909091, 0.52727273,\n",
       "       0.54545455, 0.56363636, 0.58181818, 0.6       , 0.61818182,\n",
       "       0.63636364, 0.65454545, 0.67272727, 0.69090909, 0.70909091,\n",
       "       0.72727273, 0.74545455, 0.76363636, 0.78181818, 0.8       ,\n",
       "       0.81818182, 0.83636364, 0.85454545, 0.87272727, 0.89090909,\n",
       "       0.90909091, 0.92727273, 0.94545455, 0.96363636, 0.98181818])"
      ]
     },
     "execution_count": 12,
     "metadata": {},
     "output_type": "execute_result"
    }
   ],
   "source": [
    "x = np.arange(len(waveform)) / len(waveform)\n",
    "x"
   ]
  },
  {
   "cell_type": "code",
   "execution_count": 13,
   "metadata": {
    "collapsed": true
   },
   "outputs": [],
   "source": [
    "ymax = np.amax(waveform)\n",
    "ymin = np.amin(waveform)"
   ]
  },
  {
   "cell_type": "code",
   "execution_count": 15,
   "metadata": {
    "collapsed": true
   },
   "outputs": [],
   "source": [
    "rescale = [(ymax - y)/(ymax - ymin) for y in waveform]"
   ]
  },
  {
   "cell_type": "code",
   "execution_count": 17,
   "metadata": {},
   "outputs": [
    {
     "name": "stdout",
     "output_type": "stream",
     "text": [
      "0.5363465498517475\n"
     ]
    },
    {
     "data": {
      "image/png": "[encoded data removed]",
      "text/plain": [
       "<matplotlib.figure.Figure at 0x1c0942af98>"
      ]
     },
     "metadata": {},
     "output_type": "display_data"
    }
   ],
   "source": [
    "L = sum([np.sqrt((y - rescale[i - 1])**2 + (1/(len(rescale)-1))**2) for i, y in enumerate(rescale) if i > 0])\n",
    "D = 1 + np.log(L) / np.log(2*(len(rescale) - 1))\n",
    "print(2- D)\n",
    "plt.plot(x,rescale)\n",
    "\n",
    "plt.show()"
   ]
  },
  {
   "cell_type": "markdown",
   "metadata": {},
   "source": [
    "This result shows that we obtain a Hurst exponent of 0.536.  Given that it is close to 0.5, we can conclude that the monthly fluctuations are Brownian in nature and indicate a balance between anti- and persitent time series.  Essentially, there's no correlation between what occurs at time i and i+1."
   ]
  },
  {
   "cell_type": "code",
   "execution_count": null,
   "metadata": {
    "collapsed": true
   },
   "outputs": [],
   "source": []
  }
 ],
 "metadata": {
  "kernelspec": {
   "display_name": "Python 3",
   "language": "python",
   "name": "python3"
  },
  "language_info": {
   "codemirror_mode": {
    "name": "ipython",
    "version": 3
   },
   "file_extension": ".py",
   "mimetype": "text/x-python",
   "name": "python",
   "nbconvert_exporter": "python",
   "pygments_lexer": "ipython3",
   "version": "3.6.3"
  }
 },
 "nbformat": 4,
 "nbformat_minor": 2
}
