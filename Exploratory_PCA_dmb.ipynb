{
 "cells": [
  {
   "cell_type": "markdown",
   "metadata": {},
   "source": [
    "Exploratory Principal Component Analysis for Kaggle Ames Iowa Housing Prices Competition"
   ]
  },
  {
   "cell_type": "markdown",
   "metadata": {},
   "source": [
    "Libraries necessary for the work"
   ]
  },
  {
   "cell_type": "code",
   "execution_count": 48,
   "metadata": {
    "collapsed": true
   },
   "outputs": [],
   "source": [
    "import pandas as pd\n",
    "import numpy as np\n",
    "import seaborn as sns\n",
    "sns.set(font_scale=1.2) #adopting James' convention\n",
    "\n",
    "import matplotlib\n",
    "import matplotlib.pyplot as plt\n",
    "%matplotlib inline\n",
    "\n",
    "import pylab \n",
    "import scipy.stats as stats\n",
    "\n",
    "from scipy.stats import skew\n",
    "from sklearn.decomposition import PCA\n",
    "from sklearn.preprocessing import RobustScaler\n",
    "from sklearn import preprocessing"
   ]
  },
  {
   "cell_type": "code",
   "execution_count": 84,
   "metadata": {},
   "outputs": [],
   "source": [
    "# Read in train and test sets\n",
    "train = pd.read_csv('Datasets/train.csv')\n",
    "test = pd.read_csv('Datasets/test.csv')"
   ]
  },
  {
   "cell_type": "code",
   "execution_count": 85,
   "metadata": {
    "collapsed": true
   },
   "outputs": [],
   "source": [
    "#following James's approach \n",
    "# Concat. train[no ID column, ... (all columns) ..., no SalePrice column]\n",
    "#     with test[no ID column, ... (all columns) ..., no SalePrice column]\n",
    "# (Test data has no SalePrice column anyway)\n",
    "# we will log xform overly skewed variables\n",
    "\n",
    "train_test = pd.concat([train.loc[:,'MSSubClass':'SaleCondition'],\n",
    "                         test.loc[:,'MSSubClass':'SaleCondition']]);\n",
    "\n",
    "train_test.shape\n",
    "\n",
    "# deal with skew through log x-formation, add one to argument\n",
    "train.SalePrice = np.log(1 + train.SalePrice)\n",
    "\n",
    "# we have selected a skew value of 0.6 to be our threshold \n",
    "\n",
    "# Likewise, log transform those skewed numeric features\n",
    "from scipy.stats import skew\n",
    "\n",
    "# Set the threshold for being over-skewed\n",
    "# (can tune later)\n",
    "skew0 = 0.6;\n",
    "numeric_features = train_test.dtypes[train_test.dtypes != \"object\"].index\n",
    "\n",
    "skewed_features = train[numeric_features].apply(lambda x: skew(x.dropna())) \n",
    "skewed_features = skewed_features[abs( skewed_features ) > skew0]\n",
    "skewed_features = skewed_features.index\n",
    "train_test[skewed_features] = np.log(1 + train_test[skewed_features])"
   ]
  },
  {
   "cell_type": "code",
   "execution_count": 86,
   "metadata": {},
   "outputs": [],
   "source": [
    "train_test = pd.get_dummies(train_test)\n",
    "# filling in NAs - we agreed to impute w/ median\n",
    "#save copy of data \n",
    "train_test.to_csv('./Datasets/train_test.csv')"
   ]
  },
  {
   "cell_type": "code",
   "execution_count": 88,
   "metadata": {
    "collapsed": true
   },
   "outputs": [],
   "source": [
    "X_train = train_test[:train.shape[0]].reset_index(drop = True)\n",
    "X_test  = train_test[train.shape[0]:]\n",
    "Y_train = train.SalePrice"
   ]
  },
  {
   "cell_type": "code",
   "execution_count": 89,
   "metadata": {
    "collapsed": true
   },
   "outputs": [],
   "source": [
    "X_train.to_csv('./Datasets/X_train.csv')\n",
    "X_test.to_csv('./Datasets/X_test.csv')\n",
    "Y_train.to_csv('./Datasets/X_train.csv')"
   ]
  },
  {
   "cell_type": "code",
   "execution_count": 90,
   "metadata": {},
   "outputs": [
    {
     "data": {
      "text/html": [
       "<div>\n",
       "<style>\n",
       "    .dataframe thead tr:only-child th {\n",
       "        text-align: right;\n",
       "    }\n",
       "\n",
       "    .dataframe thead th {\n",
       "        text-align: left;\n",
       "    }\n",
       "\n",
       "    .dataframe tbody tr th {\n",
       "        vertical-align: top;\n",
       "    }\n",
       "</style>\n",
       "<table border=\"1\" class=\"dataframe\">\n",
       "  <thead>\n",
       "    <tr style=\"text-align: right;\">\n",
       "      <th></th>\n",
       "      <th>MSSubClass</th>\n",
       "      <th>LotFrontage</th>\n",
       "      <th>LotArea</th>\n",
       "      <th>OverallQual</th>\n",
       "      <th>OverallCond</th>\n",
       "      <th>YearBuilt</th>\n",
       "      <th>YearRemodAdd</th>\n",
       "      <th>MasVnrArea</th>\n",
       "      <th>BsmtFinSF1</th>\n",
       "      <th>BsmtFinSF2</th>\n",
       "      <th>...</th>\n",
       "      <th>SaleType_ConLw</th>\n",
       "      <th>SaleType_New</th>\n",
       "      <th>SaleType_Oth</th>\n",
       "      <th>SaleType_WD</th>\n",
       "      <th>SaleCondition_Abnorml</th>\n",
       "      <th>SaleCondition_AdjLand</th>\n",
       "      <th>SaleCondition_Alloca</th>\n",
       "      <th>SaleCondition_Family</th>\n",
       "      <th>SaleCondition_Normal</th>\n",
       "      <th>SaleCondition_Partial</th>\n",
       "    </tr>\n",
       "  </thead>\n",
       "  <tbody>\n",
       "    <tr>\n",
       "      <th>0</th>\n",
       "      <td>4.110874</td>\n",
       "      <td>4.189655</td>\n",
       "      <td>9.042040</td>\n",
       "      <td>7</td>\n",
       "      <td>1.791759</td>\n",
       "      <td>7.602900</td>\n",
       "      <td>2003</td>\n",
       "      <td>5.283204</td>\n",
       "      <td>6.561031</td>\n",
       "      <td>0.0</td>\n",
       "      <td>...</td>\n",
       "      <td>0</td>\n",
       "      <td>0</td>\n",
       "      <td>0</td>\n",
       "      <td>1</td>\n",
       "      <td>0</td>\n",
       "      <td>0</td>\n",
       "      <td>0</td>\n",
       "      <td>0</td>\n",
       "      <td>1</td>\n",
       "      <td>0</td>\n",
       "    </tr>\n",
       "    <tr>\n",
       "      <th>1</th>\n",
       "      <td>3.044522</td>\n",
       "      <td>4.394449</td>\n",
       "      <td>9.169623</td>\n",
       "      <td>6</td>\n",
       "      <td>2.197225</td>\n",
       "      <td>7.589336</td>\n",
       "      <td>1976</td>\n",
       "      <td>0.000000</td>\n",
       "      <td>6.886532</td>\n",
       "      <td>0.0</td>\n",
       "      <td>...</td>\n",
       "      <td>0</td>\n",
       "      <td>0</td>\n",
       "      <td>0</td>\n",
       "      <td>1</td>\n",
       "      <td>0</td>\n",
       "      <td>0</td>\n",
       "      <td>0</td>\n",
       "      <td>0</td>\n",
       "      <td>1</td>\n",
       "      <td>0</td>\n",
       "    </tr>\n",
       "    <tr>\n",
       "      <th>2</th>\n",
       "      <td>4.110874</td>\n",
       "      <td>4.234107</td>\n",
       "      <td>9.328212</td>\n",
       "      <td>7</td>\n",
       "      <td>1.791759</td>\n",
       "      <td>7.601902</td>\n",
       "      <td>2002</td>\n",
       "      <td>5.093750</td>\n",
       "      <td>6.188264</td>\n",
       "      <td>0.0</td>\n",
       "      <td>...</td>\n",
       "      <td>0</td>\n",
       "      <td>0</td>\n",
       "      <td>0</td>\n",
       "      <td>1</td>\n",
       "      <td>0</td>\n",
       "      <td>0</td>\n",
       "      <td>0</td>\n",
       "      <td>0</td>\n",
       "      <td>1</td>\n",
       "      <td>0</td>\n",
       "    </tr>\n",
       "    <tr>\n",
       "      <th>3</th>\n",
       "      <td>4.262680</td>\n",
       "      <td>4.110874</td>\n",
       "      <td>9.164401</td>\n",
       "      <td>7</td>\n",
       "      <td>1.791759</td>\n",
       "      <td>7.557995</td>\n",
       "      <td>1970</td>\n",
       "      <td>0.000000</td>\n",
       "      <td>5.379897</td>\n",
       "      <td>0.0</td>\n",
       "      <td>...</td>\n",
       "      <td>0</td>\n",
       "      <td>0</td>\n",
       "      <td>0</td>\n",
       "      <td>1</td>\n",
       "      <td>1</td>\n",
       "      <td>0</td>\n",
       "      <td>0</td>\n",
       "      <td>0</td>\n",
       "      <td>0</td>\n",
       "      <td>0</td>\n",
       "    </tr>\n",
       "    <tr>\n",
       "      <th>4</th>\n",
       "      <td>4.110874</td>\n",
       "      <td>4.442651</td>\n",
       "      <td>9.565284</td>\n",
       "      <td>8</td>\n",
       "      <td>1.791759</td>\n",
       "      <td>7.601402</td>\n",
       "      <td>2000</td>\n",
       "      <td>5.860786</td>\n",
       "      <td>6.486161</td>\n",
       "      <td>0.0</td>\n",
       "      <td>...</td>\n",
       "      <td>0</td>\n",
       "      <td>0</td>\n",
       "      <td>0</td>\n",
       "      <td>1</td>\n",
       "      <td>0</td>\n",
       "      <td>0</td>\n",
       "      <td>0</td>\n",
       "      <td>0</td>\n",
       "      <td>1</td>\n",
       "      <td>0</td>\n",
       "    </tr>\n",
       "  </tbody>\n",
       "</table>\n",
       "<p>5 rows × 288 columns</p>\n",
       "</div>"
      ],
      "text/plain": [
       "   MSSubClass  LotFrontage   LotArea  OverallQual  OverallCond  YearBuilt  \\\n",
       "0    4.110874     4.189655  9.042040            7     1.791759   7.602900   \n",
       "1    3.044522     4.394449  9.169623            6     2.197225   7.589336   \n",
       "2    4.110874     4.234107  9.328212            7     1.791759   7.601902   \n",
       "3    4.262680     4.110874  9.164401            7     1.791759   7.557995   \n",
       "4    4.110874     4.442651  9.565284            8     1.791759   7.601402   \n",
       "\n",
       "   YearRemodAdd  MasVnrArea  BsmtFinSF1  BsmtFinSF2          ...            \\\n",
       "0          2003    5.283204    6.561031         0.0          ...             \n",
       "1          1976    0.000000    6.886532         0.0          ...             \n",
       "2          2002    5.093750    6.188264         0.0          ...             \n",
       "3          1970    0.000000    5.379897         0.0          ...             \n",
       "4          2000    5.860786    6.486161         0.0          ...             \n",
       "\n",
       "   SaleType_ConLw  SaleType_New  SaleType_Oth  SaleType_WD  \\\n",
       "0               0             0             0            1   \n",
       "1               0             0             0            1   \n",
       "2               0             0             0            1   \n",
       "3               0             0             0            1   \n",
       "4               0             0             0            1   \n",
       "\n",
       "   SaleCondition_Abnorml  SaleCondition_AdjLand  SaleCondition_Alloca  \\\n",
       "0                      0                      0                     0   \n",
       "1                      0                      0                     0   \n",
       "2                      0                      0                     0   \n",
       "3                      1                      0                     0   \n",
       "4                      0                      0                     0   \n",
       "\n",
       "   SaleCondition_Family  SaleCondition_Normal  SaleCondition_Partial  \n",
       "0                     0                     1                      0  \n",
       "1                     0                     1                      0  \n",
       "2                     0                     1                      0  \n",
       "3                     0                     0                      0  \n",
       "4                     0                     1                      0  \n",
       "\n",
       "[5 rows x 288 columns]"
      ]
     },
     "execution_count": 90,
     "metadata": {},
     "output_type": "execute_result"
    }
   ],
   "source": [
    "X_train.head()"
   ]
  },
  {
   "cell_type": "code",
   "execution_count": 92,
   "metadata": {},
   "outputs": [
    {
     "data": {
      "text/plain": [
       "True"
      ]
     },
     "execution_count": 92,
     "metadata": {},
     "output_type": "execute_result"
    }
   ],
   "source": [
    "X_train.max()\n",
    "X_train.isnull().values.any()"
   ]
  },
  {
   "cell_type": "code",
   "execution_count": 93,
   "metadata": {},
   "outputs": [
    {
     "name": "stdout",
     "output_type": "stream",
     "text": [
      "MSSubClass                 0\n",
      "LotFrontage              259\n",
      "LotArea                    0\n",
      "OverallQual                0\n",
      "OverallCond                0\n",
      "YearBuilt                  0\n",
      "YearRemodAdd               0\n",
      "MasVnrArea                 8\n",
      "BsmtFinSF1                 0\n",
      "BsmtFinSF2                 0\n",
      "BsmtUnfSF                  0\n",
      "TotalBsmtSF                0\n",
      "1stFlrSF                   0\n",
      "2ndFlrSF                   0\n",
      "LowQualFinSF               0\n",
      "GrLivArea                  0\n",
      "BsmtFullBath               0\n",
      "BsmtHalfBath               0\n",
      "FullBath                   0\n",
      "HalfBath                   0\n",
      "BedroomAbvGr               0\n",
      "KitchenAbvGr               0\n",
      "TotRmsAbvGrd               0\n",
      "Fireplaces                 0\n",
      "GarageYrBlt               81\n",
      "GarageCars                 0\n",
      "GarageArea                 0\n",
      "WoodDeckSF                 0\n",
      "OpenPorchSF                0\n",
      "EnclosedPorch              0\n",
      "3SsnPorch                  0\n",
      "ScreenPorch                0\n",
      "PoolArea                   0\n",
      "MiscVal                    0\n",
      "MoSold                     0\n",
      "YrSold                     0\n",
      "MSZoning_C (all)           0\n",
      "MSZoning_FV                0\n",
      "MSZoning_RH                0\n",
      "MSZoning_RL                0\n",
      "MSZoning_RM                0\n",
      "Street_Grvl                0\n",
      "Street_Pave                0\n",
      "Alley_Grvl                 0\n",
      "Alley_Pave                 0\n",
      "LotShape_IR1               0\n",
      "LotShape_IR2               0\n",
      "LotShape_IR3               0\n",
      "LotShape_Reg               0\n",
      "LandContour_Bnk            0\n",
      "LandContour_HLS            0\n",
      "LandContour_Low            0\n",
      "LandContour_Lvl            0\n",
      "Utilities_AllPub           0\n",
      "Utilities_NoSeWa           0\n",
      "LotConfig_Corner           0\n",
      "LotConfig_CulDSac          0\n",
      "LotConfig_FR2              0\n",
      "LotConfig_FR3              0\n",
      "LotConfig_Inside           0\n",
      "LandSlope_Gtl              0\n",
      "LandSlope_Mod              0\n",
      "LandSlope_Sev              0\n",
      "Neighborhood_Blmngtn       0\n",
      "Neighborhood_Blueste       0\n",
      "Neighborhood_BrDale        0\n",
      "Neighborhood_BrkSide       0\n",
      "Neighborhood_ClearCr       0\n",
      "Neighborhood_CollgCr       0\n",
      "Neighborhood_Crawfor       0\n",
      "Neighborhood_Edwards       0\n",
      "Neighborhood_Gilbert       0\n",
      "Neighborhood_IDOTRR        0\n",
      "Neighborhood_MeadowV       0\n",
      "Neighborhood_Mitchel       0\n",
      "Neighborhood_NAmes         0\n",
      "Neighborhood_NPkVill       0\n",
      "Neighborhood_NWAmes        0\n",
      "Neighborhood_NoRidge       0\n",
      "Neighborhood_NridgHt       0\n",
      "Neighborhood_OldTown       0\n",
      "Neighborhood_SWISU         0\n",
      "Neighborhood_Sawyer        0\n",
      "Neighborhood_SawyerW       0\n",
      "Neighborhood_Somerst       0\n",
      "Neighborhood_StoneBr       0\n",
      "Neighborhood_Timber        0\n",
      "Neighborhood_Veenker       0\n",
      "Condition1_Artery          0\n",
      "Condition1_Feedr           0\n",
      "Condition1_Norm            0\n",
      "Condition1_PosA            0\n",
      "Condition1_PosN            0\n",
      "Condition1_RRAe            0\n",
      "Condition1_RRAn            0\n",
      "Condition1_RRNe            0\n",
      "Condition1_RRNn            0\n",
      "Condition2_Artery          0\n",
      "Condition2_Feedr           0\n",
      "Condition2_Norm            0\n",
      "Condition2_PosA            0\n",
      "Condition2_PosN            0\n",
      "Condition2_RRAe            0\n",
      "Condition2_RRAn            0\n",
      "Condition2_RRNn            0\n",
      "BldgType_1Fam              0\n",
      "BldgType_2fmCon            0\n",
      "BldgType_Duplex            0\n",
      "BldgType_Twnhs             0\n",
      "BldgType_TwnhsE            0\n",
      "HouseStyle_1.5Fin          0\n",
      "HouseStyle_1.5Unf          0\n",
      "HouseStyle_1Story          0\n",
      "HouseStyle_2.5Fin          0\n",
      "HouseStyle_2.5Unf          0\n",
      "HouseStyle_2Story          0\n",
      "HouseStyle_SFoyer          0\n",
      "HouseStyle_SLvl            0\n",
      "RoofStyle_Flat             0\n",
      "RoofStyle_Gable            0\n",
      "RoofStyle_Gambrel          0\n",
      "RoofStyle_Hip              0\n",
      "RoofStyle_Mansard          0\n",
      "RoofStyle_Shed             0\n",
      "RoofMatl_ClyTile           0\n",
      "RoofMatl_CompShg           0\n",
      "RoofMatl_Membran           0\n",
      "RoofMatl_Metal             0\n",
      "RoofMatl_Roll              0\n",
      "RoofMatl_Tar&Grv           0\n",
      "RoofMatl_WdShake           0\n",
      "RoofMatl_WdShngl           0\n",
      "Exterior1st_AsbShng        0\n",
      "Exterior1st_AsphShn        0\n",
      "Exterior1st_BrkComm        0\n",
      "Exterior1st_BrkFace        0\n",
      "Exterior1st_CBlock         0\n",
      "Exterior1st_CemntBd        0\n",
      "Exterior1st_HdBoard        0\n",
      "Exterior1st_ImStucc        0\n",
      "Exterior1st_MetalSd        0\n",
      "Exterior1st_Plywood        0\n",
      "Exterior1st_Stone          0\n",
      "Exterior1st_Stucco         0\n",
      "Exterior1st_VinylSd        0\n",
      "Exterior1st_Wd Sdng        0\n",
      "Exterior1st_WdShing        0\n",
      "Exterior2nd_AsbShng        0\n",
      "Exterior2nd_AsphShn        0\n",
      "Exterior2nd_Brk Cmn        0\n",
      "Exterior2nd_BrkFace        0\n",
      "Exterior2nd_CBlock         0\n",
      "Exterior2nd_CmentBd        0\n",
      "Exterior2nd_HdBoard        0\n",
      "Exterior2nd_ImStucc        0\n",
      "Exterior2nd_MetalSd        0\n",
      "Exterior2nd_Other          0\n",
      "Exterior2nd_Plywood        0\n",
      "Exterior2nd_Stone          0\n",
      "Exterior2nd_Stucco         0\n",
      "Exterior2nd_VinylSd        0\n",
      "Exterior2nd_Wd Sdng        0\n",
      "Exterior2nd_Wd Shng        0\n",
      "MasVnrType_BrkCmn          0\n",
      "MasVnrType_BrkFace         0\n",
      "MasVnrType_None            0\n",
      "MasVnrType_Stone           0\n",
      "ExterQual_Ex               0\n",
      "ExterQual_Fa               0\n",
      "ExterQual_Gd               0\n",
      "ExterQual_TA               0\n",
      "ExterCond_Ex               0\n",
      "ExterCond_Fa               0\n",
      "ExterCond_Gd               0\n",
      "ExterCond_Po               0\n",
      "ExterCond_TA               0\n",
      "Foundation_BrkTil          0\n",
      "Foundation_CBlock          0\n",
      "Foundation_PConc           0\n",
      "Foundation_Slab            0\n",
      "Foundation_Stone           0\n",
      "Foundation_Wood            0\n",
      "BsmtQual_Ex                0\n",
      "BsmtQual_Fa                0\n",
      "BsmtQual_Gd                0\n",
      "BsmtQual_TA                0\n",
      "BsmtCond_Fa                0\n",
      "BsmtCond_Gd                0\n",
      "BsmtCond_Po                0\n",
      "BsmtCond_TA                0\n",
      "BsmtExposure_Av            0\n",
      "BsmtExposure_Gd            0\n",
      "BsmtExposure_Mn            0\n",
      "BsmtExposure_No            0\n",
      "BsmtFinType1_ALQ           0\n",
      "BsmtFinType1_BLQ           0\n",
      "BsmtFinType1_GLQ           0\n",
      "BsmtFinType1_LwQ           0\n",
      "BsmtFinType1_Rec           0\n",
      "BsmtFinType1_Unf           0\n",
      "BsmtFinType2_ALQ           0\n",
      "BsmtFinType2_BLQ           0\n",
      "BsmtFinType2_GLQ           0\n",
      "BsmtFinType2_LwQ           0\n",
      "BsmtFinType2_Rec           0\n",
      "BsmtFinType2_Unf           0\n",
      "Heating_Floor              0\n",
      "Heating_GasA               0\n",
      "Heating_GasW               0\n",
      "Heating_Grav               0\n",
      "Heating_OthW               0\n",
      "Heating_Wall               0\n",
      "HeatingQC_Ex               0\n",
      "HeatingQC_Fa               0\n",
      "HeatingQC_Gd               0\n",
      "HeatingQC_Po               0\n",
      "HeatingQC_TA               0\n",
      "CentralAir_N               0\n",
      "CentralAir_Y               0\n",
      "Electrical_FuseA           0\n",
      "Electrical_FuseF           0\n",
      "Electrical_FuseP           0\n",
      "Electrical_Mix             0\n",
      "Electrical_SBrkr           0\n",
      "KitchenQual_Ex             0\n",
      "KitchenQual_Fa             0\n",
      "KitchenQual_Gd             0\n",
      "KitchenQual_TA             0\n",
      "Functional_Maj1            0\n",
      "Functional_Maj2            0\n",
      "Functional_Min1            0\n",
      "Functional_Min2            0\n",
      "Functional_Mod             0\n",
      "Functional_Sev             0\n",
      "Functional_Typ             0\n",
      "FireplaceQu_Ex             0\n",
      "FireplaceQu_Fa             0\n",
      "FireplaceQu_Gd             0\n",
      "FireplaceQu_Po             0\n",
      "FireplaceQu_TA             0\n",
      "GarageType_2Types          0\n",
      "GarageType_Attchd          0\n",
      "GarageType_Basment         0\n",
      "GarageType_BuiltIn         0\n",
      "GarageType_CarPort         0\n",
      "GarageType_Detchd          0\n",
      "GarageFinish_Fin           0\n",
      "GarageFinish_RFn           0\n",
      "GarageFinish_Unf           0\n",
      "GarageQual_Ex              0\n",
      "GarageQual_Fa              0\n",
      "GarageQual_Gd              0\n",
      "GarageQual_Po              0\n",
      "GarageQual_TA              0\n",
      "GarageCond_Ex              0\n",
      "GarageCond_Fa              0\n",
      "GarageCond_Gd              0\n",
      "GarageCond_Po              0\n",
      "GarageCond_TA              0\n",
      "PavedDrive_N               0\n",
      "PavedDrive_P               0\n",
      "PavedDrive_Y               0\n",
      "PoolQC_Ex                  0\n",
      "PoolQC_Fa                  0\n",
      "PoolQC_Gd                  0\n",
      "Fence_GdPrv                0\n",
      "Fence_GdWo                 0\n",
      "Fence_MnPrv                0\n",
      "Fence_MnWw                 0\n",
      "MiscFeature_Gar2           0\n",
      "MiscFeature_Othr           0\n",
      "MiscFeature_Shed           0\n",
      "MiscFeature_TenC           0\n",
      "SaleType_COD               0\n",
      "SaleType_CWD               0\n",
      "SaleType_Con               0\n",
      "SaleType_ConLD             0\n",
      "SaleType_ConLI             0\n",
      "SaleType_ConLw             0\n",
      "SaleType_New               0\n",
      "SaleType_Oth               0\n",
      "SaleType_WD                0\n",
      "SaleCondition_Abnorml      0\n",
      "SaleCondition_AdjLand      0\n",
      "SaleCondition_Alloca       0\n",
      "SaleCondition_Family       0\n",
      "SaleCondition_Normal       0\n",
      "SaleCondition_Partial      0\n"
     ]
    }
   ],
   "source": [
    "X_train.isnull().values.any()\n",
    "print(X_train.isnull().sum().to_string())\n",
    "# so there are 259 missing values for Lot Frontage and 81 for Garage Year Built"
   ]
  },
  {
   "cell_type": "code",
   "execution_count": 94,
   "metadata": {},
   "outputs": [
    {
     "name": "stdout",
     "output_type": "stream",
     "text": [
      "0.4617631974623676\n"
     ]
    }
   ],
   "source": [
    "LF = X_train.LotFrontage.mean()\n",
    "LA = X_train.LotArea.mean()\n",
    "L_frac = LF/LA\n",
    "print(L_frac)"
   ]
  },
  {
   "cell_type": "code",
   "execution_count": 95,
   "metadata": {
    "collapsed": true
   },
   "outputs": [],
   "source": [
    "X_train['LotFrontage'] = X_train.apply(\n",
    "    lambda row: L_frac*row['LotArea'] if np.isnan(row['LotFrontage']) else row['LotFrontage'],\n",
    "    axis=1)"
   ]
  },
  {
   "cell_type": "code",
   "execution_count": 96,
   "metadata": {},
   "outputs": [],
   "source": [
    "X_train.drop(['GarageYrBlt'], axis = 1, inplace = True)"
   ]
  },
  {
   "cell_type": "code",
   "execution_count": 97,
   "metadata": {
    "collapsed": true
   },
   "outputs": [],
   "source": [
    "X_train.drop(['MasVnrArea'], axis = 1, inplace = True)"
   ]
  },
  {
   "cell_type": "code",
   "execution_count": 98,
   "metadata": {},
   "outputs": [
    {
     "data": {
      "text/plain": [
       "False"
      ]
     },
     "execution_count": 98,
     "metadata": {},
     "output_type": "execute_result"
    }
   ],
   "source": [
    "X_train.isnull().values.any()"
   ]
  },
  {
   "cell_type": "code",
   "execution_count": 105,
   "metadata": {},
   "outputs": [],
   "source": [
    "X_pca = RobustScaler().fit_transform(X_train)\n"
   ]
  },
  {
   "cell_type": "code",
   "execution_count": 106,
   "metadata": {},
   "outputs": [
    {
     "data": {
      "text/plain": [
       "numpy.ndarray"
      ]
     },
     "execution_count": 106,
     "metadata": {},
     "output_type": "execute_result"
    }
   ],
   "source": [
    "type(X_pca)"
   ]
  },
  {
   "cell_type": "code",
   "execution_count": 103,
   "metadata": {},
   "outputs": [
    {
     "data": {
      "text/plain": [
       "286"
      ]
     },
     "execution_count": 103,
     "metadata": {},
     "output_type": "execute_result"
    }
   ],
   "source": [
    "np.size(X_train,1)"
   ]
  },
  {
   "cell_type": "code",
   "execution_count": 107,
   "metadata": {},
   "outputs": [],
   "source": [
    "pca = PCA(n_components=286)\n",
    "pca.fit(X_pca)\n",
    "X_pca = pca.transform(X_pca)"
   ]
  },
  {
   "cell_type": "code",
   "execution_count": 78,
   "metadata": {
    "collapsed": true
   },
   "outputs": [],
   "source": [
    "var=pca.explained_variance_ratio_"
   ]
  },
  {
   "cell_type": "code",
   "execution_count": 108,
   "metadata": {
    "collapsed": true
   },
   "outputs": [],
   "source": [
    "var1=np.cumsum(np.round(pca.explained_variance_ratio_, decimals=4)*100)"
   ]
  },
  {
   "cell_type": "code",
   "execution_count": 109,
   "metadata": {},
   "outputs": [
    {
     "data": {
      "image/png": "[encoded data removed]",
      "text/plain": [
       "<matplotlib.figure.Figure at 0x1145aa780>"
      ]
     },
     "metadata": {},
     "output_type": "display_data"
    }
   ],
   "source": [
    "plt.plot(var1)\n",
    "plt.ylabel('% Explained Variance in Data Set')\n",
    "plt.xlabel('Number of Components')\n",
    "plt.title('Amount of Variance Explained per Component')\n",
    "plt.show()"
   ]
  },
  {
   "cell_type": "code",
   "execution_count": null,
   "metadata": {
    "collapsed": true
   },
   "outputs": [],
   "source": []
  }
 ],
 "metadata": {
  "kernelspec": {
   "display_name": "Python 3",
   "language": "python",
   "name": "python3"
  },
  "language_info": {
   "codemirror_mode": {
    "name": "ipython",
    "version": 3
   },
   "file_extension": ".py",
   "mimetype": "text/x-python",
   "name": "python",
   "nbconvert_exporter": "python",
   "pygments_lexer": "ipython3",
   "version": "3.6.3"
  }
 },
 "nbformat": 4,
 "nbformat_minor": 2
}
