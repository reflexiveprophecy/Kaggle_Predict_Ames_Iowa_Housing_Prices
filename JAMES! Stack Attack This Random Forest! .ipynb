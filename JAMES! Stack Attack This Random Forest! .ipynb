{
 "cells": [
  {
   "cell_type": "markdown",
   "metadata": {},
   "source": [
    "# Load Files"
   ]
  },
  {
   "cell_type": "code",
   "execution_count": 1,
   "metadata": {
    "collapsed": true
   },
   "outputs": [],
   "source": [
    "import re\n",
    "import pandas as pd\n",
    "import os\n",
    "import seaborn as sns\n",
    "import numpy as np\n",
    "import warnings\n",
    "import math\n",
    "warnings.filterwarnings('ignore')\n",
    "import matplotlib.pyplot as plt\n",
    "import seaborn as sns\n",
    "from sklearn.metrics import mean_squared_error\n",
    "%matplotlib inline"
   ]
  },
  {
   "cell_type": "code",
   "execution_count": 2,
   "metadata": {
    "collapsed": true
   },
   "outputs": [],
   "source": [
    "house_train = pd.read_csv('Datasets/train_Wenchang.csv')\n",
    "house_test = pd.read_csv('Datasets/test_Wenchang.csv')"
   ]
  },
  {
   "cell_type": "code",
   "execution_count": 3,
   "metadata": {},
   "outputs": [
    {
     "data": {
      "text/plain": [
       "(1460, 74)"
      ]
     },
     "execution_count": 3,
     "metadata": {},
     "output_type": "execute_result"
    }
   ],
   "source": [
    "house_train.shape"
   ]
  },
  {
   "cell_type": "code",
   "execution_count": 4,
   "metadata": {},
   "outputs": [
    {
     "data": {
      "text/plain": [
       "(1459, 73)"
      ]
     },
     "execution_count": 4,
     "metadata": {},
     "output_type": "execute_result"
    }
   ],
   "source": [
    "house_test.shape"
   ]
  },
  {
   "cell_type": "markdown",
   "metadata": {},
   "source": [
    "# Pre Processing"
   ]
  },
  {
   "cell_type": "code",
   "execution_count": 5,
   "metadata": {
    "collapsed": true
   },
   "outputs": [],
   "source": [
    "# Combining both house_train and house_test to clean data\n",
    "house_train # 80 columns\n",
    "house_test # 79 columns. need SalePrice placeholder\n",
    "house_test['SalePrice'] = np.nan\n",
    "\n",
    "# house_test starts on index row 1460 \n",
    "house_full = pd.concat([house_train, house_test], axis = 0)"
   ]
  },
  {
   "cell_type": "markdown",
   "metadata": {},
   "source": [
    "# Feature Engineering\n"
   ]
  },
  {
   "cell_type": "markdown",
   "metadata": {},
   "source": [
    "### Bath Capacity"
   ]
  },
  {
   "cell_type": "code",
   "execution_count": 6,
   "metadata": {},
   "outputs": [
    {
     "data": {
      "text/plain": [
       "array([ 0.83333333,  0.66666667,  0.33333333,  0.625     ,  1.5       ,\n",
       "        1.        ,  0.5       ,  0.75      ,  0.875     ,  0.375     ,\n",
       "        0.16666667,  1.16666667,  1.25      ,  0.6       ,  0.25      ,\n",
       "        2.        ,  0.2       ,  0.4       ,  0.7       ,  0.41666667,\n",
       "        1.33333333,  0.3       ])"
      ]
     },
     "execution_count": 6,
     "metadata": {},
     "output_type": "execute_result"
    }
   ],
   "source": [
    "# Total Number of bathrooms\n",
    "house_full['TotBath'] = house_full.FullBath + .5*house_full.HalfBath\n",
    "\n",
    "# Replace zeros with median\n",
    "house_full.TotBath.replace(0, house_full.TotBath.median(), inplace=True)\n",
    "\n",
    "# Replace zero bedrooms with median bedroom #. This is so we can engineer a feature\n",
    "house_full.BedroomAbvGr.replace(0, house_full.BedroomAbvGr.median(), inplace=True)\n",
    "house_full.BedroomAbvGr.unique()\n",
    "\n",
    "# Bath Capacity. The higher the ratio the better\n",
    "house_full['Bath_Capacity'] = house_full.TotBath / house_full.BedroomAbvGr\n",
    "house_full.Bath_Capacity.unique()"
   ]
  },
  {
   "cell_type": "markdown",
   "metadata": {},
   "source": [
    "### Parking Capacity"
   ]
  },
  {
   "cell_type": "code",
   "execution_count": 7,
   "metadata": {},
   "outputs": [
    {
     "data": {
      "text/plain": [
       "array([ 0.66666667,  1.        ,  0.75      ,  2.        ,  0.5       ,\n",
       "        0.33333333,  0.        ,  0.25      ,  0.6       ,  1.5       ,\n",
       "        3.        ,  0.4       ,  0.16666667,  0.2       ,  1.33333333,\n",
       "        2.5       ])"
      ]
     },
     "execution_count": 7,
     "metadata": {},
     "output_type": "execute_result"
    }
   ],
   "source": [
    "# Parking Capacity. The higher the better\n",
    "house_full['Parking_Capacity'] = house_full.GarageCars / house_full.BedroomAbvGr\n",
    "house_full.Parking_Capacity.unique()"
   ]
  },
  {
   "cell_type": "markdown",
   "metadata": {},
   "source": [
    "# Normalize SalePrice variable"
   ]
  },
  {
   "cell_type": "code",
   "execution_count": 8,
   "metadata": {},
   "outputs": [],
   "source": [
    "#sns.distplot(house_train.SalePrice, bins = 20)\n",
    "#sns.distplot([np.log(house_train.SalePrice + 1)], bins = 20)\n",
    "\n",
    "# Converting SalePrice to Log\n",
    "house_full.SalePrice = np.log(house_full.SalePrice)\n"
   ]
  },
  {
   "cell_type": "markdown",
   "metadata": {},
   "source": [
    "# Deepcopy and Dummify"
   ]
  },
  {
   "cell_type": "code",
   "execution_count": 9,
   "metadata": {},
   "outputs": [
    {
     "data": {
      "text/plain": [
       "(2919, 276)"
      ]
     },
     "execution_count": 9,
     "metadata": {},
     "output_type": "execute_result"
    }
   ],
   "source": [
    "from copy import deepcopy \n",
    "    \n",
    "house_full_copy = deepcopy(house_full)\n",
    "\n",
    "house_full_dummy = pd.get_dummies(house_full_copy)\n",
    "house_full_dummy.shape"
   ]
  },
  {
   "cell_type": "markdown",
   "metadata": {},
   "source": [
    "### Split Data back into Training/Testing"
   ]
  },
  {
   "cell_type": "code",
   "execution_count": 10,
   "metadata": {
    "collapsed": true
   },
   "outputs": [],
   "source": [
    "# split full data back to training and test before imputation\n",
    "house_train = house_full_dummy.iloc[0:1460,:]\n",
    "house_test = house_full_dummy.iloc[1460:,]"
   ]
  },
  {
   "cell_type": "code",
   "execution_count": 11,
   "metadata": {},
   "outputs": [
    {
     "name": "stdout",
     "output_type": "stream",
     "text": [
      "(1460, 276)\n",
      "(1459, 276)\n"
     ]
    }
   ],
   "source": [
    "print(house_train.shape)\n",
    "print(house_test.shape)"
   ]
  },
  {
   "cell_type": "markdown",
   "metadata": {},
   "source": [
    "### Check for Null in Training"
   ]
  },
  {
   "cell_type": "code",
   "execution_count": 12,
   "metadata": {},
   "outputs": [
    {
     "data": {
      "text/plain": [
       "0"
      ]
     },
     "execution_count": 12,
     "metadata": {},
     "output_type": "execute_result"
    }
   ],
   "source": [
    "# Check for  null values in training data\n",
    "house_train.isnull().any().sum() # none"
   ]
  },
  {
   "cell_type": "markdown",
   "metadata": {},
   "source": [
    "### Check for Null in Test"
   ]
  },
  {
   "cell_type": "code",
   "execution_count": 13,
   "metadata": {},
   "outputs": [
    {
     "data": {
      "text/plain": [
       "1"
      ]
     },
     "execution_count": 13,
     "metadata": {},
     "output_type": "execute_result"
    }
   ],
   "source": [
    "# Check for  null values in training data\n",
    "house_test.isnull().any().sum() # Only SalePrice is still Null"
   ]
  },
  {
   "cell_type": "markdown",
   "metadata": {},
   "source": [
    "### Finishing touch, delete index column"
   ]
  },
  {
   "cell_type": "code",
   "execution_count": 14,
   "metadata": {},
   "outputs": [],
   "source": [
    "del house_train['Unnamed: 0']\n",
    "del house_test['Unnamed: 0']"
   ]
  },
  {
   "cell_type": "code",
   "execution_count": 15,
   "metadata": {},
   "outputs": [
    {
     "data": {
      "text/plain": [
       "0    12.247694\n",
       "1    12.109011\n",
       "2    12.317167\n",
       "3    11.849398\n",
       "4    12.429216\n",
       "Name: SalePrice, dtype: float64"
      ]
     },
     "execution_count": 15,
     "metadata": {},
     "output_type": "execute_result"
    }
   ],
   "source": [
    "house_train.SalePrice.head()"
   ]
  },
  {
   "cell_type": "code",
   "execution_count": 16,
   "metadata": {},
   "outputs": [
    {
     "data": {
      "text/plain": [
       "0   NaN\n",
       "1   NaN\n",
       "2   NaN\n",
       "3   NaN\n",
       "4   NaN\n",
       "Name: SalePrice, dtype: float64"
      ]
     },
     "execution_count": 16,
     "metadata": {},
     "output_type": "execute_result"
    }
   ],
   "source": [
    "house_test.SalePrice.head()"
   ]
  },
  {
   "cell_type": "markdown",
   "metadata": {},
   "source": [
    "# Seperate Training Set to Another Training and Test Set"
   ]
  },
  {
   "cell_type": "code",
   "execution_count": 17,
   "metadata": {},
   "outputs": [],
   "source": [
    "from copy import deepcopy\n",
    "import sklearn.model_selection as ms\n",
    "\n",
    "\n",
    "house_train_x = house_train.drop('SalePrice', axis = 1)\n",
    "house_train_y = house_train.SalePrice.reshape(-1,1)\n",
    "\n",
    "house_test_x = house_test.drop('SalePrice', axis = 1)"
   ]
  },
  {
   "cell_type": "code",
   "execution_count": 18,
   "metadata": {},
   "outputs": [
    {
     "name": "stdout",
     "output_type": "stream",
     "text": [
      "(1460, 274)\n",
      "(1460, 1)\n",
      "(1459, 274)\n"
     ]
    }
   ],
   "source": [
    "print(house_train_x.shape)\n",
    "print(house_train_y.shape)\n",
    "print(house_test_x.shape)"
   ]
  },
  {
   "cell_type": "code",
   "execution_count": 19,
   "metadata": {},
   "outputs": [
    {
     "data": {
      "text/plain": [
       "array(['1stFlrSF', '2ndFlrSF', 'BedroomAbvGr', 'BsmtFinSF1', 'BsmtFinSF2',\n",
       "       'BsmtFullBath', 'BsmtHalfBath', 'BsmtUnfSF', 'EnclosedPorch',\n",
       "       'Fireplaces', 'FullBath', 'GarageArea', 'GarageCars', 'GrLivArea',\n",
       "       'HalfBath', 'KitchenAbvGr', 'LotArea', 'LotFrontage', 'MSSubClass',\n",
       "       'MasVnrArea', 'MoSold', 'OpenPorchSF', 'OverallCond', 'OverallQual',\n",
       "       'ScreenPorch', 'TotRmsAbvGrd', 'TotalBsmtSF', 'WoodDeckSF',\n",
       "       'YearBuilt', 'YrSold', 'HasGarage', 'GarageYearDiff', 'IsRemod',\n",
       "       'RemodYearDiff', 'SalePrice', 'TotBath', 'Bath_Capacity',\n",
       "       'Parking_Capacity', 'Alley_Grvl', 'Alley_None', 'Alley_Pave',\n",
       "       'BldgType_1Fam', 'BldgType_2fmCon', 'BldgType_Duplex',\n",
       "       'BldgType_Twnhs', 'BldgType_TwnhsE', 'BsmtCond_Fa', 'BsmtCond_Gd',\n",
       "       'BsmtCond_Po', 'BsmtCond_TA', 'BsmtExposure_Av', 'BsmtExposure_Gd',\n",
       "       'BsmtExposure_Mn', 'BsmtExposure_No', 'BsmtFinType1_ALQ',\n",
       "       'BsmtFinType1_BLQ', 'BsmtFinType1_GLQ', 'BsmtFinType1_LwQ',\n",
       "       'BsmtFinType1_Rec', 'BsmtFinType1_Unf', 'BsmtFinType2_ALQ',\n",
       "       'BsmtFinType2_BLQ', 'BsmtFinType2_GLQ', 'BsmtFinType2_LwQ',\n",
       "       'BsmtFinType2_Rec', 'BsmtFinType2_Unf', 'BsmtQual_Ex',\n",
       "       'BsmtQual_Fa', 'BsmtQual_Gd', 'BsmtQual_TA', 'CentralAir_N',\n",
       "       'CentralAir_Y', 'Condition1_Artery', 'Condition1_Feedr',\n",
       "       'Condition1_Norm', 'Condition1_PosA', 'Condition1_PosN',\n",
       "       'Condition1_RRAe', 'Condition1_RRAn', 'Condition1_RRNe',\n",
       "       'Condition1_RRNn', 'Electrical_FuseA', 'Electrical_FuseF',\n",
       "       'Electrical_FuseP', 'Electrical_Mix', 'Electrical_SBrkr',\n",
       "       'ExterCond_Ex', 'ExterCond_Fa', 'ExterCond_Gd', 'ExterCond_Po',\n",
       "       'ExterCond_TA', 'ExterQual_Ex', 'ExterQual_Fa', 'ExterQual_Gd',\n",
       "       'ExterQual_TA', 'Exterior1st_AsbShng', 'Exterior1st_AsphShn',\n",
       "       'Exterior1st_BrkComm', 'Exterior1st_BrkFace', 'Exterior1st_CBlock',\n",
       "       'Exterior1st_CemntBd', 'Exterior1st_HdBoard', 'Exterior1st_ImStucc',\n",
       "       'Exterior1st_MetalSd', 'Exterior1st_Plywood', 'Exterior1st_Stone',\n",
       "       'Exterior1st_Stucco', 'Exterior1st_VinylSd', 'Exterior1st_Wd Sdng',\n",
       "       'Exterior1st_WdShing', 'Exterior2nd_AsbShng', 'Exterior2nd_AsphShn',\n",
       "       'Exterior2nd_Brk Cmn', 'Exterior2nd_BrkFace', 'Exterior2nd_CBlock',\n",
       "       'Exterior2nd_CmentBd', 'Exterior2nd_HdBoard', 'Exterior2nd_ImStucc',\n",
       "       'Exterior2nd_MetalSd', 'Exterior2nd_Other', 'Exterior2nd_Plywood',\n",
       "       'Exterior2nd_Stone', 'Exterior2nd_Stucco', 'Exterior2nd_VinylSd',\n",
       "       'Exterior2nd_Wd Sdng', 'Exterior2nd_Wd Shng', 'Fence_GdPrv',\n",
       "       'Fence_GdWo', 'Fence_MnPrv', 'Fence_MnWw', 'Fence_None',\n",
       "       'FireplaceQu_Ex', 'FireplaceQu_Fa', 'FireplaceQu_Gd',\n",
       "       'FireplaceQu_None', 'FireplaceQu_Po', 'FireplaceQu_TA',\n",
       "       'Foundation_BrkTil', 'Foundation_CBlock', 'Foundation_PConc',\n",
       "       'Foundation_Slab', 'Foundation_Stone', 'Foundation_Wood',\n",
       "       'Functional_Maj1', 'Functional_Maj2', 'Functional_Min1',\n",
       "       'Functional_Min2', 'Functional_Mod', 'Functional_Sev',\n",
       "       'Functional_Typ', 'GarageCond_Ex', 'GarageCond_Fa', 'GarageCond_Gd',\n",
       "       'GarageCond_None', 'GarageCond_Po', 'GarageCond_TA',\n",
       "       'GarageFinish_Fin', 'GarageFinish_None', 'GarageFinish_RFn',\n",
       "       'GarageFinish_Unf', 'GarageQual_Ex', 'GarageQual_Fa',\n",
       "       'GarageQual_Gd', 'GarageQual_None', 'GarageQual_Po',\n",
       "       'GarageQual_TA', 'GarageType_2Types', 'GarageType_Attchd',\n",
       "       'GarageType_Basment', 'GarageType_BuiltIn', 'GarageType_CarPort',\n",
       "       'GarageType_Detchd', 'GarageType_None', 'Heating_Floor',\n",
       "       'Heating_GasA', 'Heating_GasW', 'Heating_Grav', 'Heating_OthW',\n",
       "       'Heating_Wall', 'HeatingQC_Ex', 'HeatingQC_Fa', 'HeatingQC_Gd',\n",
       "       'HeatingQC_Po', 'HeatingQC_TA', 'HouseStyle_1.5Fin',\n",
       "       'HouseStyle_1.5Unf', 'HouseStyle_1Story', 'HouseStyle_2.5Fin',\n",
       "       'HouseStyle_2.5Unf', 'HouseStyle_2Story', 'HouseStyle_SFoyer',\n",
       "       'HouseStyle_SLvl', 'KitchenQual_Ex', 'KitchenQual_Fa',\n",
       "       'KitchenQual_Gd', 'KitchenQual_TA', 'LandContour_Bnk',\n",
       "       'LandContour_HLS', 'LandContour_Low', 'LandContour_Lvl',\n",
       "       'LandSlope_Gtl', 'LandSlope_Mod', 'LandSlope_Sev',\n",
       "       'LotConfig_Corner', 'LotConfig_CulDSac', 'LotConfig_FR2',\n",
       "       'LotConfig_FR3', 'LotConfig_Inside', 'LotShape_IR1', 'LotShape_IR2',\n",
       "       'LotShape_IR3', 'LotShape_Reg', 'MSZoning_C (all)', 'MSZoning_FV',\n",
       "       'MSZoning_RH', 'MSZoning_RL', 'MSZoning_RM', 'MasVnrType_BrkCmn',\n",
       "       'MasVnrType_BrkFace', 'MasVnrType_None', 'MasVnrType_Stone',\n",
       "       'MiscFeature_Gar2', 'MiscFeature_None', 'MiscFeature_Othr',\n",
       "       'MiscFeature_Shed', 'MiscFeature_TenC', 'Neighborhood_Blmngtn',\n",
       "       'Neighborhood_Blueste', 'Neighborhood_BrDale',\n",
       "       'Neighborhood_BrkSide', 'Neighborhood_ClearCr',\n",
       "       'Neighborhood_CollgCr', 'Neighborhood_Crawfor',\n",
       "       'Neighborhood_Edwards', 'Neighborhood_Gilbert',\n",
       "       'Neighborhood_IDOTRR', 'Neighborhood_MeadowV',\n",
       "       'Neighborhood_Mitchel', 'Neighborhood_NAmes',\n",
       "       'Neighborhood_NPkVill', 'Neighborhood_NWAmes',\n",
       "       'Neighborhood_NoRidge', 'Neighborhood_NridgHt',\n",
       "       'Neighborhood_OldTown', 'Neighborhood_SWISU', 'Neighborhood_Sawyer',\n",
       "       'Neighborhood_SawyerW', 'Neighborhood_Somerst',\n",
       "       'Neighborhood_StoneBr', 'Neighborhood_Timber',\n",
       "       'Neighborhood_Veenker', 'PavedDrive_N', 'PavedDrive_P',\n",
       "       'PavedDrive_Y', 'RoofStyle_Flat', 'RoofStyle_Gable',\n",
       "       'RoofStyle_Gambrel', 'RoofStyle_Hip', 'RoofStyle_Mansard',\n",
       "       'RoofStyle_Shed', 'SaleCondition_Abnorml', 'SaleCondition_AdjLand',\n",
       "       'SaleCondition_Alloca', 'SaleCondition_Family',\n",
       "       'SaleCondition_Normal', 'SaleCondition_Partial', 'SaleType_COD',\n",
       "       'SaleType_CWD', 'SaleType_Con', 'SaleType_ConLD', 'SaleType_ConLI',\n",
       "       'SaleType_ConLw', 'SaleType_New', 'SaleType_Oth', 'SaleType_WD'], dtype=object)"
      ]
     },
     "execution_count": 19,
     "metadata": {},
     "output_type": "execute_result"
    }
   ],
   "source": [
    "house_test.columns.values"
   ]
  },
  {
   "cell_type": "code",
   "execution_count": 20,
   "metadata": {},
   "outputs": [],
   "source": [
    "\n",
    "# Create sperate out original training set to the new training and test set\n",
    "X_train_v, X_test_v, y_train_v, y_test_v =\\\n",
    "    ms.train_test_split(house_train_x,\\\n",
    "                        house_train_y,\\\n",
    "                        test_size = 1/8,\\\n",
    "                        random_state = 123)"
   ]
  },
  {
   "cell_type": "markdown",
   "metadata": {},
   "source": [
    "Much improved training and test scores!\n",
    "But, perhaps these trees are WAY too correlated, still increasing too much variance in our model.\n",
    "Same predictors will be chosen at the top of all our trees\n",
    "Lets try attacking Random Forest to decorrelate! Go!"
   ]
  },
  {
   "cell_type": "markdown",
   "metadata": {},
   "source": [
    "# Fitting Random Forest: First Attempt"
   ]
  },
  {
   "cell_type": "code",
   "execution_count": 21,
   "metadata": {
    "scrolled": true
   },
   "outputs": [
    {
     "data": {
      "text/plain": [
       "RandomForestRegressor(bootstrap=True, criterion='mse', max_depth=None,\n",
       "           max_features=17, max_leaf_nodes=None, min_impurity_decrease=0.0,\n",
       "           min_impurity_split=None, min_samples_leaf=1,\n",
       "           min_samples_split=2, min_weight_fraction_leaf=0.0,\n",
       "           n_estimators=500, n_jobs=1, oob_score=True, random_state=0,\n",
       "           verbose=0, warm_start=False)"
      ]
     },
     "execution_count": 21,
     "metadata": {},
     "output_type": "execute_result"
    }
   ],
   "source": [
    "from sklearn.ensemble import RandomForestRegressor\n",
    "import math\n",
    "\n",
    "rf_tree_1 = RandomForestRegressor(n_estimators = 500,\n",
    "                                max_features = round(math.sqrt(len(X_train_v.columns))),\n",
    "                                bootstrap = True,\n",
    "                                oob_score = True,\n",
    "                                random_state = 0)\n",
    "\n",
    "rf_tree_1.fit(X_train_v, y_train_v)"
   ]
  },
  {
   "cell_type": "markdown",
   "metadata": {},
   "source": [
    "## R sq for Training: 98%, OOB: 87%, Test: 87%. No improvement in Test Score..."
   ]
  },
  {
   "cell_type": "markdown",
   "metadata": {},
   "source": [
    "Training score went up 2 points "
   ]
  },
  {
   "cell_type": "code",
   "execution_count": 22,
   "metadata": {},
   "outputs": [
    {
     "name": "stdout",
     "output_type": "stream",
     "text": [
      "Training Score: 0.981964722361\n",
      "OOB Score: 0.86445203675\n",
      "Test Score: 0.883258364645\n"
     ]
    }
   ],
   "source": [
    "print('Training Score:' ,rf_tree_1.score(X_train_v, y_train_v))\n",
    "print('OOB Score:', rf_tree_1.oob_score_)\n",
    "print('Test Score:' ,rf_tree_1.score(X_test_v, y_test_v))"
   ]
  },
  {
   "cell_type": "markdown",
   "metadata": {},
   "source": [
    "### Error Rate: Training RMSE =  .0538 , Test RMSE = .1397"
   ]
  },
  {
   "cell_type": "markdown",
   "metadata": {},
   "source": [
    "Training RMSE lowers by .02 but No change in Test RMSE"
   ]
  },
  {
   "cell_type": "code",
   "execution_count": 23,
   "metadata": {},
   "outputs": [
    {
     "name": "stdout",
     "output_type": "stream",
     "text": [
      "Training RMSE: 0.05368130682852724\n",
      "Test RMSE: 0.13392963271313085\n"
     ]
    }
   ],
   "source": [
    "print('Training RMSE:' , math.sqrt(mean_squared_error(y_train_v, rf_tree_1.predict(X_train_v))))\n",
    "print('Test RMSE:' , math.sqrt(mean_squared_error(y_test_v, rf_tree_1.predict(X_test_v))))"
   ]
  },
  {
   "cell_type": "markdown",
   "metadata": {},
   "source": [
    "GRLiveArea now makes it to the top of the list after using Random Forest. The Bath Engineered Features make it to the top 10 important variables as well. The important of the top 10 features are now more spread out, as compared to the decision trees that select ALL predictors at each split"
   ]
  },
  {
   "cell_type": "code",
   "execution_count": 24,
   "metadata": {
    "collapsed": true
   },
   "outputs": [],
   "source": [
    "result_rf1 = pd.concat([pd.DataFrame(X_train_v.columns.values),pd.DataFrame(rf_tree_1.feature_importances_)], axis = 1)\n",
    "result_rf1.columns = ['Feature','Importance']\n",
    "result_rf1 = result_rf1.sort_values(by = 'Importance', ascending = False).head(10)"
   ]
  },
  {
   "cell_type": "code",
   "execution_count": 25,
   "metadata": {},
   "outputs": [
    {
     "data": {
      "text/plain": [
       "<matplotlib.axes._subplots.AxesSubplot at 0x1dfc8591978>"
      ]
     },
     "execution_count": 25,
     "metadata": {},
     "output_type": "execute_result"
    },
    {
     "data": {
      "image/png": "[encoded data removed]",
      "text/plain": [
       "<matplotlib.figure.Figure at 0x1dfc83fb0b8>"
      ]
     },
     "metadata": {},
     "output_type": "display_data"
    }
   ],
   "source": [
    "sns.barplot(x = 'Importance', y = 'Feature', data=result_rf1)"
   ]
  },
  {
   "cell_type": "markdown",
   "metadata": {},
   "source": [
    "# Grid Search CV to Tune Random Forest"
   ]
  },
  {
   "cell_type": "code",
   "execution_count": 43,
   "metadata": {},
   "outputs": [
    {
     "data": {
      "text/plain": [
       "GridSearchCV(cv=5, error_score='raise',\n",
       "       estimator=RandomForestRegressor(bootstrap=True, criterion='mse', max_depth=None,\n",
       "           max_features='auto', max_leaf_nodes=None,\n",
       "           min_impurity_decrease=0.0, min_impurity_split=None,\n",
       "           min_samples_leaf=1, min_samples_split=2,\n",
       "           min_weight_fraction_leaf=0.0, n_estimators=10, n_jobs=1,\n",
       "           oob_score=True, random_state=0, verbose=0, warm_start=False),\n",
       "       fit_params={}, iid=True, n_jobs=1,\n",
       "       param_grid=[{'n_estimators': [300, 400, 500, 600], 'max_features': array([35, 36, 37])}],\n",
       "       pre_dispatch='2*n_jobs', refit=True, scoring=None, verbose=0)"
      ]
     },
     "execution_count": 43,
     "metadata": {},
     "output_type": "execute_result"
    }
   ],
   "source": [
    "from sklearn.grid_search import GridSearchCV\n",
    "\n",
    "rf_tree_cv = RandomForestRegressor(\n",
    "                                bootstrap = True,\n",
    "                                oob_score = True,\n",
    "                                random_state = 0)\n",
    "\n",
    "rf_param_grid = [{\n",
    "        'n_estimators' : [300, 400, 500, 600], #Test[100,250,500,750,1000]\n",
    "        'max_features' : np.arange(35,38), # First try: np.arange(17,40)\n",
    "}]\n",
    "\n",
    "rf_grid_search = GridSearchCV(rf_tree_cv, param_grid = rf_param_grid, cv = 5)\n",
    "\n",
    "rf_grid_search.fit(X_train_v, y_train_v)"
   ]
  },
  {
   "cell_type": "markdown",
   "metadata": {},
   "source": [
    "## Best parameters: Max_features = 37, n_estimators = 500"
   ]
  },
  {
   "cell_type": "code",
   "execution_count": 44,
   "metadata": {},
   "outputs": [
    {
     "data": {
      "text/plain": [
       "{'max_features': 37, 'n_estimators': 500}"
      ]
     },
     "execution_count": 44,
     "metadata": {},
     "output_type": "execute_result"
    }
   ],
   "source": [
    "rf_grid_search.best_params_"
   ]
  },
  {
   "cell_type": "markdown",
   "metadata": {},
   "source": [
    "# Refit Random Forest with Tuned Hyperparameters"
   ]
  },
  {
   "cell_type": "code",
   "execution_count": 45,
   "metadata": {},
   "outputs": [
    {
     "data": {
      "text/plain": [
       "RandomForestRegressor(bootstrap=True, criterion='mse', max_depth=None,\n",
       "           max_features=37, max_leaf_nodes=None, min_impurity_decrease=0.0,\n",
       "           min_impurity_split=None, min_samples_leaf=1,\n",
       "           min_samples_split=2, min_weight_fraction_leaf=0.0,\n",
       "           n_estimators=500, n_jobs=1, oob_score=True, random_state=0,\n",
       "           verbose=0, warm_start=False)"
      ]
     },
     "execution_count": 45,
     "metadata": {},
     "output_type": "execute_result"
    }
   ],
   "source": [
    "rf_tree = RandomForestRegressor(n_estimators = 500,\n",
    "                                max_features = 37,\n",
    "                                bootstrap = True,\n",
    "                                oob_score = True,\n",
    "                                random_state = 0)\n",
    "\n",
    "\n",
    "rf_tree.fit(X_train_v, y_train_v)"
   ]
  },
  {
   "cell_type": "markdown",
   "metadata": {},
   "source": [
    "## R sq for Training: 98%, OOB: 87%, Test: 89%"
   ]
  },
  {
   "cell_type": "markdown",
   "metadata": {},
   "source": [
    "Test score was <1% higher in the tuned Random Forest than the untuned Random Forest model"
   ]
  },
  {
   "cell_type": "code",
   "execution_count": 46,
   "metadata": {},
   "outputs": [
    {
     "name": "stdout",
     "output_type": "stream",
     "text": [
      "Training Score: 0.982907984916\n",
      "OOB Score: 0.871618148164\n",
      "Test Score: 0.894296055868\n"
     ]
    }
   ],
   "source": [
    "print('Training Score:', rf_tree.score(X_train_v, y_train_v))\n",
    "print('OOB Score:', rf_tree.oob_score_)\n",
    "print('Test Score:', rf_tree.score(X_test_v, y_test_v))"
   ]
  },
  {
   "cell_type": "markdown",
   "metadata": {},
   "source": [
    "### Error: Training RMSE = .0523"
   ]
  },
  {
   "cell_type": "code",
   "execution_count": 47,
   "metadata": {},
   "outputs": [
    {
     "name": "stdout",
     "output_type": "stream",
     "text": [
      "Training RMSE: 0.052258663356693484\n"
     ]
    }
   ],
   "source": [
    "from sklearn.metrics import mean_squared_error\n",
    "\n",
    "print('Training RMSE:' , math.sqrt(mean_squared_error(y_train_v, rf_tree.predict(X_train_v))))"
   ]
  },
  {
   "cell_type": "markdown",
   "metadata": {},
   "source": [
    "### Error: Test RMSE = .1274"
   ]
  },
  {
   "cell_type": "code",
   "execution_count": 49,
   "metadata": {},
   "outputs": [
    {
     "name": "stdout",
     "output_type": "stream",
     "text": [
      "Test RMSE: 0.12744106369555977\n"
     ]
    }
   ],
   "source": [
    "print('Test RMSE:', math.sqrt(mean_squared_error(y_test_v, rf_tree.predict(X_test_v))))"
   ]
  },
  {
   "cell_type": "markdown",
   "metadata": {},
   "source": [
    "### Top 10 Important Variables"
   ]
  },
  {
   "cell_type": "code",
   "execution_count": 53,
   "metadata": {
    "collapsed": true
   },
   "outputs": [],
   "source": [
    "result = pd.concat([pd.DataFrame(X_train_v.columns.values),pd.DataFrame(rf_tree.feature_importances_)], axis = 1)\n",
    "result.columns = ['Feature','Importance']\n",
    "result = result.sort_values(by = 'Importance', ascending = False).head(10)"
   ]
  },
  {
   "cell_type": "code",
   "execution_count": 54,
   "metadata": {},
   "outputs": [
    {
     "data": {
      "text/html": [
       "<div>\n",
       "<style>\n",
       "    .dataframe thead tr:only-child th {\n",
       "        text-align: right;\n",
       "    }\n",
       "\n",
       "    .dataframe thead th {\n",
       "        text-align: left;\n",
       "    }\n",
       "\n",
       "    .dataframe tbody tr th {\n",
       "        vertical-align: top;\n",
       "    }\n",
       "</style>\n",
       "<table border=\"1\" class=\"dataframe\">\n",
       "  <thead>\n",
       "    <tr style=\"text-align: right;\">\n",
       "      <th></th>\n",
       "      <th>Feature</th>\n",
       "      <th>Importance</th>\n",
       "    </tr>\n",
       "  </thead>\n",
       "  <tbody>\n",
       "    <tr>\n",
       "      <th>23</th>\n",
       "      <td>OverallQual</td>\n",
       "      <td>0.121189</td>\n",
       "    </tr>\n",
       "    <tr>\n",
       "      <th>13</th>\n",
       "      <td>GrLivArea</td>\n",
       "      <td>0.098415</td>\n",
       "    </tr>\n",
       "    <tr>\n",
       "      <th>28</th>\n",
       "      <td>YearBuilt</td>\n",
       "      <td>0.059012</td>\n",
       "    </tr>\n",
       "    <tr>\n",
       "      <th>12</th>\n",
       "      <td>GarageCars</td>\n",
       "      <td>0.053323</td>\n",
       "    </tr>\n",
       "    <tr>\n",
       "      <th>26</th>\n",
       "      <td>TotalBsmtSF</td>\n",
       "      <td>0.051526</td>\n",
       "    </tr>\n",
       "    <tr>\n",
       "      <th>11</th>\n",
       "      <td>GarageArea</td>\n",
       "      <td>0.042570</td>\n",
       "    </tr>\n",
       "    <tr>\n",
       "      <th>10</th>\n",
       "      <td>FullBath</td>\n",
       "      <td>0.042418</td>\n",
       "    </tr>\n",
       "    <tr>\n",
       "      <th>0</th>\n",
       "      <td>1stFlrSF</td>\n",
       "      <td>0.039193</td>\n",
       "    </tr>\n",
       "    <tr>\n",
       "      <th>34</th>\n",
       "      <td>TotBath</td>\n",
       "      <td>0.036069</td>\n",
       "    </tr>\n",
       "    <tr>\n",
       "      <th>93</th>\n",
       "      <td>ExterQual_TA</td>\n",
       "      <td>0.031174</td>\n",
       "    </tr>\n",
       "  </tbody>\n",
       "</table>\n",
       "</div>"
      ],
      "text/plain": [
       "         Feature  Importance\n",
       "23   OverallQual    0.121189\n",
       "13     GrLivArea    0.098415\n",
       "28     YearBuilt    0.059012\n",
       "12    GarageCars    0.053323\n",
       "26   TotalBsmtSF    0.051526\n",
       "11    GarageArea    0.042570\n",
       "10      FullBath    0.042418\n",
       "0       1stFlrSF    0.039193\n",
       "34       TotBath    0.036069\n",
       "93  ExterQual_TA    0.031174"
      ]
     },
     "execution_count": 54,
     "metadata": {},
     "output_type": "execute_result"
    }
   ],
   "source": [
    "result"
   ]
  },
  {
   "cell_type": "code",
   "execution_count": 55,
   "metadata": {},
   "outputs": [
    {
     "data": {
      "text/plain": [
       "<matplotlib.axes._subplots.AxesSubplot at 0x1dfcd07ccf8>"
      ]
     },
     "execution_count": 55,
     "metadata": {},
     "output_type": "execute_result"
    },
    {
     "data": {
      "image/png": "[encoded data removed]",
      "text/plain": [
       "<matplotlib.figure.Figure at 0x1dfcd0be748>"
      ]
     },
     "metadata": {},
     "output_type": "display_data"
    }
   ],
   "source": [
    "sns.set_style(\"whitegrid\")\n",
    "sns.barplot(x = 'Importance', y = 'Feature', data=result)"
   ]
  },
  {
   "cell_type": "markdown",
   "metadata": {},
   "source": [
    "# Plotting Training and Test Error"
   ]
  },
  {
   "cell_type": "code",
   "execution_count": 64,
   "metadata": {},
   "outputs": [
    {
     "data": {
      "image/png": "[encoded data removed]",
      "text/plain": [
       "<matplotlib.figure.Figure at 0x1dfccf86ac8>"
      ]
     },
     "metadata": {},
     "output_type": "display_data"
    }
   ],
   "source": [
    "subset = range(30, 40)\n",
    "train_error = []\n",
    "test_error = []\n",
    "for i in subset:\n",
    "    rf_tree.set_params(max_features=i)\n",
    "    rf_tree.fit(X_train_v, y_train_v)\n",
    "    train_error.append(1 - rf_tree.score(X_train_v, y_train_v))\n",
    "    test_error.append(1 - rf_tree.score(X_test_v, y_test_v))\n",
    "\n",
    "import matplotlib.pyplot as plt\n",
    "plt.plot(subset, train_error, c='red', label='training error')\n",
    "plt.plot(subset, test_error, c='blue', label='test error')\n",
    "plt.ylim(0, 0.18)\n",
    "plt.legend()\n",
    "plt.show()"
   ]
  },
  {
   "cell_type": "markdown",
   "metadata": {},
   "source": [
    "## Thoughts so far:"
   ]
  },
  {
   "cell_type": "markdown",
   "metadata": {},
   "source": [
    "The random forest models had better training and test scores as well as lower MSE than the decision tree. \n",
    "\n",
    "The tuned Random Forest model had slightly higher R^2 than the untuned Random Forest, BUT it also had a slightly higher "
   ]
  },
  {
   "cell_type": "code",
   "execution_count": 60,
   "metadata": {},
   "outputs": [],
   "source": [
    "R2_RForest_test = rf_tree.score(X_train_v, y_train_v)\n",
    "RMSE_RForest_test = math.sqrt(mean_squared_error(y_test_v, rf_tree.predict(X_test_v)))\n",
    "output_RForest_test = np.exp(rf_tree.predict(house_test_x))"
   ]
  },
  {
   "cell_type": "markdown",
   "metadata": {},
   "source": [
    "# For Stacking"
   ]
  },
  {
   "cell_type": "code",
   "execution_count": 57,
   "metadata": {},
   "outputs": [
    {
     "data": {
      "text/plain": [
       "0.98290798491596809"
      ]
     },
     "execution_count": 57,
     "metadata": {},
     "output_type": "execute_result"
    }
   ],
   "source": [
    "# output_RForest_test validation Rsq \n",
    "R2_RForest_test"
   ]
  },
  {
   "cell_type": "code",
   "execution_count": 58,
   "metadata": {},
   "outputs": [
    {
     "data": {
      "text/plain": [
       "0.12744106369555977"
      ]
     },
     "execution_count": 58,
     "metadata": {},
     "output_type": "execute_result"
    }
   ],
   "source": [
    "# RMSE for validation test\n",
    "RMSE_RForest_test"
   ]
  },
  {
   "cell_type": "code",
   "execution_count": 61,
   "metadata": {},
   "outputs": [
    {
     "data": {
      "text/plain": [
       "array([ 123263.52114917,  152166.95208687,  181439.48272637, ...,\n",
       "        155008.69376957,  107883.58674749,  234182.74410917])"
      ]
     },
     "execution_count": 61,
     "metadata": {},
     "output_type": "execute_result"
    }
   ],
   "source": [
    "# array of predicted Ys on the real test\n",
    "output_RForest_test"
   ]
  }
 ],
 "metadata": {
  "kernelspec": {
   "display_name": "Python 3",
   "language": "python",
   "name": "python3"
  },
  "language_info": {
   "codemirror_mode": {
    "name": "ipython",
    "version": 3
   },
   "file_extension": ".py",
   "mimetype": "text/x-python",
   "name": "python",
   "nbconvert_exporter": "python",
   "pygments_lexer": "ipython3",
   "version": "3.6.3"
  }
 },
 "nbformat": 4,
 "nbformat_minor": 2
}
