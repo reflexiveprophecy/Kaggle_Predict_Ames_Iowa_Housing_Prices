{
 "cells": [
  {
   "cell_type": "markdown",
   "metadata": {},
   "source": [
    "# Load Files"
   ]
  },
  {
   "cell_type": "code",
   "execution_count": 15,
   "metadata": {
    "collapsed": true
   },
   "outputs": [],
   "source": [
    "import re\n",
    "import pandas as pd\n",
    "import os\n",
    "import seaborn as sns\n",
    "import numpy as np\n",
    "import warnings\n",
    "import math\n",
    "warnings.filterwarnings('ignore')\n",
    "import matplotlib.pyplot as plt\n",
    "import seaborn as sns\n",
    "from sklearn.metrics import mean_squared_error\n",
    "%matplotlib inline"
   ]
  },
  {
   "cell_type": "code",
   "execution_count": 16,
   "metadata": {
    "collapsed": true
   },
   "outputs": [],
   "source": [
    "house_train = pd.read_csv('Datasets/train_Wenchang.csv')\n",
    "house_test = pd.read_csv('Datasets/test_Wenchang.csv')"
   ]
  },
  {
   "cell_type": "markdown",
   "metadata": {},
   "source": [
    "# Pre Processing"
   ]
  },
  {
   "cell_type": "code",
   "execution_count": 17,
   "metadata": {
    "collapsed": true
   },
   "outputs": [],
   "source": [
    "# Combining both house_train and house_test to clean data\n",
    "house_train # 80 columns\n",
    "house_test # 79 columns. need SalePrice placeholder\n",
    "house_test['SalePrice'] = np.nan\n",
    "\n",
    "# house_test starts on index row 1460 \n",
    "house_full = pd.concat([house_train, house_test], axis = 0)"
   ]
  },
  {
   "cell_type": "markdown",
   "metadata": {},
   "source": [
    "# Feature Engineering\n"
   ]
  },
  {
   "cell_type": "markdown",
   "metadata": {},
   "source": [
    "### Bath Capacity"
   ]
  },
  {
   "cell_type": "code",
   "execution_count": 18,
   "metadata": {},
   "outputs": [
    {
     "data": {
      "text/plain": [
       "array([ 0.83333333,  0.66666667,  0.33333333,  0.625     ,  1.5       ,\n",
       "        1.        ,  0.5       ,  0.75      ,  0.875     ,  0.375     ,\n",
       "        0.16666667,  1.16666667,  1.25      ,  0.6       ,  0.25      ,\n",
       "        2.        ,  0.2       ,  0.4       ,  0.7       ,  0.41666667,\n",
       "        1.33333333,  0.3       ])"
      ]
     },
     "execution_count": 18,
     "metadata": {},
     "output_type": "execute_result"
    }
   ],
   "source": [
    "# Total Number of bathrooms\n",
    "house_full['TotBath'] = house_full.FullBath + .5*house_full.HalfBath\n",
    "\n",
    "# Replace zeros with median\n",
    "house_full.TotBath.replace(0, house_full.TotBath.median(), inplace=True)\n",
    "\n",
    "# Replace zero bedrooms with median bedroom #. This is so we can engineer a feature\n",
    "house_full.BedroomAbvGr.replace(0, house_full.BedroomAbvGr.median(), inplace=True)\n",
    "house_full.BedroomAbvGr.unique()\n",
    "\n",
    "# Bath Capacity. The higher the ratio the better\n",
    "house_full['Bath_Capacity'] = house_full.TotBath / house_full.BedroomAbvGr\n",
    "house_full.Bath_Capacity.unique()"
   ]
  },
  {
   "cell_type": "markdown",
   "metadata": {},
   "source": [
    "### Parking Capacity"
   ]
  },
  {
   "cell_type": "code",
   "execution_count": 19,
   "metadata": {},
   "outputs": [
    {
     "data": {
      "text/plain": [
       "array([ 0.66666667,  1.        ,  0.75      ,  2.        ,  0.5       ,\n",
       "        0.33333333,  0.        ,  0.25      ,  0.6       ,  1.5       ,\n",
       "        3.        ,  0.4       ,  0.16666667,  0.2       ,  1.33333333,\n",
       "        2.5       ])"
      ]
     },
     "execution_count": 19,
     "metadata": {},
     "output_type": "execute_result"
    }
   ],
   "source": [
    "# Parking Capacity. The higher the better\n",
    "house_full['Parking_Capacity'] = house_full.GarageCars / house_full.BedroomAbvGr\n",
    "house_full.Parking_Capacity.unique()"
   ]
  },
  {
   "cell_type": "markdown",
   "metadata": {},
   "source": [
    "### Split Data back into Training/Testing"
   ]
  },
  {
   "cell_type": "code",
   "execution_count": 20,
   "metadata": {
    "collapsed": true
   },
   "outputs": [],
   "source": [
    "# split full data back to training and test before imputation\n",
    "house_train = house_full.iloc[0:1460,:]\n",
    "house_test = house_full.iloc[1460:,]"
   ]
  },
  {
   "cell_type": "markdown",
   "metadata": {},
   "source": [
    "### Check for Null in Training"
   ]
  },
  {
   "cell_type": "code",
   "execution_count": 21,
   "metadata": {},
   "outputs": [
    {
     "data": {
      "text/plain": [
       "0"
      ]
     },
     "execution_count": 21,
     "metadata": {},
     "output_type": "execute_result"
    }
   ],
   "source": [
    "# Check for  null values in training data\n",
    "house_train.isnull().any().sum() # none"
   ]
  },
  {
   "cell_type": "markdown",
   "metadata": {},
   "source": [
    "### Check for Null in Test"
   ]
  },
  {
   "cell_type": "code",
   "execution_count": 22,
   "metadata": {},
   "outputs": [
    {
     "data": {
      "text/plain": [
       "1"
      ]
     },
     "execution_count": 22,
     "metadata": {},
     "output_type": "execute_result"
    }
   ],
   "source": [
    "# Check for  null values in training data\n",
    "house_test.isnull().any().sum() # Only SalePrice is still Null"
   ]
  },
  {
   "cell_type": "markdown",
   "metadata": {},
   "source": [
    "### Finishing touch, delete index column"
   ]
  },
  {
   "cell_type": "code",
   "execution_count": 23,
   "metadata": {
    "collapsed": true
   },
   "outputs": [],
   "source": [
    "del house_train['Unnamed: 0']\n",
    "del house_test['Unnamed: 0']"
   ]
  },
  {
   "cell_type": "code",
   "execution_count": 24,
   "metadata": {},
   "outputs": [
    {
     "data": {
      "text/plain": [
       "0    208500.0\n",
       "1    181500.0\n",
       "2    223500.0\n",
       "3    140000.0\n",
       "4    250000.0\n",
       "Name: SalePrice, dtype: float64"
      ]
     },
     "execution_count": 24,
     "metadata": {},
     "output_type": "execute_result"
    }
   ],
   "source": [
    "house_train.SalePrice.head()"
   ]
  },
  {
   "cell_type": "code",
   "execution_count": 25,
   "metadata": {},
   "outputs": [
    {
     "data": {
      "text/plain": [
       "0   NaN\n",
       "1   NaN\n",
       "2   NaN\n",
       "3   NaN\n",
       "4   NaN\n",
       "Name: SalePrice, dtype: float64"
      ]
     },
     "execution_count": 25,
     "metadata": {},
     "output_type": "execute_result"
    }
   ],
   "source": [
    "house_test.SalePrice.head()"
   ]
  },
  {
   "cell_type": "markdown",
   "metadata": {},
   "source": [
    "# Normalize SalePrice variable"
   ]
  },
  {
   "cell_type": "code",
   "execution_count": 26,
   "metadata": {},
   "outputs": [
    {
     "data": {
      "image/png": "[encoded data removed]",
      "text/plain": [
       "<matplotlib.figure.Figure at 0x2c1be5bdd68>"
      ]
     },
     "metadata": {},
     "output_type": "display_data"
    }
   ],
   "source": [
    "sns.distplot(house_train.SalePrice, bins = 20)\n",
    "sns.distplot([np.log(house_train.SalePrice + 1)], bins = 20)\n",
    "\n",
    "# Converting SalePrice to Log\n",
    "house_train.SalePrice = np.log(house_train.SalePrice)\n"
   ]
  },
  {
   "cell_type": "markdown",
   "metadata": {},
   "source": [
    "# Dummify and Seperate Training Set to Another Training and Test Set"
   ]
  },
  {
   "cell_type": "code",
   "execution_count": 56,
   "metadata": {
    "collapsed": true
   },
   "outputs": [],
   "source": [
    "from copy import deepcopy\n",
    "import sklearn.model_selection as ms\n",
    "\n",
    "# Creating a deep copy of training set \n",
    "house_train_copy = deepcopy(house_train)\n",
    "\n",
    "house_train_x = pd.get_dummies(house_train_copy.drop('SalePrice', axis = 1))\n",
    "house_train_y = house_train_copy.SalePrice.values.reshape(-1,1)\n",
    "\n",
    "# Create sperate out original training set to the new training and test set\n",
    "x_train, x_test, y_train, y_test = ms.train_test_split(house_train_x, \\\n",
    "                                                       house_train_y, \\\n",
    "                                                       test_size = 1/8, \\\n",
    "                                                       random_state = 123)\n"
   ]
  },
  {
   "cell_type": "markdown",
   "metadata": {},
   "source": [
    "# Fitting Decision Tree"
   ]
  },
  {
   "cell_type": "code",
   "execution_count": 57,
   "metadata": {},
   "outputs": [
    {
     "data": {
      "text/plain": [
       "DecisionTreeRegressor(criterion='mse', max_depth=None, max_features=None,\n",
       "           max_leaf_nodes=None, min_impurity_decrease=0.0,\n",
       "           min_impurity_split=None, min_samples_leaf=1,\n",
       "           min_samples_split=2, min_weight_fraction_leaf=0.0,\n",
       "           presort=False, random_state=None, splitter='best')"
      ]
     },
     "execution_count": 57,
     "metadata": {},
     "output_type": "execute_result"
    }
   ],
   "source": [
    "from sklearn import tree\n",
    "\n",
    "# Train decision tree\n",
    "tree_model_1 = tree.DecisionTreeRegressor()\n",
    "tree_model_1.fit(x_train, y_train)"
   ]
  },
  {
   "cell_type": "markdown",
   "metadata": {},
   "source": [
    "### First try, got 99% R sq on training, and 73% R sq on test"
   ]
  },
  {
   "cell_type": "code",
   "execution_count": 60,
   "metadata": {
    "scrolled": true
   },
   "outputs": [
    {
     "name": "stdout",
     "output_type": "stream",
     "text": [
      "Training Score: 0.999999994877\n",
      "Test Score: 0.749555391388\n"
     ]
    }
   ],
   "source": [
    "print('Training Score:',tree_model_1.score(x_train, y_train))\n",
    "print('Test Score:',tree_model_1.score(x_test, y_test))"
   ]
  },
  {
   "cell_type": "markdown",
   "metadata": {},
   "source": [
    "### Error : Training RMSE = .1582 , Testing RMSE = .1938"
   ]
  },
  {
   "cell_type": "code",
   "execution_count": 59,
   "metadata": {},
   "outputs": [
    {
     "name": "stdout",
     "output_type": "stream",
     "text": [
      "Training RMSE: 2.860942747092789e-05\n",
      "Test RMSE: 0.19616414736716065\n"
     ]
    }
   ],
   "source": [
    "print('Training RMSE:' , math.sqrt(mean_squared_error(y_train, tree_model_1.predict(x_train))))\n",
    "print('Test RMSE:' , math.sqrt(mean_squared_error(y_test, tree_model_1.predict(x_test))))"
   ]
  },
  {
   "cell_type": "markdown",
   "metadata": {},
   "source": [
    "### These were the top 10 variables"
   ]
  },
  {
   "cell_type": "markdown",
   "metadata": {},
   "source": [
    "Engineered features not showing up"
   ]
  },
  {
   "cell_type": "code",
   "execution_count": null,
   "metadata": {},
   "outputs": [],
   "source": [
    "result_tree1 = pd.concat([ pd.DataFrame(x_train.columns.values),  pd.DataFrame(tree_model_1.feature_importances_)], axis = 1)\n",
    "result_tree1.columns = ['Feature', 'Importance']\n",
    "result_tree1 = result_tree1.sort_values(by = 'Importance', ascending = False).head(10)\n",
    "result_tree1"
   ]
  },
  {
   "cell_type": "code",
   "execution_count": 23,
   "metadata": {
    "scrolled": true
   },
   "outputs": [
    {
     "data": {
      "text/plain": [
       "<matplotlib.axes._subplots.AxesSubplot at 0x260e1e57470>"
      ]
     },
     "execution_count": 23,
     "metadata": {},
     "output_type": "execute_result"
    },
    {
     "data": {
      "image/png": "[encoded data removed]",
      "text/plain": [
       "<matplotlib.figure.Figure at 0x260e1e644a8>"
      ]
     },
     "metadata": {},
     "output_type": "display_data"
    }
   ],
   "source": [
    "#sns.color_palette(\"husl\")\n",
    "sns.set_style(\"whitegrid\")\n",
    "sns.barplot(x = 'Importance', y = 'Feature', data=result_tree1, palette=\"husl\")"
   ]
  },
  {
   "cell_type": "markdown",
   "metadata": {},
   "source": [
    "# Tuning Decision Tree"
   ]
  },
  {
   "cell_type": "code",
   "execution_count": 39,
   "metadata": {},
   "outputs": [
    {
     "name": "stdout",
     "output_type": "stream",
     "text": [
      "Fitting 5 folds for each of 180 candidates, totalling 900 fits\n",
      "[CV] max_depth=1, min_samples_leaf=1 .................................\n",
      "[CV] ........................ max_depth=1, min_samples_leaf=1 -   0.0s\n",
      "[CV] max_depth=1, min_samples_leaf=1 .................................\n",
      "[CV] ........................ max_depth=1, min_samples_leaf=1 -   0.0s\n",
      "[CV] max_depth=1, min_samples_leaf=1 .................................\n",
      "[CV] ........................ max_depth=1, min_samples_leaf=1 -   0.0s\n",
      "[CV] max_depth=1, min_samples_leaf=1 .................................\n",
      "[CV] ........................ max_depth=1, min_samples_leaf=1 -   0.0s\n",
      "[CV] max_depth=1, min_samples_leaf=1 .................................\n",
      "[CV] ........................ max_depth=1, min_samples_leaf=1 -   0.0s\n",
      "[CV] max_depth=1, min_samples_leaf=2 .................................\n",
      "[CV] ........................ max_depth=1, min_samples_leaf=2 -   0.0s\n",
      "[CV] max_depth=1, min_samples_leaf=2 .................................\n",
      "[CV] ........................ max_depth=1, min_samples_leaf=2 -   0.0s\n",
      "[CV] max_depth=1, min_samples_leaf=2 .................................\n",
      "[CV] ........................ max_depth=1, min_samples_leaf=2 -   0.0s\n",
      "[CV] max_depth=1, min_samples_leaf=2 .................................\n",
      "[CV] ........................ max_depth=1, min_samples_leaf=2 -   0.0s\n",
      "[CV] max_depth=1, min_samples_leaf=2 .................................\n",
      "[CV] ........................ max_depth=1, min_samples_leaf=2 -   0.0s\n",
      "[CV] max_depth=1, min_samples_leaf=3 .................................\n",
      "[CV] ........................ max_depth=1, min_samples_leaf=3 -   0.0s\n",
      "[CV] max_depth=1, min_samples_leaf=3 .................................\n",
      "[CV] ........................ max_depth=1, min_samples_leaf=3 -   0.0s\n",
      "[CV] max_depth=1, min_samples_leaf=3 .................................\n",
      "[CV] ........................ max_depth=1, min_samples_leaf=3 -   0.0s\n",
      "[CV] max_depth=1, min_samples_leaf=3 .................................\n",
      "[CV] ........................ max_depth=1, min_samples_leaf=3 -   0.0s\n",
      "[CV] max_depth=1, min_samples_leaf=3 .................................\n",
      "[CV] ........................ max_depth=1, min_samples_leaf=3 -   0.0s\n",
      "[CV] max_depth=1, min_samples_leaf=4 .................................\n"
     ]
    },
    {
     "name": "stderr",
     "output_type": "stream",
     "text": [
      "[Parallel(n_jobs=1)]: Done   1 out of   1 | elapsed:    0.0s remaining:    0.0s\n"
     ]
    },
    {
     "name": "stdout",
     "output_type": "stream",
     "text": [
      "[CV] ........................ max_depth=1, min_samples_leaf=4 -   0.0s\n",
      "[CV] max_depth=1, min_samples_leaf=4 .................................\n",
      "[CV] ........................ max_depth=1, min_samples_leaf=4 -   0.0s\n",
      "[CV] max_depth=1, min_samples_leaf=4 .................................\n",
      "[CV] ........................ max_depth=1, min_samples_leaf=4 -   0.0s\n",
      "[CV] max_depth=1, min_samples_leaf=4 .................................\n",
      "[CV] ........................ max_depth=1, min_samples_leaf=4 -   0.0s\n",
      "[CV] max_depth=1, min_samples_leaf=4 .................................\n",
      "[CV] ........................ max_depth=1, min_samples_leaf=4 -   0.0s\n",
      "[CV] max_depth=1, min_samples_leaf=5 .................................\n",
      "[CV] ........................ max_depth=1, min_samples_leaf=5 -   0.0s\n",
      "[CV] max_depth=1, min_samples_leaf=5 .................................\n",
      "[CV] ........................ max_depth=1, min_samples_leaf=5 -   0.0s\n",
      "[CV] max_depth=1, min_samples_leaf=5 .................................\n",
      "[CV] ........................ max_depth=1, min_samples_leaf=5 -   0.0s\n",
      "[CV] max_depth=1, min_samples_leaf=5 .................................\n",
      "[CV] ........................ max_depth=1, min_samples_leaf=5 -   0.0s\n",
      "[CV] max_depth=1, min_samples_leaf=5 .................................\n",
      "[CV] ........................ max_depth=1, min_samples_leaf=5 -   0.0s\n",
      "[CV] max_depth=1, min_samples_leaf=6 .................................\n",
      "[CV] ........................ max_depth=1, min_samples_leaf=6 -   0.0s\n",
      "[CV] max_depth=1, min_samples_leaf=6 .................................\n",
      "[CV] ........................ max_depth=1, min_samples_leaf=6 -   0.0s\n",
      "[CV] max_depth=1, min_samples_leaf=6 .................................\n",
      "[CV] ........................ max_depth=1, min_samples_leaf=6 -   0.0s\n",
      "[CV] max_depth=1, min_samples_leaf=6 .................................\n",
      "[CV] ........................ max_depth=1, min_samples_leaf=6 -   0.0s\n",
      "[CV] max_depth=1, min_samples_leaf=6 .................................\n",
      "[CV] ........................ max_depth=1, min_samples_leaf=6 -   0.0s\n",
      "[CV] max_depth=1, min_samples_leaf=7 .................................\n",
      "[CV] ........................ max_depth=1, min_samples_leaf=7 -   0.0s\n",
      "[CV] max_depth=1, min_samples_leaf=7 .................................\n",
      "[CV] ........................ max_depth=1, min_samples_leaf=7 -   0.0s\n",
      "[CV] max_depth=1, min_samples_leaf=7 .................................\n",
      "[CV] ........................ max_depth=1, min_samples_leaf=7 -   0.0s\n",
      "[CV] max_depth=1, min_samples_leaf=7 .................................\n",
      "[CV] ........................ max_depth=1, min_samples_leaf=7 -   0.0s\n",
      "[CV] max_depth=1, min_samples_leaf=7 .................................\n",
      "[CV] ........................ max_depth=1, min_samples_leaf=7 -   0.0s\n",
      "[CV] max_depth=1, min_samples_leaf=8 .................................\n",
      "[CV] ........................ max_depth=1, min_samples_leaf=8 -   0.0s\n",
      "[CV] max_depth=1, min_samples_leaf=8 .................................\n",
      "[CV] ........................ max_depth=1, min_samples_leaf=8 -   0.0s\n",
      "[CV] max_depth=1, min_samples_leaf=8 .................................\n",
      "[CV] ........................ max_depth=1, min_samples_leaf=8 -   0.0s\n",
      "[CV] max_depth=1, min_samples_leaf=8 .................................\n",
      "[CV] ........................ max_depth=1, min_samples_leaf=8 -   0.0s\n",
      "[CV] max_depth=1, min_samples_leaf=8 .................................\n",
      "[CV] ........................ max_depth=1, min_samples_leaf=8 -   0.0s\n",
      "[CV] max_depth=1, min_samples_leaf=9 .................................\n",
      "[CV] ........................ max_depth=1, min_samples_leaf=9 -   0.0s\n",
      "[CV] max_depth=1, min_samples_leaf=9 .................................\n",
      "[CV] ........................ max_depth=1, min_samples_leaf=9 -   0.0s\n",
      "[CV] max_depth=1, min_samples_leaf=9 .................................\n",
      "[CV] ........................ max_depth=1, min_samples_leaf=9 -   0.0s\n",
      "[CV] max_depth=1, min_samples_leaf=9 .................................\n",
      "[CV] ........................ max_depth=1, min_samples_leaf=9 -   0.0s\n",
      "[CV] max_depth=1, min_samples_leaf=9 .................................\n",
      "[CV] ........................ max_depth=1, min_samples_leaf=9 -   0.0s\n",
      "[CV] max_depth=2, min_samples_leaf=1 .................................\n",
      "[CV] ........................ max_depth=2, min_samples_leaf=1 -   0.0s\n",
      "[CV] max_depth=2, min_samples_leaf=1 .................................\n",
      "[CV] ........................ max_depth=2, min_samples_leaf=1 -   0.0s\n",
      "[CV] max_depth=2, min_samples_leaf=1 .................................\n",
      "[CV] ........................ max_depth=2, min_samples_leaf=1 -   0.0s\n",
      "[CV] max_depth=2, min_samples_leaf=1 .................................\n",
      "[CV] ........................ max_depth=2, min_samples_leaf=1 -   0.0s\n",
      "[CV] max_depth=2, min_samples_leaf=1 .................................\n",
      "[CV] ........................ max_depth=2, min_samples_leaf=1 -   0.0s\n",
      "[CV] max_depth=2, min_samples_leaf=2 .................................\n",
      "[CV] ........................ max_depth=2, min_samples_leaf=2 -   0.0s\n",
      "[CV] max_depth=2, min_samples_leaf=2 .................................\n",
      "[CV] ........................ max_depth=2, min_samples_leaf=2 -   0.0s\n",
      "[CV] max_depth=2, min_samples_leaf=2 .................................\n",
      "[CV] ........................ max_depth=2, min_samples_leaf=2 -   0.0s\n",
      "[CV] max_depth=2, min_samples_leaf=2 .................................\n",
      "[CV] ........................ max_depth=2, min_samples_leaf=2 -   0.0s\n",
      "[CV] max_depth=2, min_samples_leaf=2 .................................\n",
      "[CV] ........................ max_depth=2, min_samples_leaf=2 -   0.0s\n",
      "[CV] max_depth=2, min_samples_leaf=3 .................................\n",
      "[CV] ........................ max_depth=2, min_samples_leaf=3 -   0.0s\n",
      "[CV] max_depth=2, min_samples_leaf=3 .................................\n",
      "[CV] ........................ max_depth=2, min_samples_leaf=3 -   0.0s\n",
      "[CV] max_depth=2, min_samples_leaf=3 .................................\n",
      "[CV] ........................ max_depth=2, min_samples_leaf=3 -   0.0s\n",
      "[CV] max_depth=2, min_samples_leaf=3 .................................\n",
      "[CV] ........................ max_depth=2, min_samples_leaf=3 -   0.0s\n",
      "[CV] max_depth=2, min_samples_leaf=3 .................................\n",
      "[CV] ........................ max_depth=2, min_samples_leaf=3 -   0.0s\n",
      "[CV] max_depth=2, min_samples_leaf=4 .................................\n",
      "[CV] ........................ max_depth=2, min_samples_leaf=4 -   0.0s\n",
      "[CV] max_depth=2, min_samples_leaf=4 .................................\n",
      "[CV] ........................ max_depth=2, min_samples_leaf=4 -   0.0s\n",
      "[CV] max_depth=2, min_samples_leaf=4 .................................\n",
      "[CV] ........................ max_depth=2, min_samples_leaf=4 -   0.0s\n",
      "[CV] max_depth=2, min_samples_leaf=4 .................................\n",
      "[CV] ........................ max_depth=2, min_samples_leaf=4 -   0.0s\n",
      "[CV] max_depth=2, min_samples_leaf=4 .................................\n",
      "[CV] ........................ max_depth=2, min_samples_leaf=4 -   0.0s\n",
      "[CV] max_depth=2, min_samples_leaf=5 .................................\n",
      "[CV] ........................ max_depth=2, min_samples_leaf=5 -   0.0s\n",
      "[CV] max_depth=2, min_samples_leaf=5 .................................\n",
      "[CV] ........................ max_depth=2, min_samples_leaf=5 -   0.0s\n",
      "[CV] max_depth=2, min_samples_leaf=5 .................................\n",
      "[CV] ........................ max_depth=2, min_samples_leaf=5 -   0.0s\n",
      "[CV] max_depth=2, min_samples_leaf=5 .................................\n",
      "[CV] ........................ max_depth=2, min_samples_leaf=5 -   0.0s\n",
      "[CV] max_depth=2, min_samples_leaf=5 .................................\n",
      "[CV] ........................ max_depth=2, min_samples_leaf=5 -   0.0s\n",
      "[CV] max_depth=2, min_samples_leaf=6 .................................\n",
      "[CV] ........................ max_depth=2, min_samples_leaf=6 -   0.0s\n",
      "[CV] max_depth=2, min_samples_leaf=6 .................................\n",
      "[CV] ........................ max_depth=2, min_samples_leaf=6 -   0.0s\n",
      "[CV] max_depth=2, min_samples_leaf=6 .................................\n",
      "[CV] ........................ max_depth=2, min_samples_leaf=6 -   0.0s\n",
      "[CV] max_depth=2, min_samples_leaf=6 .................................\n",
      "[CV] ........................ max_depth=2, min_samples_leaf=6 -   0.0s\n",
      "[CV] max_depth=2, min_samples_leaf=6 .................................\n"
     ]
    },
    {
     "name": "stdout",
     "output_type": "stream",
     "text": [
      "[CV] ........................ max_depth=2, min_samples_leaf=6 -   0.0s\n",
      "[CV] max_depth=2, min_samples_leaf=7 .................................\n",
      "[CV] ........................ max_depth=2, min_samples_leaf=7 -   0.0s\n",
      "[CV] max_depth=2, min_samples_leaf=7 .................................\n",
      "[CV] ........................ max_depth=2, min_samples_leaf=7 -   0.0s\n",
      "[CV] max_depth=2, min_samples_leaf=7 .................................\n",
      "[CV] ........................ max_depth=2, min_samples_leaf=7 -   0.0s\n",
      "[CV] max_depth=2, min_samples_leaf=7 .................................\n",
      "[CV] ........................ max_depth=2, min_samples_leaf=7 -   0.0s\n",
      "[CV] max_depth=2, min_samples_leaf=7 .................................\n",
      "[CV] ........................ max_depth=2, min_samples_leaf=7 -   0.0s\n",
      "[CV] max_depth=2, min_samples_leaf=8 .................................\n",
      "[CV] ........................ max_depth=2, min_samples_leaf=8 -   0.0s\n",
      "[CV] max_depth=2, min_samples_leaf=8 .................................\n",
      "[CV] ........................ max_depth=2, min_samples_leaf=8 -   0.0s\n",
      "[CV] max_depth=2, min_samples_leaf=8 .................................\n",
      "[CV] ........................ max_depth=2, min_samples_leaf=8 -   0.0s\n",
      "[CV] max_depth=2, min_samples_leaf=8 .................................\n",
      "[CV] ........................ max_depth=2, min_samples_leaf=8 -   0.0s\n",
      "[CV] max_depth=2, min_samples_leaf=8 .................................\n",
      "[CV] ........................ max_depth=2, min_samples_leaf=8 -   0.0s\n",
      "[CV] max_depth=2, min_samples_leaf=9 .................................\n",
      "[CV] ........................ max_depth=2, min_samples_leaf=9 -   0.0s\n",
      "[CV] max_depth=2, min_samples_leaf=9 .................................\n",
      "[CV] ........................ max_depth=2, min_samples_leaf=9 -   0.0s\n",
      "[CV] max_depth=2, min_samples_leaf=9 .................................\n",
      "[CV] ........................ max_depth=2, min_samples_leaf=9 -   0.0s\n",
      "[CV] max_depth=2, min_samples_leaf=9 .................................\n",
      "[CV] ........................ max_depth=2, min_samples_leaf=9 -   0.0s\n",
      "[CV] max_depth=2, min_samples_leaf=9 .................................\n",
      "[CV] ........................ max_depth=2, min_samples_leaf=9 -   0.0s\n",
      "[CV] max_depth=3, min_samples_leaf=1 .................................\n",
      "[CV] ........................ max_depth=3, min_samples_leaf=1 -   0.0s\n",
      "[CV] max_depth=3, min_samples_leaf=1 .................................\n",
      "[CV] ........................ max_depth=3, min_samples_leaf=1 -   0.0s\n",
      "[CV] max_depth=3, min_samples_leaf=1 .................................\n",
      "[CV] ........................ max_depth=3, min_samples_leaf=1 -   0.0s\n",
      "[CV] max_depth=3, min_samples_leaf=1 .................................\n",
      "[CV] ........................ max_depth=3, min_samples_leaf=1 -   0.0s\n",
      "[CV] max_depth=3, min_samples_leaf=1 .................................\n",
      "[CV] ........................ max_depth=3, min_samples_leaf=1 -   0.0s\n",
      "[CV] max_depth=3, min_samples_leaf=2 .................................\n",
      "[CV] ........................ max_depth=3, min_samples_leaf=2 -   0.0s\n",
      "[CV] max_depth=3, min_samples_leaf=2 .................................\n",
      "[CV] ........................ max_depth=3, min_samples_leaf=2 -   0.0s\n",
      "[CV] max_depth=3, min_samples_leaf=2 .................................\n",
      "[CV] ........................ max_depth=3, min_samples_leaf=2 -   0.0s\n",
      "[CV] max_depth=3, min_samples_leaf=2 .................................\n",
      "[CV] ........................ max_depth=3, min_samples_leaf=2 -   0.0s\n",
      "[CV] max_depth=3, min_samples_leaf=2 .................................\n",
      "[CV] ........................ max_depth=3, min_samples_leaf=2 -   0.0s\n",
      "[CV] max_depth=3, min_samples_leaf=3 .................................\n",
      "[CV] ........................ max_depth=3, min_samples_leaf=3 -   0.0s\n",
      "[CV] max_depth=3, min_samples_leaf=3 .................................\n",
      "[CV] ........................ max_depth=3, min_samples_leaf=3 -   0.0s\n",
      "[CV] max_depth=3, min_samples_leaf=3 .................................\n",
      "[CV] ........................ max_depth=3, min_samples_leaf=3 -   0.0s\n",
      "[CV] max_depth=3, min_samples_leaf=3 .................................\n",
      "[CV] ........................ max_depth=3, min_samples_leaf=3 -   0.0s\n",
      "[CV] max_depth=3, min_samples_leaf=3 .................................\n",
      "[CV] ........................ max_depth=3, min_samples_leaf=3 -   0.0s\n",
      "[CV] max_depth=3, min_samples_leaf=4 .................................\n",
      "[CV] ........................ max_depth=3, min_samples_leaf=4 -   0.0s\n",
      "[CV] max_depth=3, min_samples_leaf=4 .................................\n",
      "[CV] ........................ max_depth=3, min_samples_leaf=4 -   0.0s\n",
      "[CV] max_depth=3, min_samples_leaf=4 .................................\n",
      "[CV] ........................ max_depth=3, min_samples_leaf=4 -   0.0s\n",
      "[CV] max_depth=3, min_samples_leaf=4 .................................\n",
      "[CV] ........................ max_depth=3, min_samples_leaf=4 -   0.0s\n",
      "[CV] max_depth=3, min_samples_leaf=4 .................................\n",
      "[CV] ........................ max_depth=3, min_samples_leaf=4 -   0.0s\n",
      "[CV] max_depth=3, min_samples_leaf=5 .................................\n",
      "[CV] ........................ max_depth=3, min_samples_leaf=5 -   0.0s\n",
      "[CV] max_depth=3, min_samples_leaf=5 .................................\n",
      "[CV] ........................ max_depth=3, min_samples_leaf=5 -   0.0s\n",
      "[CV] max_depth=3, min_samples_leaf=5 .................................\n",
      "[CV] ........................ max_depth=3, min_samples_leaf=5 -   0.0s\n",
      "[CV] max_depth=3, min_samples_leaf=5 .................................\n",
      "[CV] ........................ max_depth=3, min_samples_leaf=5 -   0.0s\n",
      "[CV] max_depth=3, min_samples_leaf=5 .................................\n",
      "[CV] ........................ max_depth=3, min_samples_leaf=5 -   0.0s\n",
      "[CV] max_depth=3, min_samples_leaf=6 .................................\n",
      "[CV] ........................ max_depth=3, min_samples_leaf=6 -   0.0s\n",
      "[CV] max_depth=3, min_samples_leaf=6 .................................\n",
      "[CV] ........................ max_depth=3, min_samples_leaf=6 -   0.0s\n",
      "[CV] max_depth=3, min_samples_leaf=6 .................................\n",
      "[CV] ........................ max_depth=3, min_samples_leaf=6 -   0.0s\n",
      "[CV] max_depth=3, min_samples_leaf=6 .................................\n",
      "[CV] ........................ max_depth=3, min_samples_leaf=6 -   0.0s\n",
      "[CV] max_depth=3, min_samples_leaf=6 .................................\n",
      "[CV] ........................ max_depth=3, min_samples_leaf=6 -   0.0s\n",
      "[CV] max_depth=3, min_samples_leaf=7 .................................\n",
      "[CV] ........................ max_depth=3, min_samples_leaf=7 -   0.0s\n",
      "[CV] max_depth=3, min_samples_leaf=7 .................................\n",
      "[CV] ........................ max_depth=3, min_samples_leaf=7 -   0.0s\n",
      "[CV] max_depth=3, min_samples_leaf=7 .................................\n",
      "[CV] ........................ max_depth=3, min_samples_leaf=7 -   0.0s\n",
      "[CV] max_depth=3, min_samples_leaf=7 .................................\n",
      "[CV] ........................ max_depth=3, min_samples_leaf=7 -   0.0s\n",
      "[CV] max_depth=3, min_samples_leaf=7 .................................\n",
      "[CV] ........................ max_depth=3, min_samples_leaf=7 -   0.0s\n",
      "[CV] max_depth=3, min_samples_leaf=8 .................................\n",
      "[CV] ........................ max_depth=3, min_samples_leaf=8 -   0.0s\n",
      "[CV] max_depth=3, min_samples_leaf=8 .................................\n",
      "[CV] ........................ max_depth=3, min_samples_leaf=8 -   0.0s\n",
      "[CV] max_depth=3, min_samples_leaf=8 .................................\n",
      "[CV] ........................ max_depth=3, min_samples_leaf=8 -   0.0s\n",
      "[CV] max_depth=3, min_samples_leaf=8 .................................\n",
      "[CV] ........................ max_depth=3, min_samples_leaf=8 -   0.0s\n",
      "[CV] max_depth=3, min_samples_leaf=8 .................................\n",
      "[CV] ........................ max_depth=3, min_samples_leaf=8 -   0.0s\n",
      "[CV] max_depth=3, min_samples_leaf=9 .................................\n",
      "[CV] ........................ max_depth=3, min_samples_leaf=9 -   0.0s\n",
      "[CV] max_depth=3, min_samples_leaf=9 .................................\n",
      "[CV] ........................ max_depth=3, min_samples_leaf=9 -   0.0s\n",
      "[CV] max_depth=3, min_samples_leaf=9 .................................\n",
      "[CV] ........................ max_depth=3, min_samples_leaf=9 -   0.0s\n",
      "[CV] max_depth=3, min_samples_leaf=9 .................................\n",
      "[CV] ........................ max_depth=3, min_samples_leaf=9 -   0.0s\n",
      "[CV] max_depth=3, min_samples_leaf=9 .................................\n",
      "[CV] ........................ max_depth=3, min_samples_leaf=9 -   0.0s\n",
      "[CV] max_depth=4, min_samples_leaf=1 .................................\n",
      "[CV] ........................ max_depth=4, min_samples_leaf=1 -   0.0s\n",
      "[CV] max_depth=4, min_samples_leaf=1 .................................\n"
     ]
    },
    {
     "name": "stdout",
     "output_type": "stream",
     "text": [
      "[CV] ........................ max_depth=4, min_samples_leaf=1 -   0.0s\n",
      "[CV] max_depth=4, min_samples_leaf=1 .................................\n",
      "[CV] ........................ max_depth=4, min_samples_leaf=1 -   0.0s\n",
      "[CV] max_depth=4, min_samples_leaf=1 .................................\n",
      "[CV] ........................ max_depth=4, min_samples_leaf=1 -   0.0s\n",
      "[CV] max_depth=4, min_samples_leaf=1 .................................\n",
      "[CV] ........................ max_depth=4, min_samples_leaf=1 -   0.0s\n",
      "[CV] max_depth=4, min_samples_leaf=2 .................................\n",
      "[CV] ........................ max_depth=4, min_samples_leaf=2 -   0.0s\n",
      "[CV] max_depth=4, min_samples_leaf=2 .................................\n",
      "[CV] ........................ max_depth=4, min_samples_leaf=2 -   0.0s\n",
      "[CV] max_depth=4, min_samples_leaf=2 .................................\n",
      "[CV] ........................ max_depth=4, min_samples_leaf=2 -   0.0s\n",
      "[CV] max_depth=4, min_samples_leaf=2 .................................\n",
      "[CV] ........................ max_depth=4, min_samples_leaf=2 -   0.0s\n",
      "[CV] max_depth=4, min_samples_leaf=2 .................................\n",
      "[CV] ........................ max_depth=4, min_samples_leaf=2 -   0.0s\n",
      "[CV] max_depth=4, min_samples_leaf=3 .................................\n",
      "[CV] ........................ max_depth=4, min_samples_leaf=3 -   0.0s\n",
      "[CV] max_depth=4, min_samples_leaf=3 .................................\n",
      "[CV] ........................ max_depth=4, min_samples_leaf=3 -   0.0s\n",
      "[CV] max_depth=4, min_samples_leaf=3 .................................\n",
      "[CV] ........................ max_depth=4, min_samples_leaf=3 -   0.0s\n",
      "[CV] max_depth=4, min_samples_leaf=3 .................................\n",
      "[CV] ........................ max_depth=4, min_samples_leaf=3 -   0.0s\n",
      "[CV] max_depth=4, min_samples_leaf=3 .................................\n",
      "[CV] ........................ max_depth=4, min_samples_leaf=3 -   0.0s\n",
      "[CV] max_depth=4, min_samples_leaf=4 .................................\n",
      "[CV] ........................ max_depth=4, min_samples_leaf=4 -   0.0s\n",
      "[CV] max_depth=4, min_samples_leaf=4 .................................\n",
      "[CV] ........................ max_depth=4, min_samples_leaf=4 -   0.0s\n",
      "[CV] max_depth=4, min_samples_leaf=4 .................................\n",
      "[CV] ........................ max_depth=4, min_samples_leaf=4 -   0.0s\n",
      "[CV] max_depth=4, min_samples_leaf=4 .................................\n",
      "[CV] ........................ max_depth=4, min_samples_leaf=4 -   0.0s\n",
      "[CV] max_depth=4, min_samples_leaf=4 .................................\n",
      "[CV] ........................ max_depth=4, min_samples_leaf=4 -   0.0s\n",
      "[CV] max_depth=4, min_samples_leaf=5 .................................\n",
      "[CV] ........................ max_depth=4, min_samples_leaf=5 -   0.0s\n",
      "[CV] max_depth=4, min_samples_leaf=5 .................................\n",
      "[CV] ........................ max_depth=4, min_samples_leaf=5 -   0.0s\n",
      "[CV] max_depth=4, min_samples_leaf=5 .................................\n",
      "[CV] ........................ max_depth=4, min_samples_leaf=5 -   0.0s\n",
      "[CV] max_depth=4, min_samples_leaf=5 .................................\n",
      "[CV] ........................ max_depth=4, min_samples_leaf=5 -   0.0s\n",
      "[CV] max_depth=4, min_samples_leaf=5 .................................\n",
      "[CV] ........................ max_depth=4, min_samples_leaf=5 -   0.0s\n",
      "[CV] max_depth=4, min_samples_leaf=6 .................................\n",
      "[CV] ........................ max_depth=4, min_samples_leaf=6 -   0.0s\n",
      "[CV] max_depth=4, min_samples_leaf=6 .................................\n",
      "[CV] ........................ max_depth=4, min_samples_leaf=6 -   0.0s\n",
      "[CV] max_depth=4, min_samples_leaf=6 .................................\n",
      "[CV] ........................ max_depth=4, min_samples_leaf=6 -   0.0s\n",
      "[CV] max_depth=4, min_samples_leaf=6 .................................\n",
      "[CV] ........................ max_depth=4, min_samples_leaf=6 -   0.0s\n",
      "[CV] max_depth=4, min_samples_leaf=6 .................................\n",
      "[CV] ........................ max_depth=4, min_samples_leaf=6 -   0.0s\n",
      "[CV] max_depth=4, min_samples_leaf=7 .................................\n",
      "[CV] ........................ max_depth=4, min_samples_leaf=7 -   0.0s\n",
      "[CV] max_depth=4, min_samples_leaf=7 .................................\n",
      "[CV] ........................ max_depth=4, min_samples_leaf=7 -   0.0s\n",
      "[CV] max_depth=4, min_samples_leaf=7 .................................\n",
      "[CV] ........................ max_depth=4, min_samples_leaf=7 -   0.0s\n",
      "[CV] max_depth=4, min_samples_leaf=7 .................................\n",
      "[CV] ........................ max_depth=4, min_samples_leaf=7 -   0.0s\n",
      "[CV] max_depth=4, min_samples_leaf=7 .................................\n",
      "[CV] ........................ max_depth=4, min_samples_leaf=7 -   0.0s\n",
      "[CV] max_depth=4, min_samples_leaf=8 .................................\n",
      "[CV] ........................ max_depth=4, min_samples_leaf=8 -   0.0s\n",
      "[CV] max_depth=4, min_samples_leaf=8 .................................\n",
      "[CV] ........................ max_depth=4, min_samples_leaf=8 -   0.0s\n",
      "[CV] max_depth=4, min_samples_leaf=8 .................................\n",
      "[CV] ........................ max_depth=4, min_samples_leaf=8 -   0.0s\n",
      "[CV] max_depth=4, min_samples_leaf=8 .................................\n",
      "[CV] ........................ max_depth=4, min_samples_leaf=8 -   0.0s\n",
      "[CV] max_depth=4, min_samples_leaf=8 .................................\n",
      "[CV] ........................ max_depth=4, min_samples_leaf=8 -   0.0s\n",
      "[CV] max_depth=4, min_samples_leaf=9 .................................\n",
      "[CV] ........................ max_depth=4, min_samples_leaf=9 -   0.0s\n",
      "[CV] max_depth=4, min_samples_leaf=9 .................................\n",
      "[CV] ........................ max_depth=4, min_samples_leaf=9 -   0.0s\n",
      "[CV] max_depth=4, min_samples_leaf=9 .................................\n",
      "[CV] ........................ max_depth=4, min_samples_leaf=9 -   0.0s\n",
      "[CV] max_depth=4, min_samples_leaf=9 .................................\n",
      "[CV] ........................ max_depth=4, min_samples_leaf=9 -   0.0s\n",
      "[CV] max_depth=4, min_samples_leaf=9 .................................\n",
      "[CV] ........................ max_depth=4, min_samples_leaf=9 -   0.0s\n",
      "[CV] max_depth=5, min_samples_leaf=1 .................................\n",
      "[CV] ........................ max_depth=5, min_samples_leaf=1 -   0.0s\n",
      "[CV] max_depth=5, min_samples_leaf=1 .................................\n",
      "[CV] ........................ max_depth=5, min_samples_leaf=1 -   0.0s\n",
      "[CV] max_depth=5, min_samples_leaf=1 .................................\n",
      "[CV] ........................ max_depth=5, min_samples_leaf=1 -   0.0s\n",
      "[CV] max_depth=5, min_samples_leaf=1 .................................\n",
      "[CV] ........................ max_depth=5, min_samples_leaf=1 -   0.0s\n",
      "[CV] max_depth=5, min_samples_leaf=1 .................................\n",
      "[CV] ........................ max_depth=5, min_samples_leaf=1 -   0.0s\n",
      "[CV] max_depth=5, min_samples_leaf=2 .................................\n",
      "[CV] ........................ max_depth=5, min_samples_leaf=2 -   0.0s\n",
      "[CV] max_depth=5, min_samples_leaf=2 .................................\n",
      "[CV] ........................ max_depth=5, min_samples_leaf=2 -   0.0s\n",
      "[CV] max_depth=5, min_samples_leaf=2 .................................\n",
      "[CV] ........................ max_depth=5, min_samples_leaf=2 -   0.0s\n",
      "[CV] max_depth=5, min_samples_leaf=2 .................................\n",
      "[CV] ........................ max_depth=5, min_samples_leaf=2 -   0.0s\n",
      "[CV] max_depth=5, min_samples_leaf=2 .................................\n",
      "[CV] ........................ max_depth=5, min_samples_leaf=2 -   0.0s\n",
      "[CV] max_depth=5, min_samples_leaf=3 .................................\n",
      "[CV] ........................ max_depth=5, min_samples_leaf=3 -   0.0s\n",
      "[CV] max_depth=5, min_samples_leaf=3 .................................\n",
      "[CV] ........................ max_depth=5, min_samples_leaf=3 -   0.0s\n",
      "[CV] max_depth=5, min_samples_leaf=3 .................................\n",
      "[CV] ........................ max_depth=5, min_samples_leaf=3 -   0.0s\n",
      "[CV] max_depth=5, min_samples_leaf=3 .................................\n",
      "[CV] ........................ max_depth=5, min_samples_leaf=3 -   0.0s\n",
      "[CV] max_depth=5, min_samples_leaf=3 .................................\n"
     ]
    },
    {
     "name": "stdout",
     "output_type": "stream",
     "text": [
      "[CV] ........................ max_depth=5, min_samples_leaf=3 -   0.0s\n",
      "[CV] max_depth=5, min_samples_leaf=4 .................................\n",
      "[CV] ........................ max_depth=5, min_samples_leaf=4 -   0.0s\n",
      "[CV] max_depth=5, min_samples_leaf=4 .................................\n",
      "[CV] ........................ max_depth=5, min_samples_leaf=4 -   0.0s\n",
      "[CV] max_depth=5, min_samples_leaf=4 .................................\n",
      "[CV] ........................ max_depth=5, min_samples_leaf=4 -   0.0s\n",
      "[CV] max_depth=5, min_samples_leaf=4 .................................\n",
      "[CV] ........................ max_depth=5, min_samples_leaf=4 -   0.0s\n",
      "[CV] max_depth=5, min_samples_leaf=4 .................................\n",
      "[CV] ........................ max_depth=5, min_samples_leaf=4 -   0.0s\n",
      "[CV] max_depth=5, min_samples_leaf=5 .................................\n",
      "[CV] ........................ max_depth=5, min_samples_leaf=5 -   0.0s\n",
      "[CV] max_depth=5, min_samples_leaf=5 .................................\n",
      "[CV] ........................ max_depth=5, min_samples_leaf=5 -   0.0s\n",
      "[CV] max_depth=5, min_samples_leaf=5 .................................\n",
      "[CV] ........................ max_depth=5, min_samples_leaf=5 -   0.0s\n",
      "[CV] max_depth=5, min_samples_leaf=5 .................................\n",
      "[CV] ........................ max_depth=5, min_samples_leaf=5 -   0.0s\n",
      "[CV] max_depth=5, min_samples_leaf=5 .................................\n",
      "[CV] ........................ max_depth=5, min_samples_leaf=5 -   0.0s\n",
      "[CV] max_depth=5, min_samples_leaf=6 .................................\n",
      "[CV] ........................ max_depth=5, min_samples_leaf=6 -   0.0s\n",
      "[CV] max_depth=5, min_samples_leaf=6 .................................\n",
      "[CV] ........................ max_depth=5, min_samples_leaf=6 -   0.0s\n",
      "[CV] max_depth=5, min_samples_leaf=6 .................................\n",
      "[CV] ........................ max_depth=5, min_samples_leaf=6 -   0.0s\n",
      "[CV] max_depth=5, min_samples_leaf=6 .................................\n",
      "[CV] ........................ max_depth=5, min_samples_leaf=6 -   0.0s\n",
      "[CV] max_depth=5, min_samples_leaf=6 .................................\n",
      "[CV] ........................ max_depth=5, min_samples_leaf=6 -   0.0s\n",
      "[CV] max_depth=5, min_samples_leaf=7 .................................\n",
      "[CV] ........................ max_depth=5, min_samples_leaf=7 -   0.0s\n",
      "[CV] max_depth=5, min_samples_leaf=7 .................................\n",
      "[CV] ........................ max_depth=5, min_samples_leaf=7 -   0.0s\n",
      "[CV] max_depth=5, min_samples_leaf=7 .................................\n",
      "[CV] ........................ max_depth=5, min_samples_leaf=7 -   0.0s\n",
      "[CV] max_depth=5, min_samples_leaf=7 .................................\n",
      "[CV] ........................ max_depth=5, min_samples_leaf=7 -   0.0s\n",
      "[CV] max_depth=5, min_samples_leaf=7 .................................\n",
      "[CV] ........................ max_depth=5, min_samples_leaf=7 -   0.0s\n",
      "[CV] max_depth=5, min_samples_leaf=8 .................................\n",
      "[CV] ........................ max_depth=5, min_samples_leaf=8 -   0.0s\n",
      "[CV] max_depth=5, min_samples_leaf=8 .................................\n",
      "[CV] ........................ max_depth=5, min_samples_leaf=8 -   0.0s\n",
      "[CV] max_depth=5, min_samples_leaf=8 .................................\n",
      "[CV] ........................ max_depth=5, min_samples_leaf=8 -   0.0s\n",
      "[CV] max_depth=5, min_samples_leaf=8 .................................\n",
      "[CV] ........................ max_depth=5, min_samples_leaf=8 -   0.0s\n",
      "[CV] max_depth=5, min_samples_leaf=8 .................................\n",
      "[CV] ........................ max_depth=5, min_samples_leaf=8 -   0.0s\n",
      "[CV] max_depth=5, min_samples_leaf=9 .................................\n",
      "[CV] ........................ max_depth=5, min_samples_leaf=9 -   0.0s\n",
      "[CV] max_depth=5, min_samples_leaf=9 .................................\n",
      "[CV] ........................ max_depth=5, min_samples_leaf=9 -   0.0s\n",
      "[CV] max_depth=5, min_samples_leaf=9 .................................\n",
      "[CV] ........................ max_depth=5, min_samples_leaf=9 -   0.0s\n",
      "[CV] max_depth=5, min_samples_leaf=9 .................................\n",
      "[CV] ........................ max_depth=5, min_samples_leaf=9 -   0.0s\n",
      "[CV] max_depth=5, min_samples_leaf=9 .................................\n",
      "[CV] ........................ max_depth=5, min_samples_leaf=9 -   0.0s\n",
      "[CV] max_depth=6, min_samples_leaf=1 .................................\n",
      "[CV] ........................ max_depth=6, min_samples_leaf=1 -   0.0s\n",
      "[CV] max_depth=6, min_samples_leaf=1 .................................\n",
      "[CV] ........................ max_depth=6, min_samples_leaf=1 -   0.0s\n",
      "[CV] max_depth=6, min_samples_leaf=1 .................................\n",
      "[CV] ........................ max_depth=6, min_samples_leaf=1 -   0.0s\n",
      "[CV] max_depth=6, min_samples_leaf=1 .................................\n",
      "[CV] ........................ max_depth=6, min_samples_leaf=1 -   0.0s\n",
      "[CV] max_depth=6, min_samples_leaf=1 .................................\n",
      "[CV] ........................ max_depth=6, min_samples_leaf=1 -   0.0s\n",
      "[CV] max_depth=6, min_samples_leaf=2 .................................\n",
      "[CV] ........................ max_depth=6, min_samples_leaf=2 -   0.0s\n",
      "[CV] max_depth=6, min_samples_leaf=2 .................................\n",
      "[CV] ........................ max_depth=6, min_samples_leaf=2 -   0.0s\n",
      "[CV] max_depth=6, min_samples_leaf=2 .................................\n",
      "[CV] ........................ max_depth=6, min_samples_leaf=2 -   0.0s\n",
      "[CV] max_depth=6, min_samples_leaf=2 .................................\n",
      "[CV] ........................ max_depth=6, min_samples_leaf=2 -   0.0s\n",
      "[CV] max_depth=6, min_samples_leaf=2 .................................\n",
      "[CV] ........................ max_depth=6, min_samples_leaf=2 -   0.0s\n",
      "[CV] max_depth=6, min_samples_leaf=3 .................................\n",
      "[CV] ........................ max_depth=6, min_samples_leaf=3 -   0.0s\n",
      "[CV] max_depth=6, min_samples_leaf=3 .................................\n",
      "[CV] ........................ max_depth=6, min_samples_leaf=3 -   0.0s\n",
      "[CV] max_depth=6, min_samples_leaf=3 .................................\n",
      "[CV] ........................ max_depth=6, min_samples_leaf=3 -   0.0s\n",
      "[CV] max_depth=6, min_samples_leaf=3 .................................\n",
      "[CV] ........................ max_depth=6, min_samples_leaf=3 -   0.0s\n",
      "[CV] max_depth=6, min_samples_leaf=3 .................................\n",
      "[CV] ........................ max_depth=6, min_samples_leaf=3 -   0.0s\n",
      "[CV] max_depth=6, min_samples_leaf=4 .................................\n",
      "[CV] ........................ max_depth=6, min_samples_leaf=4 -   0.0s\n",
      "[CV] max_depth=6, min_samples_leaf=4 .................................\n",
      "[CV] ........................ max_depth=6, min_samples_leaf=4 -   0.0s\n",
      "[CV] max_depth=6, min_samples_leaf=4 .................................\n",
      "[CV] ........................ max_depth=6, min_samples_leaf=4 -   0.0s\n",
      "[CV] max_depth=6, min_samples_leaf=4 .................................\n",
      "[CV] ........................ max_depth=6, min_samples_leaf=4 -   0.0s\n",
      "[CV] max_depth=6, min_samples_leaf=4 .................................\n",
      "[CV] ........................ max_depth=6, min_samples_leaf=4 -   0.0s\n",
      "[CV] max_depth=6, min_samples_leaf=5 .................................\n",
      "[CV] ........................ max_depth=6, min_samples_leaf=5 -   0.0s\n",
      "[CV] max_depth=6, min_samples_leaf=5 .................................\n",
      "[CV] ........................ max_depth=6, min_samples_leaf=5 -   0.0s\n",
      "[CV] max_depth=6, min_samples_leaf=5 .................................\n",
      "[CV] ........................ max_depth=6, min_samples_leaf=5 -   0.0s\n",
      "[CV] max_depth=6, min_samples_leaf=5 .................................\n",
      "[CV] ........................ max_depth=6, min_samples_leaf=5 -   0.0s\n",
      "[CV] max_depth=6, min_samples_leaf=5 .................................\n",
      "[CV] ........................ max_depth=6, min_samples_leaf=5 -   0.0s\n",
      "[CV] max_depth=6, min_samples_leaf=6 .................................\n",
      "[CV] ........................ max_depth=6, min_samples_leaf=6 -   0.0s\n",
      "[CV] max_depth=6, min_samples_leaf=6 .................................\n",
      "[CV] ........................ max_depth=6, min_samples_leaf=6 -   0.0s\n",
      "[CV] max_depth=6, min_samples_leaf=6 .................................\n",
      "[CV] ........................ max_depth=6, min_samples_leaf=6 -   0.0s\n",
      "[CV] max_depth=6, min_samples_leaf=6 .................................\n",
      "[CV] ........................ max_depth=6, min_samples_leaf=6 -   0.0s\n",
      "[CV] max_depth=6, min_samples_leaf=6 .................................\n",
      "[CV] ........................ max_depth=6, min_samples_leaf=6 -   0.0s\n",
      "[CV] max_depth=6, min_samples_leaf=7 .................................\n",
      "[CV] ........................ max_depth=6, min_samples_leaf=7 -   0.0s\n",
      "[CV] max_depth=6, min_samples_leaf=7 .................................\n",
      "[CV] ........................ max_depth=6, min_samples_leaf=7 -   0.0s\n",
      "[CV] max_depth=6, min_samples_leaf=7 .................................\n",
      "[CV] ........................ max_depth=6, min_samples_leaf=7 -   0.0s\n",
      "[CV] max_depth=6, min_samples_leaf=7 .................................\n",
      "[CV] ........................ max_depth=6, min_samples_leaf=7 -   0.0s\n",
      "[CV] max_depth=6, min_samples_leaf=7 .................................\n",
      "[CV] ........................ max_depth=6, min_samples_leaf=7 -   0.0s\n",
      "[CV] max_depth=6, min_samples_leaf=8 .................................\n",
      "[CV] ........................ max_depth=6, min_samples_leaf=8 -   0.0s\n",
      "[CV] max_depth=6, min_samples_leaf=8 .................................\n"
     ]
    },
    {
     "name": "stdout",
     "output_type": "stream",
     "text": [
      "[CV] ........................ max_depth=6, min_samples_leaf=8 -   0.0s\n",
      "[CV] max_depth=6, min_samples_leaf=8 .................................\n",
      "[CV] ........................ max_depth=6, min_samples_leaf=8 -   0.0s\n",
      "[CV] max_depth=6, min_samples_leaf=8 .................................\n",
      "[CV] ........................ max_depth=6, min_samples_leaf=8 -   0.0s\n",
      "[CV] max_depth=6, min_samples_leaf=8 .................................\n",
      "[CV] ........................ max_depth=6, min_samples_leaf=8 -   0.0s\n",
      "[CV] max_depth=6, min_samples_leaf=9 .................................\n",
      "[CV] ........................ max_depth=6, min_samples_leaf=9 -   0.0s\n",
      "[CV] max_depth=6, min_samples_leaf=9 .................................\n",
      "[CV] ........................ max_depth=6, min_samples_leaf=9 -   0.0s\n",
      "[CV] max_depth=6, min_samples_leaf=9 .................................\n",
      "[CV] ........................ max_depth=6, min_samples_leaf=9 -   0.0s\n",
      "[CV] max_depth=6, min_samples_leaf=9 .................................\n",
      "[CV] ........................ max_depth=6, min_samples_leaf=9 -   0.0s\n",
      "[CV] max_depth=6, min_samples_leaf=9 .................................\n",
      "[CV] ........................ max_depth=6, min_samples_leaf=9 -   0.0s\n",
      "[CV] max_depth=7, min_samples_leaf=1 .................................\n",
      "[CV] ........................ max_depth=7, min_samples_leaf=1 -   0.0s\n",
      "[CV] max_depth=7, min_samples_leaf=1 .................................\n",
      "[CV] ........................ max_depth=7, min_samples_leaf=1 -   0.0s\n",
      "[CV] max_depth=7, min_samples_leaf=1 .................................\n",
      "[CV] ........................ max_depth=7, min_samples_leaf=1 -   0.0s\n",
      "[CV] max_depth=7, min_samples_leaf=1 .................................\n",
      "[CV] ........................ max_depth=7, min_samples_leaf=1 -   0.0s\n",
      "[CV] max_depth=7, min_samples_leaf=1 .................................\n",
      "[CV] ........................ max_depth=7, min_samples_leaf=1 -   0.0s\n",
      "[CV] max_depth=7, min_samples_leaf=2 .................................\n",
      "[CV] ........................ max_depth=7, min_samples_leaf=2 -   0.0s\n",
      "[CV] max_depth=7, min_samples_leaf=2 .................................\n",
      "[CV] ........................ max_depth=7, min_samples_leaf=2 -   0.0s\n",
      "[CV] max_depth=7, min_samples_leaf=2 .................................\n",
      "[CV] ........................ max_depth=7, min_samples_leaf=2 -   0.0s\n",
      "[CV] max_depth=7, min_samples_leaf=2 .................................\n",
      "[CV] ........................ max_depth=7, min_samples_leaf=2 -   0.0s\n",
      "[CV] max_depth=7, min_samples_leaf=2 .................................\n",
      "[CV] ........................ max_depth=7, min_samples_leaf=2 -   0.0s\n",
      "[CV] max_depth=7, min_samples_leaf=3 .................................\n",
      "[CV] ........................ max_depth=7, min_samples_leaf=3 -   0.0s\n",
      "[CV] max_depth=7, min_samples_leaf=3 .................................\n",
      "[CV] ........................ max_depth=7, min_samples_leaf=3 -   0.0s\n",
      "[CV] max_depth=7, min_samples_leaf=3 .................................\n",
      "[CV] ........................ max_depth=7, min_samples_leaf=3 -   0.0s\n",
      "[CV] max_depth=7, min_samples_leaf=3 .................................\n",
      "[CV] ........................ max_depth=7, min_samples_leaf=3 -   0.0s\n",
      "[CV] max_depth=7, min_samples_leaf=3 .................................\n",
      "[CV] ........................ max_depth=7, min_samples_leaf=3 -   0.0s\n",
      "[CV] max_depth=7, min_samples_leaf=4 .................................\n",
      "[CV] ........................ max_depth=7, min_samples_leaf=4 -   0.0s\n",
      "[CV] max_depth=7, min_samples_leaf=4 .................................\n",
      "[CV] ........................ max_depth=7, min_samples_leaf=4 -   0.0s\n",
      "[CV] max_depth=7, min_samples_leaf=4 .................................\n",
      "[CV] ........................ max_depth=7, min_samples_leaf=4 -   0.0s\n",
      "[CV] max_depth=7, min_samples_leaf=4 .................................\n",
      "[CV] ........................ max_depth=7, min_samples_leaf=4 -   0.0s\n",
      "[CV] max_depth=7, min_samples_leaf=4 .................................\n",
      "[CV] ........................ max_depth=7, min_samples_leaf=4 -   0.0s\n",
      "[CV] max_depth=7, min_samples_leaf=5 .................................\n",
      "[CV] ........................ max_depth=7, min_samples_leaf=5 -   0.0s\n",
      "[CV] max_depth=7, min_samples_leaf=5 .................................\n",
      "[CV] ........................ max_depth=7, min_samples_leaf=5 -   0.0s\n",
      "[CV] max_depth=7, min_samples_leaf=5 .................................\n",
      "[CV] ........................ max_depth=7, min_samples_leaf=5 -   0.0s\n",
      "[CV] max_depth=7, min_samples_leaf=5 .................................\n",
      "[CV] ........................ max_depth=7, min_samples_leaf=5 -   0.0s\n",
      "[CV] max_depth=7, min_samples_leaf=5 .................................\n",
      "[CV] ........................ max_depth=7, min_samples_leaf=5 -   0.0s\n",
      "[CV] max_depth=7, min_samples_leaf=6 .................................\n",
      "[CV] ........................ max_depth=7, min_samples_leaf=6 -   0.0s\n",
      "[CV] max_depth=7, min_samples_leaf=6 .................................\n",
      "[CV] ........................ max_depth=7, min_samples_leaf=6 -   0.0s\n",
      "[CV] max_depth=7, min_samples_leaf=6 .................................\n",
      "[CV] ........................ max_depth=7, min_samples_leaf=6 -   0.0s\n",
      "[CV] max_depth=7, min_samples_leaf=6 .................................\n",
      "[CV] ........................ max_depth=7, min_samples_leaf=6 -   0.0s\n",
      "[CV] max_depth=7, min_samples_leaf=6 .................................\n",
      "[CV] ........................ max_depth=7, min_samples_leaf=6 -   0.0s\n",
      "[CV] max_depth=7, min_samples_leaf=7 .................................\n",
      "[CV] ........................ max_depth=7, min_samples_leaf=7 -   0.0s\n",
      "[CV] max_depth=7, min_samples_leaf=7 .................................\n",
      "[CV] ........................ max_depth=7, min_samples_leaf=7 -   0.0s\n",
      "[CV] max_depth=7, min_samples_leaf=7 .................................\n",
      "[CV] ........................ max_depth=7, min_samples_leaf=7 -   0.0s\n",
      "[CV] max_depth=7, min_samples_leaf=7 .................................\n",
      "[CV] ........................ max_depth=7, min_samples_leaf=7 -   0.0s\n",
      "[CV] max_depth=7, min_samples_leaf=7 .................................\n",
      "[CV] ........................ max_depth=7, min_samples_leaf=7 -   0.0s\n",
      "[CV] max_depth=7, min_samples_leaf=8 .................................\n",
      "[CV] ........................ max_depth=7, min_samples_leaf=8 -   0.0s\n",
      "[CV] max_depth=7, min_samples_leaf=8 .................................\n",
      "[CV] ........................ max_depth=7, min_samples_leaf=8 -   0.0s\n",
      "[CV] max_depth=7, min_samples_leaf=8 .................................\n",
      "[CV] ........................ max_depth=7, min_samples_leaf=8 -   0.0s\n",
      "[CV] max_depth=7, min_samples_leaf=8 .................................\n",
      "[CV] ........................ max_depth=7, min_samples_leaf=8 -   0.0s\n",
      "[CV] max_depth=7, min_samples_leaf=8 .................................\n",
      "[CV] ........................ max_depth=7, min_samples_leaf=8 -   0.0s\n",
      "[CV] max_depth=7, min_samples_leaf=9 .................................\n",
      "[CV] ........................ max_depth=7, min_samples_leaf=9 -   0.0s\n",
      "[CV] max_depth=7, min_samples_leaf=9 .................................\n",
      "[CV] ........................ max_depth=7, min_samples_leaf=9 -   0.0s\n",
      "[CV] max_depth=7, min_samples_leaf=9 .................................\n",
      "[CV] ........................ max_depth=7, min_samples_leaf=9 -   0.0s\n",
      "[CV] max_depth=7, min_samples_leaf=9 .................................\n",
      "[CV] ........................ max_depth=7, min_samples_leaf=9 -   0.0s\n",
      "[CV] max_depth=7, min_samples_leaf=9 .................................\n",
      "[CV] ........................ max_depth=7, min_samples_leaf=9 -   0.0s\n",
      "[CV] max_depth=8, min_samples_leaf=1 .................................\n",
      "[CV] ........................ max_depth=8, min_samples_leaf=1 -   0.0s\n",
      "[CV] max_depth=8, min_samples_leaf=1 .................................\n",
      "[CV] ........................ max_depth=8, min_samples_leaf=1 -   0.0s\n",
      "[CV] max_depth=8, min_samples_leaf=1 .................................\n",
      "[CV] ........................ max_depth=8, min_samples_leaf=1 -   0.0s\n",
      "[CV] max_depth=8, min_samples_leaf=1 .................................\n",
      "[CV] ........................ max_depth=8, min_samples_leaf=1 -   0.0s\n",
      "[CV] max_depth=8, min_samples_leaf=1 .................................\n"
     ]
    },
    {
     "name": "stdout",
     "output_type": "stream",
     "text": [
      "[CV] ........................ max_depth=8, min_samples_leaf=1 -   0.0s\n",
      "[CV] max_depth=8, min_samples_leaf=2 .................................\n",
      "[CV] ........................ max_depth=8, min_samples_leaf=2 -   0.0s\n",
      "[CV] max_depth=8, min_samples_leaf=2 .................................\n",
      "[CV] ........................ max_depth=8, min_samples_leaf=2 -   0.0s\n",
      "[CV] max_depth=8, min_samples_leaf=2 .................................\n",
      "[CV] ........................ max_depth=8, min_samples_leaf=2 -   0.0s\n",
      "[CV] max_depth=8, min_samples_leaf=2 .................................\n",
      "[CV] ........................ max_depth=8, min_samples_leaf=2 -   0.0s\n",
      "[CV] max_depth=8, min_samples_leaf=2 .................................\n",
      "[CV] ........................ max_depth=8, min_samples_leaf=2 -   0.0s\n",
      "[CV] max_depth=8, min_samples_leaf=3 .................................\n",
      "[CV] ........................ max_depth=8, min_samples_leaf=3 -   0.0s\n",
      "[CV] max_depth=8, min_samples_leaf=3 .................................\n",
      "[CV] ........................ max_depth=8, min_samples_leaf=3 -   0.0s\n",
      "[CV] max_depth=8, min_samples_leaf=3 .................................\n",
      "[CV] ........................ max_depth=8, min_samples_leaf=3 -   0.0s\n",
      "[CV] max_depth=8, min_samples_leaf=3 .................................\n",
      "[CV] ........................ max_depth=8, min_samples_leaf=3 -   0.0s\n",
      "[CV] max_depth=8, min_samples_leaf=3 .................................\n",
      "[CV] ........................ max_depth=8, min_samples_leaf=3 -   0.0s\n",
      "[CV] max_depth=8, min_samples_leaf=4 .................................\n",
      "[CV] ........................ max_depth=8, min_samples_leaf=4 -   0.0s\n",
      "[CV] max_depth=8, min_samples_leaf=4 .................................\n",
      "[CV] ........................ max_depth=8, min_samples_leaf=4 -   0.0s\n",
      "[CV] max_depth=8, min_samples_leaf=4 .................................\n",
      "[CV] ........................ max_depth=8, min_samples_leaf=4 -   0.0s\n",
      "[CV] max_depth=8, min_samples_leaf=4 .................................\n",
      "[CV] ........................ max_depth=8, min_samples_leaf=4 -   0.0s\n",
      "[CV] max_depth=8, min_samples_leaf=4 .................................\n",
      "[CV] ........................ max_depth=8, min_samples_leaf=4 -   0.0s\n",
      "[CV] max_depth=8, min_samples_leaf=5 .................................\n",
      "[CV] ........................ max_depth=8, min_samples_leaf=5 -   0.0s\n",
      "[CV] max_depth=8, min_samples_leaf=5 .................................\n",
      "[CV] ........................ max_depth=8, min_samples_leaf=5 -   0.0s\n",
      "[CV] max_depth=8, min_samples_leaf=5 .................................\n",
      "[CV] ........................ max_depth=8, min_samples_leaf=5 -   0.0s\n",
      "[CV] max_depth=8, min_samples_leaf=5 .................................\n",
      "[CV] ........................ max_depth=8, min_samples_leaf=5 -   0.0s\n",
      "[CV] max_depth=8, min_samples_leaf=5 .................................\n",
      "[CV] ........................ max_depth=8, min_samples_leaf=5 -   0.0s\n",
      "[CV] max_depth=8, min_samples_leaf=6 .................................\n",
      "[CV] ........................ max_depth=8, min_samples_leaf=6 -   0.0s\n",
      "[CV] max_depth=8, min_samples_leaf=6 .................................\n",
      "[CV] ........................ max_depth=8, min_samples_leaf=6 -   0.0s\n",
      "[CV] max_depth=8, min_samples_leaf=6 .................................\n",
      "[CV] ........................ max_depth=8, min_samples_leaf=6 -   0.0s\n",
      "[CV] max_depth=8, min_samples_leaf=6 .................................\n",
      "[CV] ........................ max_depth=8, min_samples_leaf=6 -   0.0s\n",
      "[CV] max_depth=8, min_samples_leaf=6 .................................\n",
      "[CV] ........................ max_depth=8, min_samples_leaf=6 -   0.0s\n",
      "[CV] max_depth=8, min_samples_leaf=7 .................................\n",
      "[CV] ........................ max_depth=8, min_samples_leaf=7 -   0.0s\n",
      "[CV] max_depth=8, min_samples_leaf=7 .................................\n",
      "[CV] ........................ max_depth=8, min_samples_leaf=7 -   0.0s\n",
      "[CV] max_depth=8, min_samples_leaf=7 .................................\n",
      "[CV] ........................ max_depth=8, min_samples_leaf=7 -   0.0s\n",
      "[CV] max_depth=8, min_samples_leaf=7 .................................\n",
      "[CV] ........................ max_depth=8, min_samples_leaf=7 -   0.0s\n",
      "[CV] max_depth=8, min_samples_leaf=7 .................................\n",
      "[CV] ........................ max_depth=8, min_samples_leaf=7 -   0.0s\n",
      "[CV] max_depth=8, min_samples_leaf=8 .................................\n",
      "[CV] ........................ max_depth=8, min_samples_leaf=8 -   0.0s\n",
      "[CV] max_depth=8, min_samples_leaf=8 .................................\n",
      "[CV] ........................ max_depth=8, min_samples_leaf=8 -   0.0s\n",
      "[CV] max_depth=8, min_samples_leaf=8 .................................\n",
      "[CV] ........................ max_depth=8, min_samples_leaf=8 -   0.0s\n",
      "[CV] max_depth=8, min_samples_leaf=8 .................................\n",
      "[CV] ........................ max_depth=8, min_samples_leaf=8 -   0.0s\n",
      "[CV] max_depth=8, min_samples_leaf=8 .................................\n",
      "[CV] ........................ max_depth=8, min_samples_leaf=8 -   0.0s\n",
      "[CV] max_depth=8, min_samples_leaf=9 .................................\n",
      "[CV] ........................ max_depth=8, min_samples_leaf=9 -   0.0s\n",
      "[CV] max_depth=8, min_samples_leaf=9 .................................\n",
      "[CV] ........................ max_depth=8, min_samples_leaf=9 -   0.0s\n",
      "[CV] max_depth=8, min_samples_leaf=9 .................................\n",
      "[CV] ........................ max_depth=8, min_samples_leaf=9 -   0.0s\n",
      "[CV] max_depth=8, min_samples_leaf=9 .................................\n",
      "[CV] ........................ max_depth=8, min_samples_leaf=9 -   0.0s\n",
      "[CV] max_depth=8, min_samples_leaf=9 .................................\n",
      "[CV] ........................ max_depth=8, min_samples_leaf=9 -   0.0s\n",
      "[CV] max_depth=9, min_samples_leaf=1 .................................\n",
      "[CV] ........................ max_depth=9, min_samples_leaf=1 -   0.0s\n",
      "[CV] max_depth=9, min_samples_leaf=1 .................................\n",
      "[CV] ........................ max_depth=9, min_samples_leaf=1 -   0.0s\n",
      "[CV] max_depth=9, min_samples_leaf=1 .................................\n",
      "[CV] ........................ max_depth=9, min_samples_leaf=1 -   0.0s\n",
      "[CV] max_depth=9, min_samples_leaf=1 .................................\n",
      "[CV] ........................ max_depth=9, min_samples_leaf=1 -   0.0s\n",
      "[CV] max_depth=9, min_samples_leaf=1 .................................\n",
      "[CV] ........................ max_depth=9, min_samples_leaf=1 -   0.0s\n",
      "[CV] max_depth=9, min_samples_leaf=2 .................................\n",
      "[CV] ........................ max_depth=9, min_samples_leaf=2 -   0.0s\n",
      "[CV] max_depth=9, min_samples_leaf=2 .................................\n",
      "[CV] ........................ max_depth=9, min_samples_leaf=2 -   0.0s\n",
      "[CV] max_depth=9, min_samples_leaf=2 .................................\n",
      "[CV] ........................ max_depth=9, min_samples_leaf=2 -   0.0s\n",
      "[CV] max_depth=9, min_samples_leaf=2 .................................\n",
      "[CV] ........................ max_depth=9, min_samples_leaf=2 -   0.0s\n",
      "[CV] max_depth=9, min_samples_leaf=2 .................................\n",
      "[CV] ........................ max_depth=9, min_samples_leaf=2 -   0.0s\n",
      "[CV] max_depth=9, min_samples_leaf=3 .................................\n",
      "[CV] ........................ max_depth=9, min_samples_leaf=3 -   0.0s\n",
      "[CV] max_depth=9, min_samples_leaf=3 .................................\n",
      "[CV] ........................ max_depth=9, min_samples_leaf=3 -   0.0s\n",
      "[CV] max_depth=9, min_samples_leaf=3 .................................\n",
      "[CV] ........................ max_depth=9, min_samples_leaf=3 -   0.0s\n",
      "[CV] max_depth=9, min_samples_leaf=3 .................................\n",
      "[CV] ........................ max_depth=9, min_samples_leaf=3 -   0.0s\n",
      "[CV] max_depth=9, min_samples_leaf=3 .................................\n",
      "[CV] ........................ max_depth=9, min_samples_leaf=3 -   0.0s\n",
      "[CV] max_depth=9, min_samples_leaf=4 .................................\n",
      "[CV] ........................ max_depth=9, min_samples_leaf=4 -   0.0s\n",
      "[CV] max_depth=9, min_samples_leaf=4 .................................\n",
      "[CV] ........................ max_depth=9, min_samples_leaf=4 -   0.0s\n",
      "[CV] max_depth=9, min_samples_leaf=4 .................................\n",
      "[CV] ........................ max_depth=9, min_samples_leaf=4 -   0.0s\n",
      "[CV] max_depth=9, min_samples_leaf=4 .................................\n",
      "[CV] ........................ max_depth=9, min_samples_leaf=4 -   0.0s\n",
      "[CV] max_depth=9, min_samples_leaf=4 .................................\n"
     ]
    },
    {
     "name": "stdout",
     "output_type": "stream",
     "text": [
      "[CV] ........................ max_depth=9, min_samples_leaf=4 -   0.0s\n",
      "[CV] max_depth=9, min_samples_leaf=5 .................................\n",
      "[CV] ........................ max_depth=9, min_samples_leaf=5 -   0.0s\n",
      "[CV] max_depth=9, min_samples_leaf=5 .................................\n",
      "[CV] ........................ max_depth=9, min_samples_leaf=5 -   0.0s\n",
      "[CV] max_depth=9, min_samples_leaf=5 .................................\n",
      "[CV] ........................ max_depth=9, min_samples_leaf=5 -   0.0s\n",
      "[CV] max_depth=9, min_samples_leaf=5 .................................\n",
      "[CV] ........................ max_depth=9, min_samples_leaf=5 -   0.0s\n",
      "[CV] max_depth=9, min_samples_leaf=5 .................................\n",
      "[CV] ........................ max_depth=9, min_samples_leaf=5 -   0.0s\n",
      "[CV] max_depth=9, min_samples_leaf=6 .................................\n",
      "[CV] ........................ max_depth=9, min_samples_leaf=6 -   0.0s\n",
      "[CV] max_depth=9, min_samples_leaf=6 .................................\n",
      "[CV] ........................ max_depth=9, min_samples_leaf=6 -   0.0s\n",
      "[CV] max_depth=9, min_samples_leaf=6 .................................\n",
      "[CV] ........................ max_depth=9, min_samples_leaf=6 -   0.0s\n",
      "[CV] max_depth=9, min_samples_leaf=6 .................................\n",
      "[CV] ........................ max_depth=9, min_samples_leaf=6 -   0.0s\n",
      "[CV] max_depth=9, min_samples_leaf=6 .................................\n",
      "[CV] ........................ max_depth=9, min_samples_leaf=6 -   0.0s\n",
      "[CV] max_depth=9, min_samples_leaf=7 .................................\n",
      "[CV] ........................ max_depth=9, min_samples_leaf=7 -   0.0s\n",
      "[CV] max_depth=9, min_samples_leaf=7 .................................\n",
      "[CV] ........................ max_depth=9, min_samples_leaf=7 -   0.0s\n",
      "[CV] max_depth=9, min_samples_leaf=7 .................................\n",
      "[CV] ........................ max_depth=9, min_samples_leaf=7 -   0.0s\n",
      "[CV] max_depth=9, min_samples_leaf=7 .................................\n",
      "[CV] ........................ max_depth=9, min_samples_leaf=7 -   0.0s\n",
      "[CV] max_depth=9, min_samples_leaf=7 .................................\n",
      "[CV] ........................ max_depth=9, min_samples_leaf=7 -   0.0s\n",
      "[CV] max_depth=9, min_samples_leaf=8 .................................\n",
      "[CV] ........................ max_depth=9, min_samples_leaf=8 -   0.0s\n",
      "[CV] max_depth=9, min_samples_leaf=8 .................................\n",
      "[CV] ........................ max_depth=9, min_samples_leaf=8 -   0.0s\n",
      "[CV] max_depth=9, min_samples_leaf=8 .................................\n",
      "[CV] ........................ max_depth=9, min_samples_leaf=8 -   0.0s\n",
      "[CV] max_depth=9, min_samples_leaf=8 .................................\n",
      "[CV] ........................ max_depth=9, min_samples_leaf=8 -   0.0s\n",
      "[CV] max_depth=9, min_samples_leaf=8 .................................\n",
      "[CV] ........................ max_depth=9, min_samples_leaf=8 -   0.0s\n",
      "[CV] max_depth=9, min_samples_leaf=9 .................................\n",
      "[CV] ........................ max_depth=9, min_samples_leaf=9 -   0.0s\n",
      "[CV] max_depth=9, min_samples_leaf=9 .................................\n",
      "[CV] ........................ max_depth=9, min_samples_leaf=9 -   0.0s\n",
      "[CV] max_depth=9, min_samples_leaf=9 .................................\n",
      "[CV] ........................ max_depth=9, min_samples_leaf=9 -   0.0s\n",
      "[CV] max_depth=9, min_samples_leaf=9 .................................\n",
      "[CV] ........................ max_depth=9, min_samples_leaf=9 -   0.0s\n",
      "[CV] max_depth=9, min_samples_leaf=9 .................................\n",
      "[CV] ........................ max_depth=9, min_samples_leaf=9 -   0.0s\n",
      "[CV] max_depth=10, min_samples_leaf=1 ................................\n",
      "[CV] ....................... max_depth=10, min_samples_leaf=1 -   0.0s\n",
      "[CV] max_depth=10, min_samples_leaf=1 ................................\n",
      "[CV] ....................... max_depth=10, min_samples_leaf=1 -   0.0s\n",
      "[CV] max_depth=10, min_samples_leaf=1 ................................\n",
      "[CV] ....................... max_depth=10, min_samples_leaf=1 -   0.0s\n",
      "[CV] max_depth=10, min_samples_leaf=1 ................................\n",
      "[CV] ....................... max_depth=10, min_samples_leaf=1 -   0.0s\n",
      "[CV] max_depth=10, min_samples_leaf=1 ................................\n",
      "[CV] ....................... max_depth=10, min_samples_leaf=1 -   0.0s\n",
      "[CV] max_depth=10, min_samples_leaf=2 ................................\n",
      "[CV] ....................... max_depth=10, min_samples_leaf=2 -   0.0s\n",
      "[CV] max_depth=10, min_samples_leaf=2 ................................\n",
      "[CV] ....................... max_depth=10, min_samples_leaf=2 -   0.0s\n",
      "[CV] max_depth=10, min_samples_leaf=2 ................................\n",
      "[CV] ....................... max_depth=10, min_samples_leaf=2 -   0.0s\n",
      "[CV] max_depth=10, min_samples_leaf=2 ................................\n",
      "[CV] ....................... max_depth=10, min_samples_leaf=2 -   0.0s\n",
      "[CV] max_depth=10, min_samples_leaf=2 ................................\n",
      "[CV] ....................... max_depth=10, min_samples_leaf=2 -   0.0s\n",
      "[CV] max_depth=10, min_samples_leaf=3 ................................\n",
      "[CV] ....................... max_depth=10, min_samples_leaf=3 -   0.0s\n",
      "[CV] max_depth=10, min_samples_leaf=3 ................................\n",
      "[CV] ....................... max_depth=10, min_samples_leaf=3 -   0.0s\n",
      "[CV] max_depth=10, min_samples_leaf=3 ................................\n",
      "[CV] ....................... max_depth=10, min_samples_leaf=3 -   0.0s\n",
      "[CV] max_depth=10, min_samples_leaf=3 ................................\n",
      "[CV] ....................... max_depth=10, min_samples_leaf=3 -   0.0s\n",
      "[CV] max_depth=10, min_samples_leaf=3 ................................\n",
      "[CV] ....................... max_depth=10, min_samples_leaf=3 -   0.0s\n",
      "[CV] max_depth=10, min_samples_leaf=4 ................................\n",
      "[CV] ....................... max_depth=10, min_samples_leaf=4 -   0.0s\n",
      "[CV] max_depth=10, min_samples_leaf=4 ................................\n",
      "[CV] ....................... max_depth=10, min_samples_leaf=4 -   0.0s\n",
      "[CV] max_depth=10, min_samples_leaf=4 ................................\n",
      "[CV] ....................... max_depth=10, min_samples_leaf=4 -   0.0s\n",
      "[CV] max_depth=10, min_samples_leaf=4 ................................\n",
      "[CV] ....................... max_depth=10, min_samples_leaf=4 -   0.0s\n",
      "[CV] max_depth=10, min_samples_leaf=4 ................................\n",
      "[CV] ....................... max_depth=10, min_samples_leaf=4 -   0.0s\n",
      "[CV] max_depth=10, min_samples_leaf=5 ................................\n",
      "[CV] ....................... max_depth=10, min_samples_leaf=5 -   0.0s\n",
      "[CV] max_depth=10, min_samples_leaf=5 ................................\n",
      "[CV] ....................... max_depth=10, min_samples_leaf=5 -   0.0s\n",
      "[CV] max_depth=10, min_samples_leaf=5 ................................\n",
      "[CV] ....................... max_depth=10, min_samples_leaf=5 -   0.0s\n",
      "[CV] max_depth=10, min_samples_leaf=5 ................................\n",
      "[CV] ....................... max_depth=10, min_samples_leaf=5 -   0.0s\n",
      "[CV] max_depth=10, min_samples_leaf=5 ................................\n",
      "[CV] ....................... max_depth=10, min_samples_leaf=5 -   0.0s\n",
      "[CV] max_depth=10, min_samples_leaf=6 ................................\n",
      "[CV] ....................... max_depth=10, min_samples_leaf=6 -   0.0s\n",
      "[CV] max_depth=10, min_samples_leaf=6 ................................\n",
      "[CV] ....................... max_depth=10, min_samples_leaf=6 -   0.0s\n",
      "[CV] max_depth=10, min_samples_leaf=6 ................................\n",
      "[CV] ....................... max_depth=10, min_samples_leaf=6 -   0.0s\n",
      "[CV] max_depth=10, min_samples_leaf=6 ................................\n",
      "[CV] ....................... max_depth=10, min_samples_leaf=6 -   0.0s\n",
      "[CV] max_depth=10, min_samples_leaf=6 ................................\n",
      "[CV] ....................... max_depth=10, min_samples_leaf=6 -   0.0s\n",
      "[CV] max_depth=10, min_samples_leaf=7 ................................\n",
      "[CV] ....................... max_depth=10, min_samples_leaf=7 -   0.0s\n",
      "[CV] max_depth=10, min_samples_leaf=7 ................................\n",
      "[CV] ....................... max_depth=10, min_samples_leaf=7 -   0.0s\n",
      "[CV] max_depth=10, min_samples_leaf=7 ................................\n",
      "[CV] ....................... max_depth=10, min_samples_leaf=7 -   0.0s\n",
      "[CV] max_depth=10, min_samples_leaf=7 ................................\n",
      "[CV] ....................... max_depth=10, min_samples_leaf=7 -   0.0s\n",
      "[CV] max_depth=10, min_samples_leaf=7 ................................\n",
      "[CV] ....................... max_depth=10, min_samples_leaf=7 -   0.0s\n",
      "[CV] max_depth=10, min_samples_leaf=8 ................................\n",
      "[CV] ....................... max_depth=10, min_samples_leaf=8 -   0.0s\n",
      "[CV] max_depth=10, min_samples_leaf=8 ................................\n",
      "[CV] ....................... max_depth=10, min_samples_leaf=8 -   0.0s\n",
      "[CV] max_depth=10, min_samples_leaf=8 ................................\n",
      "[CV] ....................... max_depth=10, min_samples_leaf=8 -   0.0s\n",
      "[CV] max_depth=10, min_samples_leaf=8 ................................\n"
     ]
    },
    {
     "name": "stdout",
     "output_type": "stream",
     "text": [
      "[CV] ....................... max_depth=10, min_samples_leaf=8 -   0.0s\n",
      "[CV] max_depth=10, min_samples_leaf=8 ................................\n",
      "[CV] ....................... max_depth=10, min_samples_leaf=8 -   0.0s\n",
      "[CV] max_depth=10, min_samples_leaf=9 ................................\n",
      "[CV] ....................... max_depth=10, min_samples_leaf=9 -   0.0s\n",
      "[CV] max_depth=10, min_samples_leaf=9 ................................\n",
      "[CV] ....................... max_depth=10, min_samples_leaf=9 -   0.0s\n",
      "[CV] max_depth=10, min_samples_leaf=9 ................................\n",
      "[CV] ....................... max_depth=10, min_samples_leaf=9 -   0.0s\n",
      "[CV] max_depth=10, min_samples_leaf=9 ................................\n",
      "[CV] ....................... max_depth=10, min_samples_leaf=9 -   0.0s\n",
      "[CV] max_depth=10, min_samples_leaf=9 ................................\n",
      "[CV] ....................... max_depth=10, min_samples_leaf=9 -   0.0s\n",
      "[CV] max_depth=11, min_samples_leaf=1 ................................\n",
      "[CV] ....................... max_depth=11, min_samples_leaf=1 -   0.0s\n",
      "[CV] max_depth=11, min_samples_leaf=1 ................................\n",
      "[CV] ....................... max_depth=11, min_samples_leaf=1 -   0.0s\n",
      "[CV] max_depth=11, min_samples_leaf=1 ................................\n",
      "[CV] ....................... max_depth=11, min_samples_leaf=1 -   0.0s\n",
      "[CV] max_depth=11, min_samples_leaf=1 ................................\n",
      "[CV] ....................... max_depth=11, min_samples_leaf=1 -   0.0s\n",
      "[CV] max_depth=11, min_samples_leaf=1 ................................\n",
      "[CV] ....................... max_depth=11, min_samples_leaf=1 -   0.0s\n",
      "[CV] max_depth=11, min_samples_leaf=2 ................................\n",
      "[CV] ....................... max_depth=11, min_samples_leaf=2 -   0.0s\n",
      "[CV] max_depth=11, min_samples_leaf=2 ................................\n",
      "[CV] ....................... max_depth=11, min_samples_leaf=2 -   0.0s\n",
      "[CV] max_depth=11, min_samples_leaf=2 ................................\n",
      "[CV] ....................... max_depth=11, min_samples_leaf=2 -   0.0s\n",
      "[CV] max_depth=11, min_samples_leaf=2 ................................\n",
      "[CV] ....................... max_depth=11, min_samples_leaf=2 -   0.0s\n",
      "[CV] max_depth=11, min_samples_leaf=2 ................................\n",
      "[CV] ....................... max_depth=11, min_samples_leaf=2 -   0.0s\n",
      "[CV] max_depth=11, min_samples_leaf=3 ................................\n",
      "[CV] ....................... max_depth=11, min_samples_leaf=3 -   0.0s\n",
      "[CV] max_depth=11, min_samples_leaf=3 ................................\n",
      "[CV] ....................... max_depth=11, min_samples_leaf=3 -   0.0s\n",
      "[CV] max_depth=11, min_samples_leaf=3 ................................\n",
      "[CV] ....................... max_depth=11, min_samples_leaf=3 -   0.0s\n",
      "[CV] max_depth=11, min_samples_leaf=3 ................................\n",
      "[CV] ....................... max_depth=11, min_samples_leaf=3 -   0.0s\n",
      "[CV] max_depth=11, min_samples_leaf=3 ................................\n",
      "[CV] ....................... max_depth=11, min_samples_leaf=3 -   0.0s\n",
      "[CV] max_depth=11, min_samples_leaf=4 ................................\n",
      "[CV] ....................... max_depth=11, min_samples_leaf=4 -   0.0s\n",
      "[CV] max_depth=11, min_samples_leaf=4 ................................\n",
      "[CV] ....................... max_depth=11, min_samples_leaf=4 -   0.0s\n",
      "[CV] max_depth=11, min_samples_leaf=4 ................................\n",
      "[CV] ....................... max_depth=11, min_samples_leaf=4 -   0.0s\n",
      "[CV] max_depth=11, min_samples_leaf=4 ................................\n",
      "[CV] ....................... max_depth=11, min_samples_leaf=4 -   0.0s\n",
      "[CV] max_depth=11, min_samples_leaf=4 ................................\n",
      "[CV] ....................... max_depth=11, min_samples_leaf=4 -   0.0s\n",
      "[CV] max_depth=11, min_samples_leaf=5 ................................\n",
      "[CV] ....................... max_depth=11, min_samples_leaf=5 -   0.0s\n",
      "[CV] max_depth=11, min_samples_leaf=5 ................................\n",
      "[CV] ....................... max_depth=11, min_samples_leaf=5 -   0.0s\n",
      "[CV] max_depth=11, min_samples_leaf=5 ................................\n",
      "[CV] ....................... max_depth=11, min_samples_leaf=5 -   0.0s\n",
      "[CV] max_depth=11, min_samples_leaf=5 ................................\n",
      "[CV] ....................... max_depth=11, min_samples_leaf=5 -   0.0s\n",
      "[CV] max_depth=11, min_samples_leaf=5 ................................\n",
      "[CV] ....................... max_depth=11, min_samples_leaf=5 -   0.0s\n",
      "[CV] max_depth=11, min_samples_leaf=6 ................................\n",
      "[CV] ....................... max_depth=11, min_samples_leaf=6 -   0.0s\n",
      "[CV] max_depth=11, min_samples_leaf=6 ................................\n",
      "[CV] ....................... max_depth=11, min_samples_leaf=6 -   0.0s\n",
      "[CV] max_depth=11, min_samples_leaf=6 ................................\n",
      "[CV] ....................... max_depth=11, min_samples_leaf=6 -   0.0s\n",
      "[CV] max_depth=11, min_samples_leaf=6 ................................\n",
      "[CV] ....................... max_depth=11, min_samples_leaf=6 -   0.0s\n",
      "[CV] max_depth=11, min_samples_leaf=6 ................................\n",
      "[CV] ....................... max_depth=11, min_samples_leaf=6 -   0.0s\n",
      "[CV] max_depth=11, min_samples_leaf=7 ................................\n",
      "[CV] ....................... max_depth=11, min_samples_leaf=7 -   0.0s\n",
      "[CV] max_depth=11, min_samples_leaf=7 ................................\n",
      "[CV] ....................... max_depth=11, min_samples_leaf=7 -   0.0s\n",
      "[CV] max_depth=11, min_samples_leaf=7 ................................\n",
      "[CV] ....................... max_depth=11, min_samples_leaf=7 -   0.0s\n",
      "[CV] max_depth=11, min_samples_leaf=7 ................................\n",
      "[CV] ....................... max_depth=11, min_samples_leaf=7 -   0.0s\n",
      "[CV] max_depth=11, min_samples_leaf=7 ................................\n",
      "[CV] ....................... max_depth=11, min_samples_leaf=7 -   0.0s\n",
      "[CV] max_depth=11, min_samples_leaf=8 ................................\n",
      "[CV] ....................... max_depth=11, min_samples_leaf=8 -   0.0s\n",
      "[CV] max_depth=11, min_samples_leaf=8 ................................\n",
      "[CV] ....................... max_depth=11, min_samples_leaf=8 -   0.0s\n",
      "[CV] max_depth=11, min_samples_leaf=8 ................................\n",
      "[CV] ....................... max_depth=11, min_samples_leaf=8 -   0.0s\n",
      "[CV] max_depth=11, min_samples_leaf=8 ................................\n",
      "[CV] ....................... max_depth=11, min_samples_leaf=8 -   0.0s\n",
      "[CV] max_depth=11, min_samples_leaf=8 ................................\n",
      "[CV] ....................... max_depth=11, min_samples_leaf=8 -   0.0s\n",
      "[CV] max_depth=11, min_samples_leaf=9 ................................\n",
      "[CV] ....................... max_depth=11, min_samples_leaf=9 -   0.0s\n",
      "[CV] max_depth=11, min_samples_leaf=9 ................................\n",
      "[CV] ....................... max_depth=11, min_samples_leaf=9 -   0.0s\n",
      "[CV] max_depth=11, min_samples_leaf=9 ................................\n",
      "[CV] ....................... max_depth=11, min_samples_leaf=9 -   0.0s\n",
      "[CV] max_depth=11, min_samples_leaf=9 ................................\n",
      "[CV] ....................... max_depth=11, min_samples_leaf=9 -   0.0s\n",
      "[CV] max_depth=11, min_samples_leaf=9 ................................\n",
      "[CV] ....................... max_depth=11, min_samples_leaf=9 -   0.0s\n",
      "[CV] max_depth=12, min_samples_leaf=1 ................................\n",
      "[CV] ....................... max_depth=12, min_samples_leaf=1 -   0.0s\n",
      "[CV] max_depth=12, min_samples_leaf=1 ................................\n",
      "[CV] ....................... max_depth=12, min_samples_leaf=1 -   0.0s\n",
      "[CV] max_depth=12, min_samples_leaf=1 ................................\n",
      "[CV] ....................... max_depth=12, min_samples_leaf=1 -   0.0s\n",
      "[CV] max_depth=12, min_samples_leaf=1 ................................\n",
      "[CV] ....................... max_depth=12, min_samples_leaf=1 -   0.0s\n",
      "[CV] max_depth=12, min_samples_leaf=1 ................................\n",
      "[CV] ....................... max_depth=12, min_samples_leaf=1 -   0.0s\n",
      "[CV] max_depth=12, min_samples_leaf=2 ................................\n",
      "[CV] ....................... max_depth=12, min_samples_leaf=2 -   0.0s\n",
      "[CV] max_depth=12, min_samples_leaf=2 ................................\n",
      "[CV] ....................... max_depth=12, min_samples_leaf=2 -   0.0s\n",
      "[CV] max_depth=12, min_samples_leaf=2 ................................\n",
      "[CV] ....................... max_depth=12, min_samples_leaf=2 -   0.0s\n",
      "[CV] max_depth=12, min_samples_leaf=2 ................................\n",
      "[CV] ....................... max_depth=12, min_samples_leaf=2 -   0.0s\n",
      "[CV] max_depth=12, min_samples_leaf=2 ................................\n"
     ]
    },
    {
     "name": "stdout",
     "output_type": "stream",
     "text": [
      "[CV] ....................... max_depth=12, min_samples_leaf=2 -   0.0s\n",
      "[CV] max_depth=12, min_samples_leaf=3 ................................\n",
      "[CV] ....................... max_depth=12, min_samples_leaf=3 -   0.0s\n",
      "[CV] max_depth=12, min_samples_leaf=3 ................................\n",
      "[CV] ....................... max_depth=12, min_samples_leaf=3 -   0.0s\n",
      "[CV] max_depth=12, min_samples_leaf=3 ................................\n",
      "[CV] ....................... max_depth=12, min_samples_leaf=3 -   0.0s\n",
      "[CV] max_depth=12, min_samples_leaf=3 ................................\n",
      "[CV] ....................... max_depth=12, min_samples_leaf=3 -   0.0s\n",
      "[CV] max_depth=12, min_samples_leaf=3 ................................\n",
      "[CV] ....................... max_depth=12, min_samples_leaf=3 -   0.0s\n",
      "[CV] max_depth=12, min_samples_leaf=4 ................................\n",
      "[CV] ....................... max_depth=12, min_samples_leaf=4 -   0.0s\n",
      "[CV] max_depth=12, min_samples_leaf=4 ................................\n",
      "[CV] ....................... max_depth=12, min_samples_leaf=4 -   0.0s\n",
      "[CV] max_depth=12, min_samples_leaf=4 ................................\n",
      "[CV] ....................... max_depth=12, min_samples_leaf=4 -   0.0s\n",
      "[CV] max_depth=12, min_samples_leaf=4 ................................\n",
      "[CV] ....................... max_depth=12, min_samples_leaf=4 -   0.0s\n",
      "[CV] max_depth=12, min_samples_leaf=4 ................................\n",
      "[CV] ....................... max_depth=12, min_samples_leaf=4 -   0.0s\n",
      "[CV] max_depth=12, min_samples_leaf=5 ................................\n",
      "[CV] ....................... max_depth=12, min_samples_leaf=5 -   0.0s\n",
      "[CV] max_depth=12, min_samples_leaf=5 ................................\n",
      "[CV] ....................... max_depth=12, min_samples_leaf=5 -   0.0s\n",
      "[CV] max_depth=12, min_samples_leaf=5 ................................\n",
      "[CV] ....................... max_depth=12, min_samples_leaf=5 -   0.0s\n",
      "[CV] max_depth=12, min_samples_leaf=5 ................................\n",
      "[CV] ....................... max_depth=12, min_samples_leaf=5 -   0.0s\n",
      "[CV] max_depth=12, min_samples_leaf=5 ................................\n",
      "[CV] ....................... max_depth=12, min_samples_leaf=5 -   0.0s\n",
      "[CV] max_depth=12, min_samples_leaf=6 ................................\n",
      "[CV] ....................... max_depth=12, min_samples_leaf=6 -   0.0s\n",
      "[CV] max_depth=12, min_samples_leaf=6 ................................\n",
      "[CV] ....................... max_depth=12, min_samples_leaf=6 -   0.0s\n",
      "[CV] max_depth=12, min_samples_leaf=6 ................................\n",
      "[CV] ....................... max_depth=12, min_samples_leaf=6 -   0.0s\n",
      "[CV] max_depth=12, min_samples_leaf=6 ................................\n",
      "[CV] ....................... max_depth=12, min_samples_leaf=6 -   0.0s\n",
      "[CV] max_depth=12, min_samples_leaf=6 ................................\n",
      "[CV] ....................... max_depth=12, min_samples_leaf=6 -   0.0s\n",
      "[CV] max_depth=12, min_samples_leaf=7 ................................\n",
      "[CV] ....................... max_depth=12, min_samples_leaf=7 -   0.0s\n",
      "[CV] max_depth=12, min_samples_leaf=7 ................................\n",
      "[CV] ....................... max_depth=12, min_samples_leaf=7 -   0.0s\n",
      "[CV] max_depth=12, min_samples_leaf=7 ................................\n",
      "[CV] ....................... max_depth=12, min_samples_leaf=7 -   0.0s\n",
      "[CV] max_depth=12, min_samples_leaf=7 ................................\n",
      "[CV] ....................... max_depth=12, min_samples_leaf=7 -   0.0s\n",
      "[CV] max_depth=12, min_samples_leaf=7 ................................\n",
      "[CV] ....................... max_depth=12, min_samples_leaf=7 -   0.0s\n",
      "[CV] max_depth=12, min_samples_leaf=8 ................................\n",
      "[CV] ....................... max_depth=12, min_samples_leaf=8 -   0.0s\n",
      "[CV] max_depth=12, min_samples_leaf=8 ................................\n",
      "[CV] ....................... max_depth=12, min_samples_leaf=8 -   0.0s\n",
      "[CV] max_depth=12, min_samples_leaf=8 ................................\n",
      "[CV] ....................... max_depth=12, min_samples_leaf=8 -   0.0s\n",
      "[CV] max_depth=12, min_samples_leaf=8 ................................\n",
      "[CV] ....................... max_depth=12, min_samples_leaf=8 -   0.0s\n",
      "[CV] max_depth=12, min_samples_leaf=8 ................................\n",
      "[CV] ....................... max_depth=12, min_samples_leaf=8 -   0.0s\n",
      "[CV] max_depth=12, min_samples_leaf=9 ................................\n",
      "[CV] ....................... max_depth=12, min_samples_leaf=9 -   0.0s\n",
      "[CV] max_depth=12, min_samples_leaf=9 ................................\n",
      "[CV] ....................... max_depth=12, min_samples_leaf=9 -   0.0s\n",
      "[CV] max_depth=12, min_samples_leaf=9 ................................\n",
      "[CV] ....................... max_depth=12, min_samples_leaf=9 -   0.0s\n",
      "[CV] max_depth=12, min_samples_leaf=9 ................................\n",
      "[CV] ....................... max_depth=12, min_samples_leaf=9 -   0.0s\n",
      "[CV] max_depth=12, min_samples_leaf=9 ................................\n",
      "[CV] ....................... max_depth=12, min_samples_leaf=9 -   0.0s\n",
      "[CV] max_depth=13, min_samples_leaf=1 ................................\n",
      "[CV] ....................... max_depth=13, min_samples_leaf=1 -   0.0s\n",
      "[CV] max_depth=13, min_samples_leaf=1 ................................\n",
      "[CV] ....................... max_depth=13, min_samples_leaf=1 -   0.0s\n",
      "[CV] max_depth=13, min_samples_leaf=1 ................................\n",
      "[CV] ....................... max_depth=13, min_samples_leaf=1 -   0.0s\n",
      "[CV] max_depth=13, min_samples_leaf=1 ................................\n",
      "[CV] ....................... max_depth=13, min_samples_leaf=1 -   0.0s\n",
      "[CV] max_depth=13, min_samples_leaf=1 ................................\n",
      "[CV] ....................... max_depth=13, min_samples_leaf=1 -   0.0s\n",
      "[CV] max_depth=13, min_samples_leaf=2 ................................\n",
      "[CV] ....................... max_depth=13, min_samples_leaf=2 -   0.0s\n",
      "[CV] max_depth=13, min_samples_leaf=2 ................................\n",
      "[CV] ....................... max_depth=13, min_samples_leaf=2 -   0.0s\n",
      "[CV] max_depth=13, min_samples_leaf=2 ................................\n",
      "[CV] ....................... max_depth=13, min_samples_leaf=2 -   0.0s\n",
      "[CV] max_depth=13, min_samples_leaf=2 ................................\n",
      "[CV] ....................... max_depth=13, min_samples_leaf=2 -   0.0s\n",
      "[CV] max_depth=13, min_samples_leaf=2 ................................\n",
      "[CV] ....................... max_depth=13, min_samples_leaf=2 -   0.0s\n",
      "[CV] max_depth=13, min_samples_leaf=3 ................................\n",
      "[CV] ....................... max_depth=13, min_samples_leaf=3 -   0.0s\n",
      "[CV] max_depth=13, min_samples_leaf=3 ................................\n",
      "[CV] ....................... max_depth=13, min_samples_leaf=3 -   0.0s\n",
      "[CV] max_depth=13, min_samples_leaf=3 ................................\n",
      "[CV] ....................... max_depth=13, min_samples_leaf=3 -   0.0s\n",
      "[CV] max_depth=13, min_samples_leaf=3 ................................\n",
      "[CV] ....................... max_depth=13, min_samples_leaf=3 -   0.0s\n",
      "[CV] max_depth=13, min_samples_leaf=3 ................................\n",
      "[CV] ....................... max_depth=13, min_samples_leaf=3 -   0.0s\n",
      "[CV] max_depth=13, min_samples_leaf=4 ................................\n",
      "[CV] ....................... max_depth=13, min_samples_leaf=4 -   0.0s\n",
      "[CV] max_depth=13, min_samples_leaf=4 ................................\n",
      "[CV] ....................... max_depth=13, min_samples_leaf=4 -   0.0s\n",
      "[CV] max_depth=13, min_samples_leaf=4 ................................\n",
      "[CV] ....................... max_depth=13, min_samples_leaf=4 -   0.0s\n",
      "[CV] max_depth=13, min_samples_leaf=4 ................................\n",
      "[CV] ....................... max_depth=13, min_samples_leaf=4 -   0.0s\n",
      "[CV] max_depth=13, min_samples_leaf=4 ................................\n",
      "[CV] ....................... max_depth=13, min_samples_leaf=4 -   0.0s\n",
      "[CV] max_depth=13, min_samples_leaf=5 ................................\n",
      "[CV] ....................... max_depth=13, min_samples_leaf=5 -   0.0s\n",
      "[CV] max_depth=13, min_samples_leaf=5 ................................\n",
      "[CV] ....................... max_depth=13, min_samples_leaf=5 -   0.0s\n",
      "[CV] max_depth=13, min_samples_leaf=5 ................................\n",
      "[CV] ....................... max_depth=13, min_samples_leaf=5 -   0.0s\n",
      "[CV] max_depth=13, min_samples_leaf=5 ................................\n",
      "[CV] ....................... max_depth=13, min_samples_leaf=5 -   0.0s\n",
      "[CV] max_depth=13, min_samples_leaf=5 ................................\n",
      "[CV] ....................... max_depth=13, min_samples_leaf=5 -   0.0s\n",
      "[CV] max_depth=13, min_samples_leaf=6 ................................\n",
      "[CV] ....................... max_depth=13, min_samples_leaf=6 -   0.0s\n",
      "[CV] max_depth=13, min_samples_leaf=6 ................................\n",
      "[CV] ....................... max_depth=13, min_samples_leaf=6 -   0.0s\n",
      "[CV] max_depth=13, min_samples_leaf=6 ................................\n"
     ]
    },
    {
     "name": "stdout",
     "output_type": "stream",
     "text": [
      "[CV] ....................... max_depth=13, min_samples_leaf=6 -   0.0s\n",
      "[CV] max_depth=13, min_samples_leaf=6 ................................\n",
      "[CV] ....................... max_depth=13, min_samples_leaf=6 -   0.0s\n",
      "[CV] max_depth=13, min_samples_leaf=6 ................................\n",
      "[CV] ....................... max_depth=13, min_samples_leaf=6 -   0.0s\n",
      "[CV] max_depth=13, min_samples_leaf=7 ................................\n",
      "[CV] ....................... max_depth=13, min_samples_leaf=7 -   0.0s\n",
      "[CV] max_depth=13, min_samples_leaf=7 ................................\n",
      "[CV] ....................... max_depth=13, min_samples_leaf=7 -   0.0s\n",
      "[CV] max_depth=13, min_samples_leaf=7 ................................\n",
      "[CV] ....................... max_depth=13, min_samples_leaf=7 -   0.0s\n",
      "[CV] max_depth=13, min_samples_leaf=7 ................................\n",
      "[CV] ....................... max_depth=13, min_samples_leaf=7 -   0.0s\n",
      "[CV] max_depth=13, min_samples_leaf=7 ................................\n",
      "[CV] ....................... max_depth=13, min_samples_leaf=7 -   0.0s\n",
      "[CV] max_depth=13, min_samples_leaf=8 ................................\n",
      "[CV] ....................... max_depth=13, min_samples_leaf=8 -   0.0s\n",
      "[CV] max_depth=13, min_samples_leaf=8 ................................\n",
      "[CV] ....................... max_depth=13, min_samples_leaf=8 -   0.0s\n",
      "[CV] max_depth=13, min_samples_leaf=8 ................................\n",
      "[CV] ....................... max_depth=13, min_samples_leaf=8 -   0.0s\n",
      "[CV] max_depth=13, min_samples_leaf=8 ................................\n",
      "[CV] ....................... max_depth=13, min_samples_leaf=8 -   0.0s\n",
      "[CV] max_depth=13, min_samples_leaf=8 ................................\n",
      "[CV] ....................... max_depth=13, min_samples_leaf=8 -   0.0s\n",
      "[CV] max_depth=13, min_samples_leaf=9 ................................\n",
      "[CV] ....................... max_depth=13, min_samples_leaf=9 -   0.0s\n",
      "[CV] max_depth=13, min_samples_leaf=9 ................................\n",
      "[CV] ....................... max_depth=13, min_samples_leaf=9 -   0.0s\n",
      "[CV] max_depth=13, min_samples_leaf=9 ................................\n",
      "[CV] ....................... max_depth=13, min_samples_leaf=9 -   0.0s\n",
      "[CV] max_depth=13, min_samples_leaf=9 ................................\n",
      "[CV] ....................... max_depth=13, min_samples_leaf=9 -   0.0s\n",
      "[CV] max_depth=13, min_samples_leaf=9 ................................\n",
      "[CV] ....................... max_depth=13, min_samples_leaf=9 -   0.0s\n",
      "[CV] max_depth=14, min_samples_leaf=1 ................................\n",
      "[CV] ....................... max_depth=14, min_samples_leaf=1 -   0.0s\n",
      "[CV] max_depth=14, min_samples_leaf=1 ................................\n",
      "[CV] ....................... max_depth=14, min_samples_leaf=1 -   0.0s\n",
      "[CV] max_depth=14, min_samples_leaf=1 ................................\n",
      "[CV] ....................... max_depth=14, min_samples_leaf=1 -   0.0s\n",
      "[CV] max_depth=14, min_samples_leaf=1 ................................\n",
      "[CV] ....................... max_depth=14, min_samples_leaf=1 -   0.0s\n",
      "[CV] max_depth=14, min_samples_leaf=1 ................................\n",
      "[CV] ....................... max_depth=14, min_samples_leaf=1 -   0.0s\n",
      "[CV] max_depth=14, min_samples_leaf=2 ................................\n",
      "[CV] ....................... max_depth=14, min_samples_leaf=2 -   0.0s\n",
      "[CV] max_depth=14, min_samples_leaf=2 ................................\n",
      "[CV] ....................... max_depth=14, min_samples_leaf=2 -   0.0s\n",
      "[CV] max_depth=14, min_samples_leaf=2 ................................\n",
      "[CV] ....................... max_depth=14, min_samples_leaf=2 -   0.0s\n",
      "[CV] max_depth=14, min_samples_leaf=2 ................................\n",
      "[CV] ....................... max_depth=14, min_samples_leaf=2 -   0.0s\n",
      "[CV] max_depth=14, min_samples_leaf=2 ................................\n",
      "[CV] ....................... max_depth=14, min_samples_leaf=2 -   0.0s\n",
      "[CV] max_depth=14, min_samples_leaf=3 ................................\n",
      "[CV] ....................... max_depth=14, min_samples_leaf=3 -   0.0s\n",
      "[CV] max_depth=14, min_samples_leaf=3 ................................\n",
      "[CV] ....................... max_depth=14, min_samples_leaf=3 -   0.0s\n",
      "[CV] max_depth=14, min_samples_leaf=3 ................................\n",
      "[CV] ....................... max_depth=14, min_samples_leaf=3 -   0.0s\n",
      "[CV] max_depth=14, min_samples_leaf=3 ................................\n",
      "[CV] ....................... max_depth=14, min_samples_leaf=3 -   0.0s\n",
      "[CV] max_depth=14, min_samples_leaf=3 ................................\n",
      "[CV] ....................... max_depth=14, min_samples_leaf=3 -   0.0s\n",
      "[CV] max_depth=14, min_samples_leaf=4 ................................\n",
      "[CV] ....................... max_depth=14, min_samples_leaf=4 -   0.0s\n",
      "[CV] max_depth=14, min_samples_leaf=4 ................................\n",
      "[CV] ....................... max_depth=14, min_samples_leaf=4 -   0.0s\n",
      "[CV] max_depth=14, min_samples_leaf=4 ................................\n",
      "[CV] ....................... max_depth=14, min_samples_leaf=4 -   0.0s\n",
      "[CV] max_depth=14, min_samples_leaf=4 ................................\n",
      "[CV] ....................... max_depth=14, min_samples_leaf=4 -   0.0s\n",
      "[CV] max_depth=14, min_samples_leaf=4 ................................\n",
      "[CV] ....................... max_depth=14, min_samples_leaf=4 -   0.0s\n",
      "[CV] max_depth=14, min_samples_leaf=5 ................................\n",
      "[CV] ....................... max_depth=14, min_samples_leaf=5 -   0.0s\n",
      "[CV] max_depth=14, min_samples_leaf=5 ................................\n",
      "[CV] ....................... max_depth=14, min_samples_leaf=5 -   0.0s\n",
      "[CV] max_depth=14, min_samples_leaf=5 ................................\n",
      "[CV] ....................... max_depth=14, min_samples_leaf=5 -   0.0s\n",
      "[CV] max_depth=14, min_samples_leaf=5 ................................\n",
      "[CV] ....................... max_depth=14, min_samples_leaf=5 -   0.0s\n",
      "[CV] max_depth=14, min_samples_leaf=5 ................................\n",
      "[CV] ....................... max_depth=14, min_samples_leaf=5 -   0.0s\n",
      "[CV] max_depth=14, min_samples_leaf=6 ................................\n",
      "[CV] ....................... max_depth=14, min_samples_leaf=6 -   0.0s\n",
      "[CV] max_depth=14, min_samples_leaf=6 ................................\n",
      "[CV] ....................... max_depth=14, min_samples_leaf=6 -   0.0s\n",
      "[CV] max_depth=14, min_samples_leaf=6 ................................\n",
      "[CV] ....................... max_depth=14, min_samples_leaf=6 -   0.0s\n",
      "[CV] max_depth=14, min_samples_leaf=6 ................................\n",
      "[CV] ....................... max_depth=14, min_samples_leaf=6 -   0.0s\n",
      "[CV] max_depth=14, min_samples_leaf=6 ................................\n",
      "[CV] ....................... max_depth=14, min_samples_leaf=6 -   0.0s\n",
      "[CV] max_depth=14, min_samples_leaf=7 ................................\n",
      "[CV] ....................... max_depth=14, min_samples_leaf=7 -   0.0s\n",
      "[CV] max_depth=14, min_samples_leaf=7 ................................\n",
      "[CV] ....................... max_depth=14, min_samples_leaf=7 -   0.0s\n",
      "[CV] max_depth=14, min_samples_leaf=7 ................................\n",
      "[CV] ....................... max_depth=14, min_samples_leaf=7 -   0.0s\n",
      "[CV] max_depth=14, min_samples_leaf=7 ................................\n",
      "[CV] ....................... max_depth=14, min_samples_leaf=7 -   0.0s\n",
      "[CV] max_depth=14, min_samples_leaf=7 ................................\n",
      "[CV] ....................... max_depth=14, min_samples_leaf=7 -   0.0s\n",
      "[CV] max_depth=14, min_samples_leaf=8 ................................\n",
      "[CV] ....................... max_depth=14, min_samples_leaf=8 -   0.0s\n",
      "[CV] max_depth=14, min_samples_leaf=8 ................................\n",
      "[CV] ....................... max_depth=14, min_samples_leaf=8 -   0.0s\n",
      "[CV] max_depth=14, min_samples_leaf=8 ................................\n",
      "[CV] ....................... max_depth=14, min_samples_leaf=8 -   0.0s\n",
      "[CV] max_depth=14, min_samples_leaf=8 ................................\n",
      "[CV] ....................... max_depth=14, min_samples_leaf=8 -   0.0s\n",
      "[CV] max_depth=14, min_samples_leaf=8 ................................\n",
      "[CV] ....................... max_depth=14, min_samples_leaf=8 -   0.0s\n",
      "[CV] max_depth=14, min_samples_leaf=9 ................................\n",
      "[CV] ....................... max_depth=14, min_samples_leaf=9 -   0.0s\n",
      "[CV] max_depth=14, min_samples_leaf=9 ................................\n",
      "[CV] ....................... max_depth=14, min_samples_leaf=9 -   0.0s\n",
      "[CV] max_depth=14, min_samples_leaf=9 ................................\n",
      "[CV] ....................... max_depth=14, min_samples_leaf=9 -   0.0s\n",
      "[CV] max_depth=14, min_samples_leaf=9 ................................\n",
      "[CV] ....................... max_depth=14, min_samples_leaf=9 -   0.0s\n",
      "[CV] max_depth=14, min_samples_leaf=9 ................................\n",
      "[CV] ....................... max_depth=14, min_samples_leaf=9 -   0.0s\n",
      "[CV] max_depth=15, min_samples_leaf=1 ................................\n",
      "[CV] ....................... max_depth=15, min_samples_leaf=1 -   0.0s\n",
      "[CV] max_depth=15, min_samples_leaf=1 ................................\n"
     ]
    },
    {
     "name": "stdout",
     "output_type": "stream",
     "text": [
      "[CV] ....................... max_depth=15, min_samples_leaf=1 -   0.0s\n",
      "[CV] max_depth=15, min_samples_leaf=1 ................................\n",
      "[CV] ....................... max_depth=15, min_samples_leaf=1 -   0.0s\n",
      "[CV] max_depth=15, min_samples_leaf=1 ................................\n",
      "[CV] ....................... max_depth=15, min_samples_leaf=1 -   0.0s\n",
      "[CV] max_depth=15, min_samples_leaf=1 ................................\n",
      "[CV] ....................... max_depth=15, min_samples_leaf=1 -   0.0s\n",
      "[CV] max_depth=15, min_samples_leaf=2 ................................\n",
      "[CV] ....................... max_depth=15, min_samples_leaf=2 -   0.0s\n",
      "[CV] max_depth=15, min_samples_leaf=2 ................................\n",
      "[CV] ....................... max_depth=15, min_samples_leaf=2 -   0.0s\n",
      "[CV] max_depth=15, min_samples_leaf=2 ................................\n",
      "[CV] ....................... max_depth=15, min_samples_leaf=2 -   0.0s\n",
      "[CV] max_depth=15, min_samples_leaf=2 ................................\n",
      "[CV] ....................... max_depth=15, min_samples_leaf=2 -   0.0s\n",
      "[CV] max_depth=15, min_samples_leaf=2 ................................\n",
      "[CV] ....................... max_depth=15, min_samples_leaf=2 -   0.0s\n",
      "[CV] max_depth=15, min_samples_leaf=3 ................................\n",
      "[CV] ....................... max_depth=15, min_samples_leaf=3 -   0.0s\n",
      "[CV] max_depth=15, min_samples_leaf=3 ................................\n",
      "[CV] ....................... max_depth=15, min_samples_leaf=3 -   0.0s\n",
      "[CV] max_depth=15, min_samples_leaf=3 ................................\n",
      "[CV] ....................... max_depth=15, min_samples_leaf=3 -   0.0s\n",
      "[CV] max_depth=15, min_samples_leaf=3 ................................\n",
      "[CV] ....................... max_depth=15, min_samples_leaf=3 -   0.0s\n",
      "[CV] max_depth=15, min_samples_leaf=3 ................................\n",
      "[CV] ....................... max_depth=15, min_samples_leaf=3 -   0.0s\n",
      "[CV] max_depth=15, min_samples_leaf=4 ................................\n",
      "[CV] ....................... max_depth=15, min_samples_leaf=4 -   0.0s\n",
      "[CV] max_depth=15, min_samples_leaf=4 ................................\n",
      "[CV] ....................... max_depth=15, min_samples_leaf=4 -   0.0s\n",
      "[CV] max_depth=15, min_samples_leaf=4 ................................\n",
      "[CV] ....................... max_depth=15, min_samples_leaf=4 -   0.0s\n",
      "[CV] max_depth=15, min_samples_leaf=4 ................................\n",
      "[CV] ....................... max_depth=15, min_samples_leaf=4 -   0.0s\n",
      "[CV] max_depth=15, min_samples_leaf=4 ................................\n",
      "[CV] ....................... max_depth=15, min_samples_leaf=4 -   0.0s\n",
      "[CV] max_depth=15, min_samples_leaf=5 ................................\n",
      "[CV] ....................... max_depth=15, min_samples_leaf=5 -   0.0s\n",
      "[CV] max_depth=15, min_samples_leaf=5 ................................\n",
      "[CV] ....................... max_depth=15, min_samples_leaf=5 -   0.0s\n",
      "[CV] max_depth=15, min_samples_leaf=5 ................................\n",
      "[CV] ....................... max_depth=15, min_samples_leaf=5 -   0.0s\n",
      "[CV] max_depth=15, min_samples_leaf=5 ................................\n",
      "[CV] ....................... max_depth=15, min_samples_leaf=5 -   0.0s\n",
      "[CV] max_depth=15, min_samples_leaf=5 ................................\n",
      "[CV] ....................... max_depth=15, min_samples_leaf=5 -   0.0s\n",
      "[CV] max_depth=15, min_samples_leaf=6 ................................\n",
      "[CV] ....................... max_depth=15, min_samples_leaf=6 -   0.0s\n",
      "[CV] max_depth=15, min_samples_leaf=6 ................................\n",
      "[CV] ....................... max_depth=15, min_samples_leaf=6 -   0.0s\n",
      "[CV] max_depth=15, min_samples_leaf=6 ................................\n",
      "[CV] ....................... max_depth=15, min_samples_leaf=6 -   0.0s\n",
      "[CV] max_depth=15, min_samples_leaf=6 ................................\n",
      "[CV] ....................... max_depth=15, min_samples_leaf=6 -   0.0s\n",
      "[CV] max_depth=15, min_samples_leaf=6 ................................\n",
      "[CV] ....................... max_depth=15, min_samples_leaf=6 -   0.0s\n",
      "[CV] max_depth=15, min_samples_leaf=7 ................................\n",
      "[CV] ....................... max_depth=15, min_samples_leaf=7 -   0.0s\n",
      "[CV] max_depth=15, min_samples_leaf=7 ................................\n",
      "[CV] ....................... max_depth=15, min_samples_leaf=7 -   0.0s\n",
      "[CV] max_depth=15, min_samples_leaf=7 ................................\n",
      "[CV] ....................... max_depth=15, min_samples_leaf=7 -   0.0s\n",
      "[CV] max_depth=15, min_samples_leaf=7 ................................\n",
      "[CV] ....................... max_depth=15, min_samples_leaf=7 -   0.0s\n",
      "[CV] max_depth=15, min_samples_leaf=7 ................................\n",
      "[CV] ....................... max_depth=15, min_samples_leaf=7 -   0.0s\n",
      "[CV] max_depth=15, min_samples_leaf=8 ................................\n",
      "[CV] ....................... max_depth=15, min_samples_leaf=8 -   0.0s\n",
      "[CV] max_depth=15, min_samples_leaf=8 ................................\n",
      "[CV] ....................... max_depth=15, min_samples_leaf=8 -   0.0s\n",
      "[CV] max_depth=15, min_samples_leaf=8 ................................\n",
      "[CV] ....................... max_depth=15, min_samples_leaf=8 -   0.0s\n",
      "[CV] max_depth=15, min_samples_leaf=8 ................................\n",
      "[CV] ....................... max_depth=15, min_samples_leaf=8 -   0.0s\n",
      "[CV] max_depth=15, min_samples_leaf=8 ................................\n",
      "[CV] ....................... max_depth=15, min_samples_leaf=8 -   0.0s\n",
      "[CV] max_depth=15, min_samples_leaf=9 ................................\n",
      "[CV] ....................... max_depth=15, min_samples_leaf=9 -   0.0s\n",
      "[CV] max_depth=15, min_samples_leaf=9 ................................\n",
      "[CV] ....................... max_depth=15, min_samples_leaf=9 -   0.0s\n",
      "[CV] max_depth=15, min_samples_leaf=9 ................................\n",
      "[CV] ....................... max_depth=15, min_samples_leaf=9 -   0.0s\n",
      "[CV] max_depth=15, min_samples_leaf=9 ................................\n",
      "[CV] ....................... max_depth=15, min_samples_leaf=9 -   0.0s\n",
      "[CV] max_depth=15, min_samples_leaf=9 ................................\n",
      "[CV] ....................... max_depth=15, min_samples_leaf=9 -   0.0s\n",
      "[CV] max_depth=16, min_samples_leaf=1 ................................\n",
      "[CV] ....................... max_depth=16, min_samples_leaf=1 -   0.0s\n",
      "[CV] max_depth=16, min_samples_leaf=1 ................................\n",
      "[CV] ....................... max_depth=16, min_samples_leaf=1 -   0.0s\n",
      "[CV] max_depth=16, min_samples_leaf=1 ................................\n",
      "[CV] ....................... max_depth=16, min_samples_leaf=1 -   0.0s\n",
      "[CV] max_depth=16, min_samples_leaf=1 ................................\n",
      "[CV] ....................... max_depth=16, min_samples_leaf=1 -   0.0s\n",
      "[CV] max_depth=16, min_samples_leaf=1 ................................\n",
      "[CV] ....................... max_depth=16, min_samples_leaf=1 -   0.0s\n",
      "[CV] max_depth=16, min_samples_leaf=2 ................................\n",
      "[CV] ....................... max_depth=16, min_samples_leaf=2 -   0.0s\n",
      "[CV] max_depth=16, min_samples_leaf=2 ................................\n",
      "[CV] ....................... max_depth=16, min_samples_leaf=2 -   0.0s\n",
      "[CV] max_depth=16, min_samples_leaf=2 ................................\n",
      "[CV] ....................... max_depth=16, min_samples_leaf=2 -   0.0s\n",
      "[CV] max_depth=16, min_samples_leaf=2 ................................\n",
      "[CV] ....................... max_depth=16, min_samples_leaf=2 -   0.0s\n",
      "[CV] max_depth=16, min_samples_leaf=2 ................................\n",
      "[CV] ....................... max_depth=16, min_samples_leaf=2 -   0.0s\n",
      "[CV] max_depth=16, min_samples_leaf=3 ................................\n",
      "[CV] ....................... max_depth=16, min_samples_leaf=3 -   0.0s\n",
      "[CV] max_depth=16, min_samples_leaf=3 ................................\n",
      "[CV] ....................... max_depth=16, min_samples_leaf=3 -   0.0s\n",
      "[CV] max_depth=16, min_samples_leaf=3 ................................\n",
      "[CV] ....................... max_depth=16, min_samples_leaf=3 -   0.0s\n",
      "[CV] max_depth=16, min_samples_leaf=3 ................................\n",
      "[CV] ....................... max_depth=16, min_samples_leaf=3 -   0.0s\n",
      "[CV] max_depth=16, min_samples_leaf=3 ................................\n",
      "[CV] ....................... max_depth=16, min_samples_leaf=3 -   0.0s\n",
      "[CV] max_depth=16, min_samples_leaf=4 ................................\n"
     ]
    },
    {
     "name": "stdout",
     "output_type": "stream",
     "text": [
      "[CV] ....................... max_depth=16, min_samples_leaf=4 -   0.0s\n",
      "[CV] max_depth=16, min_samples_leaf=4 ................................\n",
      "[CV] ....................... max_depth=16, min_samples_leaf=4 -   0.0s\n",
      "[CV] max_depth=16, min_samples_leaf=4 ................................\n",
      "[CV] ....................... max_depth=16, min_samples_leaf=4 -   0.0s\n",
      "[CV] max_depth=16, min_samples_leaf=4 ................................\n",
      "[CV] ....................... max_depth=16, min_samples_leaf=4 -   0.0s\n",
      "[CV] max_depth=16, min_samples_leaf=4 ................................\n",
      "[CV] ....................... max_depth=16, min_samples_leaf=4 -   0.0s\n",
      "[CV] max_depth=16, min_samples_leaf=5 ................................\n",
      "[CV] ....................... max_depth=16, min_samples_leaf=5 -   0.0s\n",
      "[CV] max_depth=16, min_samples_leaf=5 ................................\n",
      "[CV] ....................... max_depth=16, min_samples_leaf=5 -   0.0s\n",
      "[CV] max_depth=16, min_samples_leaf=5 ................................\n",
      "[CV] ....................... max_depth=16, min_samples_leaf=5 -   0.0s\n",
      "[CV] max_depth=16, min_samples_leaf=5 ................................\n",
      "[CV] ....................... max_depth=16, min_samples_leaf=5 -   0.0s\n",
      "[CV] max_depth=16, min_samples_leaf=5 ................................\n",
      "[CV] ....................... max_depth=16, min_samples_leaf=5 -   0.0s\n",
      "[CV] max_depth=16, min_samples_leaf=6 ................................\n",
      "[CV] ....................... max_depth=16, min_samples_leaf=6 -   0.0s\n",
      "[CV] max_depth=16, min_samples_leaf=6 ................................\n",
      "[CV] ....................... max_depth=16, min_samples_leaf=6 -   0.0s\n",
      "[CV] max_depth=16, min_samples_leaf=6 ................................\n",
      "[CV] ....................... max_depth=16, min_samples_leaf=6 -   0.0s\n",
      "[CV] max_depth=16, min_samples_leaf=6 ................................\n",
      "[CV] ....................... max_depth=16, min_samples_leaf=6 -   0.0s\n",
      "[CV] max_depth=16, min_samples_leaf=6 ................................\n",
      "[CV] ....................... max_depth=16, min_samples_leaf=6 -   0.0s\n",
      "[CV] max_depth=16, min_samples_leaf=7 ................................\n",
      "[CV] ....................... max_depth=16, min_samples_leaf=7 -   0.0s\n",
      "[CV] max_depth=16, min_samples_leaf=7 ................................\n",
      "[CV] ....................... max_depth=16, min_samples_leaf=7 -   0.0s\n",
      "[CV] max_depth=16, min_samples_leaf=7 ................................\n",
      "[CV] ....................... max_depth=16, min_samples_leaf=7 -   0.0s\n",
      "[CV] max_depth=16, min_samples_leaf=7 ................................\n",
      "[CV] ....................... max_depth=16, min_samples_leaf=7 -   0.0s\n",
      "[CV] max_depth=16, min_samples_leaf=7 ................................\n",
      "[CV] ....................... max_depth=16, min_samples_leaf=7 -   0.0s\n",
      "[CV] max_depth=16, min_samples_leaf=8 ................................\n",
      "[CV] ....................... max_depth=16, min_samples_leaf=8 -   0.0s\n",
      "[CV] max_depth=16, min_samples_leaf=8 ................................\n",
      "[CV] ....................... max_depth=16, min_samples_leaf=8 -   0.0s\n",
      "[CV] max_depth=16, min_samples_leaf=8 ................................\n",
      "[CV] ....................... max_depth=16, min_samples_leaf=8 -   0.0s\n",
      "[CV] max_depth=16, min_samples_leaf=8 ................................\n",
      "[CV] ....................... max_depth=16, min_samples_leaf=8 -   0.0s\n",
      "[CV] max_depth=16, min_samples_leaf=8 ................................\n",
      "[CV] ....................... max_depth=16, min_samples_leaf=8 -   0.0s\n",
      "[CV] max_depth=16, min_samples_leaf=9 ................................\n",
      "[CV] ....................... max_depth=16, min_samples_leaf=9 -   0.0s\n",
      "[CV] max_depth=16, min_samples_leaf=9 ................................\n",
      "[CV] ....................... max_depth=16, min_samples_leaf=9 -   0.0s\n",
      "[CV] max_depth=16, min_samples_leaf=9 ................................\n",
      "[CV] ....................... max_depth=16, min_samples_leaf=9 -   0.0s\n",
      "[CV] max_depth=16, min_samples_leaf=9 ................................\n",
      "[CV] ....................... max_depth=16, min_samples_leaf=9 -   0.0s\n",
      "[CV] max_depth=16, min_samples_leaf=9 ................................\n",
      "[CV] ....................... max_depth=16, min_samples_leaf=9 -   0.0s\n",
      "[CV] max_depth=17, min_samples_leaf=1 ................................\n",
      "[CV] ....................... max_depth=17, min_samples_leaf=1 -   0.0s\n",
      "[CV] max_depth=17, min_samples_leaf=1 ................................\n",
      "[CV] ....................... max_depth=17, min_samples_leaf=1 -   0.0s\n",
      "[CV] max_depth=17, min_samples_leaf=1 ................................\n",
      "[CV] ....................... max_depth=17, min_samples_leaf=1 -   0.0s\n",
      "[CV] max_depth=17, min_samples_leaf=1 ................................\n",
      "[CV] ....................... max_depth=17, min_samples_leaf=1 -   0.0s\n",
      "[CV] max_depth=17, min_samples_leaf=1 ................................\n",
      "[CV] ....................... max_depth=17, min_samples_leaf=1 -   0.0s\n",
      "[CV] max_depth=17, min_samples_leaf=2 ................................\n",
      "[CV] ....................... max_depth=17, min_samples_leaf=2 -   0.0s\n",
      "[CV] max_depth=17, min_samples_leaf=2 ................................\n",
      "[CV] ....................... max_depth=17, min_samples_leaf=2 -   0.0s\n",
      "[CV] max_depth=17, min_samples_leaf=2 ................................\n",
      "[CV] ....................... max_depth=17, min_samples_leaf=2 -   0.0s\n",
      "[CV] max_depth=17, min_samples_leaf=2 ................................\n",
      "[CV] ....................... max_depth=17, min_samples_leaf=2 -   0.0s\n",
      "[CV] max_depth=17, min_samples_leaf=2 ................................\n",
      "[CV] ....................... max_depth=17, min_samples_leaf=2 -   0.0s\n",
      "[CV] max_depth=17, min_samples_leaf=3 ................................\n",
      "[CV] ....................... max_depth=17, min_samples_leaf=3 -   0.0s\n",
      "[CV] max_depth=17, min_samples_leaf=3 ................................\n",
      "[CV] ....................... max_depth=17, min_samples_leaf=3 -   0.0s\n",
      "[CV] max_depth=17, min_samples_leaf=3 ................................\n",
      "[CV] ....................... max_depth=17, min_samples_leaf=3 -   0.0s\n",
      "[CV] max_depth=17, min_samples_leaf=3 ................................\n",
      "[CV] ....................... max_depth=17, min_samples_leaf=3 -   0.0s\n",
      "[CV] max_depth=17, min_samples_leaf=3 ................................\n",
      "[CV] ....................... max_depth=17, min_samples_leaf=3 -   0.0s\n",
      "[CV] max_depth=17, min_samples_leaf=4 ................................\n",
      "[CV] ....................... max_depth=17, min_samples_leaf=4 -   0.0s\n",
      "[CV] max_depth=17, min_samples_leaf=4 ................................\n",
      "[CV] ....................... max_depth=17, min_samples_leaf=4 -   0.0s\n",
      "[CV] max_depth=17, min_samples_leaf=4 ................................\n",
      "[CV] ....................... max_depth=17, min_samples_leaf=4 -   0.0s\n",
      "[CV] max_depth=17, min_samples_leaf=4 ................................\n",
      "[CV] ....................... max_depth=17, min_samples_leaf=4 -   0.0s\n",
      "[CV] max_depth=17, min_samples_leaf=4 ................................\n",
      "[CV] ....................... max_depth=17, min_samples_leaf=4 -   0.0s\n",
      "[CV] max_depth=17, min_samples_leaf=5 ................................\n",
      "[CV] ....................... max_depth=17, min_samples_leaf=5 -   0.0s\n",
      "[CV] max_depth=17, min_samples_leaf=5 ................................\n",
      "[CV] ....................... max_depth=17, min_samples_leaf=5 -   0.0s\n",
      "[CV] max_depth=17, min_samples_leaf=5 ................................\n",
      "[CV] ....................... max_depth=17, min_samples_leaf=5 -   0.0s\n",
      "[CV] max_depth=17, min_samples_leaf=5 ................................\n",
      "[CV] ....................... max_depth=17, min_samples_leaf=5 -   0.0s\n",
      "[CV] max_depth=17, min_samples_leaf=5 ................................\n",
      "[CV] ....................... max_depth=17, min_samples_leaf=5 -   0.0s\n",
      "[CV] max_depth=17, min_samples_leaf=6 ................................\n",
      "[CV] ....................... max_depth=17, min_samples_leaf=6 -   0.0s\n",
      "[CV] max_depth=17, min_samples_leaf=6 ................................\n",
      "[CV] ....................... max_depth=17, min_samples_leaf=6 -   0.0s\n",
      "[CV] max_depth=17, min_samples_leaf=6 ................................\n",
      "[CV] ....................... max_depth=17, min_samples_leaf=6 -   0.0s\n",
      "[CV] max_depth=17, min_samples_leaf=6 ................................\n",
      "[CV] ....................... max_depth=17, min_samples_leaf=6 -   0.0s\n",
      "[CV] max_depth=17, min_samples_leaf=6 ................................\n",
      "[CV] ....................... max_depth=17, min_samples_leaf=6 -   0.0s\n",
      "[CV] max_depth=17, min_samples_leaf=7 ................................\n",
      "[CV] ....................... max_depth=17, min_samples_leaf=7 -   0.0s\n",
      "[CV] max_depth=17, min_samples_leaf=7 ................................\n",
      "[CV] ....................... max_depth=17, min_samples_leaf=7 -   0.0s\n"
     ]
    },
    {
     "name": "stdout",
     "output_type": "stream",
     "text": [
      "[CV] max_depth=17, min_samples_leaf=7 ................................\n",
      "[CV] ....................... max_depth=17, min_samples_leaf=7 -   0.0s\n",
      "[CV] max_depth=17, min_samples_leaf=7 ................................\n",
      "[CV] ....................... max_depth=17, min_samples_leaf=7 -   0.0s\n",
      "[CV] max_depth=17, min_samples_leaf=7 ................................\n",
      "[CV] ....................... max_depth=17, min_samples_leaf=7 -   0.0s\n",
      "[CV] max_depth=17, min_samples_leaf=8 ................................\n",
      "[CV] ....................... max_depth=17, min_samples_leaf=8 -   0.0s\n",
      "[CV] max_depth=17, min_samples_leaf=8 ................................\n",
      "[CV] ....................... max_depth=17, min_samples_leaf=8 -   0.0s\n",
      "[CV] max_depth=17, min_samples_leaf=8 ................................\n",
      "[CV] ....................... max_depth=17, min_samples_leaf=8 -   0.0s\n",
      "[CV] max_depth=17, min_samples_leaf=8 ................................\n",
      "[CV] ....................... max_depth=17, min_samples_leaf=8 -   0.0s\n",
      "[CV] max_depth=17, min_samples_leaf=8 ................................\n",
      "[CV] ....................... max_depth=17, min_samples_leaf=8 -   0.0s\n",
      "[CV] max_depth=17, min_samples_leaf=9 ................................\n",
      "[CV] ....................... max_depth=17, min_samples_leaf=9 -   0.0s\n",
      "[CV] max_depth=17, min_samples_leaf=9 ................................\n",
      "[CV] ....................... max_depth=17, min_samples_leaf=9 -   0.0s\n",
      "[CV] max_depth=17, min_samples_leaf=9 ................................\n",
      "[CV] ....................... max_depth=17, min_samples_leaf=9 -   0.0s\n",
      "[CV] max_depth=17, min_samples_leaf=9 ................................\n",
      "[CV] ....................... max_depth=17, min_samples_leaf=9 -   0.0s\n",
      "[CV] max_depth=17, min_samples_leaf=9 ................................\n",
      "[CV] ....................... max_depth=17, min_samples_leaf=9 -   0.0s\n",
      "[CV] max_depth=18, min_samples_leaf=1 ................................\n",
      "[CV] ....................... max_depth=18, min_samples_leaf=1 -   0.0s\n",
      "[CV] max_depth=18, min_samples_leaf=1 ................................\n",
      "[CV] ....................... max_depth=18, min_samples_leaf=1 -   0.0s\n",
      "[CV] max_depth=18, min_samples_leaf=1 ................................\n",
      "[CV] ....................... max_depth=18, min_samples_leaf=1 -   0.0s\n",
      "[CV] max_depth=18, min_samples_leaf=1 ................................\n",
      "[CV] ....................... max_depth=18, min_samples_leaf=1 -   0.0s\n",
      "[CV] max_depth=18, min_samples_leaf=1 ................................\n",
      "[CV] ....................... max_depth=18, min_samples_leaf=1 -   0.0s\n",
      "[CV] max_depth=18, min_samples_leaf=2 ................................\n",
      "[CV] ....................... max_depth=18, min_samples_leaf=2 -   0.0s\n",
      "[CV] max_depth=18, min_samples_leaf=2 ................................\n",
      "[CV] ....................... max_depth=18, min_samples_leaf=2 -   0.0s\n",
      "[CV] max_depth=18, min_samples_leaf=2 ................................\n",
      "[CV] ....................... max_depth=18, min_samples_leaf=2 -   0.0s\n",
      "[CV] max_depth=18, min_samples_leaf=2 ................................\n",
      "[CV] ....................... max_depth=18, min_samples_leaf=2 -   0.0s\n",
      "[CV] max_depth=18, min_samples_leaf=2 ................................\n",
      "[CV] ....................... max_depth=18, min_samples_leaf=2 -   0.0s\n",
      "[CV] max_depth=18, min_samples_leaf=3 ................................\n",
      "[CV] ....................... max_depth=18, min_samples_leaf=3 -   0.0s\n",
      "[CV] max_depth=18, min_samples_leaf=3 ................................\n",
      "[CV] ....................... max_depth=18, min_samples_leaf=3 -   0.0s\n",
      "[CV] max_depth=18, min_samples_leaf=3 ................................\n",
      "[CV] ....................... max_depth=18, min_samples_leaf=3 -   0.0s\n",
      "[CV] max_depth=18, min_samples_leaf=3 ................................\n",
      "[CV] ....................... max_depth=18, min_samples_leaf=3 -   0.0s\n",
      "[CV] max_depth=18, min_samples_leaf=3 ................................\n",
      "[CV] ....................... max_depth=18, min_samples_leaf=3 -   0.0s\n",
      "[CV] max_depth=18, min_samples_leaf=4 ................................\n",
      "[CV] ....................... max_depth=18, min_samples_leaf=4 -   0.0s\n",
      "[CV] max_depth=18, min_samples_leaf=4 ................................\n",
      "[CV] ....................... max_depth=18, min_samples_leaf=4 -   0.0s\n",
      "[CV] max_depth=18, min_samples_leaf=4 ................................\n",
      "[CV] ....................... max_depth=18, min_samples_leaf=4 -   0.0s\n",
      "[CV] max_depth=18, min_samples_leaf=4 ................................\n",
      "[CV] ....................... max_depth=18, min_samples_leaf=4 -   0.0s\n",
      "[CV] max_depth=18, min_samples_leaf=4 ................................\n",
      "[CV] ....................... max_depth=18, min_samples_leaf=4 -   0.0s\n",
      "[CV] max_depth=18, min_samples_leaf=5 ................................\n",
      "[CV] ....................... max_depth=18, min_samples_leaf=5 -   0.0s\n",
      "[CV] max_depth=18, min_samples_leaf=5 ................................\n",
      "[CV] ....................... max_depth=18, min_samples_leaf=5 -   0.0s\n",
      "[CV] max_depth=18, min_samples_leaf=5 ................................\n",
      "[CV] ....................... max_depth=18, min_samples_leaf=5 -   0.0s\n",
      "[CV] max_depth=18, min_samples_leaf=5 ................................\n",
      "[CV] ....................... max_depth=18, min_samples_leaf=5 -   0.0s\n",
      "[CV] max_depth=18, min_samples_leaf=5 ................................\n",
      "[CV] ....................... max_depth=18, min_samples_leaf=5 -   0.0s\n",
      "[CV] max_depth=18, min_samples_leaf=6 ................................\n",
      "[CV] ....................... max_depth=18, min_samples_leaf=6 -   0.0s\n",
      "[CV] max_depth=18, min_samples_leaf=6 ................................\n",
      "[CV] ....................... max_depth=18, min_samples_leaf=6 -   0.0s\n",
      "[CV] max_depth=18, min_samples_leaf=6 ................................\n",
      "[CV] ....................... max_depth=18, min_samples_leaf=6 -   0.0s\n",
      "[CV] max_depth=18, min_samples_leaf=6 ................................\n",
      "[CV] ....................... max_depth=18, min_samples_leaf=6 -   0.0s\n",
      "[CV] max_depth=18, min_samples_leaf=6 ................................\n",
      "[CV] ....................... max_depth=18, min_samples_leaf=6 -   0.0s\n",
      "[CV] max_depth=18, min_samples_leaf=7 ................................\n",
      "[CV] ....................... max_depth=18, min_samples_leaf=7 -   0.0s\n",
      "[CV] max_depth=18, min_samples_leaf=7 ................................\n",
      "[CV] ....................... max_depth=18, min_samples_leaf=7 -   0.0s\n",
      "[CV] max_depth=18, min_samples_leaf=7 ................................\n",
      "[CV] ....................... max_depth=18, min_samples_leaf=7 -   0.0s\n",
      "[CV] max_depth=18, min_samples_leaf=7 ................................\n",
      "[CV] ....................... max_depth=18, min_samples_leaf=7 -   0.0s\n",
      "[CV] max_depth=18, min_samples_leaf=7 ................................\n",
      "[CV] ....................... max_depth=18, min_samples_leaf=7 -   0.0s\n",
      "[CV] max_depth=18, min_samples_leaf=8 ................................\n",
      "[CV] ....................... max_depth=18, min_samples_leaf=8 -   0.0s\n",
      "[CV] max_depth=18, min_samples_leaf=8 ................................\n",
      "[CV] ....................... max_depth=18, min_samples_leaf=8 -   0.0s\n",
      "[CV] max_depth=18, min_samples_leaf=8 ................................\n",
      "[CV] ....................... max_depth=18, min_samples_leaf=8 -   0.0s\n",
      "[CV] max_depth=18, min_samples_leaf=8 ................................\n",
      "[CV] ....................... max_depth=18, min_samples_leaf=8 -   0.0s\n",
      "[CV] max_depth=18, min_samples_leaf=8 ................................\n",
      "[CV] ....................... max_depth=18, min_samples_leaf=8 -   0.0s\n",
      "[CV] max_depth=18, min_samples_leaf=9 ................................\n",
      "[CV] ....................... max_depth=18, min_samples_leaf=9 -   0.0s\n",
      "[CV] max_depth=18, min_samples_leaf=9 ................................\n",
      "[CV] ....................... max_depth=18, min_samples_leaf=9 -   0.0s\n",
      "[CV] max_depth=18, min_samples_leaf=9 ................................\n",
      "[CV] ....................... max_depth=18, min_samples_leaf=9 -   0.0s\n",
      "[CV] max_depth=18, min_samples_leaf=9 ................................\n",
      "[CV] ....................... max_depth=18, min_samples_leaf=9 -   0.0s\n",
      "[CV] max_depth=18, min_samples_leaf=9 ................................\n",
      "[CV] ....................... max_depth=18, min_samples_leaf=9 -   0.0s\n",
      "[CV] max_depth=19, min_samples_leaf=1 ................................\n",
      "[CV] ....................... max_depth=19, min_samples_leaf=1 -   0.0s\n",
      "[CV] max_depth=19, min_samples_leaf=1 ................................\n",
      "[CV] ....................... max_depth=19, min_samples_leaf=1 -   0.0s\n",
      "[CV] max_depth=19, min_samples_leaf=1 ................................\n"
     ]
    },
    {
     "name": "stdout",
     "output_type": "stream",
     "text": [
      "[CV] ....................... max_depth=19, min_samples_leaf=1 -   0.0s\n",
      "[CV] max_depth=19, min_samples_leaf=1 ................................\n",
      "[CV] ....................... max_depth=19, min_samples_leaf=1 -   0.0s\n",
      "[CV] max_depth=19, min_samples_leaf=1 ................................\n",
      "[CV] ....................... max_depth=19, min_samples_leaf=1 -   0.0s\n",
      "[CV] max_depth=19, min_samples_leaf=2 ................................\n",
      "[CV] ....................... max_depth=19, min_samples_leaf=2 -   0.0s\n",
      "[CV] max_depth=19, min_samples_leaf=2 ................................\n",
      "[CV] ....................... max_depth=19, min_samples_leaf=2 -   0.0s\n",
      "[CV] max_depth=19, min_samples_leaf=2 ................................\n",
      "[CV] ....................... max_depth=19, min_samples_leaf=2 -   0.0s\n",
      "[CV] max_depth=19, min_samples_leaf=2 ................................\n",
      "[CV] ....................... max_depth=19, min_samples_leaf=2 -   0.0s\n",
      "[CV] max_depth=19, min_samples_leaf=2 ................................\n",
      "[CV] ....................... max_depth=19, min_samples_leaf=2 -   0.0s\n",
      "[CV] max_depth=19, min_samples_leaf=3 ................................\n",
      "[CV] ....................... max_depth=19, min_samples_leaf=3 -   0.0s\n",
      "[CV] max_depth=19, min_samples_leaf=3 ................................\n",
      "[CV] ....................... max_depth=19, min_samples_leaf=3 -   0.0s\n",
      "[CV] max_depth=19, min_samples_leaf=3 ................................\n",
      "[CV] ....................... max_depth=19, min_samples_leaf=3 -   0.0s\n",
      "[CV] max_depth=19, min_samples_leaf=3 ................................\n",
      "[CV] ....................... max_depth=19, min_samples_leaf=3 -   0.0s\n",
      "[CV] max_depth=19, min_samples_leaf=3 ................................\n",
      "[CV] ....................... max_depth=19, min_samples_leaf=3 -   0.0s\n",
      "[CV] max_depth=19, min_samples_leaf=4 ................................\n",
      "[CV] ....................... max_depth=19, min_samples_leaf=4 -   0.0s\n",
      "[CV] max_depth=19, min_samples_leaf=4 ................................\n",
      "[CV] ....................... max_depth=19, min_samples_leaf=4 -   0.0s\n",
      "[CV] max_depth=19, min_samples_leaf=4 ................................\n",
      "[CV] ....................... max_depth=19, min_samples_leaf=4 -   0.0s\n",
      "[CV] max_depth=19, min_samples_leaf=4 ................................\n",
      "[CV] ....................... max_depth=19, min_samples_leaf=4 -   0.0s\n",
      "[CV] max_depth=19, min_samples_leaf=4 ................................\n",
      "[CV] ....................... max_depth=19, min_samples_leaf=4 -   0.0s\n",
      "[CV] max_depth=19, min_samples_leaf=5 ................................\n",
      "[CV] ....................... max_depth=19, min_samples_leaf=5 -   0.0s\n",
      "[CV] max_depth=19, min_samples_leaf=5 ................................\n",
      "[CV] ....................... max_depth=19, min_samples_leaf=5 -   0.0s\n",
      "[CV] max_depth=19, min_samples_leaf=5 ................................\n",
      "[CV] ....................... max_depth=19, min_samples_leaf=5 -   0.0s\n",
      "[CV] max_depth=19, min_samples_leaf=5 ................................\n",
      "[CV] ....................... max_depth=19, min_samples_leaf=5 -   0.0s\n",
      "[CV] max_depth=19, min_samples_leaf=5 ................................\n",
      "[CV] ....................... max_depth=19, min_samples_leaf=5 -   0.0s\n",
      "[CV] max_depth=19, min_samples_leaf=6 ................................\n",
      "[CV] ....................... max_depth=19, min_samples_leaf=6 -   0.0s\n",
      "[CV] max_depth=19, min_samples_leaf=6 ................................\n",
      "[CV] ....................... max_depth=19, min_samples_leaf=6 -   0.0s\n",
      "[CV] max_depth=19, min_samples_leaf=6 ................................\n",
      "[CV] ....................... max_depth=19, min_samples_leaf=6 -   0.0s\n",
      "[CV] max_depth=19, min_samples_leaf=6 ................................\n",
      "[CV] ....................... max_depth=19, min_samples_leaf=6 -   0.0s\n",
      "[CV] max_depth=19, min_samples_leaf=6 ................................\n",
      "[CV] ....................... max_depth=19, min_samples_leaf=6 -   0.0s\n",
      "[CV] max_depth=19, min_samples_leaf=7 ................................\n",
      "[CV] ....................... max_depth=19, min_samples_leaf=7 -   0.0s\n",
      "[CV] max_depth=19, min_samples_leaf=7 ................................\n",
      "[CV] ....................... max_depth=19, min_samples_leaf=7 -   0.0s\n",
      "[CV] max_depth=19, min_samples_leaf=7 ................................\n",
      "[CV] ....................... max_depth=19, min_samples_leaf=7 -   0.0s\n",
      "[CV] max_depth=19, min_samples_leaf=7 ................................\n",
      "[CV] ....................... max_depth=19, min_samples_leaf=7 -   0.0s\n",
      "[CV] max_depth=19, min_samples_leaf=7 ................................\n",
      "[CV] ....................... max_depth=19, min_samples_leaf=7 -   0.0s\n",
      "[CV] max_depth=19, min_samples_leaf=8 ................................\n",
      "[CV] ....................... max_depth=19, min_samples_leaf=8 -   0.0s\n",
      "[CV] max_depth=19, min_samples_leaf=8 ................................\n",
      "[CV] ....................... max_depth=19, min_samples_leaf=8 -   0.0s\n",
      "[CV] max_depth=19, min_samples_leaf=8 ................................\n",
      "[CV] ....................... max_depth=19, min_samples_leaf=8 -   0.0s\n",
      "[CV] max_depth=19, min_samples_leaf=8 ................................\n",
      "[CV] ....................... max_depth=19, min_samples_leaf=8 -   0.0s\n",
      "[CV] max_depth=19, min_samples_leaf=8 ................................\n",
      "[CV] ....................... max_depth=19, min_samples_leaf=8 -   0.0s\n",
      "[CV] max_depth=19, min_samples_leaf=9 ................................\n",
      "[CV] ....................... max_depth=19, min_samples_leaf=9 -   0.0s\n",
      "[CV] max_depth=19, min_samples_leaf=9 ................................\n",
      "[CV] ....................... max_depth=19, min_samples_leaf=9 -   0.0s\n",
      "[CV] max_depth=19, min_samples_leaf=9 ................................\n",
      "[CV] ....................... max_depth=19, min_samples_leaf=9 -   0.0s\n",
      "[CV] max_depth=19, min_samples_leaf=9 ................................\n",
      "[CV] ....................... max_depth=19, min_samples_leaf=9 -   0.0s\n",
      "[CV] max_depth=19, min_samples_leaf=9 ................................\n",
      "[CV] ....................... max_depth=19, min_samples_leaf=9 -   0.0s\n",
      "[CV] max_depth=20, min_samples_leaf=1 ................................\n",
      "[CV] ....................... max_depth=20, min_samples_leaf=1 -   0.0s\n",
      "[CV] max_depth=20, min_samples_leaf=1 ................................\n",
      "[CV] ....................... max_depth=20, min_samples_leaf=1 -   0.0s\n",
      "[CV] max_depth=20, min_samples_leaf=1 ................................\n",
      "[CV] ....................... max_depth=20, min_samples_leaf=1 -   0.0s\n",
      "[CV] max_depth=20, min_samples_leaf=1 ................................\n",
      "[CV] ....................... max_depth=20, min_samples_leaf=1 -   0.0s\n",
      "[CV] max_depth=20, min_samples_leaf=1 ................................\n",
      "[CV] ....................... max_depth=20, min_samples_leaf=1 -   0.0s\n",
      "[CV] max_depth=20, min_samples_leaf=2 ................................\n",
      "[CV] ....................... max_depth=20, min_samples_leaf=2 -   0.0s\n",
      "[CV] max_depth=20, min_samples_leaf=2 ................................\n",
      "[CV] ....................... max_depth=20, min_samples_leaf=2 -   0.0s\n",
      "[CV] max_depth=20, min_samples_leaf=2 ................................\n",
      "[CV] ....................... max_depth=20, min_samples_leaf=2 -   0.0s\n",
      "[CV] max_depth=20, min_samples_leaf=2 ................................\n",
      "[CV] ....................... max_depth=20, min_samples_leaf=2 -   0.0s\n",
      "[CV] max_depth=20, min_samples_leaf=2 ................................\n",
      "[CV] ....................... max_depth=20, min_samples_leaf=2 -   0.0s\n",
      "[CV] max_depth=20, min_samples_leaf=3 ................................\n",
      "[CV] ....................... max_depth=20, min_samples_leaf=3 -   0.0s\n",
      "[CV] max_depth=20, min_samples_leaf=3 ................................\n",
      "[CV] ....................... max_depth=20, min_samples_leaf=3 -   0.0s\n",
      "[CV] max_depth=20, min_samples_leaf=3 ................................\n",
      "[CV] ....................... max_depth=20, min_samples_leaf=3 -   0.0s\n",
      "[CV] max_depth=20, min_samples_leaf=3 ................................\n",
      "[CV] ....................... max_depth=20, min_samples_leaf=3 -   0.0s\n",
      "[CV] max_depth=20, min_samples_leaf=3 ................................\n",
      "[CV] ....................... max_depth=20, min_samples_leaf=3 -   0.0s\n",
      "[CV] max_depth=20, min_samples_leaf=4 ................................\n",
      "[CV] ....................... max_depth=20, min_samples_leaf=4 -   0.0s\n",
      "[CV] max_depth=20, min_samples_leaf=4 ................................\n",
      "[CV] ....................... max_depth=20, min_samples_leaf=4 -   0.0s\n",
      "[CV] max_depth=20, min_samples_leaf=4 ................................\n",
      "[CV] ....................... max_depth=20, min_samples_leaf=4 -   0.0s\n",
      "[CV] max_depth=20, min_samples_leaf=4 ................................\n"
     ]
    },
    {
     "name": "stdout",
     "output_type": "stream",
     "text": [
      "[CV] ....................... max_depth=20, min_samples_leaf=4 -   0.0s\n",
      "[CV] max_depth=20, min_samples_leaf=4 ................................\n",
      "[CV] ....................... max_depth=20, min_samples_leaf=4 -   0.0s\n",
      "[CV] max_depth=20, min_samples_leaf=5 ................................\n",
      "[CV] ....................... max_depth=20, min_samples_leaf=5 -   0.0s\n",
      "[CV] max_depth=20, min_samples_leaf=5 ................................\n",
      "[CV] ....................... max_depth=20, min_samples_leaf=5 -   0.0s\n",
      "[CV] max_depth=20, min_samples_leaf=5 ................................\n",
      "[CV] ....................... max_depth=20, min_samples_leaf=5 -   0.0s\n",
      "[CV] max_depth=20, min_samples_leaf=5 ................................\n",
      "[CV] ....................... max_depth=20, min_samples_leaf=5 -   0.0s\n",
      "[CV] max_depth=20, min_samples_leaf=5 ................................\n",
      "[CV] ....................... max_depth=20, min_samples_leaf=5 -   0.0s\n",
      "[CV] max_depth=20, min_samples_leaf=6 ................................\n",
      "[CV] ....................... max_depth=20, min_samples_leaf=6 -   0.0s\n",
      "[CV] max_depth=20, min_samples_leaf=6 ................................\n",
      "[CV] ....................... max_depth=20, min_samples_leaf=6 -   0.0s\n",
      "[CV] max_depth=20, min_samples_leaf=6 ................................\n",
      "[CV] ....................... max_depth=20, min_samples_leaf=6 -   0.0s\n",
      "[CV] max_depth=20, min_samples_leaf=6 ................................\n",
      "[CV] ....................... max_depth=20, min_samples_leaf=6 -   0.0s\n",
      "[CV] max_depth=20, min_samples_leaf=6 ................................\n",
      "[CV] ....................... max_depth=20, min_samples_leaf=6 -   0.0s\n",
      "[CV] max_depth=20, min_samples_leaf=7 ................................\n",
      "[CV] ....................... max_depth=20, min_samples_leaf=7 -   0.0s\n",
      "[CV] max_depth=20, min_samples_leaf=7 ................................\n",
      "[CV] ....................... max_depth=20, min_samples_leaf=7 -   0.0s\n",
      "[CV] max_depth=20, min_samples_leaf=7 ................................\n",
      "[CV] ....................... max_depth=20, min_samples_leaf=7 -   0.0s\n",
      "[CV] max_depth=20, min_samples_leaf=7 ................................\n",
      "[CV] ....................... max_depth=20, min_samples_leaf=7 -   0.0s\n",
      "[CV] max_depth=20, min_samples_leaf=7 ................................\n",
      "[CV] ....................... max_depth=20, min_samples_leaf=7 -   0.0s\n",
      "[CV] max_depth=20, min_samples_leaf=8 ................................\n",
      "[CV] ....................... max_depth=20, min_samples_leaf=8 -   0.0s\n",
      "[CV] max_depth=20, min_samples_leaf=8 ................................\n",
      "[CV] ....................... max_depth=20, min_samples_leaf=8 -   0.0s\n",
      "[CV] max_depth=20, min_samples_leaf=8 ................................\n",
      "[CV] ....................... max_depth=20, min_samples_leaf=8 -   0.0s\n",
      "[CV] max_depth=20, min_samples_leaf=8 ................................\n",
      "[CV] ....................... max_depth=20, min_samples_leaf=8 -   0.0s\n",
      "[CV] max_depth=20, min_samples_leaf=8 ................................\n",
      "[CV] ....................... max_depth=20, min_samples_leaf=8 -   0.0s\n",
      "[CV] max_depth=20, min_samples_leaf=9 ................................\n",
      "[CV] ....................... max_depth=20, min_samples_leaf=9 -   0.0s\n",
      "[CV] max_depth=20, min_samples_leaf=9 ................................\n",
      "[CV] ....................... max_depth=20, min_samples_leaf=9 -   0.0s\n",
      "[CV] max_depth=20, min_samples_leaf=9 ................................\n",
      "[CV] ....................... max_depth=20, min_samples_leaf=9 -   0.0s\n",
      "[CV] max_depth=20, min_samples_leaf=9 ................................\n",
      "[CV] ....................... max_depth=20, min_samples_leaf=9 -   0.0s\n",
      "[CV] max_depth=20, min_samples_leaf=9 ................................\n",
      "[CV] ....................... max_depth=20, min_samples_leaf=9 -   0.0s\n"
     ]
    },
    {
     "name": "stderr",
     "output_type": "stream",
     "text": [
      "[Parallel(n_jobs=1)]: Done 900 out of 900 | elapsed:   27.4s finished\n"
     ]
    },
    {
     "data": {
      "text/plain": [
       "GridSearchCV(cv=5, error_score='raise',\n",
       "       estimator=DecisionTreeRegressor(criterion='mse', max_depth=None, max_features=None,\n",
       "           max_leaf_nodes=None, min_impurity_decrease=0.0,\n",
       "           min_impurity_split=None, min_samples_leaf=1,\n",
       "           min_samples_split=2, min_weight_fraction_leaf=0.0,\n",
       "           presort=False, random_state=0, splitter='best'),\n",
       "       fit_params={}, iid=True, n_jobs=1,\n",
       "       param_grid=[{'max_depth': array([ 1,  2,  3,  4,  5,  6,  7,  8,  9, 10, 11, 12, 13, 14, 15, 16, 17,\n",
       "       18, 19, 20]), 'min_samples_leaf': array([1, 2, 3, 4, 5, 6, 7, 8, 9])}],\n",
       "       pre_dispatch='2*n_jobs', refit=True, scoring=None, verbose=2)"
      ]
     },
     "execution_count": 39,
     "metadata": {},
     "output_type": "execute_result"
    }
   ],
   "source": [
    "from sklearn.grid_search import GridSearchCV\n",
    "\n",
    "tree_model = tree.DecisionTreeRegressor()\n",
    "\n",
    "param_grid = [{'max_depth': np.arange(1,21), \n",
    "              'min_samples_leaf': np.arange(1,10)}]\n",
    "\n",
    "tree_model.set_params(random_state = 0)\n",
    "\n",
    "grid_search = GridSearchCV(tree_model, param_grid=param_grid, cv = 5, verbose = 2)\n",
    "\n",
    "grid_search.fit(x_train, y_train)"
   ]
  },
  {
   "cell_type": "code",
   "execution_count": 40,
   "metadata": {},
   "outputs": [
    {
     "data": {
      "text/plain": [
       "{'max_depth': 9, 'min_samples_leaf': 9}"
      ]
     },
     "execution_count": 40,
     "metadata": {},
     "output_type": "execute_result"
    }
   ],
   "source": [
    "grid_search.best_params_"
   ]
  },
  {
   "cell_type": "markdown",
   "metadata": {},
   "source": [
    "Best hyperparamters are max depth = 11, min_samples_leaf = 8"
   ]
  },
  {
   "cell_type": "markdown",
   "metadata": {},
   "source": [
    "### Refit Decision Tree with Best Parameters"
   ]
  },
  {
   "cell_type": "code",
   "execution_count": 66,
   "metadata": {},
   "outputs": [
    {
     "data": {
      "text/plain": [
       "DecisionTreeRegressor(criterion='mse', max_depth=11, max_features=None,\n",
       "           max_leaf_nodes=None, min_impurity_decrease=0.0,\n",
       "           min_impurity_split=None, min_samples_leaf=8,\n",
       "           min_samples_split=2, min_weight_fraction_leaf=0.0,\n",
       "           presort=False, random_state=None, splitter='best')"
      ]
     },
     "execution_count": 66,
     "metadata": {},
     "output_type": "execute_result"
    }
   ],
   "source": [
    "tree_model = tree.DecisionTreeRegressor(max_depth = 11, \n",
    "                                        min_samples_leaf = 8)\n",
    "\n",
    "tree_model.fit(x_train, y_train)\n",
    "\n",
    "#tree_model = tree.DecisionTreeRegressor(max_depth = 9, \n",
    "#                                        min_samples_leaf = 9)\n",
    "\n",
    "#tree_model.fit(x_train, y_train)"
   ]
  },
  {
   "cell_type": "markdown",
   "metadata": {},
   "source": [
    "### R sq is now 91% on training and 77% on test"
   ]
  },
  {
   "cell_type": "markdown",
   "metadata": {},
   "source": [
    "Though training score increased alot while Test score improves slightly from 75% to 77%"
   ]
  },
  {
   "cell_type": "code",
   "execution_count": 67,
   "metadata": {},
   "outputs": [
    {
     "name": "stdout",
     "output_type": "stream",
     "text": [
      "Training Score: 0.917747189809\n",
      "Test Score: 0.774539669409\n"
     ]
    }
   ],
   "source": [
    "print('Training Score:',tree_model.score(x_train, y_train))\n",
    "print('Test Score:',tree_model.score(x_test, y_test))"
   ]
  },
  {
   "cell_type": "markdown",
   "metadata": {},
   "source": [
    "### Error : Training RMSE = .1192 , Testing RMSE = .1854"
   ]
  },
  {
   "cell_type": "markdown",
   "metadata": {},
   "source": [
    "Both Training and Test RMSE lowered in tuned tree. Test RMSE went from .1938 to .1854"
   ]
  },
  {
   "cell_type": "code",
   "execution_count": 68,
   "metadata": {},
   "outputs": [
    {
     "name": "stdout",
     "output_type": "stream",
     "text": [
      "Training RMSE: 0.11464022665027046\n",
      "Test RMSE: 0.18612249307491613\n"
     ]
    }
   ],
   "source": [
    "print('Training RMSE:' , math.sqrt(mean_squared_error(y_train, tree_model.predict(x_train))))\n",
    "print('Test RMSE:' , math.sqrt(mean_squared_error(y_test, tree_model.predict(x_test))))"
   ]
  },
  {
   "cell_type": "markdown",
   "metadata": {},
   "source": [
    "# Plot Training vs Test Error (Depth)"
   ]
  },
  {
   "cell_type": "code",
   "execution_count": 54,
   "metadata": {},
   "outputs": [
    {
     "data": {
      "text/plain": [
       "[12, 11, 10, 9, 8, 7, 6, 5, 4, 3, 2, 1]"
      ]
     },
     "execution_count": 54,
     "metadata": {},
     "output_type": "execute_result"
    }
   ],
   "source": [
    "list(subset)"
   ]
  },
  {
   "cell_type": "code",
   "execution_count": 31,
   "metadata": {},
   "outputs": [
    {
     "data": {
      "image/png": "[encoded data removed]",
      "text/plain": [
       "<matplotlib.figure.Figure at 0x2c1bda8d080>"
      ]
     },
     "metadata": {},
     "output_type": "display_data"
    }
   ],
   "source": [
    "subset = range(12, 0, -1)\n",
    "train_error = []\n",
    "test_error = []\n",
    "for i in subset:\n",
    "    tree_model.set_params(max_depth=11, min_samples_leaf = i)\n",
    "    tree_model.fit(x_train, y_train)\n",
    "    train_error.append(mean_squared_error(y_train, tree_model.predict(x_train)))\n",
    "    test_error.append(mean_squared_error(y_test, tree_model.predict(x_test)))\n",
    "\n",
    "import matplotlib.pyplot as plt\n",
    "fig, ax = plt.subplots()\n",
    "plt.plot( subset, train_error, c='red', label='training error')\n",
    "plt.plot(subset, test_error, c='blue', label='test error')\n",
    "ax.set(xlabel='Samples in Leaf Nodes', ylabel='RMSE')\n",
    "ax.invert_xaxis()\n",
    "#plt.ylim(0, 0.18)\n",
    "plt.legend()\n",
    "plt.show()"
   ]
  },
  {
   "cell_type": "markdown",
   "metadata": {},
   "source": [
    "### Top 10 Important Variables for this fitted tree"
   ]
  },
  {
   "cell_type": "markdown",
   "metadata": {},
   "source": [
    "Both of the bath engineerd features continue to rank higher in importance compared to the original"
   ]
  },
  {
   "cell_type": "code",
   "execution_count": 21,
   "metadata": {},
   "outputs": [
    {
     "data": {
      "text/html": [
       "<div>\n",
       "<style>\n",
       "    .dataframe thead tr:only-child th {\n",
       "        text-align: right;\n",
       "    }\n",
       "\n",
       "    .dataframe thead th {\n",
       "        text-align: left;\n",
       "    }\n",
       "\n",
       "    .dataframe tbody tr th {\n",
       "        vertical-align: top;\n",
       "    }\n",
       "</style>\n",
       "<table border=\"1\" class=\"dataframe\">\n",
       "  <thead>\n",
       "    <tr style=\"text-align: right;\">\n",
       "      <th></th>\n",
       "      <th>Feature</th>\n",
       "      <th>Importance</th>\n",
       "    </tr>\n",
       "  </thead>\n",
       "  <tbody>\n",
       "    <tr>\n",
       "      <th>23</th>\n",
       "      <td>OverallQual</td>\n",
       "      <td>0.607759</td>\n",
       "    </tr>\n",
       "    <tr>\n",
       "      <th>13</th>\n",
       "      <td>GrLivArea</td>\n",
       "      <td>0.134133</td>\n",
       "    </tr>\n",
       "    <tr>\n",
       "      <th>26</th>\n",
       "      <td>TotalBsmtSF</td>\n",
       "      <td>0.082345</td>\n",
       "    </tr>\n",
       "    <tr>\n",
       "      <th>3</th>\n",
       "      <td>BsmtFinSF1</td>\n",
       "      <td>0.023896</td>\n",
       "    </tr>\n",
       "    <tr>\n",
       "      <th>70</th>\n",
       "      <td>CentralAir_Y</td>\n",
       "      <td>0.021704</td>\n",
       "    </tr>\n",
       "    <tr>\n",
       "      <th>36</th>\n",
       "      <td>Parking_Capacity</td>\n",
       "      <td>0.019062</td>\n",
       "    </tr>\n",
       "    <tr>\n",
       "      <th>22</th>\n",
       "      <td>OverallCond</td>\n",
       "      <td>0.017090</td>\n",
       "    </tr>\n",
       "    <tr>\n",
       "      <th>15</th>\n",
       "      <td>KitchenAbvGr</td>\n",
       "      <td>0.012336</td>\n",
       "    </tr>\n",
       "    <tr>\n",
       "      <th>0</th>\n",
       "      <td>1stFlrSF</td>\n",
       "      <td>0.008531</td>\n",
       "    </tr>\n",
       "    <tr>\n",
       "      <th>25</th>\n",
       "      <td>TotRmsAbvGrd</td>\n",
       "      <td>0.007056</td>\n",
       "    </tr>\n",
       "  </tbody>\n",
       "</table>\n",
       "</div>"
      ],
      "text/plain": [
       "             Feature  Importance\n",
       "23       OverallQual    0.607759\n",
       "13         GrLivArea    0.134133\n",
       "26       TotalBsmtSF    0.082345\n",
       "3         BsmtFinSF1    0.023896\n",
       "70      CentralAir_Y    0.021704\n",
       "36  Parking_Capacity    0.019062\n",
       "22       OverallCond    0.017090\n",
       "15      KitchenAbvGr    0.012336\n",
       "0           1stFlrSF    0.008531\n",
       "25      TotRmsAbvGrd    0.007056"
      ]
     },
     "execution_count": 21,
     "metadata": {},
     "output_type": "execute_result"
    }
   ],
   "source": [
    "result_tree2 = pd.concat([pd.DataFrame(x_train.columns.values),pd.DataFrame(tree_model.feature_importances_)], axis = 1)\n",
    "result_tree2.columns = ['Feature','Importance']\n",
    "result_tree2 = result_tree2.sort_values(by = 'Importance', ascending = False).head(10)\n",
    "result_tree2"
   ]
  },
  {
   "cell_type": "code",
   "execution_count": 22,
   "metadata": {},
   "outputs": [
    {
     "data": {
      "text/plain": [
       "<matplotlib.axes._subplots.AxesSubplot at 0x2bfc77c90f0>"
      ]
     },
     "execution_count": 22,
     "metadata": {},
     "output_type": "execute_result"
    },
    {
     "data": {
      "image/png": "[encoded data removed]",
      "text/plain": [
       "<matplotlib.figure.Figure at 0x2bfc7a27f60>"
      ]
     },
     "metadata": {},
     "output_type": "display_data"
    }
   ],
   "source": [
    "sns.set_style(\"whitegrid\")\n",
    "sns.barplot(x = 'Importance', y = 'Feature', data=result_tree2)"
   ]
  },
  {
   "cell_type": "markdown",
   "metadata": {},
   "source": [
    "# Thoughts so far..."
   ]
  },
  {
   "cell_type": "markdown",
   "metadata": {},
   "source": [
    "I think we can do better on the test score...our model is only fit on one set of observations, so there is high variance in our model.\n",
    "\n",
    "However, if we fit the model on MULTIPLE sets of observations then we can lower this variance by averaging a bunch of weak models together\n",
    "\n",
    "Lets try attacking with Bagged Trees to decrease the variance!"
   ]
  },
  {
   "cell_type": "markdown",
   "metadata": {},
   "source": [
    "# Fitting Bagged Trees"
   ]
  },
  {
   "cell_type": "code",
   "execution_count": 63,
   "metadata": {},
   "outputs": [
    {
     "data": {
      "text/plain": [
       "BaggingRegressor(base_estimator=DecisionTreeRegressor(criterion='mse', max_depth=None, max_features=None,\n",
       "           max_leaf_nodes=None, min_impurity_decrease=0.0,\n",
       "           min_impurity_split=None, min_samples_leaf=1,\n",
       "           min_samples_split=2, min_weight_fraction_leaf=0.0,\n",
       "           presort=False, random_state=None, splitter='best'),\n",
       "         bootstrap=True, bootstrap_features=False, max_features=1.0,\n",
       "         max_samples=856, n_estimators=500, n_jobs=1, oob_score=True,\n",
       "         random_state=0, verbose=0, warm_start=False)"
      ]
     },
     "execution_count": 63,
     "metadata": {},
     "output_type": "execute_result"
    }
   ],
   "source": [
    "from sklearn.ensemble import BaggingRegressor\n",
    "\n",
    "bag_tree = BaggingRegressor(\n",
    "        tree.DecisionTreeRegressor(),\n",
    "        n_estimators = 500, \n",
    "        max_samples = round(len(x_train)*.67), # bag two thirds of training set\n",
    "        bootstrap = True,      \n",
    "        random_state = 0,\n",
    "        oob_score = True\n",
    "        )\n",
    "\n",
    "bag_tree.fit(x_train, y_train)"
   ]
  },
  {
   "cell_type": "markdown",
   "metadata": {},
   "source": [
    "### R sq for Training is 97%, OOB 87% and Test 87%. Test score is close to our OOB score."
   ]
  },
  {
   "cell_type": "markdown",
   "metadata": {},
   "source": [
    "Bagged Tree model gave us a much higher Test score, goign from 77% to 87% R sqaured!"
   ]
  },
  {
   "cell_type": "code",
   "execution_count": 64,
   "metadata": {},
   "outputs": [
    {
     "name": "stdout",
     "output_type": "stream",
     "text": [
      "Training Score: 0.96522279298\n",
      "OOB Score: 0.8663502384\n",
      "Test Score: 0.877781291648\n"
     ]
    }
   ],
   "source": [
    "print('Training Score:', bag_tree.score(x_train, y_train))\n",
    "print('OOB Score:', bag_tree.oob_score_)\n",
    "print('Test Score:', bag_tree.score(x_test, y_test))"
   ]
  },
  {
   "cell_type": "markdown",
   "metadata": {},
   "source": [
    "### Error Rate: Training RMSE =  .0745 , Test RMSE = .1394"
   ]
  },
  {
   "cell_type": "markdown",
   "metadata": {},
   "source": [
    "Test RMSE in Bagged Tree continues to go down .1854 to .1394 from the last model (Tuned Decision Tree)"
   ]
  },
  {
   "cell_type": "code",
   "execution_count": 65,
   "metadata": {},
   "outputs": [
    {
     "name": "stdout",
     "output_type": "stream",
     "text": [
      "Training RMSE: 0.07454336850304348\n",
      "Test RMSE: 0.13703535723138607\n"
     ]
    }
   ],
   "source": [
    "print('Training RMSE:' , math.sqrt(mean_squared_error(y_train, bag_tree.predict(x_train))))\n",
    "\n",
    "print('Test RMSE:' , math.sqrt(mean_squared_error(y_test, bag_tree.predict(x_test))))"
   ]
  },
  {
   "cell_type": "markdown",
   "metadata": {},
   "source": [
    "# Score Improvement Chart (From Decision Tree to Bagged Tree)"
   ]
  },
  {
   "cell_type": "code",
   "execution_count": 42,
   "metadata": {},
   "outputs": [
    {
     "data": {
      "image/png": "[encoded data removed]",
      "text/plain": [
       "<matplotlib.figure.Figure at 0x2c1be99bda0>"
      ]
     },
     "metadata": {},
     "output_type": "display_data"
    }
   ],
   "source": [
    "r = np.array([.7729,.8716])\n",
    "rmse = np.array([.1854, .1394])\n",
    "sns.set_style(style = 'whitegrid')\n",
    "fig, ax = plt.subplots()\n",
    "sns.regplot(x=r, y=rmse, label = 'label', fit_reg=False)\n",
    "plt.text(.7729 - .17, .1854, \"Unbagged\", horizontalalignment='left', size='medium', color='black', weight='semibold')\n",
    "plt.text(.8716 - .15, .1394, \"Bagged\", horizontalalignment='left', size='medium', color='black', weight='semibold')\n",
    "ax.set(xlabel='Test R Squared', ylabel='Test RMSE')\n",
    "ax.set_xlim(0,1)\n",
    "ax.set_ylim(0.1000,0.2)\n",
    "plt.show()"
   ]
  },
  {
   "cell_type": "markdown",
   "metadata": {},
   "source": [
    "## Thoughts so far:"
   ]
  },
  {
   "cell_type": "markdown",
   "metadata": {},
   "source": [
    "Much improved training and test scores!\n",
    "But, perhaps these trees are WAY too correlated, still increasing too much variance in our model.\n",
    "Same predictors will be chosen at the top of all our trees\n",
    "Lets try attacking Random Forest to decorrelate! Go!"
   ]
  },
  {
   "cell_type": "markdown",
   "metadata": {},
   "source": [
    "# Fitting Random Forest: First Attempt"
   ]
  },
  {
   "cell_type": "code",
   "execution_count": 69,
   "metadata": {
    "scrolled": true
   },
   "outputs": [
    {
     "data": {
      "text/plain": [
       "RandomForestRegressor(bootstrap=True, criterion='mse', max_depth=None,\n",
       "           max_features=17, max_leaf_nodes=None, min_impurity_decrease=0.0,\n",
       "           min_impurity_split=None, min_samples_leaf=1,\n",
       "           min_samples_split=2, min_weight_fraction_leaf=0.0,\n",
       "           n_estimators=500, n_jobs=1, oob_score=True, random_state=0,\n",
       "           verbose=0, warm_start=False)"
      ]
     },
     "execution_count": 69,
     "metadata": {},
     "output_type": "execute_result"
    }
   ],
   "source": [
    "from sklearn.ensemble import RandomForestRegressor\n",
    "import math\n",
    "\n",
    "rf_tree_1 = RandomForestRegressor(n_estimators = 500,\n",
    "                                max_features = round(math.sqrt(len(x_train.columns))),\n",
    "                                bootstrap = True,\n",
    "                                oob_score = True,\n",
    "                                random_state = 0)\n",
    "\n",
    "rf_tree_1.fit(x_train, y_train)"
   ]
  },
  {
   "cell_type": "markdown",
   "metadata": {},
   "source": [
    "## R sq for Training: 98%, OOB: 87%, Test: 87%. No improvement in Test Score..."
   ]
  },
  {
   "cell_type": "markdown",
   "metadata": {},
   "source": [
    "Training score went up 2 points "
   ]
  },
  {
   "cell_type": "code",
   "execution_count": 70,
   "metadata": {},
   "outputs": [
    {
     "name": "stdout",
     "output_type": "stream",
     "text": [
      "Training Score: 0.981964722361\n",
      "OOB Score: 0.86445203675\n",
      "Test Score: 0.883258364645\n"
     ]
    }
   ],
   "source": [
    "print('Training Score:' ,rf_tree_1.score(x_train, y_train))\n",
    "print('OOB Score:', rf_tree_1.oob_score_)\n",
    "print('Test Score:' ,rf_tree_1.score(x_test, y_test))"
   ]
  },
  {
   "cell_type": "markdown",
   "metadata": {},
   "source": [
    "### Error Rate: Training RMSE =  .0538 , Test RMSE = .1397"
   ]
  },
  {
   "cell_type": "markdown",
   "metadata": {},
   "source": [
    "Training RMSE lowers by .02 but No change in Test RMSE"
   ]
  },
  {
   "cell_type": "code",
   "execution_count": 71,
   "metadata": {},
   "outputs": [
    {
     "name": "stdout",
     "output_type": "stream",
     "text": [
      "Training RMSE: 0.05368130682852724\n",
      "Test RMSE: 0.13392963271313085\n"
     ]
    }
   ],
   "source": [
    "print('Training RMSE:' , math.sqrt(mean_squared_error(y_train, rf_tree_1.predict(x_train))))\n",
    "print('Test RMSE:' , math.sqrt(mean_squared_error(y_test, rf_tree_1.predict(x_test))))"
   ]
  },
  {
   "cell_type": "markdown",
   "metadata": {},
   "source": [
    "GRLiveArea now makes it to the top of the list after using Random Forest. The Bath Engineered Features make it to the top 10 important variables as well. The important of the top 10 features are now more spread out, as compared to the decision trees that select ALL predictors at each split"
   ]
  },
  {
   "cell_type": "code",
   "execution_count": 28,
   "metadata": {
    "collapsed": true
   },
   "outputs": [],
   "source": [
    "result_rf1 = pd.concat([pd.DataFrame(x_train.columns.values),pd.DataFrame(rf_tree_1.feature_importances_)], axis = 1)\n",
    "result_rf1.columns = ['Feature','Importance']\n",
    "result_rf1 = result_rf1.sort_values(by = 'Importance', ascending = False).head(10)"
   ]
  },
  {
   "cell_type": "code",
   "execution_count": 29,
   "metadata": {},
   "outputs": [
    {
     "data": {
      "text/plain": [
       "<matplotlib.axes._subplots.AxesSubplot at 0x2bfc7cbc6d8>"
      ]
     },
     "execution_count": 29,
     "metadata": {},
     "output_type": "execute_result"
    },
    {
     "data": {
      "image/png": "[encoded data removed]",
      "text/plain": [
       "<matplotlib.figure.Figure at 0x2bfc7cbce10>"
      ]
     },
     "metadata": {},
     "output_type": "display_data"
    }
   ],
   "source": [
    "sns.barplot(x = 'Importance', y = 'Feature', data=result_rf1)"
   ]
  },
  {
   "cell_type": "markdown",
   "metadata": {},
   "source": [
    "# Grid Search CV to Tune Random Forest"
   ]
  },
  {
   "cell_type": "code",
   "execution_count": 175,
   "metadata": {},
   "outputs": [
    {
     "data": {
      "text/plain": [
       "GridSearchCV(cv=5, error_score='raise',\n",
       "       estimator=RandomForestRegressor(bootstrap=True, criterion='mse', max_depth=None,\n",
       "           max_features='auto', max_leaf_nodes=None,\n",
       "           min_impurity_decrease=0.0, min_impurity_split=None,\n",
       "           min_samples_leaf=1, min_samples_split=2,\n",
       "           min_weight_fraction_leaf=0.0, n_estimators=10, n_jobs=1,\n",
       "           oob_score=True, random_state=0, verbose=0, warm_start=False),\n",
       "       fit_params={}, iid=True, n_jobs=1,\n",
       "       param_grid=[{'n_estimators': [300, 400, 500, 600], 'max_features': array([35, 36, 37])}],\n",
       "       pre_dispatch='2*n_jobs', refit=True, scoring=None, verbose=0)"
      ]
     },
     "execution_count": 175,
     "metadata": {},
     "output_type": "execute_result"
    }
   ],
   "source": [
    "from sklearn.grid_search import GridSearchCV\n",
    "\n",
    "rf_tree_cv = RandomForestRegressor(\n",
    "                                bootstrap = True,\n",
    "                                oob_score = True,\n",
    "                                random_state = 0)\n",
    "\n",
    "rf_param_grid = [{\n",
    "        'n_estimators' : [300, 400, 500, 600], #Test[100,250,500,750,1000]\n",
    "        'max_features' : np.arange(35,38), # First try: np.arange(17,40)\n",
    "        #'min_samples_leaf' : np.arange(2,9),\n",
    "        #'max_depth' : np.arange(5,11)\n",
    "        }]\n",
    "\n",
    "rf_grid_search = GridSearchCV(rf_tree_cv, param_grid = rf_param_grid, cv = 5)\n",
    "\n",
    "rf_grid_search.fit(x_train, y_train)"
   ]
  },
  {
   "cell_type": "markdown",
   "metadata": {},
   "source": [
    "## Best parameters: Max_features = 36, n_estimators = 500"
   ]
  },
  {
   "cell_type": "code",
   "execution_count": 177,
   "metadata": {},
   "outputs": [
    {
     "data": {
      "text/plain": [
       "{'max_features': 36, 'n_estimators': 500}"
      ]
     },
     "execution_count": 177,
     "metadata": {},
     "output_type": "execute_result"
    }
   ],
   "source": [
    "rf_grid_search.best_params_"
   ]
  },
  {
   "cell_type": "markdown",
   "metadata": {},
   "source": [
    "# Refit Random Forest with Tuned Hyperparameters"
   ]
  },
  {
   "cell_type": "code",
   "execution_count": 78,
   "metadata": {},
   "outputs": [
    {
     "data": {
      "text/plain": [
       "RandomForestRegressor(bootstrap=True, criterion='mse', max_depth=None,\n",
       "           max_features=37, max_leaf_nodes=None, min_impurity_decrease=0.0,\n",
       "           min_impurity_split=None, min_samples_leaf=1,\n",
       "           min_samples_split=2, min_weight_fraction_leaf=0.0,\n",
       "           n_estimators=500, n_jobs=1, oob_score=True, random_state=0,\n",
       "           verbose=0, warm_start=False)"
      ]
     },
     "execution_count": 78,
     "metadata": {},
     "output_type": "execute_result"
    }
   ],
   "source": [
    "rf_tree = RandomForestRegressor(n_estimators = 500,\n",
    "                                max_features = 37,\n",
    "                                bootstrap = True,\n",
    "                                oob_score = True,\n",
    "                                random_state = 0)\n",
    "\n",
    "\n",
    "rf_tree.fit(x_train, y_train)"
   ]
  },
  {
   "cell_type": "markdown",
   "metadata": {},
   "source": [
    "## R sq for Training: 98%, OOB: 87%, Test: 88%"
   ]
  },
  {
   "cell_type": "markdown",
   "metadata": {},
   "source": [
    "Test score was <1% higher in the tuned Random Forest than the untuned Random Forest model"
   ]
  },
  {
   "cell_type": "code",
   "execution_count": 79,
   "metadata": {},
   "outputs": [
    {
     "name": "stdout",
     "output_type": "stream",
     "text": [
      "Training Score: 0.982907984916\n",
      "OOB Score: 0.871618148164\n",
      "Test Score: 0.894296055868\n"
     ]
    }
   ],
   "source": [
    "print('Training Score:', rf_tree.score(x_train, y_train))\n",
    "print('OOB Score:', rf_tree.oob_score_)\n",
    "print('Test Score:', rf_tree.score(x_test, y_test))"
   ]
  },
  {
   "cell_type": "markdown",
   "metadata": {},
   "source": [
    "### Error: Training RMSE = .0523, Test RMSE = .1274"
   ]
  },
  {
   "cell_type": "code",
   "execution_count": 80,
   "metadata": {},
   "outputs": [
    {
     "name": "stdout",
     "output_type": "stream",
     "text": [
      "Training RMSE: 0.052258663356693484\n",
      "Test RMSE: 0.12744106369555977\n"
     ]
    }
   ],
   "source": [
    "from sklearn.metrics import mean_squared_error\n",
    "\n",
    "print('Training RMSE:' , math.sqrt(mean_squared_error(y_train, rf_tree.predict(x_train))))\n",
    "print('Test RMSE:', math.sqrt(mean_squared_error(y_test, rf_tree.predict(x_test))))"
   ]
  },
  {
   "cell_type": "markdown",
   "metadata": {
    "collapsed": true
   },
   "source": [
    "# Improvment Grid Bagged Tree vs. Tuned Random Forest"
   ]
  },
  {
   "cell_type": "code",
   "execution_count": 82,
   "metadata": {},
   "outputs": [
    {
     "data": {
      "image/png": "[encoded data removed]",
      "text/plain": [
       "<matplotlib.figure.Figure at 0x2c1be832f60>"
      ]
     },
     "metadata": {},
     "output_type": "display_data"
    }
   ],
   "source": [
    "r = np.array([.8716, .8943])\n",
    "rmse = np.array([.1339, .1274])\n",
    "\n",
    "\n",
    "fig, ax = plt.subplots()\n",
    "sns.regplot(x=r, y=rmse, fit_reg=False)\n",
    "plt.text(.8716 - .21, .1339, \"Bagged Tree\", horizontalalignment='left', size='medium', color='black', weight='semibold')\n",
    "plt.text(.8943 - .35, .1274, \"Tuned Random Forest\", horizontalalignment='left', size='medium', color='black', weight='semibold')\n",
    "ax.set(xlabel='Test R Squared', ylabel='Test RMSE')\n",
    "ax.set_xlim(0,1)\n",
    "ax.set_ylim(0.1000,0.2)\n",
    "plt.show()"
   ]
  },
  {
   "cell_type": "markdown",
   "metadata": {},
   "source": [
    "#  Tuning the Random Forest. Training vs Test Error"
   ]
  },
  {
   "cell_type": "code",
   "execution_count": 86,
   "metadata": {},
   "outputs": [
    {
     "data": {
      "image/png": "[encoded data removed]",
      "text/plain": [
       "<matplotlib.figure.Figure at 0x2c1bea18208>"
      ]
     },
     "metadata": {},
     "output_type": "display_data"
    }
   ],
   "source": [
    "subset = range(30, 50)\n",
    "train_error = []\n",
    "test_error = []\n",
    "for i in subset:\n",
    "    rf_tree.set_params(n_estimators = 500, max_features = i)\n",
    "    rf_tree.fit(x_train, y_train)\n",
    "    train_error.append(mean_squared_error(y_train, rf_tree.predict(x_train)))\n",
    "    test_error.append(mean_squared_error(y_test, rf_tree.predict(x_test)))\n",
    "\n",
    "import matplotlib.pyplot as plt\n",
    "fig, ax = plt.subplots()\n",
    "plt.plot( subset, train_error, c='red', label='training error')\n",
    "plt.plot(subset, test_error, c='blue', label='test error')\n",
    "ax.set(xlabel='Max Features', ylabel='RMSE')\n",
    "\n",
    "#plt.ylim(0, 0.18)\n",
    "plt.legend()\n",
    "plt.show()"
   ]
  },
  {
   "cell_type": "markdown",
   "metadata": {},
   "source": [
    "### Top 10 Important Variables"
   ]
  },
  {
   "cell_type": "code",
   "execution_count": 227,
   "metadata": {
    "collapsed": true
   },
   "outputs": [],
   "source": [
    "result = pd.concat([pd.DataFrame(x_train.columns.values),pd.DataFrame(rf_tree.feature_importances_)], axis = 1)\n",
    "result.columns = ['Feature','Importance']\n",
    "result = result.sort_values(by = 'Importance', ascending = False).head(10)"
   ]
  },
  {
   "cell_type": "code",
   "execution_count": 217,
   "metadata": {
    "scrolled": true
   },
   "outputs": [
    {
     "data": {
      "text/html": [
       "<div>\n",
       "<style>\n",
       "    .dataframe thead tr:only-child th {\n",
       "        text-align: right;\n",
       "    }\n",
       "\n",
       "    .dataframe thead th {\n",
       "        text-align: left;\n",
       "    }\n",
       "\n",
       "    .dataframe tbody tr th {\n",
       "        vertical-align: top;\n",
       "    }\n",
       "</style>\n",
       "<table border=\"1\" class=\"dataframe\">\n",
       "  <thead>\n",
       "    <tr style=\"text-align: right;\">\n",
       "      <th></th>\n",
       "      <th>feature</th>\n",
       "      <th>importance</th>\n",
       "    </tr>\n",
       "  </thead>\n",
       "  <tbody>\n",
       "    <tr>\n",
       "      <th>23</th>\n",
       "      <td>OverallQual</td>\n",
       "      <td>0.100629</td>\n",
       "    </tr>\n",
       "    <tr>\n",
       "      <th>13</th>\n",
       "      <td>GrLivArea</td>\n",
       "      <td>0.097593</td>\n",
       "    </tr>\n",
       "    <tr>\n",
       "      <th>12</th>\n",
       "      <td>GarageCars</td>\n",
       "      <td>0.053279</td>\n",
       "    </tr>\n",
       "    <tr>\n",
       "      <th>11</th>\n",
       "      <td>GarageArea</td>\n",
       "      <td>0.051931</td>\n",
       "    </tr>\n",
       "    <tr>\n",
       "      <th>28</th>\n",
       "      <td>YearBuilt</td>\n",
       "      <td>0.049150</td>\n",
       "    </tr>\n",
       "    <tr>\n",
       "      <th>26</th>\n",
       "      <td>TotalBsmtSF</td>\n",
       "      <td>0.047400</td>\n",
       "    </tr>\n",
       "    <tr>\n",
       "      <th>10</th>\n",
       "      <td>FullBath</td>\n",
       "      <td>0.042848</td>\n",
       "    </tr>\n",
       "    <tr>\n",
       "      <th>34</th>\n",
       "      <td>TotBath</td>\n",
       "      <td>0.040406</td>\n",
       "    </tr>\n",
       "    <tr>\n",
       "      <th>0</th>\n",
       "      <td>1stFlrSF</td>\n",
       "      <td>0.037287</td>\n",
       "    </tr>\n",
       "    <tr>\n",
       "      <th>35</th>\n",
       "      <td>Bath_Capacity</td>\n",
       "      <td>0.036373</td>\n",
       "    </tr>\n",
       "  </tbody>\n",
       "</table>\n",
       "</div>"
      ],
      "text/plain": [
       "          feature  importance\n",
       "23    OverallQual    0.100629\n",
       "13      GrLivArea    0.097593\n",
       "12     GarageCars    0.053279\n",
       "11     GarageArea    0.051931\n",
       "28      YearBuilt    0.049150\n",
       "26    TotalBsmtSF    0.047400\n",
       "10       FullBath    0.042848\n",
       "34        TotBath    0.040406\n",
       "0        1stFlrSF    0.037287\n",
       "35  Bath_Capacity    0.036373"
      ]
     },
     "execution_count": 217,
     "metadata": {},
     "output_type": "execute_result"
    }
   ],
   "source": [
    "result"
   ]
  },
  {
   "cell_type": "code",
   "execution_count": 228,
   "metadata": {},
   "outputs": [
    {
     "data": {
      "text/plain": [
       "<matplotlib.axes._subplots.AxesSubplot at 0x1f7713892b0>"
      ]
     },
     "execution_count": 228,
     "metadata": {},
     "output_type": "execute_result"
    },
    {
     "data": {
      "image/png": "[encoded data removed]",
      "text/plain": [
       "<matplotlib.figure.Figure at 0x1f771389ac8>"
      ]
     },
     "metadata": {},
     "output_type": "display_data"
    }
   ],
   "source": [
    "sns.set_style(\"whitegrid\")\n",
    "sns.barplot(x = 'Importance', y = 'Feature', data=result)"
   ]
  },
  {
   "cell_type": "markdown",
   "metadata": {},
   "source": [
    "## Thoughts so far:"
   ]
  },
  {
   "cell_type": "markdown",
   "metadata": {},
   "source": [
    "The random forest models had better training and test scores as well as lower MSE than the decision tree. \n",
    "\n",
    "The tuned Random Forest model had slightly higher R^2 than the untuned Random Forest, BUT it also had a slightly higher "
   ]
  },
  {
   "cell_type": "code",
   "execution_count": null,
   "metadata": {
    "collapsed": true
   },
   "outputs": [],
   "source": []
  },
  {
   "cell_type": "markdown",
   "metadata": {
    "collapsed": true
   },
   "source": [
    "# Score Improvement From Bagged Tree To Stochastic Gradient Boosting"
   ]
  },
  {
   "cell_type": "code",
   "execution_count": 142,
   "metadata": {},
   "outputs": [
    {
     "data": {
      "image/png": "[encoded data removed]",
      "text/plain": [
       "<matplotlib.figure.Figure at 0x260e5082da0>"
      ]
     },
     "metadata": {},
     "output_type": "display_data"
    }
   ],
   "source": [
    "r = np.array([.8716, 0.9176])\n",
    "rmse = np.array([.1394, 0.1125])\n",
    "\n",
    "\n",
    "fig, ax = plt.subplots()\n",
    "sns.regplot(x=r, y=rmse, fit_reg=False)\n",
    "plt.text(.8716 - .21, .1394, \"Bagged Tree\", horizontalalignment='left', size='medium', color='black', weight='semibold')\n",
    "plt.text(.9176 - .3, .1125, \"Stoch. G-Boosting\", horizontalalignment='left', size='medium', color='black', weight='semibold')\n",
    "ax.set(xlabel='Test R Squared', ylabel='Test RMSE')\n",
    "ax.set_xlim(0,1)\n",
    "ax.set_ylim(0.1000,0.2)\n",
    "plt.show()"
   ]
  },
  {
   "cell_type": "markdown",
   "metadata": {},
   "source": [
    "# Tuning Stoch. Gradient Boosting Charts"
   ]
  },
  {
   "cell_type": "code",
   "execution_count": null,
   "metadata": {
    "collapsed": true
   },
   "outputs": [],
   "source": [
    "subset = range(30, 50)\n",
    "train_error = []\n",
    "test_error = []\n",
    "for i in subset:\n",
    "    rf_tree.set_params(n_estimators = 500, max_features = i)\n",
    "    rf_tree.fit(x_train, y_train)\n",
    "    train_error.append(mean_squared_error(y_train, rf_tree.predict(x_train)))\n",
    "    test_error.append(mean_squared_error(y_test, rf_tree.predict(x_test)))\n",
    "\n",
    "import matplotlib.pyplot as plt\n",
    "fig, ax = plt.subplots()\n",
    "plt.plot( subset, train_error, c='red', label='training error')\n",
    "plt.plot(subset, test_error, c='blue', label='test error')\n",
    "ax.set(xlabel='Max Features', ylabel='RMSE')\n",
    "\n",
    "#plt.ylim(0, 0.18)\n",
    "plt.legend()\n",
    "plt.show()"
   ]
  }
 ],
 "metadata": {
  "kernelspec": {
   "display_name": "Python 3",
   "language": "python",
   "name": "python3"
  },
  "language_info": {
   "codemirror_mode": {
    "name": "ipython",
    "version": 3
   },
   "file_extension": ".py",
   "mimetype": "text/x-python",
   "name": "python",
   "nbconvert_exporter": "python",
   "pygments_lexer": "ipython3",
   "version": "3.6.3"
  }
 },
 "nbformat": 4,
 "nbformat_minor": 2
}
