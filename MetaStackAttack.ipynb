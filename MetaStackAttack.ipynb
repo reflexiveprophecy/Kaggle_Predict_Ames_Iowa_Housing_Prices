{
 "cells": [
  {
   "cell_type": "markdown",
   "metadata": {},
   "source": [
    "Read in necessary libraries"
   ]
  },
  {
   "cell_type": "code",
   "execution_count": 1,
   "metadata": {
    "collapsed": true
   },
   "outputs": [],
   "source": [
    "import numpy as np\n",
    "import pandas as pd\n",
    "import matplotlib.pyplot as plt\n",
    "from sklearn import preprocessing\n",
    "import warnings\n",
    "warnings.filterwarnings('ignore')\n",
    "from sklearn.grid_search import GridSearchCV\n",
    "from sklearn.metrics import mean_squared_error\n",
    "from sklearn.base import clone\n",
    "from sklearn.preprocessing import RobustScaler\n",
    "from sklearn.pipeline import make_pipeline\n",
    "from sklearn.preprocessing import RobustScaler\n",
    "from sklearn.linear_model import Ridge\n",
    "from sklearn.linear_model import Lasso\n",
    "from sklearn.metrics import r2_score\n",
    "from sklearn.ensemble import GradientBoostingRegressor\n",
    "from sklearn.base import BaseEstimator, TransformerMixin, RegressorMixin, clone\n",
    "from sklearn.model_selection import KFold, cross_val_score, train_test_split\n",
    "import xgboost as xgb"
   ]
  },
  {
   "cell_type": "code",
   "execution_count": 2,
   "metadata": {
    "collapsed": true
   },
   "outputs": [],
   "source": [
    "alphaL = 0.000811;\n",
    "alphaR = 8.9022;\n",
    "seed = 0;"
   ]
  },
  {
   "cell_type": "code",
   "execution_count": 3,
   "metadata": {
    "collapsed": true
   },
   "outputs": [],
   "source": [
    "def rmse(y_predicted, y_actual):\n",
    "    return( np.sqrt( mean_squared_error(y_actual, y_predicted) ) )\n",
    "\n",
    "\n",
    "def R2(y_predicted, y_actual):\n",
    "    # R^2 = 1 - SS_residual / SS_total\n",
    "    SS_residual = sum((y_predicted - y_actual)**2)\n",
    "    SS_total = sum((y_actual - y_actual.mean())**2)\n",
    "    R2 = 1 - SS_residual / SS_total\n",
    "    return(R2)"
   ]
  },
  {
   "cell_type": "code",
   "execution_count": 4,
   "metadata": {
    "collapsed": true
   },
   "outputs": [],
   "source": [
    "# develop test of rmse to compare across models\n",
    "def rmse_cv(model):\n",
    "    rmse = np.sqrt( -cross_val_score(model, X_train, y_train, scoring=\"neg_mean_squared_error\", cv = 5))\n",
    "    return(rmse)"
   ]
  },
  {
   "cell_type": "markdown",
   "metadata": {},
   "source": [
    "pull in the data - obtained from Wenchang"
   ]
  },
  {
   "cell_type": "code",
   "execution_count": 5,
   "metadata": {
    "collapsed": true
   },
   "outputs": [],
   "source": [
    "X_train = pd.read_csv('Datasets/stack_trainx.csv');\n",
    "X_test = pd.read_csv('Datasets/stack_testx.csv');\n",
    "y_tr = pd.read_csv('Datasets/stack_trainy.csv');\n",
    "y_train = y_tr.SalePrice.tolist()"
   ]
  },
  {
   "cell_type": "code",
   "execution_count": 6,
   "metadata": {},
   "outputs": [
    {
     "data": {
      "text/plain": [
       "1460"
      ]
     },
     "execution_count": 6,
     "metadata": {},
     "output_type": "execute_result"
    }
   ],
   "source": [
    "len(X_train)"
   ]
  },
  {
   "cell_type": "markdown",
   "metadata": {},
   "source": [
    "log x-form the data - now we're ready for modeling"
   ]
  },
  {
   "cell_type": "code",
   "execution_count": 7,
   "metadata": {
    "collapsed": true
   },
   "outputs": [],
   "source": [
    "y_train = np.array(y_train)\n",
    "y_train = np.log1p(y_train)"
   ]
  },
  {
   "cell_type": "markdown",
   "metadata": {},
   "source": [
    "Define the stacking function"
   ]
  },
  {
   "cell_type": "code",
   "execution_count": 8,
   "metadata": {
    "collapsed": true
   },
   "outputs": [],
   "source": [
    "def stacking_regression(models, meta_model, X_train, y_train, X_test,\n",
    "             metric=None, n_folds=3, average_fold=True,\n",
    "             shuffle=False, random_state=seed, verbose=1):\n",
    "    '''\n",
    "    Function 'stacking' takes train data, test data, list of 1-st level\n",
    "    models, meta_model for the 2-nd level and returns stacking predictions.\n",
    "\n",
    "    Parameters\n",
    "    ----------\n",
    "    models : list\n",
    "        List of 1-st level models. You can use any models that follow sklearn\n",
    "        convention i.e. accept numpy arrays and have methods 'fit' and 'predict'.\n",
    "\n",
    "    meta_model: model\n",
    "        2-nd level model. You can use any model that follow sklearn convention\n",
    "\n",
    "    X_train : numpy array or sparse matrix of shape [n_train_samples, n_features]\n",
    "        Training data\n",
    "\n",
    "    y_train : numpy 1d array\n",
    "        Target values\n",
    "\n",
    "    X_test : numpy array or sparse matrix of shape [n_test_samples, n_features]\n",
    "        Test data\n",
    "\n",
    "    metric : callable, default None\n",
    "        Evaluation metric (score function) which is used to calculate\n",
    "        results of cross-validation.\n",
    "        If None, then by default:\n",
    "            sklearn.metrics.mean_absolute_error - for regression\n",
    "\n",
    "    n_folds : int, default 3\n",
    "        Number of folds in cross-validation\n",
    "\n",
    "    average_fold: boolean, default True\n",
    "        Whether to take the average of the predictions on test set from each fold.\n",
    "        Refit the model using the whole training set and predict test set if False\n",
    "\n",
    "    shuffle : boolean, default False\n",
    "        Whether to perform a shuffle before cross-validation split\n",
    "\n",
    "    random_state : int, default 0\n",
    "        Random seed for shuffle\n",
    "\n",
    "    verbose : int, default 1\n",
    "        Level of verbosity.\n",
    "        0 - show no messages\n",
    "        1 - for each model show single mean score\n",
    "        2 - for each model show score for each fold and mean score\n",
    "\n",
    "        Caution. To calculate MEAN score across all folds\n",
    "        full train set prediction and full true target are used.\n",
    "        So for some metrics (e.g. rmse) this value may not be equal\n",
    "        to mean of score values calculated for each fold.\n",
    "\n",
    "    Returns\n",
    "    -------\n",
    "    stacking_prediction : numpy array of shape n_test_samples\n",
    "        Stacking prediction\n",
    "    '''\n",
    "\n",
    "    # Specify default metric for cross-validation\n",
    "    if metric is None:\n",
    "        metric = mean_squared_error\n",
    "\n",
    "    # Print metric\n",
    "    if verbose > 0:\n",
    "        print('metric: (sqrt)[%s]\\n' % metric.__name__)\n",
    "\n",
    "    # Split indices to get folds\n",
    "    kf = KFold(n_splits = n_folds, shuffle = shuffle, random_state = random_state)\n",
    "\n",
    "    if X_train.__class__.__name__ == \"DataFrame\":\n",
    "        X_train = X_train.as_matrix()\n",
    "        X_test = X_test.as_matrix()\n",
    "\n",
    "    # Create empty numpy arrays for stacking features\n",
    "    S_train = np.zeros((X_train.shape[0], len(models)))\n",
    "    S_test = np.zeros((X_test.shape[0], len(models)))\n",
    "\n",
    "    # Loop across models\n",
    "    for model_counter, model in enumerate(models):\n",
    "        if verbose > 0:\n",
    "            print('model %d: [%s]' % (model_counter, model.__class__.__name__))\n",
    "\n",
    "        # Create empty numpy array, which will contain temporary predictions for test set made in each fold\n",
    "        S_test_temp = np.zeros((X_test.shape[0], n_folds))\n",
    "        # Loop across folds\n",
    "        for fold_counter, (tr_index, te_index) in enumerate(kf.split(X_train, y_train)):\n",
    "            X_tr = X_train[tr_index]\n",
    "            y_tr = y_train[tr_index]\n",
    "            X_te = X_train[te_index]\n",
    "            y_te = y_train[te_index]\n",
    "            # Clone the model because fit will mutate the model.\n",
    "            instance = clone(model)\n",
    "            # Fit 1-st level model\n",
    "            instance.fit(X_tr, y_tr)\n",
    "            # Predict out-of-fold part of train set\n",
    "            S_train[te_index, model_counter] = np.array(instance.predict(X_te))\n",
    "            # Predict full test set\n",
    "            S_test_temp[:, fold_counter] = np.array(instance.predict(X_test))\n",
    "\n",
    "            # Delete temporary model\n",
    "            del instance\n",
    "\n",
    "            if verbose > 1:\n",
    "                print('    fold %d: [%.8f]' % (fold_counter, metric(y_te, S_train[te_index, model_counter])))\n",
    "\n",
    "        # Compute mean or mode of predictions for test set\n",
    "        if average_fold:\n",
    "            S_test[:, model_counter] = np.mean(S_test_temp, axis = 1)\n",
    "        else:\n",
    "            model.fit(X_train, y_train)\n",
    "            S_test[:, model_counter] = model.predict(X_test)\n",
    "\n",
    "        if verbose > 0:\n",
    "            print('    ----')\n",
    "            print('    MEAN RMSE:   [%.8f]\\n' % np.sqrt((metric(y_train, S_train[:, model_counter]))))\n",
    "\n",
    "    # Fit our second layer meta model\n",
    "    meta_model.fit(S_train, y_train)\n",
    "    # Make our final prediction\n",
    "    stacking_prediction = meta_model.predict(S_test)\n",
    "\n",
    "\n",
    "    return stacking_prediction"
   ]
  },
  {
   "cell_type": "markdown",
   "metadata": {},
   "source": [
    "defining models - getting best parameters from Wenchang's notebook"
   ]
  },
  {
   "cell_type": "code",
   "execution_count": 9,
   "metadata": {
    "collapsed": true
   },
   "outputs": [],
   "source": [
    "#instantiate Lasso model\n",
    "lasso = Lasso(alphaL);"
   ]
  },
  {
   "cell_type": "code",
   "execution_count": 10,
   "metadata": {},
   "outputs": [],
   "source": [
    "ridge = Ridge(alphaR);"
   ]
  },
  {
   "cell_type": "code",
   "execution_count": 11,
   "metadata": {
    "collapsed": true
   },
   "outputs": [],
   "source": [
    "#instantiate xgb model\n",
    "xgb_mod = xgb.XGBRegressor(\n",
    "    n_estimators=500,\n",
    "    learning_rate = 0.05,\n",
    "    max_depth=3,  \n",
    "    silent=True, \n",
    "    objective='reg:linear', \n",
    "    booster='gbtree', \n",
    "    n_jobs=6, \n",
    "    nthread=None, \n",
    "    gamma=0.08, \n",
    "    min_child_weight=5, \n",
    "    max_delta_step=0, \n",
    "    subsample=0.3, \n",
    "    colsample_bytree=0.3, \n",
    "    colsample_bylevel=1, \n",
    "    reg_alpha = 0,\n",
    "    reg_lambda=1.5, \n",
    "    scale_pos_weight=1, \n",
    "    base_score=0.5, \n",
    "    random_state=0, \n",
    "    seed=seed, \n",
    "    missing=None)"
   ]
  },
  {
   "cell_type": "code",
   "execution_count": 12,
   "metadata": {
    "collapsed": true
   },
   "outputs": [],
   "source": [
    "gb_tree = GradientBoostingRegressor(max_depth = 3, \n",
    "                                    learning_rate = 0.04, \n",
    "                                    n_estimators = 800,\n",
    "                                    subsample= 2/3, \n",
    "                                    random_state=0)"
   ]
  },
  {
   "cell_type": "code",
   "execution_count": 13,
   "metadata": {
    "collapsed": true
   },
   "outputs": [],
   "source": [
    "models = [gb_tree, ridge, lasso];\n",
    "meta_model = xgb_mod;"
   ]
  },
  {
   "cell_type": "code",
   "execution_count": null,
   "metadata": {},
   "outputs": [
    {
     "name": "stdout",
     "output_type": "stream",
     "text": [
      "metric: (sqrt)[mean_squared_error]\n",
      "\n",
      "model 0: [GradientBoostingRegressor]\n",
      "    fold 0: [0.01232076]\n",
      "    fold 1: [0.01867321]\n",
      "    fold 2: [0.01773828]\n",
      "    fold 3: [0.01222267]\n",
      "    fold 4: [0.01605198]\n",
      "    ----\n",
      "    MEAN RMSE:   [0.12410229]\n",
      "\n",
      "model 1: [Ridge]\n"
     ]
    }
   ],
   "source": [
    "y_predicted = stacking_regression(models, meta_model, X_train, y_train, X_test,\n",
    "             metric=None, n_folds=5, average_fold=True,\n",
    "             shuffle=False, random_state=seed, verbose=2)\n",
    "y_predicted"
   ]
  },
  {
   "cell_type": "code",
   "execution_count": null,
   "metadata": {
    "collapsed": true
   },
   "outputs": [],
   "source": [
    "score"
   ]
  },
  {
   "cell_type": "code",
   "execution_count": null,
   "metadata": {},
   "outputs": [],
   "source": [
    "#define index for submission\n",
    "testid = np.arange(len(X_train) + 1, len(X_train) + len(X_test) + 1)\n",
    "testid"
   ]
  },
  {
   "cell_type": "code",
   "execution_count": null,
   "metadata": {
    "collapsed": true
   },
   "outputs": [],
   "source": [
    "#transform data back from log\n",
    "y_predicted = np.expm1(y_predicted)"
   ]
  },
  {
   "cell_type": "code",
   "execution_count": null,
   "metadata": {
    "collapsed": true
   },
   "outputs": [],
   "source": [
    "submission = pd.DataFrame({'Id': testid, 'SalePrice': y_predicted})\n",
    "submission.to_csv('./Datasets/stack_prediction.csv', index = False)"
   ]
  },
  {
   "cell_type": "code",
   "execution_count": null,
   "metadata": {
    "collapsed": true
   },
   "outputs": [],
   "source": []
  }
 ],
 "metadata": {
  "kernelspec": {
   "display_name": "Python 3",
   "language": "python",
   "name": "python3"
  },
  "language_info": {
   "codemirror_mode": {
    "name": "ipython",
    "version": 3
   },
   "file_extension": ".py",
   "mimetype": "text/x-python",
   "name": "python",
   "nbconvert_exporter": "python",
   "pygments_lexer": "ipython3",
   "version": "3.6.3"
  }
 },
 "nbformat": 4,
 "nbformat_minor": 2
}
